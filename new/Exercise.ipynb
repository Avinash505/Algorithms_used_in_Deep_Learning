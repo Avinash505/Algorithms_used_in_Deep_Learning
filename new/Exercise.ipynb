{
 "cells": [
  {
   "cell_type": "markdown",
   "id": "d10f8235",
   "metadata": {},
   "source": [
    "# Write a Python NLTK program to split the text sentence/paragraph into a list of words."
   ]
  },
  {
   "cell_type": "code",
   "execution_count": 4,
   "id": "1491dcc0",
   "metadata": {},
   "outputs": [
    {
     "name": "stdout",
     "output_type": "stream",
     "text": [
      "\n",
      "Original string:\n",
      "These are the important questions.\n",
      "to ask in interviews as per my suggestion.\n",
      "\n",
      "Print the tokenized strings:\n",
      "['These are the important questions.', 'to ask in interviews as per my suggestion.']\n",
      "\n",
      "List of the tokenized strings:\n",
      "These are the important questions.\n",
      "to ask in interviews as per my suggestion.\n"
     ]
    }
   ],
   "source": [
    "text = \"\"\"These are the important questions.\n",
    "to ask in interviews as per my suggestion.\"\"\"\n",
    "print(\"\\nOriginal string:\")\n",
    "print(text)\n",
    "\n",
    "from nltk.tokenize import sent_tokenize\n",
    "\n",
    "token_text = sent_tokenize(text)\n",
    "print(\"\\nPrint the tokenized strings:\")\n",
    "print(token_text)\n",
    "\n",
    "print(\"\\nList of the tokenized strings:\")\n",
    "for i in token_text:\n",
    "    print(i)"
   ]
  },
  {
   "cell_type": "markdown",
   "id": "ef48983f",
   "metadata": {},
   "source": [
    "# 2. Write a Python NLTK program to tokenize sentences in languages other than English."
   ]
  },
  {
   "cell_type": "code",
   "execution_count": 34,
   "id": "ed4c1cf2",
   "metadata": {},
   "outputs": [
    {
     "name": "stdout",
     "output_type": "stream",
     "text": [
      "\n",
      "Original string:\n",
      "\n",
      "NLTK ist Open Source Software. Der Quellcode wird unter den Bedingungen der Apache License Version 2.0 vertrieben.  \n",
      "Die Dokumentation wird unter den Bedingungen der Creative Commons-Lizenz Namensnennung - Nicht kommerziell - Keine \n",
      "abgeleiteten Werke 3.0 in den Vereinigten Staaten verteilt.\n",
      "\n",
      "\n",
      "Sentence-tokenized copy in a list:\n",
      "['\\nNLTK ist Open Source Software.', 'Der Quellcode wird unter den Bedingungen der Apache License Version 2.0 vertrieben.', 'Die Dokumentation wird unter den Bedingungen der Creative Commons-Lizenz Namensnennung - Nicht kommerziell - Keine \\nabgeleiteten Werke 3.0 in den Vereinigten Staaten verteilt.']\n",
      "\n",
      "Read the list:\n",
      "\n",
      "NLTK ist Open Source Software.\n",
      "Der Quellcode wird unter den Bedingungen der Apache License Version 2.0 vertrieben.\n",
      "Die Dokumentation wird unter den Bedingungen der Creative Commons-Lizenz Namensnennung - Nicht kommerziell - Keine \n",
      "abgeleiteten Werke 3.0 in den Vereinigten Staaten verteilt.\n"
     ]
    }
   ],
   "source": [
    "text = '''\n",
    "NLTK ist Open Source Software. Der Quellcode wird unter den Bedingungen der Apache License Version 2.0 vertrieben.  \n",
    "Die Dokumentation wird unter den Bedingungen der Creative Commons-Lizenz Namensnennung - Nicht kommerziell - Keine \n",
    "abgeleiteten Werke 3.0 in den Vereinigten Staaten verteilt.\n",
    "'''\n",
    "print(\"\\nOriginal string:\")\n",
    "print(text)\n",
    "\n",
    "from nltk.tokenize import sent_tokenize\n",
    "\n",
    "token_text = sent_tokenize(text, language='russian')\n",
    "print(\"\\nSentence-tokenized copy in a list:\")\n",
    "print(token_text)\n",
    "\n",
    "print(\"\\nRead the list:\")\n",
    "for s in token_text:\n",
    "    print(s)\n"
   ]
  },
  {
   "cell_type": "markdown",
   "id": "23795bb4",
   "metadata": {},
   "source": [
    "# 3. Write a Python NLTK program to create a list of words from a given string."
   ]
  },
  {
   "cell_type": "code",
   "execution_count": 12,
   "id": "818dc1e4",
   "metadata": {},
   "outputs": [
    {
     "name": "stdout",
     "output_type": "stream",
     "text": [
      "\n",
      "Original string:\n",
      "\n",
      "NLTK ist Open Source Software. Der Quellcode wird unter den Bedingungen der Apache License Version 2.0 vertrieben.  \n",
      "Die Dokumentation wird unter den Bedingungen der Creative Commons-Lizenz Namensnennung - Nicht kommerziell - Keine \n",
      "abgeleiteten Werke 3.0 in den Vereinigten Staaten verteilt.\n",
      "\n",
      "\n",
      "Sentence-tokenized copy in a list:\n",
      "['NLTK', 'ist', 'Open', 'Source', 'Software', '.', 'Der', 'Quellcode', 'wird', 'unter', 'den', 'Bedingungen', 'der', 'Apache', 'License', 'Version', '2.0', 'vertrieben', '.', 'Die', 'Dokumentation', 'wird', 'unter', 'den', 'Bedingungen', 'der', 'Creative', 'Commons-Lizenz', 'Namensnennung', '-', 'Nicht', 'kommerziell', '-', 'Keine', 'abgeleiteten', 'Werke', '3.0', 'in', 'den', 'Vereinigten', 'Staaten', 'verteilt', '.']\n",
      "\n",
      "Read the list:\n",
      "NLTK\n",
      "ist\n",
      "Open\n",
      "Source\n",
      "Software\n",
      ".\n",
      "Der\n",
      "Quellcode\n",
      "wird\n",
      "unter\n",
      "den\n",
      "Bedingungen\n",
      "der\n",
      "Apache\n",
      "License\n",
      "Version\n",
      "2.0\n",
      "vertrieben\n",
      ".\n",
      "Die\n",
      "Dokumentation\n",
      "wird\n",
      "unter\n",
      "den\n",
      "Bedingungen\n",
      "der\n",
      "Creative\n",
      "Commons-Lizenz\n",
      "Namensnennung\n",
      "-\n",
      "Nicht\n",
      "kommerziell\n",
      "-\n",
      "Keine\n",
      "abgeleiteten\n",
      "Werke\n",
      "3.0\n",
      "in\n",
      "den\n",
      "Vereinigten\n",
      "Staaten\n",
      "verteilt\n",
      ".\n"
     ]
    }
   ],
   "source": [
    "text = '''\n",
    "NLTK ist Open Source Software. Der Quellcode wird unter den Bedingungen der Apache License Version 2.0 vertrieben.  \n",
    "Die Dokumentation wird unter den Bedingungen der Creative Commons-Lizenz Namensnennung - Nicht kommerziell - Keine \n",
    "abgeleiteten Werke 3.0 in den Vereinigten Staaten verteilt.\n",
    "'''\n",
    "print(\"\\nOriginal string:\")\n",
    "print(text)\n",
    "\n",
    "from nltk.tokenize import word_tokenize\n",
    "\n",
    "token_text = word_tokenize(text)\n",
    "print(\"\\nSentence-tokenized copy in a list:\")\n",
    "print(token_text)\n",
    "\n",
    "print(\"\\nRead the list:\")\n",
    "for s in token_text:\n",
    "    print(s)\n"
   ]
  },
  {
   "cell_type": "markdown",
   "id": "344ace90",
   "metadata": {},
   "source": [
    "# 4. Write a Python NLTK program to split all punctuation into separate tokens."
   ]
  },
  {
   "cell_type": "code",
   "execution_count": 14,
   "id": "47d06759",
   "metadata": {},
   "outputs": [
    {
     "name": "stdout",
     "output_type": "stream",
     "text": [
      "\\Original string:\n",
      "Reset your password own divies given the link\n",
      "['Reset', 'your', 'password', 'own', 'divies', 'given', 'the', 'link']\n"
     ]
    }
   ],
   "source": [
    "from nltk.tokenize import WordPunctTokenizer\n",
    "text = '''Reset your password own divies given the link'''\n",
    "print(\"\\Original string:\")\n",
    "print(text)\n",
    "results = WordPunctTokenizer().tokenize(text)\n",
    "print(results)\n"
   ]
  },
  {
   "cell_type": "markdown",
   "id": "489ae7dc",
   "metadata": {},
   "source": [
    "# 5. Write a Python NLTK program to tokenize words, sentence wise."
   ]
  },
  {
   "cell_type": "code",
   "execution_count": 17,
   "id": "581b365a",
   "metadata": {},
   "outputs": [
    {
     "name": "stdout",
     "output_type": "stream",
     "text": [
      "\n",
      "Print n results\n",
      "['Given', '.']\n",
      "['our', 'sent', 'ense', '.']\n",
      "['used', 'to', 'per', 'formed', 'it', '.']\n"
     ]
    }
   ],
   "source": [
    "from nltk.tokenize import sent_tokenize,word_tokenize\n",
    "text =\"Given . our sent ense . used to per formed it.\"\n",
    "results = [word_tokenize(i) for i in sent_tokenize(text)]\n",
    "print(\"\\nPrint n results\")\n",
    "for n in results:\n",
    "    print(n)"
   ]
  },
  {
   "cell_type": "markdown",
   "id": "7d0eb169",
   "metadata": {},
   "source": [
    "# 6. Write a Python NLTK program to tokenize a twitter text."
   ]
  },
  {
   "cell_type": "code",
   "execution_count": 23,
   "id": "282ab924",
   "metadata": {},
   "outputs": [
    {
     "name": "stdout",
     "output_type": "stream",
     "text": [
      "\\Original Text\n",
      "NoSQL introduction - w3resource http://bit.ly/1ngHC5F  #nosql #database #webdev #avinash #name\n",
      "['NoSQL', 'introduction', '-', 'w3resource', 'http://bit.ly/1ngHC5F', '#nosql', '#database', '#webdev', '#avinash', '#name']\n",
      "NoSQL\n",
      "introduction\n",
      "-\n",
      "w3resource\n",
      "http://bit.ly/1ngHC5F\n",
      "#nosql\n",
      "#database\n",
      "#webdev\n",
      "#avinash\n",
      "#name\n"
     ]
    }
   ],
   "source": [
    "from nltk.tokenize import TweetTokenizer\n",
    "tweet_text = \"NoSQL introduction - w3resource http://bit.ly/1ngHC5F  #nosql #database #webdev #avinash #name\"\n",
    "print(\"\\Original Text\")\n",
    "print(tweet_text)\n",
    "tk = TweetTokenizer(strip_handles=True, reduce_len=True)\n",
    "result = tk.tokenize(tweet_text)\n",
    "print(result)\n",
    "for i in result:\n",
    "    print(i)"
   ]
  },
  {
   "cell_type": "markdown",
   "id": "82d73f1b",
   "metadata": {},
   "source": [
    "# 7. Write a Python NLTK program to remove Twitter username handles from a given twitter text."
   ]
  },
  {
   "cell_type": "code",
   "execution_count": 26,
   "id": "dc1ae93a",
   "metadata": {},
   "outputs": [
    {
     "name": "stdout",
     "output_type": "stream",
     "text": [
      "\n",
      "Original Tweet:\n",
      "@abcd @pqrs NoSQL introduction - w3resource http://bit.ly/1ngHC5F  #nosql #database #webdev @username\n",
      "\n",
      "Tokenize a twitter text:\n",
      "['NoSQL', 'introduction', '-', 'w3resource', 'http://bit.ly/1ngHC5F', '#nosql', '#database', '#webdev']\n"
     ]
    }
   ],
   "source": [
    "from nltk.tokenize import TweetTokenizer\n",
    "tknzr = TweetTokenizer(strip_handles=True, reduce_len=True)\n",
    "tweet_text = \"@abcd @pqrs NoSQL introduction - w3resource http://bit.ly/1ngHC5F  #nosql #database #webdev @username\"\n",
    "print(\"\\nOriginal Tweet:\")\n",
    "print(tweet_text)\n",
    "result = tknzr.tokenize(tweet_text)\n",
    "print(\"\\nTokenize a twitter text:\")\n",
    "print(result)"
   ]
  },
  {
   "cell_type": "markdown",
   "id": "a4115d08",
   "metadata": {},
   "source": [
    "# 9. Write a Python NLTK program to find parenthesized expressions in a given string and divides the string into a sequence of substrings."
   ]
  },
  {
   "cell_type": "code",
   "execution_count": 28,
   "id": "f3d4ebe0",
   "metadata": {},
   "outputs": [
    {
     "name": "stdout",
     "output_type": "stream",
     "text": [
      "\n",
      "Original Tweet:\n",
      "(a b (c d)) e f (g)\n",
      "['(a b (c d))', 'e', 'f', '(g)']\n",
      "\n",
      "Original Tweet:\n",
      "(a b) (c d) e (f g)\n",
      "['(a b)', '(c d)', 'e', '(f g)']\n",
      "\n",
      "Original Tweet:\n",
      "[(a b (c d)) e f (g)]\n",
      "['[', '(a b (c d))', 'e', 'f', '(g)', ']']\n",
      "[(a b (c d)) e f (g)]\n",
      "['[', '(a b (c d))', 'e', 'f', '(g)', ']']\n",
      "\n",
      "Original Tweet:\n",
      "{a b {c d}} e f {g}\n",
      "['{a b {c d}} e f {g}']\n"
     ]
    }
   ],
   "source": [
    "from nltk.tokenize import SExprTokenizer\n",
    "text = '(a b (c d)) e f (g)'\n",
    "print(\"\\nOriginal Tweet:\")\n",
    "print(text)\n",
    "print(SExprTokenizer().tokenize(text))\n",
    "text = '(a b) (c d) e (f g)'\n",
    "print(\"\\nOriginal Tweet:\")\n",
    "print(text)\n",
    "print(SExprTokenizer().tokenize(text))\n",
    "text = '[(a b (c d)) e f (g)]'\n",
    "print(\"\\nOriginal Tweet:\")\n",
    "print(text)\n",
    "print(SExprTokenizer().tokenize(text))\n",
    "print(text)\n",
    "print(SExprTokenizer().tokenize(text))\n",
    "text = '{a b {c d}} e f {g}'\n",
    "print(\"\\nOriginal Tweet:\")\n",
    "print(text)\n",
    "print(SExprTokenizer().tokenize(text))"
   ]
  },
  {
   "cell_type": "code",
   "execution_count": 29,
   "id": "fe02b1a3",
   "metadata": {},
   "outputs": [
    {
     "name": "stdout",
     "output_type": "stream",
     "text": [
      "['arabic', 'azerbaijani', 'basque', 'bengali', 'catalan', 'chinese', 'danish', 'dutch', 'english', 'finnish', 'french', 'german', 'greek', 'hebrew', 'hinglish', 'hungarian', 'indonesian', 'italian', 'kazakh', 'nepali', 'norwegian', 'portuguese', 'romanian', 'russian', 'slovene', 'spanish', 'swedish', 'tajik', 'turkish']\n"
     ]
    }
   ],
   "source": [
    "from nltk.corpus import stopwords\n",
    "print (stopwords.fileids())"
   ]
  },
  {
   "cell_type": "code",
   "execution_count": 31,
   "id": "fecbf785",
   "metadata": {},
   "outputs": [
    {
     "name": "stdout",
     "output_type": "stream",
     "text": [
      "List of stopwords in English:\n",
      "{'than', \"isn't\", 'having', 'against', 'or', 'will', 'd', 'is', 'just', 'itself', \"don't\", \"shouldn't\", 'you', \"that'll\", \"mightn't\", 'have', \"hadn't\", \"aren't\", 'only', 'them', 'some', 'above', \"you'll\", 'shouldn', 'ma', 'own', 'her', 'both', 'over', 'hasn', \"mustn't\", 'being', 'himself', 'our', 'yourselves', 'where', 'hadn', 'after', \"won't\", 'on', 'with', 'up', 'myself', 'so', 'wasn', 'mightn', 'between', \"needn't\", \"shan't\", 'an', 'once', 'why', 'out', 'not', 'again', 'very', 'll', 'its', 'by', 'my', 'while', 'all', 'should', 'any', 'y', \"hasn't\", 'to', 'about', 'can', 'herself', 'are', 'couldn', \"didn't\", 'isn', 'theirs', 'because', 'no', \"couldn't\", 'few', 'before', 'there', 'how', 'be', 'further', 'under', \"you'd\", \"weren't\", 'they', 'of', 'o', 'yours', 'nor', 'themselves', 'weren', 't', 'didn', 'we', 'been', 'yourself', 'what', 'that', 'doing', \"should've\", 'haven', 'm', 'when', 'same', 'ours', \"you've\", 'whom', 'shan', \"she's\", 'were', 're', 'this', 'as', 'here', 'aren', 'doesn', \"wouldn't\", 'did', 'he', 'has', 'other', 'more', 'from', 'do', 'don', 'which', 'then', 'such', 'i', 'ourselves', 'below', 'mustn', 'needn', 's', 'does', 'and', 'each', 'off', 'most', 'your', 'but', 'into', 'me', 'a', 'am', 'hers', \"you're\", 'through', 'those', 'if', 'until', 'these', 'who', 'too', 'the', 'ain', 'during', 'in', 'had', 'now', \"wasn't\", 'his', \"it's\", \"doesn't\", 'was', 'won', 'for', 'down', 'she', 'wouldn', 'him', 'their', 've', \"haven't\", 'it', 'at'}\n",
      "\n",
      "List of stopwords in Arabic:\n",
      "{'لعلَّ', 'لي', 'عشرين', 'أعطى', 'إليكنّ', 'عيانا', 'لستن', 'يوان', 'ر', 'لوما', 'أسكن', 'جوان', 'عَدَسْ', 'كلَّا', 'صراحة', 'نيسان', 'إياها', 'ع', 'كلاهما', 'ثمة', 'أما', 'هَذِي', 'بخٍ', 'كلتا', 'لنا', 'صاد', 'تِه', 'ماي', 'قد', 'وَيْ', 'ثمانين', 'آي', 'ذواتي', 'إليكَ', 'إن', 'أجل', 'دواليك', 'ي', 'همزة', 'أينما', 'ثلاثمائة', 'إنه', 'هنالك', 'كأنما', 'هَاتانِ', 'كيفما', 'نفس', 'عشر', 'تينك', 'ذينك', 'هاته', 'هَاتِه', 'تارة', 'حمدا', 'لهن', 'ولو', 'أم', 'بي', 'ريال', 'كيت', 'ّأيّان', 'قرش', 'أصبح', 'زعم', 'أكثر', 'بهم', 'خمسمئة', 'عاد', 'أوت', 'كأين', 'سادس', 'مافتئ', 'مع', 'ممن', 'جير', 'آب', 'شتانَ', 'إيه', 'اللذان', 'هكذا', 'يوليو', 'طاء', 'ضحوة', 'سمعا', 'يفعلان', 'كثيرا', 'ء', 'متى', 'خاء', 'لسن', 'تسعين', 'إزاء', 'خاصة', 'ف', 'صباح', 'كليكما', 'نيف', 'إياي', 'أهلا', 'درى', 'والذي', 'أولئك', 'ذِي', 'أنتما', 'أفٍّ', 'ثلاثمئة', 'هَجْ', 'ث', 'أربعمائة', 'درهم', 'ثامن', 'رابع', 'مثل', 'اثنا', 'أنبأ', 'عليك', 'هاتين', 'إذما', 'بلى', 'دون', 'نحن', 'لك', 'عن', 'جنيه', 'وُشْكَانَ', 'إياكن', 'هل', 'تاء', 'حبيب', 'تين', 'عشرون', 'أمام', 'تي', 'نَّ', 'ظ', 'تشرين', 'عما', 'لست', 'حيث', 'لهما', 'ذال', 'ثمنمئة', 'الذي', 'فلس', 'اثنان', 'والذين', 'الذين', 'بؤسا', 'كأي', 'فيها', 'حسب', 'تجاه', 'واهاً', 'رجع', 'خمسة', 'سابع', 'هلّا', 'هم', 'هذين', 'عجبا', 'ش', 'ليسا', 'و', 'لعل', 'ما انفك', 'د', 'هللة', 'أوه', 'لات', 'ثمان', 'لبيك', 'ليسوا', 'ذواتا', 'زاي', 'ذلكما', 'جويلية', 'ثلاثاء', 'إياكم', 'ثمانمئة', 'إذ', 'آهٍ', 'ح', 'غير', 'ذيت', 'أنت', 'هَذِه', 'سبع', 'أنى', 'ما', 'هو', 'ثماني', 'علًّ', 'تموز', 'إياه', 'قاطبة', 'يونيو', 'أيّ', 'بسّ', 'بطآن', 'ئ', 'ثاء', 'نبَّا', 'لكي', 'بك', 'اللتين', 'إمّا', 'من', 'ستمئة', 'هَؤلاء', 'لكن', 'ليرة', 'تحت', 'هاهنا', 'إحدى', 'قبل', 'أخٌ', 'تلك', 'ليستا', 'ة', 'تسعون', 'هَاتَيْنِ', 'إلى', 'فو', 'عوض', 'حاء', 'ذات', 'لن', 'خال', 'الألى', 'أربعاء', 'إليكما', 'أنتم', 'اللاتي', 'سبتمبر', 'تَيْنِ', 'فإن', 'تبدّل', 'استحال', 'جيم', 'لستم', 'أربعة', 'انقلب', 'ظلّ', 'ساء', 'سحقا', 'ذي', 'لعمر', 'فاء', 'شتان', 'اللائي', 'طَق', 'كم', 'ذانك', 'ورد', 'ته', 'إى', 'شَتَّانَ', 'كما', 'منها', 'حدَث', 'إما', 'واو', 'ستة', 'مئتان', 'عين', 'ذين', 'آناء', 'أخبر', 'أنتِ', 'أرى', 'أوشك', 'اللواتي', 'علم', 'آض', 'بات', 'أولاء', 'ماذا', 'في', 'بهن', 'لئن', 'سوى', 'أول', 'نحو', 'إياهما', 'إياهن', 'عدَّ', 'جلل', 'ضاد', 'واحد', 'دال', 'بغتة', 'غ', 'إنَّ', 'حادي', 'كاف', 'أيّان', 'ياء', 'سبعين', 'أنّى', 'منه', 'يورو', 'هذان', 'س', 'بخ', 'م', 'نا', 'صهْ', 'فبراير', 'أ', 'أربعمئة', 'تسع', 'إي', 'بنا', 'حيَّ', 'حين', 'هاكَ', 'كن', 'كرب', 'بضع', 'لما', 'أحد', 'ى', 'إليك', 'ذانِ', 'ستين', 'أجمع', 'حرى', 'غادر', 'إنا', 'مه', 'بئس', 'لولا', 'بين', 'حاي', 'غالبا', 'رأى', 'لمّا', 'خلف', 'دولار', 'ذلك', 'لم', 'ميم', 'راح', 'سقى', 'التي', 'ليت', 'هَذانِ', 'نوفمبر', 'هَذَيْنِ', 'ثمانون', 'ليس', 'تلقاء', 'يمين', 'شمال', 'لهم', 'فمن', 'بماذا', 'هناك', 'وإذا', 'خميس', 'حار', 'كان', 'خمسين', 'بل', 'بعد', 'طفق', 'كليهما', 'يا', 'زود', 'ثمَّ', 'لكم', 'اثنين', 'كانون', 'إلَيْكَ', 'كأنّ', 'أبريل', 'ز', 'ثمانية', 'لكنَّ', 'ذلكم', 'نَخْ', 'كِخ', 'أل', 'حمو', 'حزيران', 'فضلا', 'إلّا', 'كلّما', 'آهاً', 'جانفي', 'تاسع', 'ألفى', 'معاذ', 'ما برح', 'سبعة', 'قام', 'إياك', 'مارس', 'جمعة', 'ذاك', 'لاسيما', 'وما', 'كأيّن', 'أى', 'أكتوبر', 'ثمّ', 'أقبل', 'رُبَّ', 'بهما', 'لكيلا', 'حاشا', 'صار', 'الألاء', 'أولالك', 'ابتدأ', 'أصلا', 'إياكما', 'حجا', 'فيفري', 'إذاً', 'أمد', 'يناير', 'قطّ', 'ن', 'هذا', 'مايو', 'أمامكَ', 'كل', 'بس', 'تسعمئة', 'ولا', 'حبذا', 'مذ', 'آذار', 'أخذ', 'أنا', 'ذا', 'لا', 'فيه', 'ب', 'أمس', 'عليه', 'حيثما', 'أربع', 'خمسون', 'ق', 'نعم', 'فرادى', 'اثني', 'أبدا', 'عاشر', 'ك', 'ذان', 'اللتان', 'جميع', 'اربعون', 'فلا', 'حقا', 'مائة', 'هلم', 'ثالث', 'كأيّ', 'لكنما', 'بما', 'إذا', 'لدى', 'هما', 'مكانَك', 'تحوّل', 'شين', 'غين', 'وا', 'خبَّر', 'مما', 'عشرة', 'صدقا', 'تسعة', 'شبه', 'كيف', 'بمن', 'اللتيا', 'أبٌ', 'جعل', 'ذهب', 'أنتن', 'ذ', 'ألا', 'اتخذ', 'طرا', 'غدا', 'فإذا', 'ا', 'هاء', 'أعلم', 'خمس', 'ج', 'بيد', 'لها', 'هيا', 'إذن', 'ذوا', 'ست', 'بَلْهَ', 'آمينَ', 'هاتان', 'وهو', 'سنتيم', 'تسعمائة', 'عل', 'مكانكنّ', 'ثلاثين', 'إيانا', 'قاف', 'سرعان', 'ثم', 'الآن', 'ستمائة', 'هلا', 'أوّهْ', 'إلا', 'رزق', 'أنًّ', 'هيهات', 'خمسمائة', 'مئة', 'سوف', 'بكن', 'إياهم', 'وراءَك', 'مرّة', 'هنا', 'ألف', 'أيها', 'هذه', 'اربعين', 'خلافا', 'أين', 'بعض', 'ومن', 'ثمّة', 'خ', 'وإذ', 'كسا', 'آهِ', 'ها', 'ذو', 'نون', 'ين', 'وجد', 'تفعلون', 'ستون', 'غداة', 'ه', 'ثان', 'منذ', 'طالما', 'آنفا', 'كذا', 'ص', 'ثلاثة', 'تانِك', 'مادام', 'عند', 'هاك', 'إنما', 'أخو', 'هاتي', 'بكما', 'انبرى', 'آه', 'سرا', 'كاد', 'عسى', 'اللذين', 'ما أفعله', 'كى', 'هي', 'دينار', 'حتى', 'حَذارِ', 'هبّ', 'إيهٍ', 'ذه', 'لكما', 'صبر', 'لو', 'وهب', 'خامس', 'تخذ', 'هؤلاء', 'صبرا', 'ترك', 'هَيْهات', 'أُفٍّ', 'أقل', 'ذَيْنِ', 'كلا', 'أطعم', 'مكانكما', 'مهما', 'أو', 'أغسطس', 'كي', 'أيضا', 'شيكل', 'هن', 'تفعلان', 'ظاء', 'ريث', 'أمّا', 'سبعون', 'ذِه', 'تانِ', 'أيلول', 'آها', 'تعسا', 'مليم', 'لا سيما', 'ولكن', 'أن', 'مساء', 'تلكما', 'علق', 'هيت', 'به', 'صهٍ', 'أبو', 'دونك', 'ارتدّ', 'قلما', 'ذلكن', 'فيما', 'إليكم', 'لسنا', 'ت', 'ليست', 'لدن', 'أف', 'أفريل', 'أفعل به', 'هذي', 'ءَ', 'شرع', 'ظنَّ', 'أي', 'هَذا', 'أنشأ', 'ديسمبر', 'راء', 'هيّا', 'تعلَّم', 'ط', 'أيا', 'سين', 'باء', 'ل', 'لستما', 'بكم', 'بعدا', 'ثاني', 'مازال', 'بَسْ', 'رويدك', 'ؤ', 'طاق', 'ض', 'مكانكم', 'فيم', 'فوق', 'كلما', 'عامة', 'حمٌ', 'أمامك', 'عدا', 'أيار', 'إليكن', 'سبعمئة', 'هَاتِي', 'لام', 'ثلاث', 'فلان', 'يفعلون', 'تفعلين', 'اخلولق', 'آ', 'أمسى', 'على', 'شباط', 'سبعمائة', 'بها', 'ثلاثون', 'أضحى', 'كذلك', 'تلكم', 'سبت', 'له', 'خلا', 'كأن', 'وإن', 'سبحان', 'تِي'}\n",
      "\n",
      "List of stopwords in Azerbaijani:\n",
      "{'cü', 'iki', 'özü', 'təəssüf', 'yalnız', 'hə', 'ildə', 'isə', 'biraz', 'qarşı', 'ona', 'ü', 'arasında', 'ki', 'sadəcə', 'nə', 'il', 'istifadə', 'ya', 'kim', 'nəhayət', 'yəni', 'edir', 'yüz', 'bunun', 'çünki', 'olduğu', 'əgər', 'saat', 'dörd', 'lakin', 'bizlər', 'olmaz', 'bütün', 'ə', 'on', 'edən', 'mirşey', 'gilə', 'amma', 'artıq', 'hər', 'zaman', 'həmin', 'bilər', 'dedi', 'belə', 'etmək', 'obirisi', 'buna', 'daha', 'faiz', 'bundan', 'haqqında', 'xeyr', 'həm', 'onsuzda', 'iyirmi', 'biri', 'siz', 'dən', 'bəy', 'az', 'qırx', 'beş', 'ha', 'ad', 'altı', 'biz', 'yoxsa', 'mən', 'cu', 'buradan', 'sizin', 'dək', 'birşey', 'olmadı', 'sizlər', 'of', 'onu', 'o', 'onun', 'bu', 'onların ', 'bunların', 'bəli', 'olan', 'ci', 'mənə', 'əslində', 'əlbəttə', 'yoxdur', 'yenə', 'cı', 'kimi', 'yeddi', 'həmişə', 'olsun', 'görə', 'əlli', 'onlar', 'səkkiz', 'öz', 'kimə', 'etmə', 'niyə', 'olaraq', 'yaxşı', 'bax', 'üç', 'yetmiş', 'bunu', 'otuz', 'çox', 'altmış', 'idi', 'et', 'də', 'sənin', 'doqquz', 'da', 'sənə', 'oradan', 'doqsan', 'oldu', 'a', 'olar', 'bir', 'xan', 'onlardan', 'indi', 'saniyə', 'və', 'səksən', 'yox', 'deyil', 'bəzi', 'etdi', 'düz', 'ı', 'sən', 'bəzən', 'qədər', 'heç', 'üçün', 'olur', 'ilə', 'in', 'ondan', 'ən', 'ay', 'bizim', 'bəlkə', 'dəqiqə', 'elə', 'dir', 'məhz', 'harada', 'lap', 'səhv', 'var', 'ilk', 'xanım', 'olmuşdur', 'sonra'}\n",
      "\n",
      "List of stopwords in Danish:\n",
      "{'til', 'disse', 'end', 'mig', 'sig', 'hendes', 'vil', 'jo', 'have', 'min', 'efter', 'her', 'over', 'deres', 'på', 'en', 'vor', 'været', 'anden', 'ham', 'som', 'dem', 'noget', 'din', 'os', 'meget', 'selv', 'jeg', 'ned', 'sådan', 'ville', 'han', 'der', 'det', 'er', 'hun', 'nu', 'dog', 'hos', 'blev', 'også', 'hende', 'havde', 'skal', 'thi', 'ad', 'ud', 'dette', 'under', 'men', 'sine', 'mod', 'bliver', 'af', 'sit', 'sin', 'være', 'hvor', 'du', 'ind', 'nogle', 'vi', 'jer', 'hans', 'har', 'om', 'mit', 'mine', 'denne', 'skulle', 'ikke', 'hvis', 'op', 'eller', 'fra', 'et', 'i', 'dig', 'alt', 'hvad', 'da', 'og', 'med', 'man', 'alle', 'den', 'når', 'kunne', 'blive', 'for', 'de', 'var', 'at', 'mange'}\n",
      "\n",
      "List of stopwords in Dutch:\n",
      "{'te', 'wat', 'voor', 'veel', 'dus', 'wil', 'nog', 'kon', 'is', 'eens', 'aan', 'want', 'na', 'deze', 'doen', 'een', 'onder', 'over', 'en', 'zijn', 'het', 'worden', 'wezen', 'andere', 'toen', 'u', 'niets', 'van', 'moet', 'zo', 'altijd', 'geweest', 'kan', 'ge', 'mij', 'toch', 'der', 'hem', 'er', 'dit', 'hun', 'nu', 'haar', 'waren', 'door', 'zonder', 'doch', 'hij', 'ja', 'niet', 'men', 'of', 'heb', 'ook', 'tegen', 'wie', 'iemand', 'heeft', 'iets', 'dat', 'ons', 'die', 'hoe', 'met', 'geen', 'hebben', 'zij', 'omdat', 'bij', 'alles', 'om', 'daar', 'op', 'mijn', 'zich', 'ben', 'kunnen', 'wordt', 'uit', 'dan', 'hier', 'uw', 'ze', 'me', 'zou', 'als', 'al', 'meer', 'zal', 'maar', 'tot', 'reeds', 'in', 'had', 'je', 'was', 'naar', 'werd', 'ik', 'de', 'zelf'}\n",
      "\n",
      "List of stopwords in Finnish:\n",
      "{'te', 'nuo', 'keiden', 'mille', 'keillä', 'keiksi', 'noissa', 'vaikka', 'heistä', 'jossa', 'kenet', 'jolta', 'niitä', 'sinulle', 'kun', 'kenelle', 'noiden', 'emme', 'sinulla', 'että', 'joissa', 'niin', 'tässä', 'noille', 'itse', 'teidät', 'niiksi', 'minua', 'minussa', 'näiden', 'kuka', 'kenen', 'joka', 'tuon', 'en', 'kenestä', 'sen', 'heiltä', 'ne', 'olen', 'ette', 'olimme', 'on', 'meissä', 'mikä', 'meistä', 'siltä', 'kenessä', 'keneksi', 'teihin', 'sille', 'näiksi', 'olleet', 'sinussa', 'tältä', 'jota', 'olla', 'noihin', 'noin', 'tuo', 'jonka', 'ei', 'niillä', 'häneen', 'siinä', 'minusta', 'olisivat', 'miltä', 'hänessä', 'olitte', 'hänet', 'hänen', 'tälle', 'keistä', 'noista', 'näiltä', 'eivät', 'ollut', 'näihin', 'mitä', 'teillä', 'tuona', 'keissä', 'heihin', 'tai', 'teidän', 'keiltä', 'olisitte', 'siksi', 'niihin', 'olisi', 'vaan', 'meillä', 'johon', 'tuotä', 'minkä', 'teistä', 'noiksi', 'joilla', 'ja', 'tuolla', 'häneltä', 'teiltä', 'joista', 'keinä', 'meitä', 'vai', 'mitkä', 'keneltä', 'sinut', 'olisit', 'keille', 'nämä', 'mihin', 'minulta', 'heillä', 'joilta', 'minut', 'miksi', 'näissä', 'mistä', 'meiltä', 'olin', 'siihen', 'tallä', 'näinä', 'tuossa', 'jos', 'nyt', 'tähän', 'tämä', 'hänelle', 'heissä', 'olisin', 'meidät', 'tuohon', 'joille', 'jolla', 'meidän', 'täksi', 'näistä', 'olemme', 'keneen', 'joita', 'meille', 'sinusta', 'jotka', 'olet', 'hänestä', 'teitä', 'he', 'siitä', 'kanssa', 'kenenä', 'ketkä', 'tuosta', 'joina', 'noilta', 'et', 'mutta', 'niissä', 'ovat', 'sinulta', 'olivat', 'olit', 'oli', 'ketä', 'missä', 'joksi', 'mukaan', 'heidät', 'millä', 'sinä', 'joihin', 'sinua', 'tuolta', 'näillä', 'joiksi', 'me', 'noina', 'näitä', 'jona', 'heitä', 'sillä', 'keihin', 'noita', 'tästä', 'tänä', 'niistä', 'sinun', 'tuolle', 'tätä', 'niiden', 'niinä', 'joiden', 'minun', 'teissä', 'meihin', 'minulle', 'minulla', 'näille', 'noilla', 'kenellä', 'josta', 'minä', 'tämän', 'sitä', 'koska', 'poikki', 'ole', 'niiltä', 'kuin', 'keitä', 'hän', 'tuoksi', 'hänellä', 'minuun', 'yli', 'teille', 'olisimme', 'se', 'sekä', 'jolle', 'heille', 'sinuun', 'olette', 'häntä', 'niille', 'heidän'}\n",
      "\n",
      "List of stopwords in French:\n",
      "{'te', 'elle', 'vos', 'soyons', 'eussions', 'étante', 'd', 'eussiez', 'notre', 'fût', 'dans', 'sois', 'il', 'toi', 'ayant', 'fûtes', 'eus', 'auras', 'serai', 'aurai', 'eue', 'ma', 'les', 'pour', 'ses', 'serez', 'fûmes', 'en', 'fusses', 'avez', 'ne', 'lui', 'étants', 'fussent', 'on', 'ayez', 'fussions', 'étais', 'par', 'une', 'leur', 'aura', 'avait', 'sommes', 'ont', 'eûmes', 'fussiez', 'es', 'eut', 'été', 'sera', 'aux', 'ayants', 'étiez', 'ayantes', 'aurait', 'y', 'serions', 'aviez', 'votre', 'auriez', 'au', 'auront', 'furent', 'que', 'seront', 'eûtes', 'seriez', 'c', 'est', 'soit', 'eût', 'eux', 'la', 'serait', 'des', 'auraient', 'sa', 'qui', 'sont', 'étantes', 'ton', 'l', 'le', 'serons', 'avions', 'ce', 'ai', 'qu', 'avaient', 'étions', 't', 'mes', 'étée', 'fus', 'aurez', 'du', 'avais', 'ayante', 'avons', 'ta', 'm', 'ait', 'aient', 'son', 'serais', 'as', 'ou', 'nos', 'aurais', 'avec', 'ces', 'eusse', 'même', 'êtes', 'aurions', 'et', 'vous', 's', 'n', 'eu', 'eusses', 'un', 'me', 'ayons', 'étées', 'fut', 'seraient', 'suis', 'fusse', 'eues', 'étés', 'eussent', 'à', 'moi', 'nous', 'pas', 'soyez', 'aie', 'étant', 'était', 'aurons', 'je', 'étaient', 'sur', 'soient', 'se', 'mais', 'tes', 'eurent', 'de', 'tu', 'aies', 'ils', 'seras', 'j', 'mon'}\n",
      "\n",
      "List of stopwords in German:\n",
      "{'das', 'würden', 'ob', 'eure', 'dann', 'dazu', 'will', 'oder', 'soll', 'ihnen', 'ohne', 'über', 'seinem', 'derer', 'ander', 'solche', 'also', 'nicht', 'dein', 'warst', 'welchen', 'muss', 'eurem', 'ich', 'deinem', 'werden', 'meine', 'solches', 'nach', 'vom', 'indem', 'nur', 'nichts', 'ihrem', 'manchen', 'euer', 'meinem', 'solchen', 'sein', 'anderem', 'vor', 'bis', 'einer', 'solchem', 'manche', 'ist', 'dem', 'keinen', 'meinen', 'noch', 'unsere', 'andere', 'anderm', 'nun', 'anders', 'euren', 'seines', 'diesen', 'so', 'uns', 'allem', 'zu', 'jenem', 'weil', 'an', 'seiner', 'unserem', 'ihren', 'es', 'sonst', 'keines', 'deinen', 'auch', 'einem', 'dass', 'selbst', 'einigem', 'sondern', 'unter', 'zum', 'einiges', 'haben', 'eines', 'der', 'etwas', 'einig', 'kann', 'derselbe', 'er', 'sollte', 'bist', 'derselben', 'sehr', 'wird', 'zur', 'ihm', 'waren', 'von', 'denn', 'für', 'kein', 'mich', 'hab', 'ihr', 'jenes', 'doch', 'weiter', 'könnte', 'des', 'dessen', 'einigen', 'eures', 'jedem', 'zwischen', 'um', 'ihres', 'denselben', 'deines', 'mir', 'jeden', 'während', 'einiger', 'meines', 'und', 'wollen', 'welches', 'wo', 'damit', 'keine', 'jene', 'anderer', 'wie', 'habe', 'deine', 'würde', 'anderr', 'wollte', 'du', 'seinen', 'hin', 'machen', 'weg', 'durch', 'jedes', 'die', 'anderes', 'demselben', 'hatten', 'jenen', 'gewesen', 'seine', 'unser', 'welche', 'bei', 'jeder', 'andern', 'im', 'auf', 'zwar', 'alles', 'mancher', 'mit', 'keiner', 'ihn', 'diese', 'dieselbe', 'dieser', 'wirst', 'sich', 'unseren', 'ihrer', 'jede', 'sie', 'allen', 'viel', 'einen', 'dasselbe', 'hatte', 'gegen', 'hier', 'einige', 'jetzt', 'eurer', 'mein', 'wieder', 'da', 'dort', 'werde', 'euch', 'anderen', 'als', 'aller', 'bin', 'hat', 'keinem', 'meiner', 'am', 'dieselben', 'welcher', 'können', 'man', 'ins', 'musste', 'war', 'dich', 'einmal', 'deiner', 'manches', 'alle', 'ein', 'ihre', 'aber', 'in', 'welchem', 'sind', 'jener', 'den', 'unseres', 'was', 'aus', 'solcher', 'diesem', 'dir', 'manchem', 'daß', 'dies', 'desselben', 'eine', 'dieses', 'wenn', 'wir', 'hinter'}\n",
      "\n",
      "List of stopwords in Greek:\n",
      "{'ὡς', 'με', 'γὰρ', 'μὴν', 'οἷς', 'του', 'τούσ', 'διὰ', 'που', 'πρὸ', 'τίσ', 'ἅμα', 'των', 'εκεινοι', 'ἐστι', 'ποτε', 'επ', 'ὡσ', \"δ'\", 'ειμαστε', 'ποια', 'θα', 'γοῦν', 'ἣ', 'ἄρα', 'τον', 'ἀλλὰ', 'ἐμὸς', 'καί', 'ἐὰν', 'δαίσ', 'εἴτε', 'ἔτι', 'αυτεσ', 'οὐκ', 'ἀπό', 'τὴν', 'τῶν', 'ὑπὸ', 'τοῦ', 'τὸ', 'περὶ', 'στο', 'οὐδεὶς', 'ὅ', 'τῷ', 'ὑμόσ', 'εἰσ', 'ἀφ', 'ἂν', 'παρ', 'ὅς', 'ειμαι', 'δε', 'οι', 'απο', 'εκεινουσ', 'σὺν', 'εἰμὶ', 'ὃς', 'εκεινη', 'οὕτωσ', 'ὥστε', 'ἵνα', 'οὐδ', 'οὐ', 'παρὰ', 'τήν', 'ἢ', 'σύ', 'ειναι', 'οὔτε', 'καίτοι', 'εἴ', 'δέ', 'οτι', 'ειστε', 'τίς', 'ᾧ', 'μετ', 'επι', 'ὦ', 'ἧς', 'αὐτὸς', 'εκεινεσ', 'οὐχὶ', 'μή', 'οπωσ', 'τά', 'προ', 'αντι', 'η', 'τις', 'μὲν', 'ἀλλ’', 'ἄλλος', 'τοιοῦτοσ', 'ὅτι', 'σὸς', 'τὰ', 'ἑαυτοῦ', 'ὅσ', 'ποιων', 'εκεινων', 'αἵ', 'οὐδέ', 'την', \"δι'\", 'εκεινο', 'οὐδὲ', 'ἐπὶ', 'περί', 'ισωσ', 'οὕτω', \"ἀλλ'\", 'κἂν', 'μη', 'ὃ', 'τί', 'εἰς', 'εαν', 'τὰς', 'κι', 'ἐμόσ', 'τοῖς', 'μα', 'ποιο', 'ἀπὸ', 'οὗτος', 'δ’', 'αυτα', 'ὅθεν', 'κατ', 'αὖ', 'δαί', 'ομωσ', 'τοτε', 'ὑπέρ', 'γε', 'κἀν', 'ἐξ', 'να', 'αλλα', 'μέν', 'οἱ', 'τινα', 'τοι', 'ἐπεὶ', 'ὑπό', 'κ', 'σύν', 'καὶ', 'ποιεσ', 'ἐγὼ', 'οὕτως', 'ἐγώ', 'τὸν', 'ὥς', 'ποιουσ', 'προσ', 'γάρ', 'πωσ', 'μετα', 'οὖν', 'τῇ', 'αυτουσ', 'μεθ', 'ἐφ', 'γα', 'ἄν', 'μήτε', 'εκεινοσ', 'αυτη', 'ταῖς', 'τοιοῦτος', 'αν', 'ενω', 'μὴ', 'ὑπὲρ', 'τό', 'παρά', 'ἡ', 'αἳ', 'για', 'τα', 'ἀλλά', 'τῆς', 'τοὺς', 'ποιοσ', 'μετά', 'τῆσ', 'ἀπ', 'ἥ', 'τε', 'διά', 'σὺ', 'μην', 'ὃν', 'δὲ', 'οὐδὲν', 'εἰμί', 'ἐκ', 'δεν', 'κατα', 'δή', 'τι', 'σε', 'πρὸς', 'τότε', 'σόσ', 'ἄλλοσ', 'οὐχ', 'οὓς', 'ὅτε', 'ἐν', 'τόν', 'αὐτόσ', 'τοί', 'ὅδε', 'ὅστις', 'ὑπ', 'στη', 'αυτων', 'ὅπερ', 'στον', 'αυτοσ', 'ἃ', 'εκεινα', 'οὗ', 'εἴμι', 'ἐάν', 'αυτοι', 'ποιοι', 'γα^', 'κατά', 'ο', 'δαὶς', 'καθ', 'στην', 'δὴ', 'και', 'αἱ', 'εισαι', 'πρόσ', 'οσο', 'ἤ', 'ὅστισ', 'τισ', 'τησ', 'οὗτοσ', 'κατὰ', 'δαὶ', 'παρα', 'το', 'οὐδείσ', 'ποῦ', 'ωσ', 'ἐπί', 'εἰ', 'μἐν', 'οἳ', 'ὁ', 'αυτο', 'πως', 'μετὰ'}\n",
      "\n",
      "List of stopwords in Hungarian:\n",
      "{'aztán', 'már', 'legalább', 'ahol', 'belül', 'bár', 'emilyen', 'amely', 'teljes', 'azonban', 'ilyenkor', 'meg', 'benne', 'olyan', 'míg', 'hogyan', 'mellett', 'kívül', 'mint', 'viszont', 'egy', 'nincs', 'eddig', 'ki', 'fel', 'továbbá', 'magát', 'vagy', 'maga', 'ismét', 'melyek', 'ugyanis', 'egyik', 'szerint', 'azok', 'ebben', 'szinte', 'én', 'amelyek', 'minden', 'pedig', 'neki', 'át', 'keressünk', 'ne', 'egyetlen', 'majd', 'mert', 'ennek', 'közül', 'cikkeket', 'elõször', 'ekkor', 'voltunk', 'jó', 'van', 'ison', 'miért', 'másik', 'egyre', 'ehhez', 'vagyok', 'õket', 'semmi', 'nélkül', 'talán', 'újra', 'akik', 'akkor', 'amelyekben', 'egyes', 'nagy', 'rá', 'persze', 'e', 'annak', 'amit', 'éppen', 'hanem', 'mivel', 'ezzel', 'még', 'vagyis', 'új', 'utolsó', 'amíg', 'amikor', 'elég', 'az', 'jobban', 'kell', 'hogy', 'milyen', 'elsõ', 'nekem', 'õk', 'által', 'valaki', 'ami', 'vissza', 'vele', 'elõ', 'újabb', 'be', 'ezt', 'illetve', 'vannak', 'tehát', 'ott', 'valamint', 'amolyan', 'csak', 'ellen', 'amelynek', 'saját', 'lenne', 'általában', 'arra', 'néha', 'mikor', 'ill', 'lenni', 'mindent', 'sokkal', 'erre', 'mely', 'amelyeket', 'cikkek', 'ill.', 'ez', 'nem', 'lett', 'sok', 'jól', 'nagyobb', 'szemben', 'mindenki', 'itt', 'között', 'volna', 'számára', 'cikk', 'ezen', 'mit', 'azt', 'utána', 'nagyon', 'egész', 'mintha', 'ahogy', 'lesz', 'és', 'sokat', 'abban', 'össze', 'aki', 'ezért', 'azzal', 'õ', 'keresztül', 'mindig', 's', 'arról', 'lehetett', 'hiszen', 'alatt', 'most', 'amelyet', 'azon', 'a', 'néhány', 'sem', 'egyéb', 'más', 'voltak', 'ahhoz', 'felé', 'ilyen', 'volt', 'úgy', 'mi', 'ezek', 'így', 'voltam', 'tovább', 'után', 'lehet', 'igen', 'valami', 'azután', 'azért', 'több', 'de', 'való', 'kellett', 'el', 'legyen', 'elõtt'}\n",
      "\n",
      "List of stopwords in Indonesian:\n",
      "{'sebagaimana', 'diinginkan', 'sebegitu', 'banyak', 'kesampaian', 'melihat', 'dilalui', 'berakhir', 'asalkan', 'diperlukan', 'disinilah', 'sama', 'terdiri', 'terhadapnya', 'baik', 'berakhirnya', 'dini', 'seharusnya', 'berturut', 'menunjuk', 'ialah', 'secara', 'mau', 'suatu', 'tampaknya', 'ibaratnya', 'semacam', 'belum', 'kira-kira', 'walaupun', 'empat', 'menyangkut', 'ungkap', 'sepanjang', 'bahwa', 'pasti', 'jawabnya', 'sebagian', 'digunakan', 'berkenaan', 'manalagi', 'tetap', 'kenapa', 'tahu', 'selamanya', 'karenanya', 'terjadi', 'keluar', 'tunjuk', 'belakangan', 'punya', 'bukannya', 'teringat', 'itukah', 'semampu', 'berada', 'bertutur', 'hampir', 'seterusnya', 'kurang', 'tentunya', 'yang', 'tapi', 'dipergunakan', 'tegas', 'tidaklah', 'harusnya', 'nah', 'sekecil', 'memastikan', 'sendiri', 'ditujukan', 'sayalah', 'ditambahkan', 'sebab', 'bagian', 'kedua', 'sebut', 'belakang', 'hendak', 'mulanya', 'kelima', 'tanya', 'ibaratkan', 'berkeinginan', 'kita', 'naik', 'bila', 'ia', 'diberi', 'didatangkan', 'begitu', 'dibuat', 'kapan', 'kalian', 'ibu', 'lewat', 'itulah', 'menegaskan', 'selanjutnya', 'kapankah', 'dikarenakan', 'perlu', 'semaunya', 'hanyalah', 'makin', 'bagaikan', 'dialah', 'kembali', 'guna', 'sebelum', 'dimaksudkannya', 'serupa', 'sering', 'apalagi', 'inilah', 'pantas', 'tanyakan', 'sana', 'dipunyai', 'tentu', 'bekerja', 'lanjut', 'sekiranya', 'setidak-tidaknya', 'baru', 'meyakini', 'dimulailah', 'di', 'supaya', 'setinggi', 'bakalan', 'mempergunakan', 'mendatangkan', 'demi', 'terlebih', 'mungkin', 'tepat', 'benarkah', 'jumlahnya', 'terhadap', 'padanya', 'adalah', 'diketahuinya', 'lagian', 'sempat', 'umumnya', 'berikutnya', 'misalkan', 'siap', 'mirip', 'ujar', 'berapapun', 'dipastikan', 'belumlah', 'benar', 'bolehkah', 'dipertanyakan', 'kelihatan', 'malah', 'pada', 'seluruh', 'begitulah', 'cukupkah', 'didapat', 'kelihatannya', 'menuju', 'karena', 'beberapa', 'sinilah', 'menanya', 'adanya', 'sejenak', 'semasa', 'dahulu', 'tersebut', 'diingat', 'akankah', 'ujarnya', 'justru', 'mengibaratkannya', 'panjang', 'mula', 'tak', 'diakhirinya', 'tiba-tiba', 'sebaliknya', 'demikianlah', 'tandas', 'mempersiapkan', 'segalanya', 'inginkah', 'mendatangi', 'menunjukkan', 'andalah', 'makanya', 'bertanya-tanya', 'sendirinya', 'luar', 'ibarat', 'seolah', 'menurut', 'selama-lamanya', 'mulai', 'bukan', 'terlalu', 'biasa', 'termasuk', 'se', 'pihak', 'waduh', 'sekaligus', 'diantaranya', 'sepihak', 'berawal', 'kini', 'semula', 'dong', 'hal', 'sebelumnya', 'menjawab', 'ditegaskan', 'hari', 'menjelaskan', 'sebaiknya', 'disebut', 'dijelaskan', 'berdatangan', 'seberapa', 'turut', 'kemungkinannya', 'memperbuat', 'beginikah', 'siapapun', 'sesuatunya', 'dimaksudnya', 'lalu', 'jadinya', 'terakhir', 'inikah', 'sendirian', 'diperbuatnya', 'terkira', 'kamilah', 'kiranya', 'berupa', 'sekurang-kurangnya', 'menantikan', 'masihkah', 'inginkan', 'sebagai', 'pastilah', 'tentang', 'asal', 'kelamaan', 'saat', 'tinggi', 'kamulah', 'kira', 'berkali-kali', 'ditunjukkannya', 'hendaknya', 'bung', 'sepantasnyalah', 'kata', 'dilakukan', 'tetapi', 'melainkan', 'berlainan', 'diperlukannya', 'setiap', 'tegasnya', 'malahan', 'terasa', 'dengan', 'jelasnya', 'jelas', 'pihaknya', 'segala', 'dijelaskannya', 'mempersoalkan', 'kan', 'telah', 'setelah', 'sedikit', 'jikalau', 'mengingatkan', 'katanya', 'dimulai', 'meminta', 'agaknya', 'sesudah', 'dirinya', 'waktu', 'dilihat', 'keduanya', 'begitupun', 'kapanpun', 'bisakah', 'ingat', 'diketahui', 'kasus', 'saya', 'aku', 'diperlihatkan', 'terutama', 'disebutkan', 'paling', 'percuma', 'katakan', 'berakhirlah', 'kinilah', 'menanti-nanti', 'misalnya', 'enggaknya', 'buat', 'dipersoalkan', 'berapakah', 'saling', 'beginilah', 'mendapat', 'ditunjuknya', 'selalu', 'sekitar', 'tadinya', 'sebenarnya', 'tentulah', 'setibanya', 'keseluruhan', 'yaitu', 'sama-sama', 'lebih', 'beginian', 'memang', 'sesaat', 'hingga', 'pentingnya', 'jauh', 'apatah', 'menjadi', 'dikira', 'sela', 'semakin', 'menghendaki', 'diri', 'ungkapnya', 'ditunjuki', 'jelaslah', 'semisalnya', 'berkehendak', 'balik', 'diungkapkan', 'siapa', 'mengapa', 'pun', 'tersebutlah', 'sebesar', 'sebetulnya', 'menunjuknya', 'berlangsung', 'diberikan', 'merupakan', 'pukul', 'tahun', 'tertuju', 'terjadinya', 'bermacam-macam', 'menyebutkan', 'pak', 'jadi', 'seusai', 'tutur', 'kalau', 'rupanya', 'sementara', 'ditanyai', 'seluruhnya', 'waktunya', 'dekat', 'menyeluruh', 'nanti', 'tiap', 'sangatlah', 'ditanya', 'dari', 'memulai', 'berlalu', 'nantinya', 'misal', 'keadaan', 'dimaksudkan', 'seingat', 'segera', 'kalaulah', 'pertama-tama', 'meskipun', 'mengira', 'tidak', 'dalam', 'sesudahnya', 'kemudian', 'pula', 'dikerjakan', 'sudahkah', 'sekalian', 'lah', 'lain', 'diingatkan', 'walau', 'umum', 'masih', 'awal', 'kami', 'macam', 'bersama', 'mampu', 'atau', 'cukuplah', 'toh', 'tadi', 'tambahnya', 'yakni', 'akhiri', 'ingat-ingat', 'semuanya', 'masalah', 'enggak', 'katakanlah', 'betul', 'mengakhiri', 'bagaimana', 'bakal', 'bertanya', 'masa', 'agar', 'namun', 'demikian', 'sekalipun', 'rasa', 'sampai', 'bagaimanapun', 'sebegini', 'memungkinkan', 'semisal', 'antara', 'maka', 'menanti', 'janganlah', 'agak', 'berkata', 'betulkah', 'dimaksud', 'mengucapkannya', 'bulan', 'dimisalkan', 'melalui', 'ucapnya', 'daripada', 'ataupun', 'awalnya', 'sejauh', 'setiba', 'dua', 'keterlaluan', 'sedemikian', 'cuma', 'benarlah', 'sekadar', 'tambah', 'sambil', 'sejumlah', 'manakala', 'sesampai', 'dimulainya', 'sebutlah', 'ada', 'mana', 'datang', 'berbagai', 'persoalan', 'keseluruhannya', 'memintakan', 'mempertanyakan', 'biasanya', 'disampaikan', 'adapun', 'dimungkinkan', 'seringnya', 'menanyai', 'pertanyakan', 'sehingga', 'besar', 'sangat', 'mengibaratkan', 'khususnya', 'mampukah', 'akhirnya', 'kebetulan', 'seketika', 'diibaratkan', 'lagi', 'seperlunya', 'cukup', 'saatnya', 'sedangkan', 'sekitarnya', 'mendatang', 'begitukah', 'berikan', 'dituturkannya', 'memihak', 'kamu', 'menuturkan', 'setempat', 'sekurangnya', 'mulailah', 'menyiapkan', 'memperlihatkan', 'dimintai', 'para', 'semata', 'berturut-turut', 'jawab', 'memperkirakan', 'mengetahui', 'bukankah', 'wahai', 'berapalah', 'antar', 'sebabnya', 'terbanyak', 'atas', 'tertentu', 'artinya', 'mereka', 'mungkinkah', 'berujar', 'bagi', 'beri', 'dijawab', 'setengah', 'tanpa', 'padahal', 'mengenai', 'lama', 'masalahnya', 'sesegera', 'jelaskan', 'berarti', 'tempat', 'siapakah', 'sejak', 'sekali-kali', 'lima', 'pertama', 'diperbuat', 'hendaklah', 'diberikannya', 'tiba', 'bisa', 'setidaknya', 'secukupnya', 'ingin', 'seorang', 'ketika', 'sedang', 'mengingat', 'bagaimanakah', 'rata', 'berikut', 'semampunya', 'diantara', 'teringat-ingat', 'kemungkinan', 'kok', 'tiga', 'ataukah', 'maupun', 'sepantasnya', 'depan', 'bolehlah', 'menandaskan', 'terdapat', 'memberi', 'apa', 'jumlah', 'oleh', 'diucapkannya', 'usah', 'dituturkan', 'usai', 'jadilah', 'ternyata', 'mengerjakan', 'bahkan', 'sebagainya', 'sebuah', 'sampaikan', 'menggunakan', 'nyaris', 'ditanyakan', 'terdahulu', 'ditandaskan', 'tuturnya', 'semua', 'apakah', 'diucapkan', 'menginginkan', 'anda', 'akulah', 'sekadarnya', 'bersiap-siap', 'tidakkah', 'disebutkannya', 'perlunya', 'mengungkapkan', 'berapa', 'sedikitnya', 'seolah-olah', 'bapak', 'kitalah', 'menanyakan', 'perlukah', 'mengatakan', 'sebutnya', 'memerlukan', 'sesekali', 'sepertinya', 'seseorang', 'mempunyai', 'sajalah', 'mengucapkan', 'merekalah', 'dapat', 'bukanlah', 'sebisanya', 'kepadanya', 'meyakinkan', 'berjumlah', 'sesama', 'lainnya', 'akan', 'melakukan', 'bermacam', 'sudahlah', 'kepada', 'jangankan', 'tandasnya', 'serta', 'sesuatu', 'sampai-sampai', 'antaranya', 'diibaratkannya', 'caranya', 'itu', 'menambahkan', 'cara', 'juga', 'sebanyak', 'dulu', 'bilakah', 'gunakan', 'bahwasanya', 'jawaban', 'mendapatkan', 'amatlah', 'mengatakannya', 'apabila', 'menunjuki', 'ikut', 'apaan', 'ucap', 'sudah', 'dikatakan', 'rasanya', 'ditunjuk', 'wong', 'bagai', 'pertanyaan', 'sekarang', 'saja', 'kecil', 'dia', 'boleh', 'masing-masing', 'begini', 'bermaksud', 'diakhiri', 'sebaik-baiknya', 'hanya', 'memisalkan', 'sewaktu', 'menyampaikan', 'ke', 'untuk', 'disini', 'terus', 'selama', 'harus', 'minta', 'amat', 'diperkirakan', 'tanyanya', 'tengah', 'yakin', 'entah', 'dibuatnya', 'bermula', 'kala', 'lanjutnya', 'dikatakannya', 'soalnya', 'melihatnya', 'haruslah', 'ditunjukkan', 'satu', 'tampak', 'nyatanya', 'menaiki', 'dan', 'keinginan', 'penting', 'wah', 'terjadilah', 'jangan', 'seperti', 'bawah', 'sekali', 'entahlah', 'meski', 'per', 'seenaknya', 'kalaupun', 'bersama-sama', 'masing', 'bersiap', 'jika', 'terlihat', 'soal', 'lamanya', 'selain', 'semasih', 'merasa', 'berlebihan', 'semata-mata', 'tersampaikan', 'diminta', 'sini', 'olehnya', 'pernah', 'menyatakan', 'sebaik', 'selaku', 'akhir', 'membuat', 'memberikan', 'ini'}\n",
      "\n",
      "List of stopwords in Italian:\n",
      "{'ebbero', 'sto', 'lo', 'fece', 'vostro', 'negli', 'tuoi', 'fu', 'facevo', 'si', 'sarebbero', 'sarai', 'fosti', 'starei', 'stava', 'negl', 'quanti', 'quello', 'starò', 'il', 'dai', 'mio', 'facendo', 'fosse', 'una', 'li', 'degli', 'io', 'mia', 'siamo', 'noi', 'facciano', 'sta', 'starà', 'staremo', 'ma', 'stia', 'nello', 'sua', 'staranno', 'stareste', 'era', 'avrebbe', 'saresti', 'ne', 'lui', 'delle', 'sia', 'ti', 'sareste', 'erano', 'facevano', 'stiamo', 'stanno', 'dov', 'più', 'stavo', 'coi', 'anche', 'fecero', 'abbiano', 'saremmo', 'hai', 'ero', 'facesti', 'ebbe', 'sul', 'degl', 'avrai', 'facevamo', 'non', 'abbiate', 'faremmo', 'nei', 'eravate', 'furono', 'dagli', 'lei', 'sarei', 'facciamo', 'faceva', 'tutti', 'abbia', 'dalla', 'faceste', 'facessimo', 'all', 'tuo', 'sarete', 'dove', 'faccia', 'perché', 'stavano', 'avrete', 'vostra', 'gli', 'fossi', 'e', 'aveva', 'starai', 'stetti', 'quelli', 'sarò', 'farò', 'steste', 'ed', 'avessi', 'avesti', 'c', 'essendo', 'stesti', 'su', 'foste', 'come', 'avresti', 'nelle', 'ha', 'col', 'ad', 'voi', 'avreste', 'faremo', 'la', 'sugl', 'miei', 'stette', 'sulle', 'vostre', 'avuta', 'farà', 'staremmo', 'dal', 'o', 'avevate', 'staresti', 'dell', 'farete', 'l', 'le', 'facemmo', 'facesse', 'stemmo', 'tutto', 'ai', 'quale', 'ci', 'stessimo', 'vostri', 'facciate', 'faranno', 'siate', 'di', 'dallo', 'avevamo', 'stiate', 'alla', 'dagl', 'quelle', 'avevi', 'vi', 'agli', 'nell', 'avute', 'siete', 'faccio', 'stessero', 'suo', 'questi', 'questa', 'fai', 'tue', 'starebbe', 'sue', 'eravamo', 'feci', 'sei', 'fummo', 'uno', 'stavi', 'avrebbero', 'avendo', 'sono', 'sarebbe', 'avremo', 'avessimo', 'avrei', 'stiano', 'stessi', 'è', 'fanno', 'fareste', 'stettero', 'quanto', 'sulla', 'avete', 'i', 'sull', 'avrò', 'tua', 'quanta', 'nella', 'nostro', 'dei', 'avrà', 'fossimo', 'da', 'faresti', 'facessi', 'avevo', 'fui', 'un', 'a', 'avesse', 'avemmo', 'per', 'starete', 'sui', 'allo', 'avuto', 'della', 'farai', 'al', 'farebbero', 'quella', 'tra', 'hanno', 'avevano', 'dalle', 'sugli', 'mi', 'loro', 'queste', 'fossero', 'suoi', 'eri', 'stai', 'avessero', 'saranno', 'facevate', 'dello', 'sarà', 'alle', 'ebbi', 'stavamo', 'agl', 'in', 'nostri', 'nostra', 'avremmo', 'del', 'farei', 'ho', 'quante', 'stavate', 'nel', 'facessero', 'se', 'abbiamo', 'starebbero', 'contro', 'dall', 'mie', 'tu', 'questo', 'con', 'che', 'siano', 'sullo', 'saremo', 'farebbe', 'stesse', 'stando', 'aveste', 'nostre', 'avranno', 'facevi', 'avuti', 'chi', 'cui'}\n",
      "\n",
      "List of stopwords in Kazakh:\n",
      "{'морт', 'мәссаған', 'уа', 'олармен', 'соң', 'әрқалай', 'осылай', 'сіздерден', 'әншейін', 'тағы', 'әлдене', 'сарт-сұрт', 'өзіме', 'қош-қош', 'онымен', 'сонау', 'батыр-бұтыр', 'япырмай', 'шейін', 'біреу', 'маңқ', 'өй', 'біздің', 'бірнеше', 'өзім', 'әттеген-ай', 'сияқты', 'одан', 'мен', 'менен', 'барша', 'құр', 'алақай', 'үйт', 'пырс', 'паһ-паһ', 'ай', 'емес', 'тарта', 'саңқ', 'сенімен', 'әлдекім', 'құрау-құрау', 'өзіне', 'ештеме', 'о', 'дәнеңе', 'түгел', 'маған', 'мынау', 'ә', 'солай', 'біздер', 'алдақашан', 'күшім', 'жалт-жұлт', 'олардың', 'сондай', 'бері', 'менің', 'арс', 'уай', 'мыңқ', 'тарбаң-тарбаң', 'митың-митың', 'пфша', 'қалт-құлт', 'сорап', 'кә', 'қатар', 'желп', 'бәрекелді', 'сайын', 'арс-ұрс', 'бетер', 'ғана', 'аһа', 'кәне', 'сен', 'жаракімалла', 'менде', 'дегенмен', 'ешқандай', 'эх', 'кейбір', 'ыржың-тыржың', 'әйтпесе', 'сондықтан', 'шырт', 'сіздермен', 'ана', 'кәні', 'кейін', 'таңқ', 'әркім', 'тыңқ', 'өзің', 'пішә', 'қыңқ', 'ыңқ', 'айтпақшы', 'я', 'алатау', 'сарт', 'шек', 'тырс', 'дүңк', 'сона', 'мышы', 'кірт', 'шаңқ', 'бүкіл', 'пай-пай', 'қаңғыр-күңгір', 'сіздің', 'күңк', 'шақты', 'бізден', 'олардан', 'қарай', 'тағыда', 'ырқ', 'сіздер', 'біздерден', 'бойы', 'пай', 'астапыралла', 'әрине', 'ірк', 'жалт-жалт', 'арбаң-арбаң', 'жуық', 'бүгжең-бүгжең', 'далаң-далаң', 'қайқаң-құйқаң', 'алайда', 'тек', 'сол', 'мұндай', 'анау', 'ырс', 'әрне', 'барқ', 'осындай', 'еш', 'қоса', 'пішту', 'әттегенай', 'шаңқ-шұңқ', 'менімен', 'қорс', 'масқарай', 'арқылы', 'бұл', 'әлдеқашан', 'әлденеше', 'салым', 'сыңқ', 'қалт-қалт', 'әрқайсы', 'әні', 'гөрі', 'уау', 'шіңк', 'өзімнің', 'тарс-тұрс', 'кейбіреу', 'ешбір', 'түге', 'гүрс', 'ау', 'өзі', 'осынау', 'өзінің', 'борт', 'өз', 'бірге', 'бұрын', 'бәрі', 'оның', 'біздерге', 'ешкім', 'ешқашан', 'себебі', 'әлдеқалай', 'былп', 'әттең', 'ой', 'саған', 'ура', 'осы', 'таман', 'міне', 'сіздердің', 'барлық', 'күллі', 'сенде', 'онда', 'бірақ', 'ғұрлы', 'бар', 'өйткені', 'өзге', 'е', 'шаңқ-шаңқ', 'сізбен', 'күрт', 'салаң-сұлаң', 'сенің', 'әй', 'ол', 'әлдеқайдан', 'эй', 'құрау', 'ей', 'қолп', 'ойпырмай', 'шамалы', 'шәйт', 'оларға', 'ах', 'біздермен', 'бізбен', 'кәһ', 'қап', 'үшін', 'ғұрлым', 'мына', 'ох', 'оған', 'әрбір', 'бұндай', 'сонымен', 'әукім', 'дейін', 'қаңқ-құңқ', 'сенен\\tонан', 'тәк', 'болп', 'па', 'олар', 'әйткенмен', 'сіздерге', 'туралы', 'бірдеме', 'беу', 'бойымен', 'таяу', 'кәнеки', 'оһо', 'ие', 'бізге', 'қана', 'біздердің', 'ешқайсы', 'жоқ', 'сізден', 'бүйт', 'қаралы', 'арнайы', 'арсалаң-арсалаң', 'сіз', 'біз', 'ербелең-ербелең', 'қызараң-қызараң', 'ал', 'жалп', 'әйда', 'сенен', 'қайсыбір', 'моһ', 'шіркін', 'дүрс', 'қаңқ-қаңқ', 'сізге', 'тарс'}\n",
      "\n",
      "List of stopwords in Nepali:\n",
      "{'जस्तै', 'जान', 'निम्न', 'पहिले', 'यस', 'भित्री', 'नौ', 'निम्ति', 'के', 'उप', 'गए', 'जो', 'रही', 'किन', 'केही', 'छू', 'पक्कै', 'जसलाई', 'अर्थात्', 'आफू', 'छन्', 'हुन्', 'आए', 'देखियो', 'बीच', 'पाँचौं', 'स्पष्ट', 'र', 'तपाई', 'दुई', 'साँच्चै', 'बारे', 'अरुलाई', 'देखेको', 'तर', 'जस्तो', 'साथै', 'गरि', 'प्लस', 'जसले', 'नै', 'सात', 'संग', 'भने', 'आफ्नै', 'पछिल्लो', 'सट्टा', 'तिनीहरुको', 'अन्यत्र', 'अरु', 'एउटै', 'हरेक', 'यो', 'जहाँ', 'नि', 'धेरै', 'यसको', 'यसो', 'कुरा', 'गरेका', 'कि', 'चाहन्छु', 'दोस्रो', 'देखे', 'ओठ', 'हुन्छ', 'माथि', 'ले', 'कसैले', 'औं', 'त्यहाँ', 'अक्सर', 'त्सपछि', 'देखिन्छ', 'रहेको', 'सायद', 'तुरुन्तै', 'कुनै', 'तिर', 'पूर्व', 'मलाई', 'जताततै', 'उहालाई', 'सधै', 'लगभग', 'तपाईको', 'यहाँ', 'राम्रो', 'सम्म', 'छ', 'जसबाट', 'पटक', 'त्यो', 'यसरी', 'अब', 'का', 'भन्ने', 'प्रति', 'एक', 'मुख्य', 'पर्छ', 'तापनी', 'यदि', 'थियो', 'ठीक', 'भए', 'यहाँसम्म', 'सबै', 'यद्यपि', 'सो', 'पर्थ्यो', 'देखेर', 'तीन', 'सोही', 'अन्यथा', 'बरु', 'तदनुसार', 'अनुसार', 'तेस्रो', 'दिए', 'थिए', 'रहेका', 'गर्दै', 'बाहेक', 'बीचमा', 'आफ्नो', 'अगाडी', 'लाई', 'उनले', 'यी', 'जब', 'कृपया', 'कम से कम', 'बिरुद्ध', 'नयाँ', 'आत्म', 'अन्य', 'जसमा', 'एकदम', 'पछि', 'अर्को', 'छौं', 'कतै', 'नजिकै', 'आयो', 'तिनीहरू', 'संगै', 'प्रतेक', 'तथा', 'जबकि', 'भित्र', 'चाहनुहुन्छ', 'कहाँबाट', 'जुन', 'दिनुहुन्छ', 'आजको', 'किनभने', 'गर्नुपर्छ', 'पक्का', 'गैर', 'अन्तर्गत', 'तेस्कारण', 'कोही', 'तत्काल', 'त्सैले', 'थिएन', 'पनि', 'अलग', 'आफूलाई', 'वरीपरी', 'उनको', 'जे', 'अझै', 'यसबाहेक', 'अर्थात', 'भएको', 'न', 'पहिल्यै', 'राख्छ', 'सबैलाई', 'सही', 'गर्न', 'को', 'बाहिर', 'रूप', 'गर्छ', 'सम्भव', 'पाँच', 'उदाहरण', 'भन्नुभयो', 'सारा', 'हुन', 'भन', 'मा', 'जसको', 'पर्याप्त', 'गरेको', 'हुने', 'छैन', 'कसै', 'कहिलेकाहीं', 'भन्दा', 'वास्तवमा', 'समय', 'साथ', 'भन्छु', 'चाहिए', 'तल', 'चार', 'तिनिहरुलाई', 'निर्दिष्ट', 'गर्ने', 'राखे', 'त', 'भन्छन्', 'छु', 'बने', 'मात्र', 'ती', 'गर्छु', 'लागि', 'फेरी', 'यस्तो', 'भन्', 'निम्नानुसार', 'शायद', 'गयौ', 'गर्नु', 'यथोचित', 'नत्र', 'हो', 'गरी', 'आदि', 'जस्तोसुकै', 'जाहिर', 'या', 'मेरो', 'चाले', 'तिनी', 'सक्छ', 'क्रमशः', 'गरौं', 'हरे', 'कसरी', 'बिशेष', 'गरेर', 'दिनुभएको', 'यसपछि', 'भर', 'तिमी', 'यति', 'पहिलो', 'म', 'देखि'}\n",
      "\n",
      "List of stopwords in Norwegian:\n",
      "{'ut', 'ble', 'enn', 'korso', 'meg', 'siden', 'hennar', 'kvar', 'til', 'disse', 'oss', 'si', 'så', 'kun', 'noen', 'vil', 'hva', 'sidan', 'min', 'hossen', 'hennes', 'samme', 'hver', 'her', 'opp', 'over', 'sjøl', 'deres', 'på', 'en', 'etter', 'eit', 'sia', 'nokre', 'somme', 'mot', 'som', 'dem', 'din', 'ikkje', 'hadde', 'ett', 'både', 'so', 'meget', 'honom', 'selv', 'kvi', 'upp', 'jeg', 'noko', 'ned', 'ved', 'uten', 'seg', 'nokor', 'ville', 'kvifor', 'kan', 'han', 'der', 'hvorfor', 'det', 'vere', 'er', 'kom', 'nå', 'hun', 'eg', 'vår', 'vors', 'hvilke', 'vært', 'også', 'dere', 'skal', 'no', 'begge', 'ha', 'henne', 'eitt', 'ja', 'hvilken', 'dette', 'men', 'um', 'sine', 'hoss', 'sin', 'dykk', 'varte', 'inni', 'hjå', 'bare', 'fordi', 'være', 'ingi', 'hvor', 'korleis', 'ingen', 'di', 'du', 'deires', 'medan', 'vart', 'vi', 'hoe', 'mitt', 'inn', 'blir', 'kven', 'hans', 'noe', 'før', 'har', 'om', 'mine', 'vore', 'denne', 'å', 'skulle', 'ikke', 'hvis', 'blitt', 'inkje', 'eller', 'blei', 'hvem', 'somt', 'kvarhelst', 'fra', 'dykkar', 'et', 'i', 'noka', 'dei', 'da', 'nokon', 'deim', 'båe', 'me', 'mellom', 'då', 'og', 'mykje', 'deg', 'med', 'man', 'mi', 'hvordan', 'sitt', 'alle', 'ein', 'av', 'kva', 'den', 'deira', 'ho', 'elles', 'når', 'kunne', 'slik', 'ditt', 'bli', 'for', 'vort', 'sånn', 'de', 'var', 'verte', 'at', 'mange'}\n",
      "\n",
      "List of stopwords in Portuguese:\n",
      "{'te', 'teve', 'estas', 'fôramos', 'vos', 'estivemos', 'pelas', 'das', 'hão', 'hajamos', 'qual', 'sou', 'terá', 'até', 'seriam', 'tivermos', 'ele', 'na', 'quando', 'estão', 'nosso', 'fosse', 'ao', 'estivesse', 'num', 'estava', 'esta', 'estiverem', 'sua', 'lhe', 'seus', 'era', 'nas', 'somos', 'depois', 'ser', 'mesmo', 'houvera', 'isso', 'eles', 'são', 'esteja', 'os', 'teria', 'este', 'essas', 'esses', 'houver', 'há', 'isto', 'nossas', 'sejam', 'serei', 'tivessem', 'numa', 'por', 'estamos', 'pelo', 'seu', 'só', 'estivermos', 'estou', 'forem', 'terei', 'tenhamos', 'seríamos', 'tiveram', 'pelos', 'minhas', 'entre', 'tivéssemos', 'estejamos', 'e', 'esse', 'fôssemos', 'será', 'elas', 'muito', 'tiver', 'como', 'que', 'hajam', 'tem', 'houvessem', 'no', 'dos', 'tínhamos', 'estar', 'éramos', 'às', 'estávamos', 'delas', 'havemos', 'teu', 'eram', 'um', 'estiver', 'meu', 'já', 'esteve', 'teríamos', 'o', 'suas', 'haja', 'houverem', 'houve', 'aos', 'seria', 'hei', 'houvéssemos', 'estejam', 'tenham', 'seja', 'tivemos', 'tuas', 'estivéssemos', 'aquele', 'houveram', 'tinha', 'houverão', 'tiverem', 'tivesse', 'dele', 'seremos', 'nem', 'houveremos', 'nós', 'vocês', 'terão', 'estivessem', 'para', 'sejamos', 'também', 'lhes', 'tive', 'aquilo', 'houvéramos', 'pela', 'aquela', 'deles', 'teus', 'aquelas', 'as', 'mas', 'ou', 'nos', 'meus', 'serão', 'tinham', 'essa', 'foram', 'houvesse', 'do', 'tenha', 'houveriam', 'houverei', 'minha', 'nossa', 'não', 'tenho', 'houvermos', 'tua', 'foi', 'da', 'está', 'estes', 'eu', 'fui', 'houvemos', 'a', 'me', 'sem', 'uma', 'estivera', 'estive', 'teriam', 'tém', 'nossos', 'fomos', 'temos', 'à', 'fossem', 'houveríamos', 'estiveram', 'fora', 'aqueles', 'estivéramos', 'houveria', 'quem', 'estavam', 'formos', 'tivéramos', 'ela', 'teremos', 'em', 'haver', 'tivera', 'se', 'mais', 'for', 'com', 'de', 'é', 'tu', 'você', 'houverá', 'dela'}\n",
      "\n",
      "List of stopwords in Romanian:\n",
      "{'sub', 'aici', 'oricât', 'aibă', 'ii', 'câte', 'cat', 'ăsta', 'intre', 'aceştia', 'undeva', 'alte', 'ul', 'aş', 'alea', 'lui', 'nou', 'u', 'fiu', 'cineva', 'nişte', 'după', 'nouă', 'acestia', 'ia', 'ca', 'e', 'fiecare', 'altceva', 'cum', 'celor', 'la', 'două', 'unul', 'sus', 'mod', 'acestui', 'câtva', 'ceea', 'oricând', 'niste', 'îmi', 'tuturor', 't', 'printr-', 'unora', 'dat', 'toate', 'deci', 'nimeni', 'ta', 'ala', 'm', 'oricînd', 'îţi', 'dar', 'lîngă', 'totusi', 'mîine', 'caruia', 'atunci', 'acei', 'alt', 'pot', 'patru', 'a', 'am', 'unii', 'mi', 'cât', 'mai', 'atitia', 'citeva', 'în', 'adica', 'sunt', 'ale', 'ea', 'se', 'va', 'de', 'foarte', 'vreun', 'el', 'treia', 'altul', 'dacă', 'doi', 'te', 'deja', 'vă', 'inapoi', 'or', 'puţin', 'atata', 'fără', 'unde', 'isi', 'il', 'catre', 'parca', 'vostru', 'avem', 'vor', 'ceilalti', 'ti', 'oriunde', 'aveţi', 'ăla', 'sa-mi', 'asta', 'acel', 'prin', 'acest', 'pînă', 'eşti', 'noastre', 'oricine', 'citiva', 'trei', 'că', 'nimic', 'unuia', 'vreo', 'toti', 'atat', 'fiţi', 'cîte', 'mult', 'ăştia', 'alta', 'pic', 'voi', 'voastră', 'chiar', 'aceeasi', 'cei', 'cu', 'sa', 'astea', 'voastre', 'cîţi', 'acelea', 'unele', 'cumva', 'vouă', 'peste', 'atita', 'multi', 'mea', 'insa', 'ni', 'această', 'acelasi', 'prea', 'careia', 'fata', 'care', 'mine', 'as', 'ţie', 'căci', 'cea', 'mele', 'carora', 'despre', 'inca', 'pai', 'daca', 'puţină', 'eu', 'oricum', 'mereu', 'aceia', 'astfel', 'mei', 'doar', 'tot', 'doilea', 'aceea', 'câţi', 'atare', 'mulţi', 'desi', 'tale', 'ului', 'acestea', 'ţi', 'sale', 'său', 'alti', 'nostru', 'oricît', 'ele', 'să', 'li', 'aia', 'dă', 'cărei', 'ma', 'sai', 'tocmai', 'ne', 'din', 'uneia', 'acela', 'pentru', 'totuşi', 'multă', 'decit', 'ba', 'lângă', 'au', 'atit', 'are', 'incit', 'abia', 'îi', 'deşi', 'eram', 'putini', 'o', 'tău', 'prima', 'noua', 'tăi', 'ai', 'iar', 'apoi', 'cît', 'ar', 'cita', 'aceşti', 'altii', 'cand', 'uneori', 'nici', 'patra', 'cite', 'anume', 'dupa', 'atitea', 'suntem', 'altcineva', 'dată', 'iti', 'toată', 'i', 'avut', 'totul', 'face', 'aceasta', 'da', 'un', 'treilea', 'sau', 'unui', 'orice', 'săi', 'atatea', 'ati', 'asupra', 'fii', 'in', 'dintr', 'deasupra', 'sa-ti', 'dau', 'mie', 'tine', 'drept', 'intr', 'si', 'atatia', 'cele', 'fel', 'ăstea', 'una', 'multe', 'noi', 'vom', 'lor', 'era', 'sunteţi', 'cit', 'cind', 'este', 'unu', 'primul', 'acestei', 'dintre', 'imi', 'zi', 'ei', 'asa', 'spate', 'căror', 'nu', 'noastră', 'îl', 'numai', 'poate', 'puţina', 'citi', 'cărui', 'şi', 'meu', 'cel', 'acele', 'ceva', 'le', 'cînd', 'ce', 'dintr-', 'aţi', 'ci', 'toata', 'ălea', 'altfel', 'cîtva', 'sintem', 'avea', 'pina', 'v', 'până', 'mă', 'zice', 'fim', 'vi', 'fie', 'noştri', 'fi', 'aceste', 'cine', 'unor', 'cam', 'pe', 'sint', 'fara', 'inainte', 'al', 'mâine', 'către', 'spre', 'oricare', 'acesta', 'nostri', 'toţi', 'unei', 'ori', 'acea', 'tu', 'voştri', 'multa', 'fost', 'cui'}\n",
      "\n",
      "List of stopwords in Russian:\n",
      "{'эти', 'до', 'чтоб', 'этого', 'когда', 'вам', 'же', 'вы', 'чего', 'они', 'потом', 'ней', 'вдруг', 'бы', 'этой', 'иногда', 'сам', 'к', 'ли', 'мы', 'как', 'или', 'лучше', 'о', 'такой', 'будто', 'только', 'ну', 'в', 'никогда', 'чуть', 'где', 'а', 'то', 'со', 'много', 'совсем', 'быть', 'тот', 'через', 'нет', 'три', 'тогда', 'моя', 'куда', 'уже', 'за', 'но', 'есть', 'там', 'нельзя', 'перед', 'тем', 'я', 'потому', 'ты', 'на', 'была', 'без', 'хоть', 'ни', 'нибудь', 'при', 'что', 'сейчас', 'мне', 'были', 'тут', 'ему', 'этот', 'другой', 'будет', 'после', 'всех', 'более', 'да', 'им', 'над', 'между', 'того', 'том', 'ведь', 'у', 'какая', 'для', 'вот', 'его', 'наконец', 'почти', 'может', 'всегда', 'кто', 'еще', 'свою', 'них', 'всю', 'нее', 'теперь', 'конечно', 'себя', 'под', 'ж', 'так', 'по', 'от', 'тоже', 'себе', 'их', 'он', 'было', 'во', 'чтобы', 'всего', 'разве', 'ей', 'был', 'него', 'из', 'и', 'ничего', 'нас', 'надо', 'с', 'она', 'один', 'если', 'чем', 'вас', 'раз', 'все', 'этом', 'два', 'больше', 'можно', 'зачем', 'мой', 'не', 'про', 'ее', 'какой', 'об', 'эту', 'тебя', 'ним', 'меня', 'здесь', 'впрочем', 'хорошо', 'уж', 'даже', 'опять'}\n",
      "\n",
      "List of stopwords in Spanish:\n",
      "{'hayamos', 'otros', 'habidos', 'mío', 'estaríamos', 'sí', 'desde', 'estaba', 'esta', 'les', 'ellas', 'tenida', 'habíais', 'haya', 'en', 'tendríais', 'suyo', 'estados', 'hubieras', 'donde', 'habidas', 'habido', 'sería', 'sintiendo', 'suya', 'eran', 'estuve', 'e', 'será', 'habíamos', 'nuestras', 'estuvieran', 'erais', 'seréis', 'su', 'estar', 'éramos', 'tendría', 'ha', 'mis', 'había', 'la', 'sus', 'estuviésemos', 'eres', 'sin', 'fueses', 'sentida', 'algo', 'él', 'estábamos', 'tendremos', 'teníamos', 'estuvieron', 'vuestras', 'son', 'nos', 'he', 'has', 'las', 'estuviste', 'tenéis', 'hemos', 'está', 'habrás', 'tuviéramos', 'a', 'tuvieron', 'estaremos', 'hubiese', 'mi', 'sobre', 'fuiste', 'hubiera', 'se', 'de', 'el', 'algunas', 'tened', 'te', 'tenemos', 'esté', 'habéis', 'tendríamos', 'otras', 'tengáis', 'los', 'siente', 'seríais', 'habríamos', 'hubiste', 'tenidas', 'habremos', 'hubieron', 'tuviesen', 'cual', 'ya', 'estarías', 'tuya', 'tengan', 'somos', 'ti', 'hay', 'tendrás', 'habrán', 'pero', 'vosotras', 'por', 'serás', 'tenidos', 'seríamos', 'y', 'estarán', 'estabas', 'nuestro', 'estos', 'como', 'durante', 'estad', 'soy', 'tengamos', 'mía', 'tuvierais', 'tuvieras', 'tendré', 'hubieseis', 'ellos', 'tus', 'ni', 'hubieses', 'qué', 'fueras', 'fueran', 'esas', 'habían', 'habría', 'sean', 'ella', 'tenga', 'estuvieses', 'teníais', 'fuera', 'nada', 'ese', 'más', 'también', 'unos', 'mucho', 'todos', 'del', 'estás', 'hayan', 'con', 'habrían', 'estas', 'contra', 'vuestro', 'estemos', 'estuviera', 'estabais', 'estuvieseis', 'hube', 'tuve', 'nuestra', 'hubierais', 'todo', 'fuese', 'tuvieseis', 'nosotros', 'fuerais', 'os', 'estadas', 'hubieran', 'tenía', 'otro', 'habrá', 'esos', 'estamos', 'poco', 'tuvo', 'estaré', 'sentidas', 'han', 'que', 'vuestros', 'estáis', 'estuvimos', 'habiendo', 'tuviésemos', 'no', 'seré', 'tiene', 'habrías', 'están', 'o', 'sentidos', 'estando', 'hayáis', 'serían', 'fuéramos', 'estuviéramos', 'ante', 'serán', 'estés', 'para', 'serías', 'uno', 'hubimos', 'tendréis', 'eso', 'fui', 'tuvisteis', 'un', 'me', 'tendrá', 'hubo', 'habréis', 'estuviese', 'tienes', 'tuvieses', 'muchos', 'estuvo', 'estaréis', 'eras', 'esa', 'estuviesen', 'quien', 'fuésemos', 'sentid', 'estarás', 'estuvierais', 'hubisteis', 'tuyo', 'lo', 'nuestros', 'tengas', 'suyos', 'hasta', 'míos', 'sentido', 'fueron', 'sois', 'algunos', 'una', 'seáis', 'habías', 'tuviera', 'era', 'estuvisteis', 'tienen', 'muy', 'hayas', 'estaríais', 'tuyos', 'tuviese', 'cuando', 'tendrías', 'este', 'mí', 'es', 'estén', 'entre', 'estoy', 'tendrían', 'estado', 'tuyas', 'esto', 'hubiéramos', 'seas', 'tuvieran', 'suyas', 'tenían', 'le', 'hubiesen', 'porque', 'otra', 'tengo', 'estaban', 'habríais', 'seremos', 'vosotros', 'tú', 'tendrán', 'tuviste', 'fueseis', 'habida', 'estarían', 'estará', 'quienes', 'tenías', 'sea', 'tanto', 'fuisteis', 'vuestra', 'estuvieras', 'estada', 'habré', 'estéis', 'estaría', 'antes', 'fue', 'al', 'hubiésemos', 'fuimos', 'nosotras', 'teniendo', 'mías', 'tuvimos', 'tu', 'yo', 'seamos', 'tenido', 'fuesen'}\n",
      "\n",
      "List of stopwords in Swedish:\n",
      "{'ut', 'jag', 'än', 'vilket', 'åt', 'oss', 'så', 'mig', 'sig', 'sitta', 'samma', 'min', 'efter', 'hennes', 'dess', 'där', 'på', 'en', 'era', 'utan', 'mot', 'som', 'dem', 'din', 'ett', 'från', 'några', 'när', 'hon', 'honom', 'hur', 'hade', 'upp', 'sådana', 'ej', 'sådan', 'kan', 'han', 'inte', 'det', 'blivit', 'er', 'nu', 'vår', 'vilken', 'blev', 'ert', 'denna', 'över', 'ha', 'vara', 'och', 'henne', 'mycket', 'varje', 'under', 'men', 'varit', 'någon', 'sin', 'detta', 'inom', 'sina', 'allt', 'vilka', 'deras', 'ingen', 'du', 'alla', 'ni', 'till', 'vart', 'vi', 'något', 'för', 'mitt', 'våra', 'blir', 'hans', 'vars', 'har', 'om', 'mina', 'skulle', 'eller', 'mellan', 'icke', 'att', 'i', 'dig', 'vem', 'vid', 'då', 'själv', 'sådant', 'med', 'man', 'dina', 'varför', 'vad', 'dessa', 'vilkas', 'ju', 'av', 'den', 'vårt', 'ditt', 'bli', 'de', 'är', 'var', 'här', 'kunde', 'sedan'}\n",
      "\n",
      "List of stopwords in Turkish:\n",
      "{'eğer', 'o', 'diye', 'bu', 'bazı', 'da', 'ama', 'veya', 'mu', 'daha', 'şu', 'niye', 'hepsi', 'nereye', 'gibi', 'ki', 'çünkü', 'belki', 'aslında', 'hep', 'hem', 'ile', 'ise', 'mı', 'sanki', 'niçin', 'neden', 'acaba', 'biri', 'ya', 'siz', 'her', 'kim', 'birkaç', 'defa', 'en', 'az', 'ne', 'çok', 'mü', 'hiç', 'de', 'nasıl', 'tüm', 'biz', 'nerde', 'kez', 'şey', 've', 'nerede', 'için', 'birşey', 'yani'}\n"
     ]
    }
   ],
   "source": [
    "import nltk\n",
    "from nltk.corpus import stopwords\n",
    "result = set(stopwords.words('english'))\n",
    "print(\"List of stopwords in English:\")\n",
    "print(result)\n",
    "print(\"\\nList of stopwords in Arabic:\")\n",
    "result = set(stopwords.words('arabic'))\n",
    "print(result)\n",
    "print(\"\\nList of stopwords in Azerbaijani:\")\n",
    "result = set(stopwords.words('azerbaijani'))\n",
    "print(result)\n",
    "print(\"\\nList of stopwords in Danish:\")\n",
    "result = set(stopwords.words('danish'))\n",
    "print(result)\n",
    "print(\"\\nList of stopwords in Dutch:\")\n",
    "result = set(stopwords.words('dutch'))\n",
    "print(result)\n",
    "print(\"\\nList of stopwords in Finnish:\")\n",
    "result = set(stopwords.words('finnish'))\n",
    "print(result)\n",
    "print(\"\\nList of stopwords in French:\")\n",
    "result = set(stopwords.words('french'))\n",
    "print(result)\n",
    "print(\"\\nList of stopwords in German:\")\n",
    "result = set(stopwords.words('german'))\n",
    "print(result)\n",
    "print(\"\\nList of stopwords in Greek:\")\n",
    "result = set(stopwords.words('greek'))\n",
    "print(result)\n",
    "print(\"\\nList of stopwords in Hungarian:\")\n",
    "result = set(stopwords.words('hungarian'))\n",
    "print(result)\n",
    "print(\"\\nList of stopwords in Indonesian:\")\n",
    "result = set(stopwords.words('indonesian'))\n",
    "print(result)\n",
    "print(\"\\nList of stopwords in Italian:\")\n",
    "result = set(stopwords.words('italian'))\n",
    "print(result)\n",
    "print(\"\\nList of stopwords in Kazakh:\")\n",
    "result = set(stopwords.words('kazakh'))\n",
    "print(result)\n",
    "print(\"\\nList of stopwords in Nepali:\")\n",
    "result = set(stopwords.words('nepali'))\n",
    "print(result)\n",
    "print(\"\\nList of stopwords in Norwegian:\")\n",
    "result = set(stopwords.words('norwegian'))\n",
    "print(result)\n",
    "print(\"\\nList of stopwords in Portuguese:\")\n",
    "result = set(stopwords.words('portuguese'))\n",
    "print(result)\n",
    "print(\"\\nList of stopwords in Romanian:\")\n",
    "result = set(stopwords.words('romanian'))\n",
    "print(result)\n",
    "print(\"\\nList of stopwords in Russian:\")\n",
    "result = set(stopwords.words('russian'))\n",
    "print(result)\n",
    "print(\"\\nList of stopwords in Spanish:\")\n",
    "result = set(stopwords.words('spanish'))\n",
    "print(result)\n",
    "print(\"\\nList of stopwords in Swedish:\")\n",
    "result = set(stopwords.words('swedish'))\n",
    "print(result)\n",
    "print(\"\\nList of stopwords in Turkish:\")\n",
    "result = set(stopwords.words('turkish'))\n",
    "print(result)"
   ]
  },
  {
   "cell_type": "code",
   "execution_count": 35,
   "id": "964abb05",
   "metadata": {},
   "outputs": [
    {
     "name": "stdout",
     "output_type": "stream",
     "text": [
      "\n",
      "Original string:\n",
      "\n",
      "In computing, stop words are words which are filtered out before or after \n",
      "processing of natural language data (text). Though \"stop words\" usually \n",
      "refers to the most common words in a language, there is no single universal \n",
      "list of stop words used by all natural language processing tools, and \n",
      "indeed not all tools even use such a list. Some tools specifically avoid \n",
      "removing these stop words to support phrase search.\n",
      "\n",
      "\n",
      "After removing stop words from the said text:\n",
      "['In', 'computing,', 'stop', 'words', 'words', 'filtered', 'processing', 'natural', 'language', 'data', '(text).', 'Though', '\"stop', 'words\"', 'usually', 'refers', 'common', 'words', 'language,', 'single', 'universal', 'list', 'stop', 'words', 'used', 'natural', 'language', 'processing', 'tools,', 'indeed', 'tools', 'even', 'use', 'list.', 'Some', 'tools', 'specifically', 'avoid', 'removing', 'stop', 'words', 'support', 'phrase', 'search.']\n"
     ]
    }
   ],
   "source": [
    "from nltk.corpus import stopwords\n",
    "stoplist = stopwords.words('english')\n",
    "text = '''\n",
    "In computing, stop words are words which are filtered out before or after \n",
    "processing of natural language data (text). Though \"stop words\" usually \n",
    "refers to the most common words in a language, there is no single universal \n",
    "list of stop words used by all natural language processing tools, and \n",
    "indeed not all tools even use such a list. Some tools specifically avoid \n",
    "removing these stop words to support phrase search.\n",
    "'''\n",
    "print(\"\\nOriginal string:\")\n",
    "print(text)\n",
    "clean_word_list = [word for word in text.split() if word not in stoplist]\n",
    "print(\"\\nAfter removing stop words from the said text:\")\n",
    "print(clean_word_list)"
   ]
  },
  {
   "cell_type": "code",
   "execution_count": 38,
   "id": "9d8b3911",
   "metadata": {},
   "outputs": [
    {
     "name": "stdout",
     "output_type": "stream",
     "text": [
      "Enter your marks59\n",
      "grade D\n"
     ]
    }
   ],
   "source": [
    "# write the program to accept percentage user marks grade\n",
    "user = int(input(\"Enter your marks\"))\n",
    "if user > 90:\n",
    "    print(\"grade A\")\n",
    "if user > 80 and user <=90:\n",
    "    print(\"grade B\")\n",
    "if user >= 60 and user >=80:\n",
    "    print(\"grade C\")\n",
    "if user <60:\n",
    "    print(\"grade D\")"
   ]
  },
  {
   "cell_type": "code",
   "execution_count": 42,
   "id": "0593e3df",
   "metadata": {},
   "outputs": [
    {
     "name": "stdout",
     "output_type": "stream",
     "text": [
      "Enter the bike price5000000\n"
     ]
    }
   ],
   "source": [
    "tax = 0\n",
    "user = int(input(\"Enter the bike price\"))\n",
    "if user > 100000:\n",
    "    tax = 15/100*user\n",
    "elif user >50000 and user <=100000:\n",
    "    tax = 10/100*user\n",
    "else:\n",
    "    tax = 5/100*user\n",
    "    print(\"paid to text\",tax)\n",
    "        "
   ]
  },
  {
   "cell_type": "code",
   "execution_count": 45,
   "id": "7f520c11",
   "metadata": {},
   "outputs": [
    {
     "name": "stdout",
     "output_type": "stream",
     "text": [
      "b is greater than a\n"
     ]
    }
   ],
   "source": [
    "a = 200\n",
    "b = 330\n",
    "if b > a:\n",
    "  print(\"b is greater than a\")\n",
    "else:\n",
    "  print(\"b is not greater than a\")"
   ]
  },
  {
   "cell_type": "code",
   "execution_count": 46,
   "id": "c16557ae",
   "metadata": {},
   "outputs": [
    {
     "name": "stdout",
     "output_type": "stream",
     "text": [
      "\n",
      "* \n",
      "* * \n",
      "* * * \n",
      "* * * * \n",
      "* * * * * \n",
      "* * * * \n",
      "* * * \n",
      "* * \n",
      "* \n"
     ]
    }
   ],
   "source": [
    "n=5;\n",
    "for i in range(n):\n",
    "    for j in range(i):\n",
    "        print ('* ', end=\"\")\n",
    "    print('')\n",
    "\n",
    "for i in range(n,0,-1):\n",
    "    for j in range(i):\n",
    "        print('* ', end=\"\")\n",
    "    print('')"
   ]
  },
  {
   "cell_type": "code",
   "execution_count": 53,
   "id": "e7c08d35",
   "metadata": {},
   "outputs": [
    {
     "name": "stdout",
     "output_type": "stream",
     "text": [
      "Square of 0 = 0\n",
      "Square of 1 = 1\n",
      "Square of 2 = 4\n",
      "Square of 3 = 9\n",
      "Square of 4 = 16\n",
      "Square of 5 = 25\n",
      "Square of 6 = 36\n",
      "Square of 7 = 49\n",
      "Square of 8 = 64\n",
      "Square of 9 = 81\n",
      "Square of 10 = 100\n",
      "Square of 11 = 121\n",
      "Square of 12 = 144\n",
      "Square of 13 = 169\n",
      "Square of 14 = 196\n",
      "Square of 15 = 225\n",
      "Square of 16 = 256\n",
      "Square of 17 = 289\n",
      "Square of 18 = 324\n",
      "Square of 19 = 361\n",
      "Square of 20 = 400\n",
      "Square of 21 = 441\n",
      "Square of 22 = 484\n",
      "Square of 23 = 529\n",
      "Square of 24 = 576\n",
      "Square of 25 = 625\n",
      "Square of 26 = 676\n",
      "Square of 27 = 729\n",
      "Square of 28 = 784\n",
      "Square of 29 = 841\n",
      "Square of 30 = 900\n",
      "Square of 31 = 961\n",
      "Square of 32 = 1024\n",
      "Square of 33 = 1089\n",
      "Square of 34 = 1156\n",
      "Square of 35 = 1225\n",
      "Square of 36 = 1296\n",
      "Square of 37 = 1369\n",
      "Square of 38 = 1444\n",
      "Square of 39 = 1521\n",
      "Square of 40 = 1600\n",
      "Square of 41 = 1681\n",
      "Square of 42 = 1764\n",
      "Square of 43 = 1849\n",
      "Square of 44 = 1936\n",
      "Square of 45 = 2025\n",
      "Square of 46 = 2116\n",
      "Square of 47 = 2209\n",
      "Square of 48 = 2304\n",
      "Square of 49 = 2401\n",
      "Square of 50 = 2500\n",
      "Square of 51 = 2601\n",
      "Square of 52 = 2704\n",
      "Square of 53 = 2809\n",
      "Square of 54 = 2916\n",
      "Square of 55 = 3025\n",
      "Square of 56 = 3136\n",
      "Square of 57 = 3249\n",
      "Square of 58 = 3364\n",
      "Square of 59 = 3481\n",
      "Square of 60 = 3600\n",
      "Square of 61 = 3721\n",
      "Square of 62 = 3844\n",
      "Square of 63 = 3969\n",
      "Square of 64 = 4096\n",
      "Square of 65 = 4225\n",
      "Square of 66 = 4356\n",
      "Square of 67 = 4489\n",
      "Square of 68 = 4624\n",
      "Square of 69 = 4761\n",
      "Square of 70 = 4900\n",
      "Square of 71 = 5041\n",
      "Square of 72 = 5184\n",
      "Square of 73 = 5329\n",
      "Square of 74 = 5476\n",
      "Square of 75 = 5625\n",
      "Square of 76 = 5776\n",
      "Square of 77 = 5929\n",
      "Square of 78 = 6084\n",
      "Square of 79 = 6241\n"
     ]
    }
   ],
   "source": [
    "def get_square(num):\n",
    "    return num * num\n",
    "\n",
    "for i in range(15):\n",
    "    # function call\n",
    "    result = get_square(i)\n",
    "    print('Square of',i, '=',result)"
   ]
  },
  {
   "cell_type": "code",
   "execution_count": 3,
   "id": "52002ccf",
   "metadata": {},
   "outputs": [
    {
     "name": "stdout",
     "output_type": "stream",
     "text": [
      "Similarity score: 0.8770\n"
     ]
    }
   ],
   "source": [
    "similarity_score = 0.8769732154374346310\n",
    "print(f\"Similarity score: {similarity_score:.4f}\")"
   ]
  },
  {
   "cell_type": "code",
   "execution_count": null,
   "id": "8304f626",
   "metadata": {},
   "outputs": [],
   "source": []
  }
 ],
 "metadata": {
  "kernelspec": {
   "display_name": "Python 3 (ipykernel)",
   "language": "python",
   "name": "python3"
  },
  "language_info": {
   "codemirror_mode": {
    "name": "ipython",
    "version": 3
   },
   "file_extension": ".py",
   "mimetype": "text/x-python",
   "name": "python",
   "nbconvert_exporter": "python",
   "pygments_lexer": "ipython3",
   "version": "3.10.9"
  }
 },
 "nbformat": 4,
 "nbformat_minor": 5
}
