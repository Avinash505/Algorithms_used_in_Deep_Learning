{
 "cells": [
  {
   "cell_type": "code",
   "execution_count": 13,
   "id": "cf184408",
   "metadata": {},
   "outputs": [],
   "source": [
    "# !pip install spacy\n",
    "# !python -m spacy download en\n",
    "# !pip install tensorflow-gpu ---in this code got error it's not installed\n",
    "# !pip install spacy\n",
    "# !python -m spacy download en_core_web_lg"
   ]
  },
  {
   "cell_type": "code",
   "execution_count": 7,
   "id": "7458742b",
   "metadata": {},
   "outputs": [],
   "source": [
    "import spacy"
   ]
  },
  {
   "cell_type": "code",
   "execution_count": 14,
   "id": "c0f69123",
   "metadata": {},
   "outputs": [
    {
     "data": {
      "text/plain": [
       "<spacy.lang.en.English at 0x7f2c2c922b60>"
      ]
     },
     "execution_count": 14,
     "metadata": {},
     "output_type": "execute_result"
    }
   ],
   "source": [
    "nlp=spacy.load(\"en_core_web_lg\")\n",
    "nlp"
   ]
  },
  {
   "cell_type": "code",
   "execution_count": 40,
   "id": "4d37806d",
   "metadata": {},
   "outputs": [],
   "source": [
    "import pandas as pd\n",
    "data=pd.read_csv('/home/codetrade/Downloads/CSV/row.csv')"
   ]
  },
  {
   "cell_type": "code",
   "execution_count": 41,
   "id": "3d4c800f",
   "metadata": {},
   "outputs": [
    {
     "data": {
      "text/html": [
       "<div>\n",
       "<style scoped>\n",
       "    .dataframe tbody tr th:only-of-type {\n",
       "        vertical-align: middle;\n",
       "    }\n",
       "\n",
       "    .dataframe tbody tr th {\n",
       "        vertical-align: top;\n",
       "    }\n",
       "\n",
       "    .dataframe thead th {\n",
       "        text-align: right;\n",
       "    }\n",
       "</style>\n",
       "<table border=\"1\" class=\"dataframe\">\n",
       "  <thead>\n",
       "    <tr style=\"text-align: right;\">\n",
       "      <th></th>\n",
       "      <th>text</th>\n",
       "    </tr>\n",
       "  </thead>\n",
       "  <tbody>\n",
       "    <tr>\n",
       "      <th>0</th>\n",
       "      <td>OpenAI is an American artificial intelligence ...</td>\n",
       "    </tr>\n",
       "    <tr>\n",
       "      <th>1</th>\n",
       "      <td>Microsoft Corporation is an American multinati...</td>\n",
       "    </tr>\n",
       "    <tr>\n",
       "      <th>2</th>\n",
       "      <td>Amazon Web Services, Inc. (AWS) is a subsidiar...</td>\n",
       "    </tr>\n",
       "    <tr>\n",
       "      <th>3</th>\n",
       "      <td>Google Cloud Platform (GCP), offered by Google...</td>\n",
       "    </tr>\n",
       "    <tr>\n",
       "      <th>4</th>\n",
       "      <td>Sequoia Capital is an American venture capital...</td>\n",
       "    </tr>\n",
       "  </tbody>\n",
       "</table>\n",
       "</div>"
      ],
      "text/plain": [
       "                                                text\n",
       "0  OpenAI is an American artificial intelligence ...\n",
       "1  Microsoft Corporation is an American multinati...\n",
       "2  Amazon Web Services, Inc. (AWS) is a subsidiar...\n",
       "3  Google Cloud Platform (GCP), offered by Google...\n",
       "4  Sequoia Capital is an American venture capital..."
      ]
     },
     "execution_count": 41,
     "metadata": {},
     "output_type": "execute_result"
    }
   ],
   "source": [
    "data.head()"
   ]
  },
  {
   "cell_type": "code",
   "execution_count": 67,
   "id": "686561c3",
   "metadata": {},
   "outputs": [],
   "source": [
    "doc1=nlp(\"donald trump was president of USA\")"
   ]
  },
  {
   "cell_type": "code",
   "execution_count": 65,
   "id": "75400097",
   "metadata": {},
   "outputs": [],
   "source": [
    "text_column=data['text']"
   ]
  },
  {
   "cell_type": "code",
   "execution_count": 66,
   "id": "36c73d7e",
   "metadata": {},
   "outputs": [],
   "source": [
    "# # Initialize an empty list to store the processed documents\n",
    "# processed_docs = []\n",
    "\n",
    "# # Process each document in the 'text' column\n",
    "# for text in text_column:\n",
    "#     doc = nlp(text)  # Process the document using spaCy\n",
    "#     processed_docs.append(doc)  # Append the processed document to the list\n",
    "    \n",
    "    \n",
    "#     for entity in doc.ents:\n",
    "#         if entity.label_ == 'GPE':  # Geopolitical Entity (location)\n",
    "#             locations.append(entity.text)\n",
    "#         elif entity.label_ == 'URL':  # Website\n",
    "#             websites.append(entity.text)\n",
    "#         elif entity.label_ == 'LANGUAGE':  # Language\n",
    "#             languages.append(entity.text)\n",
    "#         elif entity.label_ == 'PRODUCT':  # Product\n",
    "#             products.append(entity.text)\n",
    "# # Save CSV file\n",
    "# entities_df.to_csv('extracted_entities.csv', index=False)\n",
    "    "
   ]
  },
  {
   "cell_type": "code",
   "execution_count": 92,
   "id": "1b94b5b3",
   "metadata": {},
   "outputs": [],
   "source": [
    "# processed_docs\n",
    "# # doc1.ents"
   ]
  },
  {
   "cell_type": "code",
   "execution_count": 73,
   "id": "014ea904",
   "metadata": {},
   "outputs": [],
   "source": [
    "# doc.ents"
   ]
  },
  {
   "cell_type": "code",
   "execution_count": 33,
   "id": "6dc0d911",
   "metadata": {},
   "outputs": [
    {
     "data": {
      "text/plain": [
       "spacy.tokens.doc.Doc"
      ]
     },
     "execution_count": 33,
     "metadata": {},
     "output_type": "execute_result"
    }
   ],
   "source": [
    "type(doc)"
   ]
  },
  {
   "cell_type": "code",
   "execution_count": null,
   "id": "97123ef7",
   "metadata": {},
   "outputs": [],
   "source": []
  },
  {
   "cell_type": "code",
   "execution_count": 34,
   "id": "9c5e3588",
   "metadata": {},
   "outputs": [
    {
     "data": {
      "text/plain": [
       "(donald trump, spacy.tokens.span.Span)"
      ]
     },
     "execution_count": 34,
     "metadata": {},
     "output_type": "execute_result"
    }
   ],
   "source": [
    "doc.ents[0],type(doc.ents[0])"
   ]
  },
  {
   "cell_type": "code",
   "execution_count": 35,
   "id": "c43c0616",
   "metadata": {},
   "outputs": [
    {
     "data": {
      "text/html": [
       "<span class=\"tex2jax_ignore\"><div class=\"entities\" style=\"line-height: 2.5; direction: ltr\">\n",
       "<mark class=\"entity\" style=\"background: #aa9cfc; padding: 0.45em 0.6em; margin: 0 0.25em; line-height: 1; border-radius: 0.35em;\">\n",
       "    donald trump\n",
       "    <span style=\"font-size: 0.8em; font-weight: bold; line-height: 1; border-radius: 0.35em; vertical-align: middle; margin-left: 0.5rem\">PERSON</span>\n",
       "</mark>\n",
       " was president of \n",
       "<mark class=\"entity\" style=\"background: #feca74; padding: 0.45em 0.6em; margin: 0 0.25em; line-height: 1; border-radius: 0.35em;\">\n",
       "    USA\n",
       "    <span style=\"font-size: 0.8em; font-weight: bold; line-height: 1; border-radius: 0.35em; vertical-align: middle; margin-left: 0.5rem\">GPE</span>\n",
       "</mark>\n",
       "</div></span>"
      ],
      "text/plain": [
       "<IPython.core.display.HTML object>"
      ]
     },
     "metadata": {},
     "output_type": "display_data"
    }
   ],
   "source": [
    "from spacy import displacy \n",
    "displacy .render(doc,style='ent',jupyter=True)"
   ]
  },
  {
   "cell_type": "code",
   "execution_count": null,
   "id": "45dd534e",
   "metadata": {},
   "outputs": [],
   "source": []
  }
 ],
 "metadata": {
  "kernelspec": {
   "display_name": "Python 3 (ipykernel)",
   "language": "python",
   "name": "python3"
  },
  "language_info": {
   "codemirror_mode": {
    "name": "ipython",
    "version": 3
   },
   "file_extension": ".py",
   "mimetype": "text/x-python",
   "name": "python",
   "nbconvert_exporter": "python",
   "pygments_lexer": "ipython3",
   "version": "3.10.9"
  }
 },
 "nbformat": 4,
 "nbformat_minor": 5
}
