{
 "cells": [
  {
   "cell_type": "code",
   "execution_count": 1,
   "id": "fdb4c0ec",
   "metadata": {},
   "outputs": [
    {
     "data": {
      "text/html": [
       "<div>\n",
       "<style scoped>\n",
       "    .dataframe tbody tr th:only-of-type {\n",
       "        vertical-align: middle;\n",
       "    }\n",
       "\n",
       "    .dataframe tbody tr th {\n",
       "        vertical-align: top;\n",
       "    }\n",
       "\n",
       "    .dataframe thead th {\n",
       "        text-align: right;\n",
       "    }\n",
       "</style>\n",
       "<table border=\"1\" class=\"dataframe\">\n",
       "  <thead>\n",
       "    <tr style=\"text-align: right;\">\n",
       "      <th></th>\n",
       "      <th>text</th>\n",
       "    </tr>\n",
       "  </thead>\n",
       "  <tbody>\n",
       "    <tr>\n",
       "      <th>0</th>\n",
       "      <td>OpenAI is an American artificial intelligence ...</td>\n",
       "    </tr>\n",
       "    <tr>\n",
       "      <th>1</th>\n",
       "      <td>Microsoft Corporation is an American multinati...</td>\n",
       "    </tr>\n",
       "    <tr>\n",
       "      <th>2</th>\n",
       "      <td>Amazon Web Services, Inc. (AWS) is a subsidiar...</td>\n",
       "    </tr>\n",
       "    <tr>\n",
       "      <th>3</th>\n",
       "      <td>Google Cloud Platform (GCP), offered by Google...</td>\n",
       "    </tr>\n",
       "    <tr>\n",
       "      <th>4</th>\n",
       "      <td>Sequoia Capital is an American venture capital...</td>\n",
       "    </tr>\n",
       "  </tbody>\n",
       "</table>\n",
       "</div>"
      ],
      "text/plain": [
       "                                                text\n",
       "0  OpenAI is an American artificial intelligence ...\n",
       "1  Microsoft Corporation is an American multinati...\n",
       "2  Amazon Web Services, Inc. (AWS) is a subsidiar...\n",
       "3  Google Cloud Platform (GCP), offered by Google...\n",
       "4  Sequoia Capital is an American venture capital..."
      ]
     },
     "execution_count": 1,
     "metadata": {},
     "output_type": "execute_result"
    }
   ],
   "source": [
    "import csv\n",
    "import spacy\n",
    "import pandas as pd\n",
    "import numpy as np\n",
    "df = pd.read_csv(\"/home/codetrade/Downloads/CSV/row.csv\")\n",
    "df.head()"
   ]
  },
  {
   "cell_type": "code",
   "execution_count": 4,
   "id": "83d7e3fa",
   "metadata": {},
   "outputs": [
    {
     "name": "stdout",
     "output_type": "stream",
     "text": [
      "Data written to: valuedata.csv\n"
     ]
    }
   ],
   "source": [
    "import spacy\n",
    "import pandas as pd\n",
    "\n",
    "nlp = spacy.load(\"en_core_web_sm\")\n",
    "\n",
    "# Assuming 'df' is a DataFrame with a column named 'text'\n",
    "data = {\"ORG\": [], \"URL\": []}\n",
    "\n",
    "for text in df['text']:\n",
    "    doc = nlp(text)\n",
    "    for label in data:\n",
    "        entities = [ent.text for ent in doc.ents if ent.label_ == label]\n",
    "        data[label].append(entities)\n",
    "\n",
    "# Find the maximum length among the entity lists\n",
    "max_length = max(len(entities) for entities in data.values())\n",
    "\n",
    "# Pad the shorter lists with None values\n",
    "for label, entities in data.items():\n",
    "    entities.extend([None] * (max_length - len(entities)))\n",
    "\n",
    "# Create a new DataFrame with separate columns for each label\n",
    "new_df = pd.DataFrame(data, columns=[\"ORG\", \"URL\"])\n",
    "\n",
    "# Write the new DataFrame to a CSV file\n",
    "new_df.to_csv(\"valuedata.csv\", index=False)\n",
    "\n",
    "print(\"Data written to: valuedata.csv\")\n"
   ]
  },
  {
   "cell_type": "code",
   "execution_count": null,
   "id": "777537cf",
   "metadata": {},
   "outputs": [],
   "source": []
  }
 ],
 "metadata": {
  "kernelspec": {
   "display_name": "Python 3 (ipykernel)",
   "language": "python",
   "name": "python3"
  },
  "language_info": {
   "codemirror_mode": {
    "name": "ipython",
    "version": 3
   },
   "file_extension": ".py",
   "mimetype": "text/x-python",
   "name": "python",
   "nbconvert_exporter": "python",
   "pygments_lexer": "ipython3",
   "version": "3.8.10"
  }
 },
 "nbformat": 4,
 "nbformat_minor": 5
}
