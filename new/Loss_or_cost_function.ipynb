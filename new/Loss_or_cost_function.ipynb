{
 "cells": [
  {
   "cell_type": "code",
   "execution_count": 2,
   "id": "3775f86a",
   "metadata": {},
   "outputs": [],
   "source": [
    "import numpy as np"
   ]
  },
  {
   "cell_type": "code",
   "execution_count": 3,
   "id": "ba5ff031",
   "metadata": {},
   "outputs": [],
   "source": [
    "y_predicted = np.array([1,1,0,0,1])\n",
    "y_true = np.array([0.30,0.7,1,0,0.5])"
   ]
  },
  {
   "cell_type": "markdown",
   "id": "a48f5485",
   "metadata": {},
   "source": [
    "# Implement Mean Absolute Error"
   ]
  },
  {
   "cell_type": "code",
   "execution_count": 9,
   "id": "c73164a4",
   "metadata": {},
   "outputs": [],
   "source": [
    "def mae(y_predicted, y_true):\n",
    "    total_error = 0\n",
    "    for yp, yt in zip(y_predicted, y_true):\n",
    "        total_error += abs(yp - yt)\n",
    "    print(\"Total error is:\",total_error)\n",
    "    mae = total_error/len(y_predicted)\n",
    "    print(\"Mean absolute error is:\",mae)\n",
    "    return mae"
   ]
  },
  {
   "cell_type": "code",
   "execution_count": 10,
   "id": "7554ec98",
   "metadata": {},
   "outputs": [
    {
     "name": "stdout",
     "output_type": "stream",
     "text": [
      "Total error is: 2.5\n",
      "Mean absolute error is: 0.5\n"
     ]
    },
    {
     "data": {
      "text/plain": [
       "0.5"
      ]
     },
     "execution_count": 10,
     "metadata": {},
     "output_type": "execute_result"
    }
   ],
   "source": [
    "mae(y_predicted, y_true)"
   ]
  },
  {
   "cell_type": "markdown",
   "id": "030b69f1",
   "metadata": {},
   "source": [
    "###### Implement same thing using numpy in much easier way"
   ]
  },
  {
   "cell_type": "code",
   "execution_count": 11,
   "id": "4b2d801f",
   "metadata": {},
   "outputs": [
    {
     "data": {
      "text/plain": [
       "array([0.7, 0.3, 1. , 0. , 0.5])"
      ]
     },
     "execution_count": 11,
     "metadata": {},
     "output_type": "execute_result"
    }
   ],
   "source": [
    "np.abs(y_predicted-y_true)"
   ]
  },
  {
   "cell_type": "code",
   "execution_count": null,
   "id": "53c28c53",
   "metadata": {},
   "outputs": [],
   "source": []
  }
 ],
 "metadata": {
  "kernelspec": {
   "display_name": "Python 3 (ipykernel)",
   "language": "python",
   "name": "python3"
  },
  "language_info": {
   "codemirror_mode": {
    "name": "ipython",
    "version": 3
   },
   "file_extension": ".py",
   "mimetype": "text/x-python",
   "name": "python",
   "nbconvert_exporter": "python",
   "pygments_lexer": "ipython3",
   "version": "3.9.12"
  }
 },
 "nbformat": 4,
 "nbformat_minor": 5
}
