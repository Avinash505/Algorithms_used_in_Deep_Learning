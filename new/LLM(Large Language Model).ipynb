{
 "cells": [
  {
   "cell_type": "code",
   "execution_count": 1,
   "id": "90e03f93",
   "metadata": {},
   "outputs": [],
   "source": [
    "import requests\n",
    "from pprint import pprint\n",
    "\n",
    "API_URL = 'https://api-inference.huggingface.co/models/bigscience/bloomz'\n",
    "headers = {'Authorization': 'Entertheaccesskeyhere'}"
   ]
  },
  {
   "cell_type": "code",
   "execution_count": 2,
   "id": "79c46426",
   "metadata": {},
   "outputs": [],
   "source": [
    "# The Entertheaccesskeyhere is just a placeholder, which can be changed according to the user's access key\n",
    "def query(payload):\n",
    "    response = requests.post(API_URL, headers=headers, json=payload)\n",
    "    return response.json()"
   ]
  },
  {
   "cell_type": "code",
   "execution_count": 4,
   "id": "0f858b22",
   "metadata": {},
   "outputs": [],
   "source": [
    "params = {'max_length': 200, 'top_k': 10, 'temperature': 2.5}\n",
    "output = query({\n",
    "    'inputs': 'Sherlock Holmes is a',\n",
    "    'parameters': params,\n",
    "})"
   ]
  },
  {
   "cell_type": "code",
   "execution_count": 5,
   "id": "62fad3e0",
   "metadata": {},
   "outputs": [
    {
     "name": "stdout",
     "output_type": "stream",
     "text": [
      "{'error': \"Authorization header is invalid, use 'Bearer API_TOKEN'\"}\n"
     ]
    }
   ],
   "source": [
    "pprint(output)"
   ]
  },
  {
   "cell_type": "code",
   "execution_count": 6,
   "id": "a3edc9ba",
   "metadata": {},
   "outputs": [
    {
     "name": "stdout",
     "output_type": "stream",
     "text": [
      "{'error': \"Authorization header is invalid, use 'Bearer API_TOKEN'\"}\n"
     ]
    }
   ],
   "source": [
    "print(output)"
   ]
  },
  {
   "cell_type": "code",
   "execution_count": 7,
   "id": "253e72c0",
   "metadata": {},
   "outputs": [],
   "source": [
    "API_URL = \"https://api-inference.huggingface.co/models/facebook/bart-large-cnn\"\n",
    "headers = {'Authorization': 'Entertheaccesskeyhere'}"
   ]
  },
  {
   "cell_type": "code",
   "execution_count": 8,
   "id": "54db805c",
   "metadata": {},
   "outputs": [],
   "source": [
    "def query(payload):\n",
    "    response = requests.post(API_URL, headers=headers, json=payload)\n",
    "    return response.json()"
   ]
  },
  {
   "cell_type": "code",
   "execution_count": 9,
   "id": "bf6684ff",
   "metadata": {},
   "outputs": [],
   "source": [
    "params = {'do_sample': False}\n",
    "\n",
    "full_text = '''AI applications are summarizing articles, writing stories and \n",
    "engaging in long conversations — and large language models are doing \n",
    "the heavy lifting.\n",
    "\n",
    "A large language model, or LLM, is a deep learning model that can \n",
    "understand, learn, summarize, translate, predict, and generate text and other \n",
    "content based on knowledge gained from massive datasets.\n",
    "\n",
    "Large language models - successful applications of \n",
    "transformer models. They aren’t just for teaching AIs human languages, \n",
    "but for understanding proteins, writing software code, and much, much more.\n",
    "\n",
    "In addition to accelerating natural language processing applications — \n",
    "like translation, chatbots, and AI assistants — large language models are \n",
    "used in healthcare, software development, and use cases in many other fields.'''"
   ]
  },
  {
   "cell_type": "code",
   "execution_count": 10,
   "id": "230c0b6d",
   "metadata": {},
   "outputs": [],
   "source": [
    "output = query({\n",
    "    'inputs': full_text,\n",
    "    'parameters': params\n",
    "})"
   ]
  },
  {
   "cell_type": "code",
   "execution_count": 12,
   "id": "853aef53",
   "metadata": {},
   "outputs": [
    {
     "name": "stdout",
     "output_type": "stream",
     "text": [
      "{'error': \"Authorization header is invalid, use 'Bearer API_TOKEN'\"}\n",
      "{'error': \"Authorization header is invalid, use 'Bearer API_TOKEN'\"}\n"
     ]
    }
   ],
   "source": [
    "pprint(output)\n",
    "print(output)"
   ]
  },
  {
   "cell_type": "code",
   "execution_count": null,
   "id": "3f2a297b",
   "metadata": {},
   "outputs": [],
   "source": []
  }
 ],
 "metadata": {
  "kernelspec": {
   "display_name": "Python 3 (ipykernel)",
   "language": "python",
   "name": "python3"
  },
  "language_info": {
   "codemirror_mode": {
    "name": "ipython",
    "version": 3
   },
   "file_extension": ".py",
   "mimetype": "text/x-python",
   "name": "python",
   "nbconvert_exporter": "python",
   "pygments_lexer": "ipython3",
   "version": "3.9.16"
  }
 },
 "nbformat": 4,
 "nbformat_minor": 5
}
