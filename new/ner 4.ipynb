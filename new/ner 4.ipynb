{
 "cells": [
  {
   "cell_type": "code",
   "execution_count": 1,
   "id": "e944ce43",
   "metadata": {},
   "outputs": [],
   "source": [
    "import pandas as pd\n",
    "data=pd.read_csv('/home/codetrade/Downloads/CSV/row.csv')"
   ]
  },
  {
   "cell_type": "code",
   "execution_count": 2,
   "id": "33644b2f",
   "metadata": {},
   "outputs": [
    {
     "data": {
      "text/html": [
       "<div>\n",
       "<style scoped>\n",
       "    .dataframe tbody tr th:only-of-type {\n",
       "        vertical-align: middle;\n",
       "    }\n",
       "\n",
       "    .dataframe tbody tr th {\n",
       "        vertical-align: top;\n",
       "    }\n",
       "\n",
       "    .dataframe thead th {\n",
       "        text-align: right;\n",
       "    }\n",
       "</style>\n",
       "<table border=\"1\" class=\"dataframe\">\n",
       "  <thead>\n",
       "    <tr style=\"text-align: right;\">\n",
       "      <th></th>\n",
       "      <th>text</th>\n",
       "    </tr>\n",
       "  </thead>\n",
       "  <tbody>\n",
       "    <tr>\n",
       "      <th>0</th>\n",
       "      <td>OpenAI is an American artificial intelligence ...</td>\n",
       "    </tr>\n",
       "    <tr>\n",
       "      <th>1</th>\n",
       "      <td>Microsoft Corporation is an American multinati...</td>\n",
       "    </tr>\n",
       "    <tr>\n",
       "      <th>2</th>\n",
       "      <td>Amazon Web Services, Inc. (AWS) is a subsidiar...</td>\n",
       "    </tr>\n",
       "    <tr>\n",
       "      <th>3</th>\n",
       "      <td>Google Cloud Platform (GCP), offered by Google...</td>\n",
       "    </tr>\n",
       "    <tr>\n",
       "      <th>4</th>\n",
       "      <td>Sequoia Capital is an American venture capital...</td>\n",
       "    </tr>\n",
       "  </tbody>\n",
       "</table>\n",
       "</div>"
      ],
      "text/plain": [
       "                                                text\n",
       "0  OpenAI is an American artificial intelligence ...\n",
       "1  Microsoft Corporation is an American multinati...\n",
       "2  Amazon Web Services, Inc. (AWS) is a subsidiar...\n",
       "3  Google Cloud Platform (GCP), offered by Google...\n",
       "4  Sequoia Capital is an American venture capital..."
      ]
     },
     "execution_count": 2,
     "metadata": {},
     "output_type": "execute_result"
    }
   ],
   "source": [
    "data.head()"
   ]
  },
  {
   "cell_type": "code",
   "execution_count": 3,
   "id": "71d06737",
   "metadata": {},
   "outputs": [
    {
     "data": {
      "text/plain": [
       "'OpenAI is an American artificial intelligence (AI) research laboratory consisting of the non-profit OpenAI Incorporated and its for-profit subsidiary corporation OpenAI Limited Partnership. OpenAI conducts AI research with the declared intention of promoting and developing a friendly AI. OpenAI systems run on an Azure-based supercomputing platform from Microsoft. The organization was founded in San Francisco in 2015 by Sam Altman, Reid Hoffman, Jessica Livingston, Elon Musk, Ilya Sutskever, Wojciech Zaremba, Peter Thiel and others, who collectively pledged US$1 billion. Microsoft provided OpenAI LP with a $1 billion investment in 2019 and a second multi-year investment in January 2023, reported to be $10 billion, for exclusive access to GPT-4 which would power its own Prometheus model for Bing.\\n\\nHistory\\n2015–2018: Non-profit beginnings\\nIn December 2015, Sam Altman, Greg Brockman, Reid Hoffman, Jessica Livingston, Peter Thiel, Elon Musk, Amazon Web Services (AWS), Infosys, and YC Resear'"
      ]
     },
     "execution_count": 3,
     "metadata": {},
     "output_type": "execute_result"
    }
   ],
   "source": [
    "data['text'][0]"
   ]
  },
  {
   "cell_type": "code",
   "execution_count": 7,
   "id": "598fee6f",
   "metadata": {},
   "outputs": [],
   "source": [
    "import spacy\n",
    "import pandas as pd\n",
    "\n",
    "# Load the 'en_core_web_lg' model\n",
    "nlp = spacy.load('en_core_web_lg')\n",
    "\n",
    "# Assuming you have a DataFrame named 'data' with a 'text' column\n",
    "# Access the 'text' column of the DataFrame\n",
    "text_column = data['text']"
   ]
  },
  {
   "cell_type": "code",
   "execution_count": 8,
   "id": "0f8268d2",
   "metadata": {},
   "outputs": [],
   "source": [
    "# Initialize empty lists to store the extracted entities\n",
    "locations = []\n",
    "websites = []\n",
    "languages = []\n",
    "products = []\n",
    "\n",
    "for text in text_column:\n",
    "    doc = nlp(text)  # using spaCy\n",
    "    \n",
    "    # Extract entities from the document\n",
    "    extracted_locations = [entity.text for entity in doc.ents if entity.label_ == 'GPE']\n",
    "    extracted_websites = [entity.text for entity in doc.ents if entity.label_ == 'URL']\n",
    "    extracted_languages = [entity.text for entity in doc.ents if entity.label_ == 'LANGUAGE']\n",
    "    extracted_products = [entity.text for entity in doc.ents if entity.label_ == 'PRODUCT']\n",
    "    \n",
    "    # Extend the respective lists with the extracted entities\n",
    "    locations.append(extracted_locations or None)\n",
    "    websites.append(extracted_websites or None)\n",
    "    languages.append(extracted_languages or None)\n",
    "    products.append(extracted_products or None)"
   ]
  },
  {
   "cell_type": "code",
   "execution_count": 9,
   "id": "adea154b",
   "metadata": {},
   "outputs": [],
   "source": [
    "# Determine the maximum length among the lists\n",
    "max_length = max(len(locations), len(websites), len(languages), len(products))\n",
    "\n",
    "# Pad the lists with None values to make them equal in length\n",
    "locations += [None] * (max_length - len(locations))\n",
    "websites += [None] * (max_length - len(websites))\n",
    "languages += [None] * (max_length - len(languages))\n",
    "products += [None] * (max_length - len(products))"
   ]
  },
  {
   "cell_type": "code",
   "execution_count": 11,
   "id": "50a8d6d4",
   "metadata": {},
   "outputs": [],
   "source": [
    "# Create a DataFrame from the extracted entities\n",
    "entities_data = {\n",
    "    'text': text_column,\n",
    "    'GPE': locations,\n",
    "    'URL': websites,\n",
    "    'LANGUAGE': languages,\n",
    "    'PRODUCT': products\n",
    "}\n",
    "entities_df = pd.DataFrame(entities_data)\n",
    "\n",
    "# Save the DataFrame to a CSV file\n",
    "entities_df.to_csv('extracted11_entities.csv', index=False)\n"
   ]
  },
  {
   "cell_type": "code",
   "execution_count": 13,
   "id": "4334b9b9",
   "metadata": {},
   "outputs": [
    {
     "data": {
      "text/plain": [
       "(6489, 5)"
      ]
     },
     "execution_count": 13,
     "metadata": {},
     "output_type": "execute_result"
    }
   ],
   "source": [
    "entities_df.shape"
   ]
  },
  {
   "cell_type": "code",
   "execution_count": 14,
   "id": "e5dd47c9",
   "metadata": {},
   "outputs": [
    {
     "data": {
      "text/html": [
       "<div>\n",
       "<style scoped>\n",
       "    .dataframe tbody tr th:only-of-type {\n",
       "        vertical-align: middle;\n",
       "    }\n",
       "\n",
       "    .dataframe tbody tr th {\n",
       "        vertical-align: top;\n",
       "    }\n",
       "\n",
       "    .dataframe thead th {\n",
       "        text-align: right;\n",
       "    }\n",
       "</style>\n",
       "<table border=\"1\" class=\"dataframe\">\n",
       "  <thead>\n",
       "    <tr style=\"text-align: right;\">\n",
       "      <th></th>\n",
       "      <th>text</th>\n",
       "      <th>GPE</th>\n",
       "      <th>URL</th>\n",
       "      <th>LANGUAGE</th>\n",
       "      <th>PRODUCT</th>\n",
       "    </tr>\n",
       "  </thead>\n",
       "  <tbody>\n",
       "    <tr>\n",
       "      <th>0</th>\n",
       "      <td>OpenAI is an American artificial intelligence ...</td>\n",
       "      <td>[San Francisco]</td>\n",
       "      <td>None</td>\n",
       "      <td>None</td>\n",
       "      <td>[AI, AI]</td>\n",
       "    </tr>\n",
       "    <tr>\n",
       "      <th>1</th>\n",
       "      <td>Microsoft Corporation is an American multinati...</td>\n",
       "      <td>[Redmond, Washington, United States]</td>\n",
       "      <td>None</td>\n",
       "      <td>None</td>\n",
       "      <td>[Windows, the Altair 8800]</td>\n",
       "    </tr>\n",
       "    <tr>\n",
       "      <th>2</th>\n",
       "      <td>Amazon Web Services, Inc. (AWS) is a subsidiar...</td>\n",
       "      <td>[AWS]</td>\n",
       "      <td>None</td>\n",
       "      <td>None</td>\n",
       "      <td>None</td>\n",
       "    </tr>\n",
       "    <tr>\n",
       "      <th>3</th>\n",
       "      <td>Google Cloud Platform (GCP), offered by Google...</td>\n",
       "      <td>None</td>\n",
       "      <td>None</td>\n",
       "      <td>None</td>\n",
       "      <td>[Google Cloud Platform, Google Cloud Platform,...</td>\n",
       "    </tr>\n",
       "    <tr>\n",
       "      <th>4</th>\n",
       "      <td>Sequoia Capital is an American venture capital...</td>\n",
       "      <td>[Menlo Park, California, U.S., India, China, M...</td>\n",
       "      <td>None</td>\n",
       "      <td>None</td>\n",
       "      <td>None</td>\n",
       "    </tr>\n",
       "  </tbody>\n",
       "</table>\n",
       "</div>"
      ],
      "text/plain": [
       "                                                text  \\\n",
       "0  OpenAI is an American artificial intelligence ...   \n",
       "1  Microsoft Corporation is an American multinati...   \n",
       "2  Amazon Web Services, Inc. (AWS) is a subsidiar...   \n",
       "3  Google Cloud Platform (GCP), offered by Google...   \n",
       "4  Sequoia Capital is an American venture capital...   \n",
       "\n",
       "                                                 GPE   URL LANGUAGE  \\\n",
       "0                                    [San Francisco]  None     None   \n",
       "1               [Redmond, Washington, United States]  None     None   \n",
       "2                                              [AWS]  None     None   \n",
       "3                                               None  None     None   \n",
       "4  [Menlo Park, California, U.S., India, China, M...  None     None   \n",
       "\n",
       "                                             PRODUCT  \n",
       "0                                           [AI, AI]  \n",
       "1                         [Windows, the Altair 8800]  \n",
       "2                                               None  \n",
       "3  [Google Cloud Platform, Google Cloud Platform,...  \n",
       "4                                               None  "
      ]
     },
     "execution_count": 14,
     "metadata": {},
     "output_type": "execute_result"
    }
   ],
   "source": [
    "entities_df.head()"
   ]
  },
  {
   "cell_type": "code",
   "execution_count": null,
   "id": "b1be7853",
   "metadata": {},
   "outputs": [],
   "source": []
  }
 ],
 "metadata": {
  "kernelspec": {
   "display_name": "Python 3 (ipykernel)",
   "language": "python",
   "name": "python3"
  },
  "language_info": {
   "codemirror_mode": {
    "name": "ipython",
    "version": 3
   },
   "file_extension": ".py",
   "mimetype": "text/x-python",
   "name": "python",
   "nbconvert_exporter": "python",
   "pygments_lexer": "ipython3",
   "version": "3.10.9"
  }
 },
 "nbformat": 4,
 "nbformat_minor": 5
}
