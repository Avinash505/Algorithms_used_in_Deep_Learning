{
 "cells": [
  {
   "cell_type": "code",
   "execution_count": 8,
   "id": "7af04e30",
   "metadata": {},
   "outputs": [],
   "source": [
    "# !pip install numpy pandas matplotlib seaborn\n",
    "# !pip install tensorflow\n",
    "# !pip install scikit-learn\n",
    "# !pip install keras\n",
    "# !pip install matplotlib\n",
    "# !pip install seaborn\n",
    "# !pip install statsmodels\n",
    "# !pip install keras\n",
    "# !pip install torch torchvision\n",
    "# !pip install theano\n",
    "# !pip install caffe\n",
    "# !pip install mxnet\n",
    "# !pip install cntk\n",
    "# !pip install Lasagne\n"
   ]
  },
  {
   "cell_type": "code",
   "execution_count": 9,
   "id": "f226eca1",
   "metadata": {},
   "outputs": [],
   "source": [
    "# !pip install --upgrade numpy\n",
    "# !pip install tqdm==4.57.0\n",
    "# !pip install --upgrade typing-extensions"
   ]
  },
  {
   "cell_type": "code",
   "execution_count": 11,
   "id": "a75e749c",
   "metadata": {},
   "outputs": [],
   "source": [
    "# !pip install tensorflow==2.5.0\n",
    "# !pip install tensorflow-gpu==2.5.0\n",
    "# !pip install typing-extensions==3.7.4\n",
    "# !pip install gast==0.4.0\n",
    "# !pip install grpcio==1.34.0\n",
    "# !pip install h5py==3.1.0\n",
    "# !pip install tensorflow-estimator==2.4.0"
   ]
  },
  {
   "cell_type": "code",
   "execution_count": 15,
   "id": "2aa4c51e",
   "metadata": {},
   "outputs": [],
   "source": [
    "# !pip install numpy>=1.21\n",
    "# !pip install typing-extensions>=4.0.0\n",
    "# !pip install tensorflow==2.12.0\n",
    "# !pip install tensorflow-gpu==2.5.0 absl-py==0.10 flatbuffers==1.12.0 grpcio==1.34.0 numpy==1.19.2 tensorflow-estimator==2.5.0rc0\n"
   ]
  },
  {
   "cell_type": "code",
   "execution_count": 3,
   "id": "009bbff0",
   "metadata": {},
   "outputs": [],
   "source": [
    "import pandas as  pd\n",
    "import numpy as np\n",
    "import matplotlib.pyplot as plt\n",
    "import seaborn as sns\n",
    "%matplotlib inline"
   ]
  },
  {
   "cell_type": "code",
   "execution_count": null,
   "id": "97cd8d29",
   "metadata": {},
   "outputs": [],
   "source": []
  }
 ],
 "metadata": {
  "kernelspec": {
   "display_name": "Python 3 (ipykernel)",
   "language": "python",
   "name": "python3"
  },
  "language_info": {
   "codemirror_mode": {
    "name": "ipython",
    "version": 3
   },
   "file_extension": ".py",
   "mimetype": "text/x-python",
   "name": "python",
   "nbconvert_exporter": "python",
   "pygments_lexer": "ipython3",
   "version": "3.9.12"
  }
 },
 "nbformat": 4,
 "nbformat_minor": 5
}
