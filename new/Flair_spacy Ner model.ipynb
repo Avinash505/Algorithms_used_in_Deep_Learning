{
 "cells": [
  {
   "cell_type": "code",
   "execution_count": 4,
   "id": "dd0803a2",
   "metadata": {},
   "outputs": [
    {
     "name": "stdout",
     "output_type": "stream",
     "text": [
      "2023-07-28 10:12:28,612 SequenceTagger predicts: Dictionary with 20 tags: <unk>, O, S-ORG, S-MISC, B-PER, E-PER, S-LOC, B-ORG, E-ORG, I-PER, S-PER, B-MISC, I-MISC, E-MISC, I-ORG, B-LOC, E-LOC, I-LOC, <START>, <STOP>\n",
      "Entity: Apple Inc., Type: ORG\n",
      "Entity: California, Type: LOC\n"
     ]
    }
   ],
   "source": [
    "from flair.models import SequenceTagger\n",
    "from flair.data import Sentence\n",
    "tagger = SequenceTagger.load('ner')\n",
    "text = \"Apple Inc. is a technology company headquartered in California.\"\n",
    "sentence = Sentence(text)\n",
    "tagger.predict(sentence)\n",
    "for entity in sentence.get_spans('ner'):\n",
    "    print(f\"Entity: {entity.text}, Type: {entity.tag}\")"
   ]
  },
  {
   "cell_type": "code",
   "execution_count": 22,
   "id": "97124f8e",
   "metadata": {},
   "outputs": [
    {
     "name": "stdout",
     "output_type": "stream",
     "text": [
      "BHK: ['BHK', 'BHK']\n",
      "PROPERTY_TYPE: ['House', 'House']\n",
      "GPE: ['Sagarpur', 'Delhi', 'Sagarpur', 'Sagarpur']\n",
      "CARDINAL: ['7', '7', '4']\n",
      "PRICE: ['price', 'price']\n",
      "MONEY: ['Rs 55.0 L.', '0']\n",
      "DATE: ['monthly']\n",
      "QUANTITY: ['1500 Square feet']\n",
      "ORG: ['Deen Dayal Upadhyay Hospital', 'Mata Chanan Devi Hospital']\n"
     ]
    }
   ],
   "source": [
    "import spacy\n",
    "from spacy.pipeline import EntityRuler\n",
    "# Load the transformer-based language model\n",
    "nlp = spacy.load(\"en_core_web_trf\")\n",
    "patterns = [\n",
    "    {\"label\": \"LOCATION\", \"pattern\": [{\"lower\": {\"in\": [\"city\", \"town\", \"village\"]}}]},\n",
    "    {\"label\": \"PRICE\", \"pattern\": [{\"lower\": {\"in\": [\"price\", \"cost\", \"budget\"]}}]},\n",
    "    {\"label\": \"BHK\", \"pattern\": [{\"lower\": {\"in\": [\"bhk\", \"bedroom\", \"hall\", \"kitchen\"]}}]},\n",
    "    {\"label\": \"PROPERTY_TYPE\", \"pattern\": [{\"lower\": {\"in\": [\"house\", \"flat\", \"apartment\"]}}]},\n",
    "    {\"label\": \"PERSON\", \"pattern\": [{\"ent_type\": \"PERSON\"}]},\n",
    "    {\"label\": \"NORP\", \"pattern\": [{\"ent_type\": \"NORP\"}]},\n",
    "    {\"label\": \"FAC\", \"pattern\": [{\"ent_type\": \"FAC\"}]},\n",
    "    {\"label\": \"ORG\", \"pattern\": [{\"ent_type\": \"ORG\"}]},\n",
    "    {\"label\": \"GPE\", \"pattern\": [{\"ent_type\": \"GPE\"}]},\n",
    "    {\"label\": \"LOC\", \"pattern\": [{\"ent_type\": \"LOC\"}]},\n",
    "    {\"label\": \"PRODUCT\", \"pattern\": [{\"ent_type\": \"PRODUCT\"}]},\n",
    "    {\"label\": \"LANGUAGE\", \"pattern\": [{\"ent_type\": \"LANGUAGE\"}]},\n",
    "    {\"label\": \"PERCENT\", \"pattern\": [{\"ent_type\": \"PERCENT\"}]},\n",
    "    {\"label\": \"MONEY\", \"pattern\": [{\"ent_type\": \"MONEY\"}]},\n",
    "    {\"label\": \"QUANTITY\", \"pattern\": [{\"ent_type\": \"QUANTITY\"}]},\n",
    "    {\"label\": \"ORDINAL\", \"pattern\": [{\"ent_type\": \"ORDINAL\"}]},\n",
    "    {\"label\": \"CARDINAL\", \"pattern\": [{\"ent_type\": \"CARDINAL\"}]}\n",
    "]\n",
    "ruler = EntityRuler(nlp)\n",
    "ruler.add_patterns(patterns)\n",
    "nlp.add_pipe('entity_ruler', before=\"ner\", config={\"overwrite_ents\": True})\n",
    "nlp.get_pipe(\"entity_ruler\").add_patterns(patterns)\n",
    "text = \"\"\"7 BHK Independent House for sale in Sagarpur, Delhi. This 7 BHK unit is available in Sagarpur and offers a premium lifestyle at the best price. This property is posted by owner and there is no brokerage involved. Contact now, for details. It is a desired purchase for any homebuyer in Sagarpur. The price of this Independent House is Rs 55.0 L. Residents in this project also pay monthly maintenance charges of Rs 0. The built-up area is 1500 Square feet. There are 7 bedrooms and 4 bathroom. This property is at a walking distance from Deen Dayal Upadhyay Hospital, Mata Chanan Devi Hospital, and Sa...\"\"\"\n",
    "doc = nlp(text)\n",
    "entities_dict = {}\n",
    "for ent in doc.ents:\n",
    "    label = ent.label_\n",
    "    if label not in entities_dict:\n",
    "        entities_dict[label] = []\n",
    "    entities_dict[label].append(ent.text)\n",
    "for label, entities in entities_dict.items():\n",
    "    print(f\"{label}: {(entities)}\")"
   ]
  },
  {
   "cell_type": "code",
   "execution_count": 7,
   "id": "83fdba71",
   "metadata": {},
   "outputs": [
    {
     "name": "stdout",
     "output_type": "stream",
     "text": [
      "Entity: 7, Label: CARDINAL\n",
      "Entity: BHK Independent House, Label: ORG\n",
      "Entity: Sagarpur, Label: GPE\n",
      "Entity: Delhi, Label: GPE\n",
      "Entity: BHK, Label: ORG\n",
      "Entity: Sagarpur, Label: GPE\n",
      "Entity: Sagarpur, Label: GPE\n",
      "Entity: this Independent House, Label: ORG\n",
      "Entity: monthly, Label: DATE\n",
      "Entity: 1500 Square feet, Label: QUANTITY\n",
      "Entity: 7, Label: CARDINAL\n",
      "Entity: 4, Label: CARDINAL\n",
      "Entity: Deen Dayal Upadhyay Hospital, Label: ORG\n",
      "Entity: Mata Chanan Devi Hospital, Label: ORG\n"
     ]
    }
   ],
   "source": [
    "import spacy\n",
    "\n",
    "nlp = spacy.load('en_core_web_sm')\n",
    "text = \"\"\"7 BHK Independent House for sale in Sagarpur, Delhi. This 7 BHK unit is available in Sagarpur and offers a premium lifestyle at the best price. This property is posted by owner and there is no brokerage involved. Contact now, for details. It is a desired purchase for any homebuyer in Sagarpur. The price of this Independent House is Rs 55.0 L. Residents in this project also pay monthly maintenance charges of Rs 0. The built-up area is 1500 Square feet. There are 7 bedrooms and 4 bathroom. This property is at a walking distance from Deen Dayal Upadhyay Hospital, Mata Chanan Devi Hospital, and Sa...\"\"\"\n",
    "\n",
    "doc = nlp(text)\n",
    "entities = []\n",
    "for ent in doc.ents:\n",
    "    entities.append((ent.text, ent.label_))\n",
    "for entity, label in entities:\n",
    "    print(f\"Entity: {entity}, Label: {label}\")"
   ]
  },
  {
   "cell_type": "code",
   "execution_count": null,
   "id": "2fd4daea",
   "metadata": {},
   "outputs": [],
   "source": [
    "custom_patterns = [\n",
    "    # Location names\n",
    "    {\"label\": \"LOCATION\", \"pattern\": [{\"lower\": city.lower()} for city in [\"New York\", \"London\", \"Mumbai\"]]},\n",
    "    {\"label\": \"LOCATION\", \"pattern\": [{\"lower\": state.lower()} for state in [\"California\", \"Texas\", \"Ontario\"]]},\n",
    "    {\"label\": \"LOCATION\", \"pattern\": [{\"lower\": country.lower()} for country in [\"United States\", \"United Kingdom\", \"India\"]]},\n",
    "    {\"label\": \"LOCATION\", \"pattern\": [{\"lower\": neighborhood.lower()} for neighborhood in [\"Downtown\", \"Chelsea\", \"Beverly Hills\"]]},\n",
    "    # Property Types\n",
    "    {\"label\": \"PROPERTY_TYPE\", \"pattern\": \"Flat\"},\n",
    "    {\"label\": \"PROPERTY_TYPE\", \"pattern\": \"House\"},\n",
    "    {\"label\": \"PROPERTY_TYPE\", \"pattern\": \"Apartment\"},\n",
    "    {\"label\": \"PROPERTY_TYPE\", \"pattern\": \"Condo\"},\n",
    "    {\"label\": \"PROPERTY_TYPE\", \"pattern\": \"Villa\"},\n",
    "    {\"label\": \"PROPERTY_TYPE\", \"pattern\": \"Townhouse\"},\n",
    "    {\"label\": \"PROPERTY_TYPE\", \"pattern\": \"Bungalow\"},\n",
    "    # BHK patterns converted into a list of dictionaries\n",
    "    {\"label\": \"BHK\", \"pattern\": [{\"lower\": \"1 bhk\"}]},\n",
    "    {\"label\": \"BHK\", \"pattern\": [{\"lower\": \"2 bhk\"}]},\n",
    "    {\"label\": \"BHK\", \"pattern\": [{\"lower\": \"3 bhk\"}]},\n",
    "    {\"label\": \"BHK\", \"pattern\": [{\"lower\": \"4 bhk\"}]},\n",
    "    {\"label\": \"BHK\", \"pattern\": [{\"lower\": \"5 bhk\"}]},\n",
    "    {\"label\": \"BHK\", \"pattern\": [{\"lower\": {\"REGEX\": r\"\\d+\\sBHK\"}}]},\n",
    "    # For other BHK configurations like \"6 BHK\", \"7 BHK\", etc.\n",
    "    {\"label\": \"PRICE\", \"pattern\": [{\"lower\": term.lower()} for term in [\"Price\", \"Cost\", \"Rent\", \"Selling Price\", \"Asking Price\", \"Budget\"]]},\n",
    "    {\"label\": \"SQFT\", \"pattern\": [{\"lower\": term.lower()} for term in [\"Area\", \"Size\", \"Square Footage\", \"Built-up Area\", \"Carpet Area\"]]},\n",
    "    # Descriptions\n",
    "    {\"label\": \"DESCRIPTION\", \"pattern\": [{\"lower\": term.lower()} for term in [\"Description\", \"Details\", \"Features\", \"Amenities\", \"Specifications\"]]}\n",
    "]"
   ]
  },
  {
   "cell_type": "code",
   "execution_count": 21,
   "id": "f0db0993",
   "metadata": {},
   "outputs": [
    {
     "ename": "ValueError",
     "evalue": "[E004] Can't set up pipeline component: a factory for 'custom_ner' already exists. Existing factory: <function custom_ner_component at 0x7f6b3d321900>. New factory: <function custom_ner_component at 0x7f6b79e50700>",
     "output_type": "error",
     "traceback": [
      "\u001b[0;31m---------------------------------------------------------------------------\u001b[0m",
      "\u001b[0;31mValueError\u001b[0m                                Traceback (most recent call last)",
      "Cell \u001b[0;32mIn[21], line 34\u001b[0m\n\u001b[1;32m     12\u001b[0m patterns \u001b[38;5;241m=\u001b[39m [\n\u001b[1;32m     13\u001b[0m     {\u001b[38;5;124m\"\u001b[39m\u001b[38;5;124mlabel\u001b[39m\u001b[38;5;124m\"\u001b[39m: \u001b[38;5;124m\"\u001b[39m\u001b[38;5;124mLOCATION\u001b[39m\u001b[38;5;124m\"\u001b[39m, \u001b[38;5;124m\"\u001b[39m\u001b[38;5;124mpattern\u001b[39m\u001b[38;5;124m\"\u001b[39m: [{\u001b[38;5;124m\"\u001b[39m\u001b[38;5;124mlower\u001b[39m\u001b[38;5;124m\"\u001b[39m: {\u001b[38;5;124m\"\u001b[39m\u001b[38;5;124min\u001b[39m\u001b[38;5;124m\"\u001b[39m: [\u001b[38;5;124m\"\u001b[39m\u001b[38;5;124mcity\u001b[39m\u001b[38;5;124m\"\u001b[39m, \u001b[38;5;124m\"\u001b[39m\u001b[38;5;124mtown\u001b[39m\u001b[38;5;124m\"\u001b[39m, \u001b[38;5;124m\"\u001b[39m\u001b[38;5;124mvillage\u001b[39m\u001b[38;5;124m\"\u001b[39m]}}]},\n\u001b[1;32m     14\u001b[0m     {\u001b[38;5;124m\"\u001b[39m\u001b[38;5;124mlabel\u001b[39m\u001b[38;5;124m\"\u001b[39m: \u001b[38;5;124m\"\u001b[39m\u001b[38;5;124mPRICE\u001b[39m\u001b[38;5;124m\"\u001b[39m, \u001b[38;5;124m\"\u001b[39m\u001b[38;5;124mpattern\u001b[39m\u001b[38;5;124m\"\u001b[39m: [{\u001b[38;5;124m\"\u001b[39m\u001b[38;5;124mlower\u001b[39m\u001b[38;5;124m\"\u001b[39m: {\u001b[38;5;124m\"\u001b[39m\u001b[38;5;124min\u001b[39m\u001b[38;5;124m\"\u001b[39m: [\u001b[38;5;124m\"\u001b[39m\u001b[38;5;124mprice\u001b[39m\u001b[38;5;124m\"\u001b[39m, \u001b[38;5;124m\"\u001b[39m\u001b[38;5;124mcost\u001b[39m\u001b[38;5;124m\"\u001b[39m, \u001b[38;5;124m\"\u001b[39m\u001b[38;5;124mbudget\u001b[39m\u001b[38;5;124m\"\u001b[39m]}}]},\n\u001b[0;32m   (...)\u001b[0m\n\u001b[1;32m     29\u001b[0m     {\u001b[38;5;124m\"\u001b[39m\u001b[38;5;124mlabel\u001b[39m\u001b[38;5;124m\"\u001b[39m: \u001b[38;5;124m\"\u001b[39m\u001b[38;5;124mCARDINAL\u001b[39m\u001b[38;5;124m\"\u001b[39m, \u001b[38;5;124m\"\u001b[39m\u001b[38;5;124mpattern\u001b[39m\u001b[38;5;124m\"\u001b[39m: [{\u001b[38;5;124m\"\u001b[39m\u001b[38;5;124ment_type\u001b[39m\u001b[38;5;124m\"\u001b[39m: \u001b[38;5;124m\"\u001b[39m\u001b[38;5;124mCARDINAL\u001b[39m\u001b[38;5;124m\"\u001b[39m}]}\n\u001b[1;32m     30\u001b[0m ]\n\u001b[1;32m     31\u001b[0m ruler\u001b[38;5;241m.\u001b[39madd_patterns(custom_patterns)\n\u001b[1;32m     33\u001b[0m \u001b[38;5;129;43m@spacy\u001b[39;49m\u001b[38;5;241;43m.\u001b[39;49m\u001b[43mLanguage\u001b[49m\u001b[38;5;241;43m.\u001b[39;49m\u001b[43mfactory\u001b[49m\u001b[43m(\u001b[49m\u001b[38;5;124;43m\"\u001b[39;49m\u001b[38;5;124;43mcustom_ner\u001b[39;49m\u001b[38;5;124;43m\"\u001b[39;49m\u001b[43m)\u001b[49m\n\u001b[0;32m---> 34\u001b[0m \u001b[38;5;28;43;01mdef\u001b[39;49;00m\u001b[43m \u001b[49m\u001b[38;5;21;43mcustom_ner_component\u001b[39;49m\u001b[43m(\u001b[49m\u001b[43mnlp\u001b[49m\u001b[43m,\u001b[49m\u001b[43m \u001b[49m\u001b[43mname\u001b[49m\u001b[43m)\u001b[49m\u001b[43m:\u001b[49m\n\u001b[1;32m     35\u001b[0m \u001b[43m    \u001b[49m\u001b[38;5;28;43;01mreturn\u001b[39;49;00m\u001b[43m \u001b[49m\u001b[43mruler\u001b[49m\n\u001b[1;32m     37\u001b[0m nlp\u001b[38;5;241m.\u001b[39madd_pipe(\u001b[38;5;124m\"\u001b[39m\u001b[38;5;124mcustom_ner\u001b[39m\u001b[38;5;124m\"\u001b[39m, before\u001b[38;5;241m=\u001b[39m\u001b[38;5;124m\"\u001b[39m\u001b[38;5;124mner\u001b[39m\u001b[38;5;124m\"\u001b[39m)\n",
      "File \u001b[0;32m~/anaconda3/lib/python3.10/site-packages/spacy/language.py:511\u001b[0m, in \u001b[0;36mLanguage.factory.<locals>.add_factory\u001b[0;34m(factory_func)\u001b[0m\n\u001b[1;32m    507\u001b[0m     \u001b[38;5;28;01mif\u001b[39;00m \u001b[38;5;129;01mnot\u001b[39;00m util\u001b[38;5;241m.\u001b[39mis_same_func(factory_func, existing_func):\n\u001b[1;32m    508\u001b[0m         err \u001b[38;5;241m=\u001b[39m Errors\u001b[38;5;241m.\u001b[39mE004\u001b[38;5;241m.\u001b[39mformat(\n\u001b[1;32m    509\u001b[0m             name\u001b[38;5;241m=\u001b[39mname, func\u001b[38;5;241m=\u001b[39mexisting_func, new_func\u001b[38;5;241m=\u001b[39mfactory_func\n\u001b[1;32m    510\u001b[0m         )\n\u001b[0;32m--> 511\u001b[0m         \u001b[38;5;28;01mraise\u001b[39;00m \u001b[38;5;167;01mValueError\u001b[39;00m(err)\n\u001b[1;32m    513\u001b[0m arg_names \u001b[38;5;241m=\u001b[39m util\u001b[38;5;241m.\u001b[39mget_arg_names(factory_func)\n\u001b[1;32m    514\u001b[0m \u001b[38;5;28;01mif\u001b[39;00m \u001b[38;5;124m\"\u001b[39m\u001b[38;5;124mnlp\u001b[39m\u001b[38;5;124m\"\u001b[39m \u001b[38;5;129;01mnot\u001b[39;00m \u001b[38;5;129;01min\u001b[39;00m arg_names \u001b[38;5;129;01mor\u001b[39;00m \u001b[38;5;124m\"\u001b[39m\u001b[38;5;124mname\u001b[39m\u001b[38;5;124m\"\u001b[39m \u001b[38;5;129;01mnot\u001b[39;00m \u001b[38;5;129;01min\u001b[39;00m arg_names:\n",
      "\u001b[0;31mValueError\u001b[0m: [E004] Can't set up pipeline component: a factory for 'custom_ner' already exists. Existing factory: <function custom_ner_component at 0x7f6b3d321900>. New factory: <function custom_ner_component at 0x7f6b79e50700>"
     ]
    }
   ],
   "source": [
    "import spacy\n",
    "from spacy.pipeline import EntityRuler\n",
    "\n",
    "nlp = spacy.load(\"en_core_web_sm\")\n",
    "\n",
    "# Remove existing \"custom_ner\" component if it exists\n",
    "if \"custom_ner\" in nlp.pipe_names:\n",
    "    nlp.remove_pipe(\"custom_ner\")\n",
    "\n",
    "ruler = EntityRuler(nlp)\n",
    "\n",
    "patterns = [\n",
    "    {\"label\": \"LOCATION\", \"pattern\": [{\"lower\": {\"in\": [\"city\", \"town\", \"village\"]}}]},\n",
    "    {\"label\": \"PRICE\", \"pattern\": [{\"lower\": {\"in\": [\"price\", \"cost\", \"budget\"]}}]},\n",
    "    {\"label\": \"BHK\", \"pattern\": [{\"lower\": {\"in\": [\"bhk\", \"bedroom\", \"hall\", \"kitchen\"]}}]},\n",
    "    {\"label\": \"PROPERTY_TYPE\", \"pattern\": [{\"lower\": {\"in\": [\"house\", \"flat\", \"apartment\"]}}]},\n",
    "    {\"label\": \"PERSON\", \"pattern\": [{\"ent_type\": \"PERSON\"}]},\n",
    "    {\"label\": \"NORP\", \"pattern\": [{\"ent_type\": \"NORP\"}]},\n",
    "    {\"label\": \"FAC\", \"pattern\": [{\"ent_type\": \"FAC\"}]},\n",
    "    {\"label\": \"ORG\", \"pattern\": [{\"ent_type\": \"ORG\"}]},\n",
    "    {\"label\": \"GPE\", \"pattern\": [{\"ent_type\": \"GPE\"}]},\n",
    "    {\"label\": \"LOC\", \"pattern\": [{\"ent_type\": \"LOC\"}]},\n",
    "    {\"label\": \"PRODUCT\", \"pattern\": [{\"ent_type\": \"PRODUCT\"}]},\n",
    "    {\"label\": \"LANGUAGE\", \"pattern\": [{\"ent_type\": \"LANGUAGE\"}]},\n",
    "    {\"label\": \"PERCENT\", \"pattern\": [{\"ent_type\": \"PERCENT\"}]},\n",
    "    {\"label\": \"MONEY\", \"pattern\": [{\"ent_type\": \"MONEY\"}]},\n",
    "    {\"label\": \"QUANTITY\", \"pattern\": [{\"ent_type\": \"QUANTITY\"}]},\n",
    "    {\"label\": \"ORDINAL\", \"pattern\": [{\"ent_type\": \"ORDINAL\"}]},\n",
    "    {\"label\": \"CARDINAL\", \"pattern\": [{\"ent_type\": \"CARDINAL\"}]}\n",
    "]\n",
    "ruler.add_patterns(custom_patterns)\n",
    "\n",
    "@spacy.Language.factory(\"custom_ner\")\n",
    "def custom_ner_component(nlp, name):\n",
    "    return ruler\n",
    "\n",
    "nlp.add_pipe(\"custom_ner\", before=\"ner\")\n",
    "\n",
    "text = \"\"\"7 BHK Independent House for sale in Sagarpur, Delhi. This 7 BHK unit is available in Sagarpur and offers a premium lifestyle at the best price. This property is posted by owner and there is no brokerage involved. Contact now, for details. It is a desired purchase for any homebuyer in Sagarpur. The price of this Independent House is Rs 55.0 L. Residents in this project also pay monthly maintenance charges of Rs 0. The built-up area is 1500 Square feet. There are 7 bedrooms and 4 bathroom. This property is at a walking distance from Deen Dayal Upadhyay Hospital, Mata Chanan Devi Hospital, and Sa...\"\"\"\n",
    "\n",
    "doc = nlp(text)\n",
    "\n",
    "for ent in doc.ents:\n",
    "    print(f\"Entity: {ent.text}, Label: {ent.label_}\")\n"
   ]
  },
  {
   "cell_type": "code",
   "execution_count": 6,
   "id": "c806a02a",
   "metadata": {},
   "outputs": [
    {
     "name": "stdout",
     "output_type": "stream",
     "text": [
      "{'doc_annotation': {'cats': {}, 'entities': ['O', 'O', 'O'], 'spans': {}, 'links': {}}, 'token_annotation': {'ORTH': ['I', 'like', 'stuff'], 'SPACY': [True, True, True], 'TAG': ['NOUN', 'VERB', 'NOUN'], 'LEMMA': ['', '', ''], 'POS': ['', '', ''], 'MORPH': ['', '', ''], 'HEAD': [0, 1, 2], 'DEP': ['', '', ''], 'SENT_START': [1, 0, 0]}}\n"
     ]
    }
   ],
   "source": [
    "import spacy\n",
    "from spacy.tokens import Doc\n",
    "from spacy.training import Example\n",
    "\n",
    "nlp = spacy.load(\"en_core_web_sm\")\n",
    "doc = Doc(nlp.vocab, words=[\"I\", \"like\", \"stuff\"])\n",
    "gold_dict = {\"tags\": [\"NOUN\", \"VERB\", \"NOUN\"]}\n",
    "example = Example.from_dict(doc, gold_dict)\n",
    "print(example)"
   ]
  },
  {
   "cell_type": "code",
   "execution_count": 11,
   "id": "62d8e120",
   "metadata": {},
   "outputs": [
    {
     "name": "stdout",
     "output_type": "stream",
     "text": [
      "{'doc_annotation': {'cats': {}, 'entities': ['U-PERS', 'O', 'O', 'B-LOC', 'L-LOC', 'O'], 'spans': {}, 'links': {}}, 'token_annotation': {'ORTH': ['Laura', 'flew', 'to', 'Silicon', 'Valley', '.'], 'SPACY': [True, True, True, True, False, False], 'TAG': ['', '', '', '', '', ''], 'LEMMA': ['', '', '', '', '', ''], 'POS': ['', '', '', '', '', ''], 'MORPH': ['', '', '', '', '', ''], 'HEAD': [0, 1, 2, 3, 4, 5], 'DEP': ['', '', '', '', '', ''], 'SENT_START': [1, 0, 0, 0, 0, 0]}}\n"
     ]
    }
   ],
   "source": [
    "doc = nlp(\"Laura flew to Silicon Valley.\")\n",
    "gold_dict = {\"entities\": [\"U-PERS\", \"O\", \"O\", \"B-LOC\", \"L-LOC\"]}\n",
    "example = Example.from_dict(doc, gold_dict)\n",
    "print(example)"
   ]
  },
  {
   "cell_type": "code",
   "execution_count": 13,
   "id": "1116ef24",
   "metadata": {},
   "outputs": [
    {
     "name": "stdout",
     "output_type": "stream",
     "text": [
      "{'doc_annotation': {'cats': {}, 'entities': ['U-PERSON', 'O', 'O', 'B-LOC', 'L-LOC', 'O'], 'spans': {}, 'links': {}}, 'token_annotation': {'ORTH': ['Laura', 'flew', 'to', 'Silicon', 'Valley', '.'], 'SPACY': [True, True, True, True, False, False], 'TAG': ['', '', '', '', '', ''], 'LEMMA': ['', '', '', '', '', ''], 'POS': ['', '', '', '', '', ''], 'MORPH': ['', '', '', '', '', ''], 'HEAD': [0, 1, 2, 3, 4, 5], 'DEP': ['', '', '', '', '', ''], 'SENT_START': [1, 0, 0, 0, 0, 0]}}\n"
     ]
    }
   ],
   "source": [
    "doc = nlp(\"Laura flew to Silicon Valley.\")\n",
    "gold_dict = {\"entities\": [(0, 5, \"PERSON\"), (14, 28, \"LOC\")]}\n",
    "example = Example.from_dict(doc, gold_dict)\n",
    "print(example)"
   ]
  },
  {
   "cell_type": "code",
   "execution_count": 15,
   "id": "73836e5d",
   "metadata": {},
   "outputs": [
    {
     "name": "stdout",
     "output_type": "stream",
     "text": [
      "{'doc_annotation': {'cats': {'POSITIVE': 1.0, 'NEGATIVE': 0.0}, 'entities': ['O', 'O', 'O', 'O', 'O', 'O', 'O'], 'spans': {}, 'links': {}}, 'token_annotation': {'ORTH': ['I', \"'m\", 'pretty', 'happy', 'about', 'that', '!'], 'SPACY': [False, True, True, True, True, False, False], 'TAG': ['', '', '', '', '', '', ''], 'LEMMA': ['', '', '', '', '', '', ''], 'POS': ['', '', '', '', '', '', ''], 'MORPH': ['', '', '', '', '', '', ''], 'HEAD': [0, 1, 2, 3, 4, 5, 6], 'DEP': ['', '', '', '', '', '', ''], 'SENT_START': [1, 0, 0, 0, 0, 0, 0]}}\n"
     ]
    }
   ],
   "source": [
    "doc = nlp(\"I'm pretty happy about that!\")\n",
    "gold_dict = {\"cats\": {\"POSITIVE\": 1.0, \"NEGATIVE\": 0.0}}\n",
    "example = Example.from_dict(doc, gold_dict)\n",
    "print(example)"
   ]
  },
  {
   "cell_type": "code",
   "execution_count": 17,
   "id": "a78bb8ab",
   "metadata": {},
   "outputs": [
    {
     "name": "stdout",
     "output_type": "stream",
     "text": [
      "{'doc_annotation': {'cats': {}, 'entities': ['B-PERSON', 'L-PERSON', 'O', 'O', 'O', 'O', 'O', 'O'], 'spans': {}, 'links': {(0, 12): {'Q7381115': 1.0}}}, 'token_annotation': {'ORTH': ['Russ', 'Cochran', 'his', 'reprints', 'include', 'EC', 'Comics', '.'], 'SPACY': [True, True, True, True, True, True, False, False], 'TAG': ['', '', '', '', '', '', '', ''], 'LEMMA': ['', '', '', '', '', '', '', ''], 'POS': ['', '', '', '', '', '', '', ''], 'MORPH': ['', '', '', '', '', '', '', ''], 'HEAD': [0, 1, 2, 3, 4, 5, 6, 7], 'DEP': ['', '', '', '', '', '', '', ''], 'SENT_START': [1, 0, 0, 0, 0, 0, 0, 0]}}\n"
     ]
    }
   ],
   "source": [
    "doc = nlp(\"Russ Cochran his reprints include EC Comics.\")\n",
    "gold_dict = {\"entities\": [(0, 12, \"PERSON\")],\n",
    "             \"links\": {(0, 12): {\"Q7381115\": 1.0, \"Q2146908\": 0.0}},\n",
    "             \"sent_starts\": [1, -1, -1, -1, -1, -1, -1, -1]}\n",
    "example = Example.from_dict(doc, gold_dict)\n",
    "print(example)"
   ]
  },
  {
   "cell_type": "code",
   "execution_count": 18,
   "id": "c085479f",
   "metadata": {},
   "outputs": [
    {
     "name": "stderr",
     "output_type": "stream",
     "text": [
      "/home/codetrade/anaconda3/lib/python3.10/site-packages/spacy/util.py:910: UserWarning: [W095] Model 'en_core_web_lg' (3.5.0) was trained with spaCy v3.5 and may not be 100% compatible with the current version (3.6.0). If you see errors or degraded performance, download a newer compatible model or retrain your custom model with the current spaCy version. For more details and available updates, run: python -m spacy validate\n",
      "  warnings.warn(warn_msg)\n"
     ]
    },
    {
     "name": "stdout",
     "output_type": "stream",
     "text": [
      "Entity: Laura, Label: PERSON\n",
      "Entity: Silicon Valley, Label: LOC\n",
      "Entity: Elon Musk, Label: PERSON\n",
      "Entity: Tesla, Label: ORG\n"
     ]
    }
   ],
   "source": [
    "import spacy\n",
    "nlp = spacy.load(\"en_core_web_lg\")  \n",
    "text = \"Laura flew to Silicon Valley. Elon Musk is the CEO of Tesla.\"\n",
    "doc = nlp(text)\n",
    "entities = [(ent.text, ent.label_) for ent in doc.ents]\n",
    "for entity, label in entities:\n",
    "    print(f\"Entity: {entity}, Label: {label}\")\n"
   ]
  },
  {
   "cell_type": "code",
   "execution_count": 19,
   "id": "d63b062d",
   "metadata": {},
   "outputs": [
    {
     "name": "stdout",
     "output_type": "stream",
     "text": [
      "Entity: Laura, Label: PERSON\n",
      "Entity: Silicon Valley, Label: LOC\n",
      "Entity: Elon Musk, Label: PERSON\n",
      "Entity: Tesla, Label: ORG\n"
     ]
    }
   ],
   "source": [
    "import spacy\n",
    "nlp = spacy.load(\"en_core_web_sm\")\n",
    "text = \"Laura flew to Silicon Valley. Elon Musk is the CEO of Tesla.\"\n",
    "doc = nlp(text)\n",
    "entities = [(ent.text, ent.label_) for ent in doc.ents]\n",
    "for entity, label in entities:\n",
    "    print(f\"Entity: {entity}, Label: {label}\")"
   ]
  },
  {
   "cell_type": "code",
   "execution_count": 21,
   "id": "7b9f99a0",
   "metadata": {},
   "outputs": [
    {
     "ename": "AttributeError",
     "evalue": "module 'spacy_transformers' has no attribute 'load_model'",
     "output_type": "error",
     "traceback": [
      "\u001b[0;31m---------------------------------------------------------------------------\u001b[0m",
      "\u001b[0;31mAttributeError\u001b[0m                            Traceback (most recent call last)",
      "Cell \u001b[0;32mIn[21], line 3\u001b[0m\n\u001b[1;32m      1\u001b[0m \u001b[38;5;28;01mimport\u001b[39;00m \u001b[38;5;21;01mspacy\u001b[39;00m\n\u001b[1;32m      2\u001b[0m \u001b[38;5;28;01mimport\u001b[39;00m \u001b[38;5;21;01mspacy_transformers\u001b[39;00m\n\u001b[0;32m----> 3\u001b[0m nlp \u001b[38;5;241m=\u001b[39m \u001b[43mspacy_transformers\u001b[49m\u001b[38;5;241;43m.\u001b[39;49m\u001b[43mload_model\u001b[49m(\u001b[38;5;124m\"\u001b[39m\u001b[38;5;124mbert-base-uncased\u001b[39m\u001b[38;5;124m\"\u001b[39m)\n\u001b[1;32m      4\u001b[0m text \u001b[38;5;241m=\u001b[39m \u001b[38;5;124m\"\u001b[39m\u001b[38;5;124mGive me the interaction of the ner models using this methods.\u001b[39m\u001b[38;5;124m\"\u001b[39m\n\u001b[1;32m      5\u001b[0m doc \u001b[38;5;241m=\u001b[39m nlp(text)\n",
      "\u001b[0;31mAttributeError\u001b[0m: module 'spacy_transformers' has no attribute 'load_model'"
     ]
    }
   ],
   "source": [
    "import spacy\n",
    "import spacy_transformers\n",
    "nlp = spacy_transformers.load_model(\"bert-base-uncased\")\n",
    "text = \"Give me the interaction of the ner models using this methods.\"\n",
    "doc = nlp(text)\n",
    "for token in doc:\n",
    "    print(token.text, token.vector[:5])"
   ]
  },
  {
   "cell_type": "code",
   "execution_count": null,
   "id": "7d634c8c",
   "metadata": {},
   "outputs": [],
   "source": []
  }
 ],
 "metadata": {
  "kernelspec": {
   "display_name": "Python 3 (ipykernel)",
   "language": "python",
   "name": "python3"
  },
  "language_info": {
   "codemirror_mode": {
    "name": "ipython",
    "version": 3
   },
   "file_extension": ".py",
   "mimetype": "text/x-python",
   "name": "python",
   "nbconvert_exporter": "python",
   "pygments_lexer": "ipython3",
   "version": "3.10.9"
  }
 },
 "nbformat": 4,
 "nbformat_minor": 5
}
