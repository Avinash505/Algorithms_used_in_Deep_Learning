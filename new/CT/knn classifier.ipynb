{
 "cells": [
  {
   "cell_type": "code",
   "execution_count": 1,
   "id": "5aa89d68",
   "metadata": {},
   "outputs": [],
   "source": [
    "import numpy as np\n",
    "import pandas as pd\n",
    "import matplotlib.pyplot as plt"
   ]
  },
  {
   "cell_type": "code",
   "execution_count": 2,
   "id": "928f02cf",
   "metadata": {},
   "outputs": [],
   "source": [
    "data=pd.read_csv('/home/codetrade/Downloads/Social_Network_Ads.csv')"
   ]
  },
  {
   "cell_type": "code",
   "execution_count": 3,
   "id": "ff6ac9b4",
   "metadata": {},
   "outputs": [
    {
     "data": {
      "text/html": [
       "<div>\n",
       "<style scoped>\n",
       "    .dataframe tbody tr th:only-of-type {\n",
       "        vertical-align: middle;\n",
       "    }\n",
       "\n",
       "    .dataframe tbody tr th {\n",
       "        vertical-align: top;\n",
       "    }\n",
       "\n",
       "    .dataframe thead th {\n",
       "        text-align: right;\n",
       "    }\n",
       "</style>\n",
       "<table border=\"1\" class=\"dataframe\">\n",
       "  <thead>\n",
       "    <tr style=\"text-align: right;\">\n",
       "      <th></th>\n",
       "      <th>User ID</th>\n",
       "      <th>Gender</th>\n",
       "      <th>Age</th>\n",
       "      <th>EstimatedSalary</th>\n",
       "      <th>Purchased</th>\n",
       "    </tr>\n",
       "  </thead>\n",
       "  <tbody>\n",
       "    <tr>\n",
       "      <th>0</th>\n",
       "      <td>15624510</td>\n",
       "      <td>Male</td>\n",
       "      <td>19</td>\n",
       "      <td>19000</td>\n",
       "      <td>0</td>\n",
       "    </tr>\n",
       "    <tr>\n",
       "      <th>1</th>\n",
       "      <td>15810944</td>\n",
       "      <td>Male</td>\n",
       "      <td>35</td>\n",
       "      <td>20000</td>\n",
       "      <td>0</td>\n",
       "    </tr>\n",
       "    <tr>\n",
       "      <th>2</th>\n",
       "      <td>15668575</td>\n",
       "      <td>Female</td>\n",
       "      <td>26</td>\n",
       "      <td>43000</td>\n",
       "      <td>0</td>\n",
       "    </tr>\n",
       "    <tr>\n",
       "      <th>3</th>\n",
       "      <td>15603246</td>\n",
       "      <td>Female</td>\n",
       "      <td>27</td>\n",
       "      <td>57000</td>\n",
       "      <td>0</td>\n",
       "    </tr>\n",
       "    <tr>\n",
       "      <th>4</th>\n",
       "      <td>15804002</td>\n",
       "      <td>Male</td>\n",
       "      <td>19</td>\n",
       "      <td>76000</td>\n",
       "      <td>0</td>\n",
       "    </tr>\n",
       "  </tbody>\n",
       "</table>\n",
       "</div>"
      ],
      "text/plain": [
       "    User ID  Gender  Age  EstimatedSalary  Purchased\n",
       "0  15624510    Male   19            19000          0\n",
       "1  15810944    Male   35            20000          0\n",
       "2  15668575  Female   26            43000          0\n",
       "3  15603246  Female   27            57000          0\n",
       "4  15804002    Male   19            76000          0"
      ]
     },
     "execution_count": 3,
     "metadata": {},
     "output_type": "execute_result"
    }
   ],
   "source": [
    "data.head()"
   ]
  },
  {
   "cell_type": "code",
   "execution_count": 4,
   "id": "f8e48ac9",
   "metadata": {},
   "outputs": [],
   "source": [
    "X=data.iloc[:,2:4].values"
   ]
  },
  {
   "cell_type": "code",
   "execution_count": 5,
   "id": "cc55f028",
   "metadata": {},
   "outputs": [
    {
     "data": {
      "text/plain": [
       "(400, 2)"
      ]
     },
     "execution_count": 5,
     "metadata": {},
     "output_type": "execute_result"
    }
   ],
   "source": [
    "X.shape"
   ]
  },
  {
   "cell_type": "code",
   "execution_count": 6,
   "id": "45df2c2f",
   "metadata": {},
   "outputs": [],
   "source": [
    "y=data.iloc[:,-1].values"
   ]
  },
  {
   "cell_type": "code",
   "execution_count": 7,
   "id": "d4b4e65b",
   "metadata": {},
   "outputs": [
    {
     "data": {
      "text/plain": [
       "(400,)"
      ]
     },
     "execution_count": 7,
     "metadata": {},
     "output_type": "execute_result"
    }
   ],
   "source": [
    "y.shape"
   ]
  },
  {
   "cell_type": "code",
   "execution_count": 8,
   "id": "9bc11124",
   "metadata": {},
   "outputs": [],
   "source": [
    "from sklearn.model_selection import train_test_split\n",
    "X_train, X_test, y_train, y_test = train_test_split(X, y, test_size=0.2)"
   ]
  },
  {
   "cell_type": "code",
   "execution_count": 9,
   "id": "f4df9acc",
   "metadata": {},
   "outputs": [
    {
     "data": {
      "text/plain": [
       "(320, 2)"
      ]
     },
     "execution_count": 9,
     "metadata": {},
     "output_type": "execute_result"
    }
   ],
   "source": [
    "X_train.shape"
   ]
  },
  {
   "cell_type": "code",
   "execution_count": 10,
   "id": "06a448cf",
   "metadata": {},
   "outputs": [
    {
     "data": {
      "text/plain": [
       "(80, 2)"
      ]
     },
     "execution_count": 10,
     "metadata": {},
     "output_type": "execute_result"
    }
   ],
   "source": [
    "X_test.shape"
   ]
  },
  {
   "cell_type": "markdown",
   "id": "4bc3b2d0",
   "metadata": {},
   "source": [
    "\n",
    "# Standard scaling"
   ]
  },
  {
   "cell_type": "code",
   "execution_count": 11,
   "id": "6df5c63f",
   "metadata": {},
   "outputs": [],
   "source": [
    "from sklearn.preprocessing import StandardScaler\n",
    "scaler=StandardScaler()"
   ]
  },
  {
   "cell_type": "code",
   "execution_count": 12,
   "id": "f1963f9a",
   "metadata": {},
   "outputs": [
    {
     "data": {
      "text/plain": [
       "array([[ 0.22077584, -0.10734422],\n",
       "       [ 1.16527139, -1.42064645],\n",
       "       [ 0.03187672,  0.06776275],\n",
       "       [ 0.97637228, -1.04124803],\n",
       "       [-1.29041705, -1.33309297],\n",
       "       [-0.81816927, -1.1871705 ],\n",
       "       [-0.25147194, -0.63266511],\n",
       "       [-0.25147194, -0.31163568],\n",
       "       [-1.76266483, -1.39146195],\n",
       "       [-0.62927016, -1.56656892],\n",
       "       [ 0.88192272, -1.27472398],\n",
       "       [-1.57376572, -0.01979074],\n",
       "       [-0.53482061, -1.47901544],\n",
       "       [-0.06257283,  0.09694724],\n",
       "       [-1.76266483,  0.03857825],\n",
       "       [-1.29041705, -1.07043252],\n",
       "       [ 0.97637228,  2.11067733],\n",
       "       [-1.10151794, -0.48674264],\n",
       "       [ 0.88192272, -1.42064645],\n",
       "       [ 1.3541705 , -0.89532556],\n",
       "       [ 0.88192272,  2.19823081],\n",
       "       [ 1.07082183,  2.11067733],\n",
       "       [ 0.40967495,  2.34415328],\n",
       "       [ 1.54306961,  1.03085105],\n",
       "       [ 0.22077584,  0.09694724],\n",
       "       [ 0.5041245 ,  1.264327  ],\n",
       "       [ 0.78747317,  0.15531623],\n",
       "       [ 0.40967495,  0.18450072],\n",
       "       [ 0.22077584,  0.27205421],\n",
       "       [-1.47931616, -1.21635499],\n",
       "       [ 1.07082183, -0.86614106],\n",
       "       [-0.3459215 , -0.74940309],\n",
       "       [-1.85711438, -0.01979074],\n",
       "       [-0.06257283,  0.3012387 ],\n",
       "       [ 0.78747317,  0.3012387 ],\n",
       "       [ 0.40967495,  0.62226813],\n",
       "       [-0.81816927, -0.63266511],\n",
       "       [-0.91261883, -0.92451005],\n",
       "       [-0.06257283, -0.48674264],\n",
       "       [-0.81816927,  2.31496879],\n",
       "       [ 0.88192272, -0.51592713],\n",
       "       [ 0.88192272, -1.01206353],\n",
       "       [-0.25147194, -0.39918916],\n",
       "       [-0.25147194,  0.09694724],\n",
       "       [-0.06257283,  2.19823081],\n",
       "       [ 0.12632628,  1.90638587],\n",
       "       [ 2.10976694,  0.41797668],\n",
       "       [ 1.07082183, -0.10734422],\n",
       "       [-0.06257283, -0.1948977 ],\n",
       "       [-0.25147194, -1.36227746],\n",
       "       [ 1.92086783, -0.63266511],\n",
       "       [ 1.07082183, -1.1871705 ],\n",
       "       [-1.19596749, -1.36227746],\n",
       "       [ 0.12632628,  0.3012387 ],\n",
       "       [ 1.92086783, -0.89532556],\n",
       "       [-0.62927016,  0.21368522],\n",
       "       [-0.15702239,  1.43943397],\n",
       "       [ 1.07082183,  0.50553016],\n",
       "       [-0.72371972, -1.50819993],\n",
       "       [ 0.12632628,  0.7973751 ],\n",
       "       [-0.06257283, -0.34082017],\n",
       "       [-0.44037105, -0.74940309],\n",
       "       [-0.44037105, -0.51592713],\n",
       "       [ 0.31522539, -1.12880151],\n",
       "       [ 0.03187672, -0.54511163],\n",
       "       [ 2.01531739, -1.157986  ],\n",
       "       [-1.00706838, -1.09961701],\n",
       "       [-1.66821527,  0.38879218],\n",
       "       [ 0.12632628,  0.24286971],\n",
       "       [ 2.01531739, -0.77858758],\n",
       "       [-0.53482061,  0.50553016],\n",
       "       [-1.57376572, -1.53738442],\n",
       "       [-0.62927016, -1.47901544],\n",
       "       [ 0.31522539, -0.28245118],\n",
       "       [ 2.10976694, -0.6618496 ],\n",
       "       [-1.76266483,  0.21368522],\n",
       "       [ 0.03187672,  0.06776275],\n",
       "       [-1.10151794, -1.53738442],\n",
       "       [-0.3459215 ,  1.264327  ],\n",
       "       [-0.3459215 ,  0.09694724],\n",
       "       [-0.44037105, -0.80777207],\n",
       "       [ 0.88192272, -0.74940309],\n",
       "       [-0.06257283,  1.99393935],\n",
       "       [-0.62927016, -0.01979074],\n",
       "       [-0.25147194, -1.27472398],\n",
       "       [-0.25147194,  0.56389915],\n",
       "       [ 0.22077584, -0.28245118],\n",
       "       [ 1.92086783,  0.7681906 ],\n",
       "       [-1.47931616, -0.39918916],\n",
       "       [-0.25147194,  0.06776275],\n",
       "       [-1.00706838,  0.7973751 ],\n",
       "       [-1.10151794,  0.35960769],\n",
       "       [ 1.92086783,  0.94329757],\n",
       "       [ 0.40967495,  1.14758903],\n",
       "       [ 0.31522539,  0.53471465],\n",
       "       [ 2.01531739,  0.21368522],\n",
       "       [-0.72371972, -0.1948977 ],\n",
       "       [ 0.97637228, -0.80777207],\n",
       "       [-0.25147194, -0.22408219],\n",
       "       [ 0.5041245 ,  1.7604634 ],\n",
       "       [-1.76266483, -1.44983094],\n",
       "       [-0.25147194, -0.25326669],\n",
       "       [ 0.97637228,  0.15531623],\n",
       "       [-0.25147194,  0.09694724],\n",
       "       [ 1.07082183,  0.59308364],\n",
       "       [-0.15702239, -0.42837365],\n",
       "       [-0.25147194, -0.54511163],\n",
       "       [-0.06257283,  0.33042319],\n",
       "       [-0.06257283,  0.24286971],\n",
       "       [ 0.12632628,  1.90638587],\n",
       "       [-0.25147194, -0.34082017],\n",
       "       [ 0.69302361, -1.07043252],\n",
       "       [-1.10151794, -1.56656892],\n",
       "       [-0.72371972,  0.59308364],\n",
       "       [-1.38486661, -0.16571321],\n",
       "       [-0.25147194, -0.86614106],\n",
       "       [-1.66821527, -0.57429612],\n",
       "       [-0.72371972,  0.3012387 ],\n",
       "       [ 0.12632628,  0.06776275],\n",
       "       [ 0.22077584, -0.25326669],\n",
       "       [ 0.40967495, -0.10734422],\n",
       "       [-0.72371972,  1.93557036],\n",
       "       [ 0.97637228,  1.90638587],\n",
       "       [-0.91261883,  0.3012387 ],\n",
       "       [-1.00706838, -0.34082017],\n",
       "       [ 0.03187672, -0.22408219],\n",
       "       [-0.25147194,  0.12613174],\n",
       "       [-0.44037105, -1.1871705 ],\n",
       "       [-0.44037105,  1.2935115 ],\n",
       "       [ 0.31522539, -0.51592713],\n",
       "       [ 0.59857406, -0.86614106],\n",
       "       [ 1.63751917, -0.86614106],\n",
       "       [-0.3459215 , -1.27472398],\n",
       "       [-0.25147194, -0.10734422],\n",
       "       [-0.25147194,  0.82655959],\n",
       "       [-0.62927016, -0.07815972],\n",
       "       [ 1.07082183, -0.95369454],\n",
       "       [-0.91261883,  0.47634566],\n",
       "       [ 1.07082183,  0.56389915],\n",
       "       [ 0.03187672,  1.264327  ],\n",
       "       [-1.10151794, -1.56656892],\n",
       "       [-1.10151794,  0.33042319],\n",
       "       [-0.06257283, -0.45755815],\n",
       "       [-1.10151794, -1.07043252],\n",
       "       [-0.53482061,  1.41024947],\n",
       "       [-1.00706838,  0.59308364],\n",
       "       [-1.76266483, -1.24553948],\n",
       "       [-1.10151794, -0.98287904],\n",
       "       [ 0.97637228,  0.62226813],\n",
       "       [ 0.88192272,  1.11840453],\n",
       "       [-0.15702239,  2.19823081],\n",
       "       [ 0.03187672, -0.39918916],\n",
       "       [ 1.82641828, -0.25326669],\n",
       "       [ 0.78747317, -1.36227746],\n",
       "       [ 0.97637228,  2.02312385],\n",
       "       [-1.00706838,  1.99393935],\n",
       "       [ 1.82641828,  0.15531623],\n",
       "       [ 0.88192272, -0.57429612],\n",
       "       [-0.15702239,  0.88492858],\n",
       "       [-0.06257283,  0.18450072],\n",
       "       [-0.62927016,  0.15531623],\n",
       "       [ 0.03187672, -0.10734422],\n",
       "       [ 0.78747317, -1.33309297],\n",
       "       [ 0.78747317, -0.80777207],\n",
       "       [ 0.40967495,  0.33042319],\n",
       "       [ 0.40967495,  1.03085105],\n",
       "       [ 1.73196872, -0.25326669],\n",
       "       [ 0.31522539, -0.48674264],\n",
       "       [-1.19596749,  0.33042319],\n",
       "       [-1.38486661, -0.07815972],\n",
       "       [-1.00706838,  0.56389915],\n",
       "       [-0.25147194,  0.18450072],\n",
       "       [-0.44037105, -0.25326669],\n",
       "       [-0.91261883, -0.28245118],\n",
       "       [ 0.31522539,  0.3012387 ],\n",
       "       [ 2.10976694, -1.01206353],\n",
       "       [-1.00706838, -1.42064645],\n",
       "       [ 0.31522539,  0.09694724],\n",
       "       [-1.66821527, -1.33309297],\n",
       "       [-0.3459215 ,  1.35188048],\n",
       "       [-1.85711438,  0.38879218],\n",
       "       [-1.85711438, -0.72021859],\n",
       "       [-0.91261883, -0.72021859],\n",
       "       [-1.00706838, -0.31163568],\n",
       "       [-1.38486661, -0.60348062],\n",
       "       [ 1.44862006,  2.16904632],\n",
       "       [ 0.40967495,  0.03857825],\n",
       "       [-1.10151794, -0.74940309],\n",
       "       [ 1.3541705 ,  0.62226813],\n",
       "       [ 0.22077584, -0.34082017],\n",
       "       [ 0.03187672,  1.2935115 ],\n",
       "       [-1.66821527,  0.15531623],\n",
       "       [-1.29041705, -1.21635499],\n",
       "       [-0.06257283,  0.70982162],\n",
       "       [ 0.12632628,  0.12613174],\n",
       "       [-1.10151794, -1.50819993],\n",
       "       [-0.06257283,  2.2565998 ],\n",
       "       [ 0.31522539, -0.48674264],\n",
       "       [-0.25147194, -1.33309297],\n",
       "       [-1.00706838,  0.44716117],\n",
       "       [-0.25147194, -0.89532556],\n",
       "       [ 0.22077584,  0.18450072],\n",
       "       [-1.10151794,  0.44716117],\n",
       "       [-0.06257283,  0.33042319],\n",
       "       [ 0.31522539,  0.09694724],\n",
       "       [ 1.16527139, -0.72021859],\n",
       "       [-0.91261883,  1.58535644],\n",
       "       [-0.53482061, -1.47901544],\n",
       "       [ 0.69302361, -1.24553948],\n",
       "       [-0.91261883, -1.07043252],\n",
       "       [-1.10151794,  0.50553016],\n",
       "       [-0.25147194, -0.54511163],\n",
       "       [ 0.78747317, -1.1871705 ],\n",
       "       [ 2.01531739,  2.16904632],\n",
       "       [ 2.10976694, -0.77858758],\n",
       "       [ 1.92086783,  2.19823081],\n",
       "       [ 0.12632628,  1.08922004],\n",
       "       [-0.15702239,  0.18450072],\n",
       "       [-1.10151794,  0.09694724],\n",
       "       [ 2.01531739,  1.78964789],\n",
       "       [ 0.03187672, -0.51592713],\n",
       "       [-1.29041705, -0.39918916],\n",
       "       [-0.25147194, -0.72021859],\n",
       "       [ 1.63751917,  1.78964789],\n",
       "       [-0.81816927,  0.33042319],\n",
       "       [-0.81816927, -0.22408219],\n",
       "       [ 1.3541705 ,  1.32269599],\n",
       "       [-1.38486661, -1.1871705 ],\n",
       "       [ 0.22077584,  0.06776275],\n",
       "       [ 1.54306961, -1.24553948],\n",
       "       [-1.10151794,  0.33042319],\n",
       "       [ 0.59857406,  2.05230834],\n",
       "       [ 1.3541705 ,  2.37333777],\n",
       "       [-0.72371972,  1.11840453],\n",
       "       [ 1.3541705 , -1.39146195],\n",
       "       [ 0.12632628, -0.28245118],\n",
       "       [-0.15702239, -0.25326669],\n",
       "       [ 0.69302361,  0.3012387 ],\n",
       "       [-0.72371972,  1.38106498],\n",
       "       [-0.81816927,  0.18450072],\n",
       "       [ 0.78747317, -0.28245118],\n",
       "       [ 0.40967495,  0.12613174],\n",
       "       [ 1.54306961,  0.03857825],\n",
       "       [ 1.44862006,  0.09694724],\n",
       "       [-1.29041705,  0.59308364],\n",
       "       [-0.53482061,  0.91411307],\n",
       "       [ 0.22077584, -0.63266511],\n",
       "       [ 0.97637228, -1.04124803],\n",
       "       [ 1.07082183, -1.1871705 ],\n",
       "       [-1.85711438,  0.50553016],\n",
       "       [-0.25147194,  0.18450072],\n",
       "       [-0.62927016,  1.43943397],\n",
       "       [-0.3459215 , -0.74940309],\n",
       "       [ 0.97637228,  1.81883239],\n",
       "       [-0.91261883,  0.59308364],\n",
       "       [ 0.12632628, -0.77858758],\n",
       "       [ 1.82641828,  1.55617194],\n",
       "       [-1.29041705, -0.39918916],\n",
       "       [-0.06257283,  0.27205421],\n",
       "       [-0.25147194, -0.28245118],\n",
       "       [ 0.31522539, -0.6910341 ],\n",
       "       [-1.66821527,  0.38879218],\n",
       "       [ 0.88192272,  1.2935115 ],\n",
       "       [-1.00706838, -0.31163568],\n",
       "       [-1.66821527, -0.95369454],\n",
       "       [ 0.03187672,  0.33042319],\n",
       "       [-0.06257283,  0.03857825],\n",
       "       [-0.25147194, -1.21635499],\n",
       "       [-0.72371972, -1.56656892],\n",
       "       [ 0.97637228,  0.7973751 ],\n",
       "       [ 2.01531739,  0.41797668],\n",
       "       [-0.25147194,  2.28578429],\n",
       "       [-0.25147194, -0.45755815],\n",
       "       [ 1.63751917,  1.64372542],\n",
       "       [-0.53482061,  2.37333777],\n",
       "       [ 0.22077584, -0.34082017],\n",
       "       [ 1.73196872,  1.87720138],\n",
       "       [ 2.10976694,  0.97248206],\n",
       "       [-0.15702239, -0.16571321],\n",
       "       [-1.00706838, -0.42837365],\n",
       "       [-1.47931616, -1.47901544],\n",
       "       [ 0.22077584,  0.18450072],\n",
       "       [-1.66821527,  0.50553016],\n",
       "       [ 0.69302361, -1.36227746],\n",
       "       [ 1.54306961,  1.14758903],\n",
       "       [ 0.31522539,  0.09694724],\n",
       "       [-0.25147194, -1.42064645],\n",
       "       [ 0.78747317,  1.41024947],\n",
       "       [-1.57376572,  0.09694724],\n",
       "       [-0.72371972, -0.57429612],\n",
       "       [ 0.88192272,  1.06003554],\n",
       "       [-0.72371972,  0.33042319],\n",
       "       [ 0.97637228, -1.157986  ],\n",
       "       [ 0.78747317,  0.7973751 ],\n",
       "       [ 0.69302361, -1.36227746],\n",
       "       [ 0.40967495, -0.42837365],\n",
       "       [ 1.25972094,  1.90638587],\n",
       "       [-1.57376572,  0.56389915],\n",
       "       [-0.06257283, -1.04124803],\n",
       "       [-0.44037105, -1.09961701],\n",
       "       [ 1.25972094, -1.33309297],\n",
       "       [ 0.88192272, -1.33309297],\n",
       "       [ 0.22077584, -0.22408219],\n",
       "       [-0.62927016,  0.06776275],\n",
       "       [ 2.10976694, -0.77858758],\n",
       "       [ 1.44862006, -1.01206353],\n",
       "       [ 0.31522539, -0.25326669],\n",
       "       [-1.19596749,  0.3012387 ],\n",
       "       [ 0.03187672, -0.22408219],\n",
       "       [-1.19596749, -1.04124803],\n",
       "       [ 0.97637228,  1.46861846],\n",
       "       [ 0.78747317,  0.56389915],\n",
       "       [ 0.31522539, -0.16571321],\n",
       "       [-1.10151794,  1.43943397],\n",
       "       [-0.81816927,  0.41797668],\n",
       "       [ 0.12632628, -0.77858758],\n",
       "       [-1.38486661, -1.42064645],\n",
       "       [ 0.22077584, -0.34082017],\n",
       "       [-1.29041705, -0.31163568],\n",
       "       [ 2.10976694,  1.14758903]])"
      ]
     },
     "execution_count": 12,
     "metadata": {},
     "output_type": "execute_result"
    }
   ],
   "source": [
    "X_train=scaler.fit_transform(X_train)\n",
    "X_train"
   ]
  },
  {
   "cell_type": "code",
   "execution_count": 13,
   "id": "a83b71f6",
   "metadata": {},
   "outputs": [
    {
     "data": {
      "text/plain": [
       "array([[-0.25147194,  1.14758903],\n",
       "       [ 1.82641828, -1.04124803],\n",
       "       [-1.47931616,  0.35960769],\n",
       "       [ 0.03187672, -0.28245118],\n",
       "       [ 0.78747317,  0.38879218],\n",
       "       [-0.53482061,  1.93557036],\n",
       "       [ 0.97637228, -0.98287904],\n",
       "       [-0.06257283,  0.15531623],\n",
       "       [ 0.97637228, -1.12880151],\n",
       "       [-0.15702239,  1.67290992],\n",
       "       [-0.25147194,  0.24286971],\n",
       "       [-0.72371972,  0.53471465],\n",
       "       [ 0.88192272, -0.63266511],\n",
       "       [-0.15702239,  1.64372542],\n",
       "       [-1.00706838, -1.50819993],\n",
       "       [-0.62927016, -0.31163568],\n",
       "       [-1.19596749,  0.53471465],\n",
       "       [ 1.92086783, -1.33309297],\n",
       "       [-0.91261883,  0.53471465],\n",
       "       [ 1.16527139, -0.95369454],\n",
       "       [-0.91261883,  0.44716117],\n",
       "       [ 1.16527139,  0.56389915],\n",
       "       [ 1.07082183,  0.15531623],\n",
       "       [ 0.31522539,  0.06776275],\n",
       "       [ 0.12632628,  1.55617194],\n",
       "       [ 0.40967495, -0.45755815],\n",
       "       [ 0.12632628,  0.06776275],\n",
       "       [-0.15702239, -0.48674264],\n",
       "       [ 0.22077584,  1.11840453],\n",
       "       [-0.81816927,  0.41797668],\n",
       "       [ 1.25972094,  2.2565998 ],\n",
       "       [-0.25147194,  0.3012387 ],\n",
       "       [-0.25147194,  0.65145263],\n",
       "       [-1.00706838,  0.62226813],\n",
       "       [-0.81816927, -0.74940309],\n",
       "       [ 1.73196872,  1.03085105],\n",
       "       [ 1.3541705 ,  2.02312385],\n",
       "       [ 0.12632628, -0.22408219],\n",
       "       [-0.44037105,  0.00939376],\n",
       "       [-0.53482061,  1.49780295],\n",
       "       [-1.85711438, -0.48674264],\n",
       "       [-1.19596749,  0.62226813],\n",
       "       [-0.06257283,  0.06776275],\n",
       "       [ 0.69302361, -0.6910341 ],\n",
       "       [-0.15702239, -1.04124803],\n",
       "       [-0.06257283, -0.39918916],\n",
       "       [ 1.44862006,  1.03085105],\n",
       "       [-0.15702239, -0.54511163],\n",
       "       [-1.47931616, -0.16571321],\n",
       "       [ 0.78747317, -1.07043252],\n",
       "       [ 0.31522539,  0.33042319],\n",
       "       [ 0.12632628,  0.18450072],\n",
       "       [ 2.01531739,  0.56389915],\n",
       "       [ 0.88192272, -1.12880151],\n",
       "       [ 0.40967495, -0.42837365],\n",
       "       [ 0.22077584,  2.13986182],\n",
       "       [ 0.40967495,  0.3012387 ],\n",
       "       [-0.62927016,  0.59308364],\n",
       "       [ 1.44862006,  0.38879218],\n",
       "       [-0.91261883, -0.39918916],\n",
       "       [-1.10151794, -1.12880151],\n",
       "       [ 0.40967495, -0.13652871],\n",
       "       [ 0.40967495,  0.33042319],\n",
       "       [-1.38486661,  0.38879218],\n",
       "       [-0.62927016, -1.01206353],\n",
       "       [ 0.40967495, -0.10734422],\n",
       "       [ 0.31522539,  0.09694724],\n",
       "       [ 0.5041245 ,  1.87720138],\n",
       "       [-0.53482061,  1.41024947],\n",
       "       [-0.44037105,  2.34415328],\n",
       "       [ 0.03187672, -0.54511163],\n",
       "       [-0.91261883, -0.28245118],\n",
       "       [ 1.82641828, -1.24553948],\n",
       "       [-1.29041705, -1.44983094],\n",
       "       [ 0.69302361,  1.81883239],\n",
       "       [ 0.88192272, -0.54511163],\n",
       "       [-0.81816927, -0.74940309],\n",
       "       [-1.29041705,  0.44716117],\n",
       "       [-1.76266483, -1.27472398],\n",
       "       [-1.76266483,  0.47634566]])"
      ]
     },
     "execution_count": 13,
     "metadata": {},
     "output_type": "execute_result"
    }
   ],
   "source": [
    "X_test=scaler.transform(X_test)\n",
    "X_test"
   ]
  },
  {
   "cell_type": "code",
   "execution_count": 14,
   "id": "4bf411d4",
   "metadata": {},
   "outputs": [
    {
     "data": {
      "text/plain": [
       "17.88854381999832"
      ]
     },
     "execution_count": 14,
     "metadata": {},
     "output_type": "execute_result"
    }
   ],
   "source": [
    "# know the k value\n",
    "np.sqrt(X_train.shape[0])"
   ]
  },
  {
   "cell_type": "code",
   "execution_count": 15,
   "id": "25649f4f",
   "metadata": {},
   "outputs": [],
   "source": [
    "k=17"
   ]
  },
  {
   "cell_type": "code",
   "execution_count": 16,
   "id": "78026b1f",
   "metadata": {},
   "outputs": [],
   "source": [
    "from sklearn.neighbors import KNeighborsClassifier\n",
    "knn=KNeighborsClassifier(n_neighbors=k)"
   ]
  },
  {
   "cell_type": "code",
   "execution_count": 17,
   "id": "8cf86e69",
   "metadata": {},
   "outputs": [
    {
     "data": {
      "text/plain": [
       "KNeighborsClassifier(n_neighbors=17)"
      ]
     },
     "execution_count": 17,
     "metadata": {},
     "output_type": "execute_result"
    }
   ],
   "source": [
    "knn.fit(X_train,y_train)"
   ]
  },
  {
   "cell_type": "code",
   "execution_count": 18,
   "id": "4c8d1bb2",
   "metadata": {},
   "outputs": [],
   "source": [
    "y_pred=knn.predict(X_test)"
   ]
  },
  {
   "cell_type": "code",
   "execution_count": 19,
   "id": "a754cf66",
   "metadata": {},
   "outputs": [
    {
     "data": {
      "text/plain": [
       "(80,)"
      ]
     },
     "execution_count": 19,
     "metadata": {},
     "output_type": "execute_result"
    }
   ],
   "source": [
    "y_pred.shape"
   ]
  },
  {
   "cell_type": "code",
   "execution_count": 20,
   "id": "cb5f2ebd",
   "metadata": {},
   "outputs": [
    {
     "data": {
      "text/plain": [
       "(80,)"
      ]
     },
     "execution_count": 20,
     "metadata": {},
     "output_type": "execute_result"
    }
   ],
   "source": [
    "y_test.shape"
   ]
  },
  {
   "cell_type": "code",
   "execution_count": 21,
   "id": "fc184fab",
   "metadata": {},
   "outputs": [
    {
     "data": {
      "text/plain": [
       "0.9125"
      ]
     },
     "execution_count": 21,
     "metadata": {},
     "output_type": "execute_result"
    }
   ],
   "source": [
    "from sklearn.metrics import accuracy_score\n",
    "accuracy_score(y_test,y_pred)"
   ]
  },
  {
   "cell_type": "code",
   "execution_count": 22,
   "id": "55797f30",
   "metadata": {},
   "outputs": [
    {
     "data": {
      "text/plain": [
       "array([[46,  5],\n",
       "       [ 2, 27]])"
      ]
     },
     "execution_count": 22,
     "metadata": {},
     "output_type": "execute_result"
    }
   ],
   "source": [
    "from sklearn.metrics import confusion_matrix\n",
    "confusion_matrix(y_test,y_pred)"
   ]
  },
  {
   "cell_type": "code",
   "execution_count": 23,
   "id": "a0d90c91",
   "metadata": {},
   "outputs": [],
   "source": [
    "accuracy=[]\n",
    "for i in range(1,31):\n",
    "    knn=KNeighborsClassifier(n_neighbors=i)\n",
    "    knn.fit(X_train,y_train)\n",
    "    accuracy.append(accuracy_score(y_test,knn.predict(X_test)))"
   ]
  },
  {
   "cell_type": "code",
   "execution_count": 24,
   "id": "2c8b5ae5",
   "metadata": {},
   "outputs": [
    {
     "name": "stdout",
     "output_type": "stream",
     "text": [
      "[0.825, 0.8875, 0.9125, 0.925, 0.9125, 0.9, 0.8875, 0.8875, 0.925, 0.925, 0.925, 0.925, 0.925, 0.9, 0.9, 0.9, 0.9125, 0.9125, 0.9125, 0.8875, 0.9125, 0.9125, 0.9125, 0.9125, 0.9125, 0.9, 0.9, 0.9, 0.9125, 0.9]\n"
     ]
    }
   ],
   "source": [
    "print(accuracy)"
   ]
  },
  {
   "cell_type": "code",
   "execution_count": 25,
   "id": "992a0140",
   "metadata": {},
   "outputs": [
    {
     "data": {
      "text/plain": [
       "[0.825,\n",
       " 0.8875,\n",
       " 0.9125,\n",
       " 0.925,\n",
       " 0.9125,\n",
       " 0.9,\n",
       " 0.8875,\n",
       " 0.8875,\n",
       " 0.925,\n",
       " 0.925,\n",
       " 0.925,\n",
       " 0.925,\n",
       " 0.925,\n",
       " 0.9,\n",
       " 0.9,\n",
       " 0.9,\n",
       " 0.9125,\n",
       " 0.9125,\n",
       " 0.9125,\n",
       " 0.8875,\n",
       " 0.9125,\n",
       " 0.9125,\n",
       " 0.9125,\n",
       " 0.9125,\n",
       " 0.9125,\n",
       " 0.9,\n",
       " 0.9,\n",
       " 0.9,\n",
       " 0.9125,\n",
       " 0.9]"
      ]
     },
     "execution_count": 25,
     "metadata": {},
     "output_type": "execute_result"
    }
   ],
   "source": [
    "accuracy"
   ]
  },
  {
   "cell_type": "code",
   "execution_count": 26,
   "id": "37ed1d45",
   "metadata": {},
   "outputs": [
    {
     "data": {
      "text/plain": [
       "[<matplotlib.lines.Line2D at 0x7f32f42def10>]"
      ]
     },
     "execution_count": 26,
     "metadata": {},
     "output_type": "execute_result"
    },
    {
     "data": {
      "image/png": "[encoded data removed]",
      "text/plain": [
       "<Figure size 432x288 with 1 Axes>"
      ]
     },
     "metadata": {
      "needs_background": "light"
     },
     "output_type": "display_data"
    }
   ],
   "source": [
    "plt.plot(range(1,31),accuracy)"
   ]
  },
  {
   "cell_type": "code",
   "execution_count": 27,
   "id": "f9d0208c",
   "metadata": {},
   "outputs": [
    {
     "name": "stdout",
     "output_type": "stream",
     "text": [
      "WITH K=15\n",
      "\n",
      "\n",
      "[[46  5]\n",
      " [ 3 26]]\n",
      "\n",
      "\n",
      "              precision    recall  f1-score   support\n",
      "\n",
      "           0       0.94      0.90      0.92        51\n",
      "           1       0.84      0.90      0.87        29\n",
      "\n",
      "    accuracy                           0.90        80\n",
      "   macro avg       0.89      0.90      0.89        80\n",
      "weighted avg       0.90      0.90      0.90        80\n",
      "\n"
     ]
    }
   ],
   "source": [
    "from sklearn.metrics import classification_report\n",
    "knn = KNeighborsClassifier(n_neighbors=15)\n",
    "knn.fit(X_train,y_train)\n",
    "pred = knn.predict(X_test)\n",
    "print('WITH K=15')\n",
    "print('\\n')\n",
    "print(confusion_matrix(y_test,pred))\n",
    "print('\\n')\n",
    "print(classification_report(y_test,pred))"
   ]
  },
  {
   "cell_type": "code",
   "execution_count": 28,
   "id": "aa1f172e",
   "metadata": {},
   "outputs": [
    {
     "data": {
      "text/plain": [
       "[<matplotlib.lines.Line2D at 0x7f32f3a48d00>]"
      ]
     },
     "execution_count": 28,
     "metadata": {},
     "output_type": "execute_result"
    },
    {
     "data": {
      "image/png": "[encoded data removed]",
      "text/plain": [
       "<Figure size 432x288 with 1 Axes>"
      ]
     },
     "metadata": {
      "needs_background": "light"
     },
     "output_type": "display_data"
    }
   ],
   "source": [
    "plt.plot(range(1,31),accuracy)"
   ]
  },
  {
   "cell_type": "code",
   "execution_count": 29,
   "id": "6d8016dc",
   "metadata": {},
   "outputs": [
    {
     "data": {
      "image/png": "[encoded data removed]",
      "text/plain": [
       "<Figure size 432x288 with 10 Axes>"
      ]
     },
     "metadata": {
      "needs_background": "light"
     },
     "output_type": "display_data"
    }
   ],
   "source": [
    "data.plot(kind='hist', bins=10, subplots=True, layout=(5,2), sharex=False, sharey=False)\n",
    "plt.show()"
   ]
  },
  {
   "cell_type": "code",
   "execution_count": 30,
   "id": "2fc55906",
   "metadata": {},
   "outputs": [
    {
     "data": {
      "image/png": "[encoded data removed]",
      "text/plain": [
       "<Figure size 720x576 with 2 Axes>"
      ]
     },
     "metadata": {
      "needs_background": "light"
     },
     "output_type": "display_data"
    }
   ],
   "source": [
    "import seaborn as sns\n",
    "correlation = data.corr()\n",
    "plt.figure(figsize=(10,8))\n",
    "plt.title('Correlation of Attributes with Class variable')\n",
    "a = sns.heatmap(correlation, square=True, annot=True, fmt='.2f', linecolor='white')\n",
    "a.set_xticklabels(a.get_xticklabels(), rotation=90)\n",
    "a.set_yticklabels(a.get_yticklabels(), rotation=30)           \n",
    "plt.show()"
   ]
  },
  {
   "cell_type": "code",
   "execution_count": 31,
   "id": "2bbc1d87",
   "metadata": {},
   "outputs": [
    {
     "name": "stderr",
     "output_type": "stream",
     "text": [
      "/home/codetrade/anaconda3/lib/python3.9/site-packages/seaborn/distributions.py:2619: FutureWarning: `distplot` is a deprecated function and will be removed in a future version. Please adapt your code to use either `displot` (a figure-level function with similar flexibility) or `kdeplot` (an axes-level function for kernel density plots).\n",
      "  warnings.warn(msg, FutureWarning)\n",
      "/home/codetrade/anaconda3/lib/python3.9/site-packages/seaborn/distributions.py:2619: FutureWarning: `distplot` is a deprecated function and will be removed in a future version. Please adapt your code to use either `displot` (a figure-level function with similar flexibility) or `kdeplot` (an axes-level function for kernel density plots).\n",
      "  warnings.warn(msg, FutureWarning)\n"
     ]
    },
    {
     "data": {
      "image/png": "[encoded data removed]",
      "text/plain": [
       "<Figure size 360x504 with 1 Axes>"
      ]
     },
     "metadata": {
      "needs_background": "light"
     },
     "output_type": "display_data"
    }
   ],
   "source": [
    "%matplotlib inline\n",
    "import matplotlib.pyplot as plt\n",
    "plt.figure(figsize=(5, 7))\n",
    "ax = sns.distplot(data['Purchased'], hist=False, color=\"r\", label=\"Actual Value\")\n",
    "sns.distplot(y_pred, hist=False, color=\"b\", label=\"Predicted Values\", ax=ax)\n",
    "plt.title('Actual vs Precited value for outcome')\n",
    "plt.show()\n",
    "plt.close()"
   ]
  },
  {
   "cell_type": "code",
   "execution_count": 34,
   "id": "1e5d96df",
   "metadata": {},
   "outputs": [
    {
     "name": "stdout",
     "output_type": "stream",
     "text": [
      "Befor Counter({0: 206, 1: 114})\n",
      "Befor Counter({0: 206, 1: 206})\n"
     ]
    }
   ],
   "source": [
    "from imblearn.over_sampling import SMOTE\n",
    "from collections import Counter\n",
    "counter= Counter(y_train)\n",
    "print('Befor',counter)\n",
    "smt=SMOTE()\n",
    "X_train_sm,y_train_sm= smt.fit_resample(X_train,y_train)\n",
    "counter= Counter(y_train_sm)\n",
    "print('Befor',counter)"
   ]
  },
  {
   "cell_type": "code",
   "execution_count": null,
   "id": "e5db3b7f",
   "metadata": {},
   "outputs": [],
   "source": []
  }
 ],
 "metadata": {
  "kernelspec": {
   "display_name": "Python 3 (ipykernel)",
   "language": "python",
   "name": "python3"
  },
  "language_info": {
   "codemirror_mode": {
    "name": "ipython",
    "version": 3
   },
   "file_extension": ".py",
   "mimetype": "text/x-python",
   "name": "python",
   "nbconvert_exporter": "python",
   "pygments_lexer": "ipython3",
   "version": "3.9.12"
  }
 },
 "nbformat": 4,
 "nbformat_minor": 5
}
