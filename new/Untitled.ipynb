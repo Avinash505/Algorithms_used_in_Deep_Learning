{
 "cells": [
  {
   "cell_type": "code",
   "execution_count": 1,
   "id": "6783831a",
   "metadata": {},
   "outputs": [],
   "source": [
    "import os\n",
    "os.environ[\"CUDA_VISIBLE_DEVICES\"]=\"4\""
   ]
  },
  {
   "cell_type": "code",
   "execution_count": 2,
   "id": "74708ee6",
   "metadata": {},
   "outputs": [],
   "source": [
    "import tensorflow as tf\n",
    "from tensorflow import keras\n",
    "import numpy as np\n",
    "# Version Information\n",
    "# tensorflow 2.2.0 , Cudnn7.6.5 and Cuda 10.1 , python 3.8"
   ]
  },
  {
   "cell_type": "code",
   "execution_count": 3,
   "id": "a58361ff",
   "metadata": {},
   "outputs": [
    {
     "data": {
      "text/plain": [
       "'2.4.1'"
      ]
     },
     "execution_count": 3,
     "metadata": {},
     "output_type": "execute_result"
    }
   ],
   "source": [
    "tf.__version__"
   ]
  },
  {
   "cell_type": "code",
   "execution_count": 4,
   "id": "97bfcff9",
   "metadata": {},
   "outputs": [
    {
     "data": {
      "text/plain": [
       "False"
      ]
     },
     "execution_count": 4,
     "metadata": {},
     "output_type": "execute_result"
    }
   ],
   "source": [
    "tf.test.is_built_with_cuda()"
   ]
  },
  {
   "cell_type": "code",
   "execution_count": 5,
   "id": "0b1da0bb",
   "metadata": {},
   "outputs": [],
   "source": [
    "# nvcc --version"
   ]
  },
  {
   "cell_type": "code",
   "execution_count": 6,
   "id": "d1fe592b",
   "metadata": {},
   "outputs": [],
   "source": [
    "(X_train, y_train), (X_test,y_test) = tf.keras.datasets.cifar10.load_data()"
   ]
  },
  {
   "cell_type": "code",
   "execution_count": 7,
   "id": "728704bf",
   "metadata": {},
   "outputs": [
    {
     "data": {
      "text/plain": [
       "(50000, 32, 32, 3)"
      ]
     },
     "execution_count": 7,
     "metadata": {},
     "output_type": "execute_result"
    }
   ],
   "source": [
    "X_train.shape"
   ]
  },
  {
   "cell_type": "code",
   "execution_count": 8,
   "id": "0bb0041a",
   "metadata": {},
   "outputs": [
    {
     "data": {
      "text/plain": [
       "(50000, 1)"
      ]
     },
     "execution_count": 8,
     "metadata": {},
     "output_type": "execute_result"
    }
   ],
   "source": [
    "y_train.shape"
   ]
  },
  {
   "cell_type": "raw",
   "id": "3ab1c605",
   "metadata": {},
   "source": [
    "tf.columns"
   ]
  },
  {
   "cell_type": "code",
   "execution_count": 9,
   "id": "1af457b8",
   "metadata": {},
   "outputs": [],
   "source": [
    "classes = [\"airplane\",\"automobile\",\"bird\",\"cat\",\"deer\",\"dog\",\"frog\",\"horse\",\"ship\",\"truck\"]"
   ]
  },
  {
   "cell_type": "code",
   "execution_count": 10,
   "id": "c24a3d8f",
   "metadata": {},
   "outputs": [
    {
     "data": {
      "text/plain": [
       "'deer'"
      ]
     },
     "execution_count": 10,
     "metadata": {},
     "output_type": "execute_result"
    }
   ],
   "source": [
    "classes[y_train[3][0]]"
   ]
  },
  {
   "cell_type": "code",
   "execution_count": 11,
   "id": "d3d7f610",
   "metadata": {},
   "outputs": [
    {
     "data": {
      "text/plain": [
       "array([[6],\n",
       "       [9],\n",
       "       [9]], dtype=uint8)"
      ]
     },
     "execution_count": 11,
     "metadata": {},
     "output_type": "execute_result"
    }
   ],
   "source": [
    "y_train[:3]"
   ]
  },
  {
   "cell_type": "code",
   "execution_count": 12,
   "id": "94519b6d",
   "metadata": {},
   "outputs": [
    {
     "data": {
      "text/plain": [
       "(10000, 1)"
      ]
     },
     "execution_count": 12,
     "metadata": {},
     "output_type": "execute_result"
    }
   ],
   "source": [
    "y_test.shape\n"
   ]
  },
  {
   "cell_type": "code",
   "execution_count": 13,
   "id": "3d6e6537",
   "metadata": {},
   "outputs": [
    {
     "data": {
      "text/plain": [
       "(50000, 32, 32, 3)"
      ]
     },
     "execution_count": 13,
     "metadata": {},
     "output_type": "execute_result"
    }
   ],
   "source": [
    "X_train.shape"
   ]
  },
  {
   "cell_type": "code",
   "execution_count": 14,
   "id": "e6f60a75",
   "metadata": {},
   "outputs": [],
   "source": [
    "# Preprocessing: Scale images\n",
    "X_train_scaled = X_train / 255\n",
    "X_test_scaled = X_test / 255"
   ]
  },
  {
   "cell_type": "code",
   "execution_count": 15,
   "id": "46ce67bc",
   "metadata": {},
   "outputs": [],
   "source": [
    "y_train_categorical = keras.utils.to_categorical(\n",
    "    y_train, num_classes=10, dtype='float32'\n",
    ")\n",
    "y_test_categorical = keras.utils.to_categorical(\n",
    "    y_test, num_classes=10, dtype='float32'\n",
    ")"
   ]
  },
  {
   "cell_type": "code",
   "execution_count": 16,
   "id": "12252feb",
   "metadata": {},
   "outputs": [
    {
     "data": {
      "text/plain": [
       "array([[6],\n",
       "       [9],\n",
       "       [9],\n",
       "       [4],\n",
       "       [1]], dtype=uint8)"
      ]
     },
     "execution_count": 16,
     "metadata": {},
     "output_type": "execute_result"
    }
   ],
   "source": [
    "y_train[0:5]"
   ]
  },
  {
   "cell_type": "code",
   "execution_count": 17,
   "id": "386440d5",
   "metadata": {},
   "outputs": [
    {
     "data": {
      "text/plain": [
       "array([[0., 0., 0., 0., 0., 0., 1., 0., 0., 0.],\n",
       "       [0., 0., 0., 0., 0., 0., 0., 0., 0., 1.],\n",
       "       [0., 0., 0., 0., 0., 0., 0., 0., 0., 1.],\n",
       "       [0., 0., 0., 0., 1., 0., 0., 0., 0., 0.],\n",
       "       [0., 1., 0., 0., 0., 0., 0., 0., 0., 0.]], dtype=float32)"
      ]
     },
     "execution_count": 17,
     "metadata": {},
     "output_type": "execute_result"
    }
   ],
   "source": [
    "y_train_categorical[0:5]"
   ]
  },
  {
   "cell_type": "code",
   "execution_count": 18,
   "id": "146d53d0",
   "metadata": {},
   "outputs": [],
   "source": [
    "# Model building and training\n",
    "def get_model():\n",
    "    model = keras.Sequential([\n",
    "            keras.layers.Flatten(input_shape=(32,32,3)),\n",
    "            keras.layers.Dense(3000, activation='relu'),\n",
    "            keras.layers.Dense(1000, activation='relu'),\n",
    "            keras.layers.Dense(10, activation='sigmoid')    \n",
    "        ])\n",
    "\n",
    "    model.compile(optimizer='SGD',\n",
    "                  loss='categorical_crossentropy',\n",
    "                  metrics=['accuracy'])\n",
    "    return model"
   ]
  },
  {
   "cell_type": "code",
   "execution_count": 19,
   "id": "ee191e66",
   "metadata": {},
   "outputs": [
    {
     "name": "stderr",
     "output_type": "stream",
     "text": [
      "2023-06-12 15:33:00.026395: I tensorflow/compiler/jit/xla_cpu_device.cc:41] Not creating XLA devices, tf_xla_enable_xla_devices not set\n",
      "2023-06-12 15:33:00.026969: I tensorflow/core/platform/cpu_feature_guard.cc:142] This TensorFlow binary is optimized with oneAPI Deep Neural Network Library (oneDNN) to use the following CPU instructions in performance-critical operations:  SSE4.1 SSE4.2 AVX AVX2 FMA\n",
      "To enable them in other operations, rebuild TensorFlow with the appropriate compiler flags.\n",
      "2023-06-12 15:33:00.028229: I tensorflow/core/common_runtime/process_util.cc:146] Creating new thread pool with default inter op setting: 2. Tune using inter_op_parallelism_threads for best performance.\n"
     ]
    }
   ],
   "source": [
    "train_tf_dataset = tf.data.Dataset.from_tensor_slices((X_train_scaled, y_train_categorical))\n",
    "test_tf_dataset = tf.data.Dataset.from_tensor_slices((X_test_scaled, y_test_categorical))"
   ]
  },
  {
   "cell_type": "code",
   "execution_count": 20,
   "id": "9feaa12b",
   "metadata": {},
   "outputs": [
    {
     "name": "stdout",
     "output_type": "stream",
     "text": [
      "WARNING:tensorflow:There are non-GPU devices in `tf.distribute.Strategy`, not using nccl allreduce.\n",
      "INFO:tensorflow:Using MirroredStrategy with devices ('/job:localhost/replica:0/task:0/device:CPU:0',)\n"
     ]
    }
   ],
   "source": [
    "strategy = tf.distribute.MirroredStrategy()"
   ]
  },
  {
   "cell_type": "code",
   "execution_count": 22,
   "id": "a14a28fc",
   "metadata": {},
   "outputs": [
    {
     "data": {
      "text/plain": [
       "1"
      ]
     },
     "execution_count": 22,
     "metadata": {},
     "output_type": "execute_result"
    }
   ],
   "source": [
    "strategy.num_replicas_in_sync"
   ]
  },
  {
   "cell_type": "code",
   "execution_count": 23,
   "id": "89ae53d5",
   "metadata": {},
   "outputs": [],
   "source": [
    "BATCH_SIZE_PER_REPLICA = 250\n",
    "BATCH_SIZE = BATCH_SIZE_PER_REPLICA * strategy.num_replicas_in_sync\n",
    "\n",
    "\n",
    "train_dataset = train_tf_dataset.batch(BATCH_SIZE).prefetch(tf.data.AUTOTUNE)\n",
    "test_dataset = test_tf_dataset.batch(BATCH_SIZE)"
   ]
  },
  {
   "cell_type": "code",
   "execution_count": 24,
   "id": "ec9593bd",
   "metadata": {},
   "outputs": [
    {
     "name": "stderr",
     "output_type": "stream",
     "text": [
      "2023-06-12 15:33:08.082111: W tensorflow/core/grappler/optimizers/data/auto_shard.cc:656] In AUTO-mode, and switching to DATA-based sharding, instead of FILE-based sharding as we cannot find appropriate reader dataset op(s) to shard. Error: Found an unshardable source dataset: name: \"TensorSliceDataset/_2\"\n",
      "op: \"TensorSliceDataset\"\n",
      "input: \"Placeholder/_0\"\n",
      "input: \"Placeholder/_1\"\n",
      "attr {\n",
      "  key: \"Toutput_types\"\n",
      "  value {\n",
      "    list {\n",
      "      type: DT_DOUBLE\n",
      "      type: DT_FLOAT\n",
      "    }\n",
      "  }\n",
      "}\n",
      "attr {\n",
      "  key: \"output_shapes\"\n",
      "  value {\n",
      "    list {\n",
      "      shape {\n",
      "        dim {\n",
      "          size: 32\n",
      "        }\n",
      "        dim {\n",
      "          size: 32\n",
      "        }\n",
      "        dim {\n",
      "          size: 3\n",
      "        }\n",
      "      }\n",
      "      shape {\n",
      "        dim {\n",
      "          size: 10\n",
      "        }\n",
      "      }\n",
      "    }\n",
      "  }\n",
      "}\n",
      "\n",
      "2023-06-12 15:33:08.259618: I tensorflow/compiler/mlir/mlir_graph_optimization_pass.cc:116] None of the MLIR optimization passes are enabled (registered 2)\n",
      "2023-06-12 15:33:08.278820: I tensorflow/core/platform/profile_utils/cpu_utils.cc:112] CPU Frequency: 3693085000 Hz\n"
     ]
    },
    {
     "name": "stdout",
     "output_type": "stream",
     "text": [
      "Epoch 1/50\n",
      "200/200 [==============================] - 35s 162ms/step - loss: 2.0822 - accuracy: 0.2509\n",
      "Epoch 2/50\n",
      "200/200 [==============================] - 33s 163ms/step - loss: 1.8331 - accuracy: 0.3581\n",
      "Epoch 3/50\n",
      "200/200 [==============================] - 33s 165ms/step - loss: 1.7619 - accuracy: 0.3872\n",
      "Epoch 4/50\n",
      "200/200 [==============================] - 32s 161ms/step - loss: 1.7153 - accuracy: 0.4036\n",
      "Epoch 5/50\n",
      "200/200 [==============================] - 33s 166ms/step - loss: 1.6786 - accuracy: 0.4152\n",
      "Epoch 6/50\n",
      "200/200 [==============================] - 35s 177ms/step - loss: 1.6478 - accuracy: 0.4258\n",
      "Epoch 7/50\n",
      "200/200 [==============================] - 37s 186ms/step - loss: 1.6210 - accuracy: 0.4344\n",
      "Epoch 8/50\n",
      "200/200 [==============================] - 38s 189ms/step - loss: 1.5976 - accuracy: 0.4439\n",
      "Epoch 9/50\n",
      "200/200 [==============================] - 35s 175ms/step - loss: 1.5768 - accuracy: 0.4515\n",
      "Epoch 10/50\n",
      "200/200 [==============================] - 35s 175ms/step - loss: 1.5581 - accuracy: 0.4571\n",
      "Epoch 11/50\n",
      "200/200 [==============================] - 33s 167ms/step - loss: 1.5411 - accuracy: 0.4633\n",
      "Epoch 12/50\n",
      "200/200 [==============================] - 33s 165ms/step - loss: 1.5255 - accuracy: 0.4684\n",
      "Epoch 13/50\n",
      "200/200 [==============================] - 36s 181ms/step - loss: 1.5110 - accuracy: 0.4732\n",
      "Epoch 14/50\n",
      "200/200 [==============================] - 34s 170ms/step - loss: 1.4974 - accuracy: 0.4768\n",
      "Epoch 15/50\n",
      "200/200 [==============================] - 33s 166ms/step - loss: 1.4844 - accuracy: 0.4822\n",
      "Epoch 16/50\n",
      "200/200 [==============================] - 33s 166ms/step - loss: 1.4721 - accuracy: 0.4857\n",
      "Epoch 17/50\n",
      "200/200 [==============================] - 34s 170ms/step - loss: 1.4603 - accuracy: 0.4905\n",
      "Epoch 18/50\n",
      "200/200 [==============================] - 34s 171ms/step - loss: 1.4489 - accuracy: 0.4949\n",
      "Epoch 19/50\n",
      "200/200 [==============================] - 33s 163ms/step - loss: 1.4379 - accuracy: 0.4980\n",
      "Epoch 20/50\n",
      "200/200 [==============================] - 31s 156ms/step - loss: 1.4272 - accuracy: 0.5027\n",
      "Epoch 21/50\n",
      "200/200 [==============================] - 33s 166ms/step - loss: 1.4169 - accuracy: 0.5063\n",
      "Epoch 22/50\n",
      "200/200 [==============================] - 33s 163ms/step - loss: 1.4067 - accuracy: 0.5103\n",
      "Epoch 23/50\n",
      "200/200 [==============================] - 33s 163ms/step - loss: 1.3968 - accuracy: 0.5136\n",
      "Epoch 24/50\n",
      "200/200 [==============================] - 34s 168ms/step - loss: 1.3871 - accuracy: 0.5176\n",
      "Epoch 25/50\n",
      "200/200 [==============================] - 35s 177ms/step - loss: 1.3776 - accuracy: 0.5209\n",
      "Epoch 26/50\n",
      "200/200 [==============================] - 34s 169ms/step - loss: 1.3682 - accuracy: 0.5248\n",
      "Epoch 27/50\n",
      "200/200 [==============================] - 33s 164ms/step - loss: 1.3591 - accuracy: 0.5274\n",
      "Epoch 28/50\n",
      "200/200 [==============================] - 34s 170ms/step - loss: 1.3502 - accuracy: 0.5301\n",
      "Epoch 29/50\n",
      "200/200 [==============================] - 36s 178ms/step - loss: 1.3415 - accuracy: 0.5329\n",
      "Epoch 30/50\n",
      "200/200 [==============================] - 34s 169ms/step - loss: 1.3329 - accuracy: 0.5366\n",
      "Epoch 31/50\n",
      "200/200 [==============================] - 33s 166ms/step - loss: 1.3246 - accuracy: 0.5397\n",
      "Epoch 32/50\n",
      "200/200 [==============================] - 34s 169ms/step - loss: 1.3163 - accuracy: 0.5426\n",
      "Epoch 33/50\n",
      "200/200 [==============================] - 33s 166ms/step - loss: 1.3081 - accuracy: 0.5463\n",
      "Epoch 34/50\n",
      "200/200 [==============================] - 36s 179ms/step - loss: 1.3001 - accuracy: 0.5494\n",
      "Epoch 35/50\n",
      "200/200 [==============================] - 34s 169ms/step - loss: 1.2922 - accuracy: 0.5520\n",
      "Epoch 36/50\n",
      "200/200 [==============================] - 33s 164ms/step - loss: 1.2845 - accuracy: 0.5553\n",
      "Epoch 37/50\n",
      "200/200 [==============================] - 35s 175ms/step - loss: 1.2770 - accuracy: 0.5579\n",
      "Epoch 38/50\n",
      "200/200 [==============================] - 35s 176ms/step - loss: 1.2695 - accuracy: 0.5608\n",
      "Epoch 39/50\n",
      "200/200 [==============================] - 35s 176ms/step - loss: 1.2622 - accuracy: 0.5631\n",
      "Epoch 40/50\n",
      "200/200 [==============================] - 33s 166ms/step - loss: 1.2550 - accuracy: 0.5662\n",
      "Epoch 41/50\n",
      "200/200 [==============================] - 33s 164ms/step - loss: 1.2476 - accuracy: 0.5686\n",
      "Epoch 42/50\n",
      "200/200 [==============================] - 35s 175ms/step - loss: 1.2403 - accuracy: 0.5707\n",
      "Epoch 43/50\n",
      "200/200 [==============================] - 35s 175ms/step - loss: 1.2334 - accuracy: 0.5730\n",
      "Epoch 44/50\n",
      "200/200 [==============================] - 36s 180ms/step - loss: 1.2263 - accuracy: 0.5759\n",
      "Epoch 45/50\n",
      "200/200 [==============================] - 36s 180ms/step - loss: 1.2191 - accuracy: 0.5779\n",
      "Epoch 46/50\n",
      "200/200 [==============================] - 35s 172ms/step - loss: 1.2123 - accuracy: 0.5807\n",
      "Epoch 47/50\n",
      "200/200 [==============================] - 36s 177ms/step - loss: 1.2052 - accuracy: 0.5838\n",
      "Epoch 48/50\n",
      "200/200 [==============================] - 35s 175ms/step - loss: 1.1987 - accuracy: 0.5861\n",
      "Epoch 49/50\n",
      "200/200 [==============================] - 36s 181ms/step - loss: 1.1917 - accuracy: 0.5886\n",
      "Epoch 50/50\n",
      "200/200 [==============================] - 33s 166ms/step - loss: 1.1856 - accuracy: 0.5899\n",
      "28min 43s ± 0 ns per loop (mean ± std. dev. of 1 run, 1 loop each)\n"
     ]
    }
   ],
   "source": [
    "%%timeit -n1 -r1 \n",
    "with strategy.scope():\n",
    "    gpu_model = get_model()\n",
    "    gpu_model.fit(train_dataset, epochs=50)"
   ]
  },
  {
   "cell_type": "code",
   "execution_count": null,
   "id": "369bd13e",
   "metadata": {},
   "outputs": [
    {
     "name": "stdout",
     "output_type": "stream",
     "text": [
      "Epoch 1/50\n",
      "200/200 [==============================] - 34s 169ms/step - loss: 2.0870 - accuracy: 0.2428\n",
      "Epoch 2/50\n",
      "200/200 [==============================] - 35s 176ms/step - loss: 1.8299 - accuracy: 0.3581\n",
      "Epoch 3/50\n",
      "200/200 [==============================] - 36s 178ms/step - loss: 1.7602 - accuracy: 0.3856\n",
      "Epoch 4/50\n",
      "200/200 [==============================] - 35s 174ms/step - loss: 1.7139 - accuracy: 0.4022\n",
      "Epoch 5/50\n",
      "200/200 [==============================] - 35s 177ms/step - loss: 1.6776 - accuracy: 0.4151\n",
      "Epoch 6/50\n",
      "200/200 [==============================] - 36s 178ms/step - loss: 1.6472 - accuracy: 0.4253\n",
      "Epoch 7/50\n",
      "200/200 [==============================] - 42s 209ms/step - loss: 1.6209 - accuracy: 0.4356\n",
      "Epoch 8/50\n",
      "200/200 [==============================] - 42s 212ms/step - loss: 1.5978 - accuracy: 0.4441\n",
      "Epoch 9/50\n",
      "200/200 [==============================] - 41s 207ms/step - loss: 1.5770 - accuracy: 0.4511\n",
      "Epoch 10/50\n",
      "200/200 [==============================] - 41s 205ms/step - loss: 1.5583 - accuracy: 0.4572\n",
      "Epoch 11/50\n",
      "200/200 [==============================] - 40s 201ms/step - loss: 1.5412 - accuracy: 0.4634\n",
      "Epoch 12/50\n",
      "200/200 [==============================] - 42s 211ms/step - loss: 1.5254 - accuracy: 0.4692\n",
      "Epoch 13/50\n",
      "200/200 [==============================] - 39s 194ms/step - loss: 1.5108 - accuracy: 0.4757\n",
      "Epoch 14/50\n",
      "200/200 [==============================] - 42s 210ms/step - loss: 1.4971 - accuracy: 0.4813\n",
      "Epoch 15/50\n",
      "200/200 [==============================] - 40s 202ms/step - loss: 1.4842 - accuracy: 0.4863\n",
      "Epoch 16/50\n",
      "200/200 [==============================] - 40s 198ms/step - loss: 1.4719 - accuracy: 0.4898\n",
      "Epoch 17/50\n",
      "200/200 [==============================] - 41s 203ms/step - loss: 1.4602 - accuracy: 0.4938\n",
      "Epoch 18/50\n",
      "200/200 [==============================] - 39s 193ms/step - loss: 1.4488 - accuracy: 0.4974\n",
      "Epoch 19/50\n",
      " 47/200 [======>.......................] - ETA: 30s - loss: 1.4309 - accuracy: 0.5028"
     ]
    }
   ],
   "source": [
    "%%timeit -n1 -r1 \n",
    "with tf.device('/CPU:0'):\n",
    "    cpu_model = get_model()\n",
    "    cpu_model.fit(train_dataset, epochs=50)"
   ]
  },
  {
   "cell_type": "code",
   "execution_count": null,
   "id": "d00e8943",
   "metadata": {},
   "outputs": [],
   "source": []
  }
 ],
 "metadata": {
  "kernelspec": {
   "display_name": "Python 3 (ipykernel)",
   "language": "python",
   "name": "python3"
  },
  "language_info": {
   "codemirror_mode": {
    "name": "ipython",
    "version": 3
   },
   "file_extension": ".py",
   "mimetype": "text/x-python",
   "name": "python",
   "nbconvert_exporter": "python",
   "pygments_lexer": "ipython3",
   "version": "3.9.12"
  }
 },
 "nbformat": 4,
 "nbformat_minor": 5
}
