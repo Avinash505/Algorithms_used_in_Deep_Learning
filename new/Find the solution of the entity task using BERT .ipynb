{
 "cells": [
  {
   "cell_type": "code",
   "execution_count": 1,
   "id": "368b5c67",
   "metadata": {},
   "outputs": [
    {
     "name": "stderr",
     "output_type": "stream",
     "text": [
      "2023-06-16 12:11:44.352146: I tensorflow/core/platform/cpu_feature_guard.cc:182] This TensorFlow binary is optimized to use available CPU instructions in performance-critical operations.\n",
      "To enable the following instructions: AVX2 FMA, in other operations, rebuild TensorFlow with the appropriate compiler flags.\n"
     ]
    },
    {
     "data": {
      "text/html": [
       "<div>\n",
       "<style scoped>\n",
       "    .dataframe tbody tr th:only-of-type {\n",
       "        vertical-align: middle;\n",
       "    }\n",
       "\n",
       "    .dataframe tbody tr th {\n",
       "        vertical-align: top;\n",
       "    }\n",
       "\n",
       "    .dataframe thead th {\n",
       "        text-align: right;\n",
       "    }\n",
       "</style>\n",
       "<table border=\"1\" class=\"dataframe\">\n",
       "  <thead>\n",
       "    <tr style=\"text-align: right;\">\n",
       "      <th></th>\n",
       "      <th>text</th>\n",
       "    </tr>\n",
       "  </thead>\n",
       "  <tbody>\n",
       "    <tr>\n",
       "      <th>0</th>\n",
       "      <td>OpenAI is an American artificial intelligence ...</td>\n",
       "    </tr>\n",
       "    <tr>\n",
       "      <th>1</th>\n",
       "      <td>Microsoft Corporation is an American multinati...</td>\n",
       "    </tr>\n",
       "    <tr>\n",
       "      <th>2</th>\n",
       "      <td>Amazon Web Services, Inc. (AWS) is a subsidiar...</td>\n",
       "    </tr>\n",
       "    <tr>\n",
       "      <th>3</th>\n",
       "      <td>Google Cloud Platform (GCP), offered by Google...</td>\n",
       "    </tr>\n",
       "    <tr>\n",
       "      <th>4</th>\n",
       "      <td>Sequoia Capital is an American venture capital...</td>\n",
       "    </tr>\n",
       "  </tbody>\n",
       "</table>\n",
       "</div>"
      ],
      "text/plain": [
       "                                                text\n",
       "0  OpenAI is an American artificial intelligence ...\n",
       "1  Microsoft Corporation is an American multinati...\n",
       "2  Amazon Web Services, Inc. (AWS) is a subsidiar...\n",
       "3  Google Cloud Platform (GCP), offered by Google...\n",
       "4  Sequoia Capital is an American venture capital..."
      ]
     },
     "execution_count": 1,
     "metadata": {},
     "output_type": "execute_result"
    }
   ],
   "source": [
    "import spacy\n",
    "import pandas as pd\n",
    "data=pd.read_csv('/home/codetrade/Downloads/CSV/row.csv')\n",
    "data.head()"
   ]
  },
  {
   "cell_type": "code",
   "execution_count": 2,
   "id": "10b3df72",
   "metadata": {},
   "outputs": [],
   "source": [
    "data_columns=data['text']\n",
    "# nlp = spacy.load('en_core_web_lg')"
   ]
  },
  {
   "cell_type": "code",
   "execution_count": 3,
   "id": "44ebd9ec",
   "metadata": {},
   "outputs": [],
   "source": [
    "# for text in data_columns:\n",
    "#     doc = nlp(text)\n",
    "# !pip install --upgrade tensorflow keras\n",
    "# !pip install --upgrade h5py\n",
    "# !pip install transformers\n",
    "# !pip install tensorflow-cpu\n",
    "# !pip install transformers==4.9.2\n",
    "# !pip install tokenizers==0.10.3\n",
    "# !pip install transformers==4.9.2\n"
   ]
  },
  {
   "cell_type": "code",
   "execution_count": 4,
   "id": "f403da21",
   "metadata": {},
   "outputs": [
    {
     "name": "stdout",
     "output_type": "stream",
     "text": [
      "0       OpenAI is an American artificial intelligence ...\n",
      "1       Microsoft Corporation is an American multinati...\n",
      "2       Amazon Web Services, Inc. (AWS) is a subsidiar...\n",
      "3       Google Cloud Platform (GCP), offered by Google...\n",
      "4       Sequoia Capital is an American venture capital...\n",
      "                              ...                        \n",
      "6484    Who We Are\\n\\nThe Recycling Partnership is a m...\n",
      "6485    For the Fall 2022 semester we are inviting emp...\n",
      "6486    Anonymous Interview Candidate\\n\\nApplication I...\n",
      "6487    Norwegian politician (born 1993)\\n\\nEmilie Eng...\n",
      "6488    After surviving a BA from Stanford and an MFA ...\n",
      "Name: text, Length: 6489, dtype: object\n"
     ]
    }
   ],
   "source": [
    "print(data_columns)"
   ]
  },
  {
   "cell_type": "code",
   "execution_count": 6,
   "id": "6bc8b617",
   "metadata": {},
   "outputs": [
    {
     "name": "stdout",
     "output_type": "stream",
     "text": [
      "Entity Names: ['Open', '##A', '##I', 'American', 'AI', 'Open', '##A', '##I', 'Incorporated', 'Open', '##A', '##I', 'Limited', 'Partnership', 'Open', '##A', '##I', 'AI', 'Open', '##A', '##I', 'A', '##zure', 'Microsoft', 'San', 'Francisco', 'Sam', 'Alt', '##man', 'Reid', 'Hoffman', 'Jessica', 'Livingston', 'El', '##on', 'Mu', '##sk', 'Il', '##ya', 'Su', '##tsk', '##ever', 'W', '##o', '##j', '##cie', '##ch', 'Z', '##are', '##mba', 'Peter', 'T', '##hi', '##el', 'US', 'Microsoft', 'Open', '##A', '##I', 'LP', 'GP', '##T', '4', 'Pro', '##met', '##heus', 'Bing', 'Sam', 'Alt', '##man', 'Greg', 'Brock', '##man', 'Reid', 'Hoffman', 'Jessica', 'Livingston', 'Peter', 'T', '##hi', '##el', 'El', '##on', 'Mu', '##sk', 'Amazon', 'Web', 'Services', 'A', '##WS', 'In', '##fo', '##sy', '##s', 'Y', '##C', 'Re', '##sea', '##r']\n",
      "Labels: ['I-ORG', 'I-ORG', 'I-ORG', 'I-MISC', 'I-MISC', 'I-ORG', 'I-ORG', 'I-ORG', 'I-ORG', 'I-ORG', 'I-ORG', 'I-ORG', 'I-ORG', 'I-ORG', 'I-ORG', 'I-ORG', 'I-ORG', 'I-MISC', 'I-ORG', 'I-ORG', 'I-ORG', 'I-MISC', 'I-MISC', 'I-ORG', 'I-LOC', 'I-LOC', 'I-PER', 'I-PER', 'I-PER', 'I-PER', 'I-PER', 'I-PER', 'I-PER', 'I-PER', 'I-PER', 'I-PER', 'I-PER', 'I-PER', 'I-PER', 'I-PER', 'I-PER', 'I-PER', 'I-PER', 'I-PER', 'I-PER', 'I-PER', 'I-PER', 'I-PER', 'I-PER', 'I-PER', 'I-PER', 'I-PER', 'I-PER', 'I-PER', 'I-MISC', 'I-ORG', 'I-ORG', 'I-ORG', 'I-ORG', 'I-ORG', 'I-MISC', 'I-MISC', 'I-MISC', 'I-MISC', 'I-MISC', 'I-MISC', 'I-ORG', 'I-PER', 'I-PER', 'I-PER', 'I-PER', 'I-PER', 'I-PER', 'I-PER', 'I-PER', 'I-PER', 'I-PER', 'I-PER', 'I-PER', 'I-PER', 'I-PER', 'I-PER', 'I-PER', 'I-PER', 'I-PER', 'I-ORG', 'I-ORG', 'I-ORG', 'I-ORG', 'I-ORG', 'I-ORG', 'I-ORG', 'I-ORG', 'I-ORG', 'I-ORG', 'I-ORG', 'I-ORG', 'I-ORG', 'I-ORG']\n",
      "Category: POSITIVE\n"
     ]
    }
   ],
   "source": [
    "import tensorflow as tf\n",
    "from transformers import pipeline\n",
    "\n",
    "def analyze_text(text):\n",
    "    # Load the pre-trained NER (Named Entity Recognition) model\n",
    "    nlp = pipeline(\"ner\")\n",
    "\n",
    "    # Perform NER on the input text\n",
    "    entities = nlp(text)\n",
    "\n",
    "    # Extract the named entities and labels\n",
    "    entity_names = [entity[\"word\"] for entity in entities]\n",
    "    labels = [entity[\"entity\"] for entity in entities]\n",
    "\n",
    "    # Load the pre-trained text classification model\n",
    "    classifier = pipeline(\"text-classification\")\n",
    "\n",
    "    # Perform text classification on the input text\n",
    "    category = classifier(text)[0][\"label\"]\n",
    "\n",
    "    # Return the results\n",
    "    return entity_names, labels, category\n",
    "\n",
    "# Set TensorFlow to use CPU instead of GPU\n",
    "tf.config.set_visible_devices([], 'GPU')\n",
    "\n",
    "# Example usage\n",
    "text = '''OpenAI is an American artificial intelligence (AI) research laboratory consisting of the non-profit OpenAI Incorporated and its for-profit subsidiary corporation OpenAI Limited Partnership. OpenAI conducts AI research with the declared intention of promoting and developing a friendly AI. OpenAI systems run on an Azure-based supercomputing platform from Microsoft. The organization was founded in San Francisco in 2015 by Sam Altman, Reid Hoffman, Jessica Livingston, Elon Musk, Ilya Sutskever, Wojciech Zaremba, Peter Thiel and others, who collectively pledged US$1 billion. Microsoft provided OpenAI LP with a $1 billion investment in 2019 and a second multi-year investment in January 2023, reported to be $10 billion, for exclusive access to GPT-4 which would power its own Prometheus model for Bing.\n",
    "History\n",
    "2015–2018: Non-profit beginnings\n",
    "In December 2015, Sam Altman, Greg Brockman, Reid Hoffman, Jessica Livingston, Peter Thiel, Elon Musk, Amazon Web Services (AWS), Infosys, and YC Resear'''\n",
    "entity_names, labels, category = analyze_text(text)\n",
    "\n",
    "print(\"Entity Names:\", entity_names)\n",
    "print(\"Labels:\", labels)\n",
    "print(\"Category:\", category)\n"
   ]
  },
  {
   "cell_type": "code",
   "execution_count": null,
   "id": "6a36a391",
   "metadata": {},
   "outputs": [],
   "source": []
  }
 ],
 "metadata": {
  "kernelspec": {
   "display_name": "Python 3 (ipykernel)",
   "language": "python",
   "name": "python3"
  },
  "language_info": {
   "codemirror_mode": {
    "name": "ipython",
    "version": 3
   },
   "file_extension": ".py",
   "mimetype": "text/x-python",
   "name": "python",
   "nbconvert_exporter": "python",
   "pygments_lexer": "ipython3",
   "version": "3.10.9"
  }
 },
 "nbformat": 4,
 "nbformat_minor": 5
}
