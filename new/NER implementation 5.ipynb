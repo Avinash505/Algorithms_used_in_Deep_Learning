{
 "cells": [
  {
   "cell_type": "code",
   "execution_count": 1,
   "id": "231bd524",
   "metadata": {},
   "outputs": [
    {
     "name": "stderr",
     "output_type": "stream",
     "text": [
      "2023-06-16 13:05:24.037402: I tensorflow/core/platform/cpu_feature_guard.cc:182] This TensorFlow binary is optimized to use available CPU instructions in performance-critical operations.\n",
      "To enable the following instructions: AVX2 FMA, in other operations, rebuild TensorFlow with the appropriate compiler flags.\n"
     ]
    },
    {
     "data": {
      "text/html": [
       "<div>\n",
       "<style scoped>\n",
       "    .dataframe tbody tr th:only-of-type {\n",
       "        vertical-align: middle;\n",
       "    }\n",
       "\n",
       "    .dataframe tbody tr th {\n",
       "        vertical-align: top;\n",
       "    }\n",
       "\n",
       "    .dataframe thead th {\n",
       "        text-align: right;\n",
       "    }\n",
       "</style>\n",
       "<table border=\"1\" class=\"dataframe\">\n",
       "  <thead>\n",
       "    <tr style=\"text-align: right;\">\n",
       "      <th></th>\n",
       "      <th>text</th>\n",
       "    </tr>\n",
       "  </thead>\n",
       "  <tbody>\n",
       "    <tr>\n",
       "      <th>0</th>\n",
       "      <td>OpenAI is an American artificial intelligence ...</td>\n",
       "    </tr>\n",
       "    <tr>\n",
       "      <th>1</th>\n",
       "      <td>Microsoft Corporation is an American multinati...</td>\n",
       "    </tr>\n",
       "    <tr>\n",
       "      <th>2</th>\n",
       "      <td>Amazon Web Services, Inc. (AWS) is a subsidiar...</td>\n",
       "    </tr>\n",
       "    <tr>\n",
       "      <th>3</th>\n",
       "      <td>Google Cloud Platform (GCP), offered by Google...</td>\n",
       "    </tr>\n",
       "    <tr>\n",
       "      <th>4</th>\n",
       "      <td>Sequoia Capital is an American venture capital...</td>\n",
       "    </tr>\n",
       "  </tbody>\n",
       "</table>\n",
       "</div>"
      ],
      "text/plain": [
       "                                                text\n",
       "0  OpenAI is an American artificial intelligence ...\n",
       "1  Microsoft Corporation is an American multinati...\n",
       "2  Amazon Web Services, Inc. (AWS) is a subsidiar...\n",
       "3  Google Cloud Platform (GCP), offered by Google...\n",
       "4  Sequoia Capital is an American venture capital..."
      ]
     },
     "execution_count": 1,
     "metadata": {},
     "output_type": "execute_result"
    }
   ],
   "source": [
    "import spacy\n",
    "import pandas as pd\n",
    "data=pd.read_csv('/home/codetrade/Downloads/CSV/row.csv')\n",
    "data.head()"
   ]
  },
  {
   "cell_type": "code",
   "execution_count": 5,
   "id": "ea63feb7",
   "metadata": {},
   "outputs": [],
   "source": [
    "data_columns=data['text']"
   ]
  },
  {
   "cell_type": "code",
   "execution_count": null,
   "id": "d25143c1",
   "metadata": {},
   "outputs": [],
   "source": [
    "import re\n",
    "from transformers import pipeline\n",
    "\n",
    "def analyze_text(text):\n",
    "    # Load the pre-trained NER (Named Entity Recognition) model\n",
    "    nlp_ner = pipeline(\"ner\", model=\"dslim/bert-base-NER\", tokenizer=\"dslim/bert-base-NER\")\n",
    "\n",
    "    # Perform NER on the input text\n",
    "    entities = nlp_ner(text)\n",
    "\n",
    "    # Extract the named entities and labels\n",
    "    entity_names = [entity[\"word\"] for entity in entities]\n",
    "    labels = [entity[\"entity\"] for entity in entities]\n",
    "\n",
    "    # Load the pre-trained text classification model\n",
    "    nlp_classification = pipeline(\"text-classification\", model=\"nlptown/bert-base-multilingual-uncased-sentiment\")\n",
    "\n",
    "    # Perform text classification on the input text\n",
    "    category = nlp_classification(text)[0][\"label\"]\n",
    "\n",
    "    # Generate new URLs based on the text\n",
    "    urls = generate_urls(text)\n",
    "\n",
    "    # Generate new entities based on the text\n",
    "    new_entities = generate_entities(text)\n",
    "\n",
    "    # Return the results as a tuple\n",
    "    return entity_names, labels, category, urls, new_entities"
   ]
  },
  {
   "cell_type": "code",
   "execution_count": null,
   "id": "397c1d01",
   "metadata": {},
   "outputs": [],
   "source": [
    "def generate_urls(text):\n",
    "    # Extract potential website names from the text\n",
    "    website_names = re.findall(r'\\b[A-Z][a-zA-Z]+\\b', text)\n",
    "\n",
    "    # Generate URLs based on website names\n",
    "    urls = [f'https://www.{name.lower()}.com' for name in website_names]\n",
    "    return urls"
   ]
  },
  {
   "cell_type": "code",
   "execution_count": null,
   "id": "2523c61e",
   "metadata": {},
   "outputs": [],
   "source": [
    "def generate_entities(text):\n",
    "    # Example: Generate new entities by extracting capitalized words\n",
    "    new_entities = re.findall(r'\\b[A-Z][a-zA-Z]+\\b', text)\n",
    "\n",
    "    return new_entities"
   ]
  },
  {
   "cell_type": "code",
   "execution_count": 10,
   "id": "e1b4c214",
   "metadata": {
    "scrolled": true
   },
   "outputs": [
    {
     "name": "stdout",
     "output_type": "stream",
     "text": [
      "Entity Names: ['Open', '##A', '##I', 'American', 'AI', 'Open', '##A', '##I', 'Incorporated', 'Open', '##A', '##I', 'Limited', 'Partnership', 'Open', '##A', '##I', 'AI', 'AI', 'Open', '##A', '##I', 'A', '##zure', 'Microsoft', 'San', 'Francisco', 'Sam', 'Alt', '##man', 'Reid', 'Hoffman', 'Jessica', 'Livingston', 'El', '##on', 'Mu', '##sk', 'Il', '##ya', 'Su', '##tsk', '##ever', 'W', '##o', '##j', '##cie', '##ch', 'Z', '##are', '##mba', 'Peter', 'T', '##hi', '##el', 'US', 'Microsoft', 'Open', '##A', '##I', 'LP', 'GP', '##T', '4', 'Pro', 'Bing', 'Sam', 'Alt', '##man', 'Greg', 'Brock', '##man', 'Reid', 'Hoffman', 'Jessica', 'Livingston', 'Peter', 'T', '##hi', '##el', 'El', '##on', 'Mu', '##sk', 'Amazon', 'Web', 'Services', 'A', '##WS', 'In', '##fo', '##sy', '##s', 'Y', '##C', 'Re', '##sea']\n",
      "Labels: ['B-ORG', 'I-ORG', 'I-ORG', 'B-MISC', 'B-MISC', 'B-ORG', 'I-ORG', 'I-ORG', 'I-ORG', 'B-ORG', 'I-ORG', 'I-ORG', 'I-ORG', 'I-ORG', 'B-ORG', 'I-ORG', 'I-ORG', 'B-MISC', 'B-MISC', 'B-ORG', 'I-ORG', 'I-ORG', 'B-MISC', 'B-MISC', 'B-ORG', 'B-LOC', 'I-LOC', 'B-PER', 'I-PER', 'I-PER', 'B-PER', 'I-PER', 'B-PER', 'I-PER', 'B-PER', 'B-PER', 'I-PER', 'I-PER', 'B-PER', 'B-PER', 'I-PER', 'I-PER', 'I-PER', 'B-PER', 'B-PER', 'B-PER', 'I-PER', 'B-PER', 'I-PER', 'I-PER', 'I-PER', 'B-PER', 'I-PER', 'I-PER', 'I-PER', 'B-MISC', 'B-ORG', 'B-ORG', 'I-ORG', 'I-ORG', 'I-ORG', 'B-MISC', 'I-MISC', 'I-MISC', 'B-MISC', 'B-MISC', 'B-PER', 'I-PER', 'I-PER', 'B-PER', 'I-PER', 'I-PER', 'B-PER', 'I-PER', 'B-PER', 'I-PER', 'B-PER', 'I-PER', 'I-PER', 'I-PER', 'B-ORG', 'B-PER', 'I-PER', 'I-ORG', 'B-ORG', 'I-ORG', 'I-ORG', 'B-ORG', 'I-ORG', 'B-ORG', 'B-ORG', 'I-ORG', 'I-ORG', 'B-ORG', 'I-ORG', 'I-ORG', 'I-ORG']\n",
      "Category: 3 stars\n",
      "URLs: ['https://www.openai.com', 'https://www.american.com', 'https://www.ai.com', 'https://www.openai.com', 'https://www.incorporated.com', 'https://www.openai.com', 'https://www.limited.com', 'https://www.partnership.com', 'https://www.openai.com', 'https://www.ai.com', 'https://www.ai.com', 'https://www.openai.com', 'https://www.azure.com', 'https://www.microsoft.com', 'https://www.the.com', 'https://www.san.com', 'https://www.francisco.com', 'https://www.sam.com', 'https://www.altman.com', 'https://www.reid.com', 'https://www.hoffman.com', 'https://www.jessica.com', 'https://www.livingston.com', 'https://www.elon.com', 'https://www.musk.com', 'https://www.ilya.com', 'https://www.sutskever.com', 'https://www.wojciech.com', 'https://www.zaremba.com', 'https://www.peter.com', 'https://www.thiel.com', 'https://www.us.com', 'https://www.microsoft.com', 'https://www.openai.com', 'https://www.lp.com', 'https://www.january.com', 'https://www.gpt.com', 'https://www.prometheus.com', 'https://www.bing.com', 'https://www.history.com', 'https://www.non.com', 'https://www.in.com', 'https://www.december.com', 'https://www.sam.com', 'https://www.altman.com', 'https://www.greg.com', 'https://www.brockman.com', 'https://www.reid.com', 'https://www.hoffman.com', 'https://www.jessica.com', 'https://www.livingston.com', 'https://www.peter.com', 'https://www.thiel.com', 'https://www.elon.com', 'https://www.musk.com', 'https://www.amazon.com', 'https://www.web.com', 'https://www.services.com', 'https://www.aws.com', 'https://www.infosys.com', 'https://www.yc.com', 'https://www.resear.com']\n",
      "New Entities: ['OpenAI', 'American', 'AI', 'OpenAI', 'Incorporated', 'OpenAI', 'Limited', 'Partnership', 'OpenAI', 'AI', 'AI', 'OpenAI', 'Azure', 'Microsoft', 'The', 'San', 'Francisco', 'Sam', 'Altman', 'Reid', 'Hoffman', 'Jessica', 'Livingston', 'Elon', 'Musk', 'Ilya', 'Sutskever', 'Wojciech', 'Zaremba', 'Peter', 'Thiel', 'US', 'Microsoft', 'OpenAI', 'LP', 'January', 'GPT', 'Prometheus', 'Bing', 'History', 'Non', 'In', 'December', 'Sam', 'Altman', 'Greg', 'Brockman', 'Reid', 'Hoffman', 'Jessica', 'Livingston', 'Peter', 'Thiel', 'Elon', 'Musk', 'Amazon', 'Web', 'Services', 'AWS', 'Infosys', 'YC', 'Resear']\n",
      "Entity Names: ['Microsoft', 'Corporation', 'American', 'Red', '##mond', 'Washington', 'Microsoft', 'Windows', 'Microsoft', 'Office', 'Internet', 'Explorer', 'Edge', 'Xbox', 'Microsoft', 'Surface', 'Microsoft', 'Fortune', '500', 'United', 'States', 'Big', 'Five', 'American', 'Alpha', '##bet', 'Google', 'Amazon', 'Apple', 'Met', '##a', 'Facebook', 'Microsoft', 'Bill', 'Gates', 'Paul', 'Allen', 'BA', '##SI', '##C', 'Alt', '##air', '88', '##00', 'MS', '-', 'DOS']\n",
      "Labels: ['B-ORG', 'I-ORG', 'B-MISC', 'B-LOC', 'I-LOC', 'B-LOC', 'B-ORG', 'B-MISC', 'B-MISC', 'I-MISC', 'B-MISC', 'I-MISC', 'B-MISC', 'B-MISC', 'B-MISC', 'I-MISC', 'B-ORG', 'B-MISC', 'I-MISC', 'B-LOC', 'I-LOC', 'B-MISC', 'I-MISC', 'B-MISC', 'B-ORG', 'I-ORG', 'B-ORG', 'B-ORG', 'B-ORG', 'B-ORG', 'I-ORG', 'B-ORG', 'B-ORG', 'B-PER', 'I-PER', 'B-PER', 'I-PER', 'B-MISC', 'I-MISC', 'I-MISC', 'B-MISC', 'I-MISC', 'I-MISC', 'I-MISC', 'B-MISC', 'I-MISC', 'I-MISC']\n",
      "Category: 5 stars\n",
      "URLs: ['https://www.microsoft.com', 'https://www.corporation.com', 'https://www.american.com', 'https://www.redmond.com', 'https://www.washington.com', 'https://www.microsoft.com', 'https://www.windows.com', 'https://www.microsoft.com', 'https://www.office.com', 'https://www.internet.com', 'https://www.explorer.com', 'https://www.edge.com', 'https://www.its.com', 'https://www.xbox.com', 'https://www.microsoft.com', 'https://www.surface.com', 'https://www.microsoft.com', 'https://www.no.com', 'https://www.fortune.com', 'https://www.united.com', 'https://www.states.com', 'https://www.it.com', 'https://www.big.com', 'https://www.five.com', 'https://www.american.com', 'https://www.alphabet.com', 'https://www.google.com', 'https://www.amazon.com', 'https://www.apple.com', 'https://www.meta.com', 'https://www.facebook.com', 'https://www.microsoft.com', 'https://www.bill.com', 'https://www.gates.com', 'https://www.paul.com', 'https://www.allen.com', 'https://www.april.com', 'https://www.basic.com', 'https://www.altair.com', 'https://www.it.com', 'https://www.ms.com', 'https://www.dos.com']\n",
      "New Entities: ['Microsoft', 'Corporation', 'American', 'Redmond', 'Washington', 'Microsoft', 'Windows', 'Microsoft', 'Office', 'Internet', 'Explorer', 'Edge', 'Its', 'Xbox', 'Microsoft', 'Surface', 'Microsoft', 'No', 'Fortune', 'United', 'States', 'It', 'Big', 'Five', 'American', 'Alphabet', 'Google', 'Amazon', 'Apple', 'Meta', 'Facebook', 'Microsoft', 'Bill', 'Gates', 'Paul', 'Allen', 'April', 'BASIC', 'Altair', 'It', 'MS', 'DOS']\n",
      "Entity Names: ['Amazon', 'Web', 'Services', ',', 'Inc', 'A', '##WS', 'Amazon', 'A', '##WS', 'Amazon', 'El', '##astic', 'Co', '##mp', '##ute', 'Cloud', 'EC', '##2', 'A', '##WS', 'A', '##WS']\n",
      "Labels: ['B-ORG', 'I-ORG', 'I-ORG', 'I-ORG', 'I-ORG', 'B-ORG', 'I-ORG', 'B-ORG', 'B-MISC', 'I-MISC', 'B-MISC', 'I-MISC', 'I-MISC', 'I-MISC', 'I-MISC', 'I-MISC', 'I-MISC', 'B-MISC', 'I-MISC', 'B-ORG', 'I-MISC', 'B-ORG', 'I-ORG']\n",
      "Category: 4 stars\n",
      "URLs: ['https://www.amazon.com', 'https://www.web.com', 'https://www.services.com', 'https://www.inc.com', 'https://www.aws.com', 'https://www.amazon.com', 'https://www.apis.com', 'https://www.often.com', 'https://www.these.com', 'https://www.iot.com', 'https://www.aws.com', 'https://www.this.com', 'https://www.one.com', 'https://www.amazon.com', 'https://www.elastic.com', 'https://www.compute.com', 'https://www.cloud.com', 'https://www.rest.com', 'https://www.apis.com', 'https://www.cli.com', 'https://www.aws.com', 'https://www.aws.com']\n",
      "New Entities: ['Amazon', 'Web', 'Services', 'Inc', 'AWS', 'Amazon', 'APIs', 'Often', 'These', 'IOT', 'AWS', 'This', 'One', 'Amazon', 'Elastic', 'Compute', 'Cloud', 'REST', 'APIs', 'CLI', 'AWS', 'AWS']\n",
      "Entity Names: ['Google', 'Cloud', 'Platform', 'G', 'Google', 'Google', 'Google', 'Search', 'G', '##mail', 'Google', 'Drive', 'YouTube', 'Google', 'Cloud', 'Platform', 'Google', 'A', '##pp', 'Engine', 'Google', 'A', '##pp', 'Engine', 'Google', 'Google', 'Cloud', 'Platform', 'Google', 'Cloud', 'Google', 'Cloud', 'P']\n",
      "Labels: ['B-ORG', 'I-ORG', 'I-ORG', 'B-MISC', 'B-ORG', 'B-ORG', 'B-MISC', 'I-MISC', 'B-MISC', 'I-MISC', 'B-MISC', 'I-MISC', 'B-ORG', 'B-ORG', 'I-ORG', 'I-ORG', 'B-ORG', 'B-MISC', 'B-MISC', 'I-MISC', 'B-MISC', 'B-ORG', 'B-MISC', 'I-MISC', 'B-ORG', 'B-ORG', 'I-ORG', 'I-ORG', 'B-ORG', 'I-ORG', 'B-MISC', 'I-MISC', 'I-MISC']\n",
      "Category: 4 stars\n",
      "URLs: ['https://www.google.com', 'https://www.cloud.com', 'https://www.platform.com', 'https://www.gcp.com', 'https://www.google.com', 'https://www.google.com', 'https://www.google.com', 'https://www.search.com', 'https://www.gmail.com', 'https://www.google.com', 'https://www.drive.com', 'https://www.youtube.com', 'https://www.alongside.com', 'https://www.registration.com', 'https://www.google.com', 'https://www.cloud.com', 'https://www.platform.com', 'https://www.in.com', 'https://www.april.com', 'https://www.google.com', 'https://www.app.com', 'https://www.engine.com', 'https://www.google.com', 'https://www.the.com', 'https://www.november.com', 'https://www.since.com', 'https://www.app.com', 'https://www.engine.com', 'https://www.google.com', 'https://www.google.com', 'https://www.cloud.com', 'https://www.platform.com', 'https://www.google.com', 'https://www.cloud.com', 'https://www.google.com', 'https://www.cloud.com', 'https://www.pl.com']\n",
      "New Entities: ['Google', 'Cloud', 'Platform', 'GCP', 'Google', 'Google', 'Google', 'Search', 'Gmail', 'Google', 'Drive', 'YouTube', 'Alongside', 'Registration', 'Google', 'Cloud', 'Platform', 'In', 'April', 'Google', 'App', 'Engine', 'Google', 'The', 'November', 'Since', 'App', 'Engine', 'Google', 'Google', 'Cloud', 'Platform', 'Google', 'Cloud', 'Google', 'Cloud', 'Pl']\n"
     ]
    },
    {
     "name": "stdout",
     "output_type": "stream",
     "text": [
      "Entity Names: ['Se', '##q', '##uo', '##ia', 'Capital', 'American', 'Men', '##lo', 'Park', 'California', 'Se', '##q', '##uo', '##ia', 'US', 'Se', '##q', '##uo', '##ia', 'U', '.', 'S', '.', 'Europe', 'India', 'Southeast', 'Asia', 'China', 'Se', '##q', '##uo', '##ia', 'Capital', 'Apple', 'C', '##isco', 'Google', 'In', '##sta', '##gram', 'Link', '##ed', '##I', '##n', 'Pay', '##P', '##al', 'Red', '##dit', 'Tu', '##mb', '##r', 'What', '##s', '##A', '##pp', 'Zoo', '##m', 'Se', '##q', '##uo', '##ia', 'Don', 'Valentine', 'Men', '##lo', 'Park', 'California', 'Se', '##q', '##uo', '##ia', 'Atari', 'Se', '##q', '##uo', '##ia', 'Apple', 'Doug', 'Leone', 'Michael', 'Mo', '##ritz']\n",
      "Labels: ['B-ORG', 'I-ORG', 'I-ORG', 'I-ORG', 'I-ORG', 'B-MISC', 'B-LOC', 'I-LOC', 'I-LOC', 'B-LOC', 'B-ORG', 'I-ORG', 'I-ORG', 'I-ORG', 'B-MISC', 'B-ORG', 'I-ORG', 'I-ORG', 'I-ORG', 'B-LOC', 'I-LOC', 'I-LOC', 'I-LOC', 'B-LOC', 'B-LOC', 'B-LOC', 'I-LOC', 'B-LOC', 'B-ORG', 'I-ORG', 'I-ORG', 'I-ORG', 'I-ORG', 'B-ORG', 'B-ORG', 'I-ORG', 'B-ORG', 'B-ORG', 'I-ORG', 'I-ORG', 'B-ORG', 'I-ORG', 'I-ORG', 'I-ORG', 'B-ORG', 'I-ORG', 'I-ORG', 'B-ORG', 'I-ORG', 'B-ORG', 'I-ORG', 'I-ORG', 'B-ORG', 'I-ORG', 'I-ORG', 'I-ORG', 'B-ORG', 'I-ORG', 'B-ORG', 'I-ORG', 'I-ORG', 'I-ORG', 'B-PER', 'I-PER', 'B-LOC', 'I-LOC', 'I-LOC', 'B-LOC', 'B-ORG', 'I-ORG', 'I-ORG', 'I-ORG', 'B-ORG', 'B-ORG', 'I-ORG', 'I-ORG', 'I-ORG', 'B-ORG', 'B-PER', 'I-PER', 'B-PER', 'I-PER', 'I-PER']\n",
      "Category: 3 stars\n",
      "URLs: ['https://www.sequoia.com', 'https://www.capital.com', 'https://www.american.com', 'https://www.the.com', 'https://www.menlo.com', 'https://www.park.com', 'https://www.california.com', 'https://www.as.com', 'https://www.sequoia.com', 'https://www.us.com', 'https://www.sequoia.com', 'https://www.europe.com', 'https://www.india.com', 'https://www.southeast.com', 'https://www.asia.com', 'https://www.china.com', 'https://www.notable.com', 'https://www.sequoia.com', 'https://www.capital.com', 'https://www.apple.com', 'https://www.cisco.com', 'https://www.google.com', 'https://www.instagram.com', 'https://www.linkedin.com', 'https://www.paypal.com', 'https://www.reddit.com', 'https://www.tumblr.com', 'https://www.whatsapp.com', 'https://www.zoom.com', 'https://www.history.com', 'https://www.sequoia.com', 'https://www.don.com', 'https://www.valentine.com', 'https://www.menlo.com', 'https://www.park.com', 'https://www.california.com', 'https://www.sequoia.com', 'https://www.atari.com', 'https://www.in.com', 'https://www.sequoia.com', 'https://www.apple.com', 'https://www.partners.com', 'https://www.doug.com', 'https://www.leone.com', 'https://www.michael.com', 'https://www.moritz.com']\n",
      "New Entities: ['Sequoia', 'Capital', 'American', 'The', 'Menlo', 'Park', 'California', 'As', 'Sequoia', 'US', 'Sequoia', 'Europe', 'India', 'Southeast', 'Asia', 'China', 'Notable', 'Sequoia', 'Capital', 'Apple', 'Cisco', 'Google', 'Instagram', 'LinkedIn', 'PayPal', 'Reddit', 'Tumblr', 'WhatsApp', 'Zoom', 'History', 'Sequoia', 'Don', 'Valentine', 'Menlo', 'Park', 'California', 'Sequoia', 'Atari', 'In', 'Sequoia', 'Apple', 'Partners', 'Doug', 'Leone', 'Michael', 'Moritz']\n",
      "Entity Names: ['Monica', 'St', '##re', '##bel', 'Swiss', 'Italian', 'St', '##re', '##bel', 'Amor', '##e', 'o', 'q', 'Italian', 'Fernando', 'Di', 'Leo', 'B', '##ru', 'Francesco', 'Ma', '##sel', '##li', 'Monica', 'St', '##re', '##bel', 'W', '##iki', '##media', 'Commons', 'Monica', 'St', '##re', '##bel', 'I', '##MD', '##b']\n",
      "Labels: ['B-PER', 'I-PER', 'I-PER', 'I-PER', 'B-MISC', 'B-MISC', 'B-PER', 'I-PER', 'I-PER', 'B-MISC', 'I-MISC', 'I-MISC', 'I-MISC', 'B-MISC', 'B-PER', 'I-PER', 'I-PER', 'B-MISC', 'B-MISC', 'B-PER', 'I-PER', 'I-PER', 'I-PER', 'B-PER', 'I-PER', 'I-PER', 'I-PER', 'B-ORG', 'B-ORG', 'I-ORG', 'I-ORG', 'B-PER', 'I-PER', 'I-PER', 'I-PER', 'B-ORG', 'I-ORG', 'I-ORG']\n",
      "Category: 3 stars\n",
      "URLs: ['https://www.monica.com', 'https://www.strebel.com', 'https://www.swiss.com', 'https://www.italian.com', 'https://www.strebel.com', 'https://www.amore.com', 'https://www.she.com', 'https://www.italian.com', 'https://www.fernando.com', 'https://www.di.com', 'https://www.leo.com', 'https://www.brucia.com', 'https://www.francesco.com', 'https://www.maselli.com', 'https://www.lettera.com', 'https://www.references.com', 'https://www.external.com', 'https://www.media.com', 'https://www.monica.com', 'https://www.strebel.com', 'https://www.wikimedia.com', 'https://www.commons.com', 'https://www.monica.com', 'https://www.strebel.com', 'https://www.imdb.com']\n",
      "New Entities: ['Monica', 'Strebel', 'Swiss', 'Italian', 'Strebel', 'Amore', 'She', 'Italian', 'Fernando', 'Di', 'Leo', 'Brucia', 'Francesco', 'Maselli', 'Lettera', 'References', 'External', 'Media', 'Monica', 'Strebel', 'Wikimedia', 'Commons', 'Monica', 'Strebel', 'IMDb']\n",
      "Entity Names: ['Tiger', 'Global', 'Management', ',', 'LLC', 'Tiger', 'Global', 'Tiger', 'Technology', 'American', 'Internet', 'Chase', 'Coleman', 'III', 'Julian', 'Robertson', 'Tiger', 'Management', 'Robertson', 'Tiger', 'Management', 'Coleman', 'Tiger', 'Cubs', 'Tiger', 'Management', 'Coleman', 'Tiger', 'Technology', 'Tiger', 'Global', 'Management', ',', 'LLC', 'Scott', 'S', '##hl', '##ei', '##fer', 'Tiger', 'Global', 'Pre', '##qi', '##n', 'Venture', 'Report', 'Tiger', 'Global']\n",
      "Labels: ['B-ORG', 'I-ORG', 'I-ORG', 'I-ORG', 'I-ORG', 'B-ORG', 'I-ORG', 'B-ORG', 'I-ORG', 'B-MISC', 'B-MISC', 'B-PER', 'I-PER', 'I-PER', 'B-PER', 'I-PER', 'B-ORG', 'I-ORG', 'B-PER', 'B-ORG', 'I-ORG', 'B-PER', 'B-MISC', 'I-MISC', 'B-ORG', 'I-ORG', 'B-PER', 'B-ORG', 'I-ORG', 'B-ORG', 'I-ORG', 'I-ORG', 'I-ORG', 'I-ORG', 'B-PER', 'I-PER', 'I-PER', 'I-PER', 'I-PER', 'B-ORG', 'I-ORG', 'B-MISC', 'I-MISC', 'I-MISC', 'I-MISC', 'I-MISC', 'B-ORG', 'I-ORG']\n",
      "Category: 4 stars\n",
      "URLs: ['https://www.tiger.com', 'https://www.global.com', 'https://www.management.com', 'https://www.llc.com', 'https://www.tiger.com', 'https://www.global.com', 'https://www.tiger.com', 'https://www.technology.com', 'https://www.american.com', 'https://www.it.com', 'https://www.internet.com', 'https://www.background.com', 'https://www.chase.com', 'https://www.coleman.com', 'https://www.iii.com', 'https://www.julian.com', 'https://www.robertson.com', 'https://www.tiger.com', 'https://www.management.com', 'https://www.in.com', 'https://www.robertson.com', 'https://www.tiger.com', 'https://www.management.com', 'https://www.coleman.com', 'https://www.tiger.com', 'https://www.cubs.com', 'https://www.tiger.com', 'https://www.management.com', 'https://www.in.com', 'https://www.coleman.com', 'https://www.tiger.com', 'https://www.technology.com', 'https://www.tiger.com', 'https://www.global.com', 'https://www.management.com', 'https://www.llc.com', 'https://www.in.com', 'https://www.scott.com', 'https://www.shleifer.com', 'https://www.tiger.com', 'https://www.global.com', 'https://www.from.com', 'https://www.preqin.com', 'https://www.venture.com', 'https://www.report.com', 'https://www.tiger.com', 'https://www.global.com']\n",
      "New Entities: ['Tiger', 'Global', 'Management', 'LLC', 'Tiger', 'Global', 'Tiger', 'Technology', 'American', 'It', 'Internet', 'Background', 'Chase', 'Coleman', 'III', 'Julian', 'Robertson', 'Tiger', 'Management', 'In', 'Robertson', 'Tiger', 'Management', 'Coleman', 'Tiger', 'Cubs', 'Tiger', 'Management', 'In', 'Coleman', 'Tiger', 'Technology', 'Tiger', 'Global', 'Management', 'LLC', 'In', 'Scott', 'Shleifer', 'Tiger', 'Global', 'From', 'Preqin', 'Venture', 'Report', 'Tiger', 'Global']\n",
      "Entity Names: ['Bed', '##rock', 'The', 'Flint', '##stones', 'Flint', '##stones', 'R', '##ip', 'Van', 'Flint', '##stone', 'Bed', '##rock', 'American', 'S', '##late', 'Rock', 'and', 'Grave', '##l', 'Rock', '##head', 'and', 'Q', '##ua', '##rry', 'Cave', 'Construction', 'Company', 'Bed', '##rock', 'Flint', '##stones']\n",
      "Labels: ['B-LOC', 'I-LOC', 'B-MISC', 'I-MISC', 'I-MISC', 'B-ORG', 'I-ORG', 'B-MISC', 'B-MISC', 'I-MISC', 'I-MISC', 'I-MISC', 'B-LOC', 'I-LOC', 'B-MISC', 'B-ORG', 'I-ORG', 'I-ORG', 'I-ORG', 'I-ORG', 'I-ORG', 'B-ORG', 'I-ORG', 'I-ORG', 'I-ORG', 'I-ORG', 'I-ORG', 'I-ORG', 'I-ORG', 'I-ORG', 'B-LOC', 'I-LOC', 'B-ORG', 'I-MISC']\n",
      "Category: 4 stars\n",
      "URLs: ['https://www.bedrock.com', 'https://www.the.com', 'https://www.flintstones.com', 'https://www.size.com', 'https://www.though.com', 'https://www.flintstones.com', 'https://www.rip.com', 'https://www.van.com', 'https://www.flintstone.com', 'https://www.bedrock.com', 'https://www.american.com', 'https://www.for.com', 'https://www.slate.com', 'https://www.rock.com', 'https://www.gravel.com', 'https://www.rockhead.com', 'https://www.quarry.com', 'https://www.cave.com', 'https://www.construction.com', 'https://www.company.com', 'https://www.features.com', 'https://www.the.com', 'https://www.bedrock.com', 'https://www.flintstones.com', 'https://www.palm.com', 'https://www.however.com', 'https://www.christmas.com']\n",
      "New Entities: ['Bedrock', 'The', 'Flintstones', 'Size', 'Though', 'Flintstones', 'Rip', 'Van', 'Flintstone', 'Bedrock', 'American', 'For', 'Slate', 'Rock', 'Gravel', 'Rockhead', 'Quarry', 'Cave', 'Construction', 'Company', 'Features', 'The', 'Bedrock', 'Flintstones', 'Palm', 'However', 'Christmas']\n"
     ]
    },
    {
     "ename": "SSLError",
     "evalue": "HTTPSConnectionPool(host='huggingface.co', port=443): Max retries exceeded with url: /dslim/bert-base-NER/resolve/main/tokenizer_config.json (Caused by SSLError(SSLEOFError(8, 'EOF occurred in violation of protocol (_ssl.c:997)')))",
     "output_type": "error",
     "traceback": [
      "\u001b[0;31m---------------------------------------------------------------------------\u001b[0m",
      "\u001b[0;31mSSLEOFError\u001b[0m                               Traceback (most recent call last)",
      "File \u001b[0;32m~/anaconda3/lib/python3.10/site-packages/urllib3/connectionpool.py:703\u001b[0m, in \u001b[0;36mHTTPConnectionPool.urlopen\u001b[0;34m(self, method, url, body, headers, retries, redirect, assert_same_host, timeout, pool_timeout, release_conn, chunked, body_pos, **response_kw)\u001b[0m\n\u001b[1;32m    702\u001b[0m \u001b[38;5;66;03m# Make the request on the httplib connection object.\u001b[39;00m\n\u001b[0;32m--> 703\u001b[0m httplib_response \u001b[38;5;241m=\u001b[39m \u001b[38;5;28;43mself\u001b[39;49m\u001b[38;5;241;43m.\u001b[39;49m\u001b[43m_make_request\u001b[49m\u001b[43m(\u001b[49m\n\u001b[1;32m    704\u001b[0m \u001b[43m    \u001b[49m\u001b[43mconn\u001b[49m\u001b[43m,\u001b[49m\n\u001b[1;32m    705\u001b[0m \u001b[43m    \u001b[49m\u001b[43mmethod\u001b[49m\u001b[43m,\u001b[49m\n\u001b[1;32m    706\u001b[0m \u001b[43m    \u001b[49m\u001b[43murl\u001b[49m\u001b[43m,\u001b[49m\n\u001b[1;32m    707\u001b[0m \u001b[43m    \u001b[49m\u001b[43mtimeout\u001b[49m\u001b[38;5;241;43m=\u001b[39;49m\u001b[43mtimeout_obj\u001b[49m\u001b[43m,\u001b[49m\n\u001b[1;32m    708\u001b[0m \u001b[43m    \u001b[49m\u001b[43mbody\u001b[49m\u001b[38;5;241;43m=\u001b[39;49m\u001b[43mbody\u001b[49m\u001b[43m,\u001b[49m\n\u001b[1;32m    709\u001b[0m \u001b[43m    \u001b[49m\u001b[43mheaders\u001b[49m\u001b[38;5;241;43m=\u001b[39;49m\u001b[43mheaders\u001b[49m\u001b[43m,\u001b[49m\n\u001b[1;32m    710\u001b[0m \u001b[43m    \u001b[49m\u001b[43mchunked\u001b[49m\u001b[38;5;241;43m=\u001b[39;49m\u001b[43mchunked\u001b[49m\u001b[43m,\u001b[49m\n\u001b[1;32m    711\u001b[0m \u001b[43m\u001b[49m\u001b[43m)\u001b[49m\n\u001b[1;32m    713\u001b[0m \u001b[38;5;66;03m# If we're going to release the connection in ``finally:``, then\u001b[39;00m\n\u001b[1;32m    714\u001b[0m \u001b[38;5;66;03m# the response doesn't need to know about the connection. Otherwise\u001b[39;00m\n\u001b[1;32m    715\u001b[0m \u001b[38;5;66;03m# it will also try to release it and we'll have a double-release\u001b[39;00m\n\u001b[1;32m    716\u001b[0m \u001b[38;5;66;03m# mess.\u001b[39;00m\n",
      "File \u001b[0;32m~/anaconda3/lib/python3.10/site-packages/urllib3/connectionpool.py:386\u001b[0m, in \u001b[0;36mHTTPConnectionPool._make_request\u001b[0;34m(self, conn, method, url, timeout, chunked, **httplib_request_kw)\u001b[0m\n\u001b[1;32m    385\u001b[0m \u001b[38;5;28;01mtry\u001b[39;00m:\n\u001b[0;32m--> 386\u001b[0m     \u001b[38;5;28;43mself\u001b[39;49m\u001b[38;5;241;43m.\u001b[39;49m\u001b[43m_validate_conn\u001b[49m\u001b[43m(\u001b[49m\u001b[43mconn\u001b[49m\u001b[43m)\u001b[49m\n\u001b[1;32m    387\u001b[0m \u001b[38;5;28;01mexcept\u001b[39;00m (SocketTimeout, BaseSSLError) \u001b[38;5;28;01mas\u001b[39;00m e:\n\u001b[1;32m    388\u001b[0m     \u001b[38;5;66;03m# Py2 raises this as a BaseSSLError, Py3 raises it as socket timeout.\u001b[39;00m\n",
      "File \u001b[0;32m~/anaconda3/lib/python3.10/site-packages/urllib3/connectionpool.py:1042\u001b[0m, in \u001b[0;36mHTTPSConnectionPool._validate_conn\u001b[0;34m(self, conn)\u001b[0m\n\u001b[1;32m   1041\u001b[0m \u001b[38;5;28;01mif\u001b[39;00m \u001b[38;5;129;01mnot\u001b[39;00m \u001b[38;5;28mgetattr\u001b[39m(conn, \u001b[38;5;124m\"\u001b[39m\u001b[38;5;124msock\u001b[39m\u001b[38;5;124m\"\u001b[39m, \u001b[38;5;28;01mNone\u001b[39;00m):  \u001b[38;5;66;03m# AppEngine might not have  `.sock`\u001b[39;00m\n\u001b[0;32m-> 1042\u001b[0m     \u001b[43mconn\u001b[49m\u001b[38;5;241;43m.\u001b[39;49m\u001b[43mconnect\u001b[49m\u001b[43m(\u001b[49m\u001b[43m)\u001b[49m\n\u001b[1;32m   1044\u001b[0m \u001b[38;5;28;01mif\u001b[39;00m \u001b[38;5;129;01mnot\u001b[39;00m conn\u001b[38;5;241m.\u001b[39mis_verified:\n",
      "File \u001b[0;32m~/anaconda3/lib/python3.10/site-packages/urllib3/connection.py:414\u001b[0m, in \u001b[0;36mHTTPSConnection.connect\u001b[0;34m(self)\u001b[0m\n\u001b[1;32m    412\u001b[0m     context\u001b[38;5;241m.\u001b[39mload_default_certs()\n\u001b[0;32m--> 414\u001b[0m \u001b[38;5;28mself\u001b[39m\u001b[38;5;241m.\u001b[39msock \u001b[38;5;241m=\u001b[39m \u001b[43mssl_wrap_socket\u001b[49m\u001b[43m(\u001b[49m\n\u001b[1;32m    415\u001b[0m \u001b[43m    \u001b[49m\u001b[43msock\u001b[49m\u001b[38;5;241;43m=\u001b[39;49m\u001b[43mconn\u001b[49m\u001b[43m,\u001b[49m\n\u001b[1;32m    416\u001b[0m \u001b[43m    \u001b[49m\u001b[43mkeyfile\u001b[49m\u001b[38;5;241;43m=\u001b[39;49m\u001b[38;5;28;43mself\u001b[39;49m\u001b[38;5;241;43m.\u001b[39;49m\u001b[43mkey_file\u001b[49m\u001b[43m,\u001b[49m\n\u001b[1;32m    417\u001b[0m \u001b[43m    \u001b[49m\u001b[43mcertfile\u001b[49m\u001b[38;5;241;43m=\u001b[39;49m\u001b[38;5;28;43mself\u001b[39;49m\u001b[38;5;241;43m.\u001b[39;49m\u001b[43mcert_file\u001b[49m\u001b[43m,\u001b[49m\n\u001b[1;32m    418\u001b[0m \u001b[43m    \u001b[49m\u001b[43mkey_password\u001b[49m\u001b[38;5;241;43m=\u001b[39;49m\u001b[38;5;28;43mself\u001b[39;49m\u001b[38;5;241;43m.\u001b[39;49m\u001b[43mkey_password\u001b[49m\u001b[43m,\u001b[49m\n\u001b[1;32m    419\u001b[0m \u001b[43m    \u001b[49m\u001b[43mca_certs\u001b[49m\u001b[38;5;241;43m=\u001b[39;49m\u001b[38;5;28;43mself\u001b[39;49m\u001b[38;5;241;43m.\u001b[39;49m\u001b[43mca_certs\u001b[49m\u001b[43m,\u001b[49m\n\u001b[1;32m    420\u001b[0m \u001b[43m    \u001b[49m\u001b[43mca_cert_dir\u001b[49m\u001b[38;5;241;43m=\u001b[39;49m\u001b[38;5;28;43mself\u001b[39;49m\u001b[38;5;241;43m.\u001b[39;49m\u001b[43mca_cert_dir\u001b[49m\u001b[43m,\u001b[49m\n\u001b[1;32m    421\u001b[0m \u001b[43m    \u001b[49m\u001b[43mca_cert_data\u001b[49m\u001b[38;5;241;43m=\u001b[39;49m\u001b[38;5;28;43mself\u001b[39;49m\u001b[38;5;241;43m.\u001b[39;49m\u001b[43mca_cert_data\u001b[49m\u001b[43m,\u001b[49m\n\u001b[1;32m    422\u001b[0m \u001b[43m    \u001b[49m\u001b[43mserver_hostname\u001b[49m\u001b[38;5;241;43m=\u001b[39;49m\u001b[43mserver_hostname\u001b[49m\u001b[43m,\u001b[49m\n\u001b[1;32m    423\u001b[0m \u001b[43m    \u001b[49m\u001b[43mssl_context\u001b[49m\u001b[38;5;241;43m=\u001b[39;49m\u001b[43mcontext\u001b[49m\u001b[43m,\u001b[49m\n\u001b[1;32m    424\u001b[0m \u001b[43m    \u001b[49m\u001b[43mtls_in_tls\u001b[49m\u001b[38;5;241;43m=\u001b[39;49m\u001b[43mtls_in_tls\u001b[49m\u001b[43m,\u001b[49m\n\u001b[1;32m    425\u001b[0m \u001b[43m\u001b[49m\u001b[43m)\u001b[49m\n\u001b[1;32m    427\u001b[0m \u001b[38;5;66;03m# If we're using all defaults and the connection\u001b[39;00m\n\u001b[1;32m    428\u001b[0m \u001b[38;5;66;03m# is TLSv1 or TLSv1.1 we throw a DeprecationWarning\u001b[39;00m\n\u001b[1;32m    429\u001b[0m \u001b[38;5;66;03m# for the host.\u001b[39;00m\n",
      "File \u001b[0;32m~/anaconda3/lib/python3.10/site-packages/urllib3/util/ssl_.py:449\u001b[0m, in \u001b[0;36mssl_wrap_socket\u001b[0;34m(sock, keyfile, certfile, cert_reqs, ca_certs, server_hostname, ssl_version, ciphers, ssl_context, ca_cert_dir, key_password, ca_cert_data, tls_in_tls)\u001b[0m\n\u001b[1;32m    448\u001b[0m \u001b[38;5;28;01mif\u001b[39;00m send_sni:\n\u001b[0;32m--> 449\u001b[0m     ssl_sock \u001b[38;5;241m=\u001b[39m \u001b[43m_ssl_wrap_socket_impl\u001b[49m\u001b[43m(\u001b[49m\n\u001b[1;32m    450\u001b[0m \u001b[43m        \u001b[49m\u001b[43msock\u001b[49m\u001b[43m,\u001b[49m\u001b[43m \u001b[49m\u001b[43mcontext\u001b[49m\u001b[43m,\u001b[49m\u001b[43m \u001b[49m\u001b[43mtls_in_tls\u001b[49m\u001b[43m,\u001b[49m\u001b[43m \u001b[49m\u001b[43mserver_hostname\u001b[49m\u001b[38;5;241;43m=\u001b[39;49m\u001b[43mserver_hostname\u001b[49m\n\u001b[1;32m    451\u001b[0m \u001b[43m    \u001b[49m\u001b[43m)\u001b[49m\n\u001b[1;32m    452\u001b[0m \u001b[38;5;28;01melse\u001b[39;00m:\n",
      "File \u001b[0;32m~/anaconda3/lib/python3.10/site-packages/urllib3/util/ssl_.py:493\u001b[0m, in \u001b[0;36m_ssl_wrap_socket_impl\u001b[0;34m(sock, ssl_context, tls_in_tls, server_hostname)\u001b[0m\n\u001b[1;32m    492\u001b[0m \u001b[38;5;28;01mif\u001b[39;00m server_hostname:\n\u001b[0;32m--> 493\u001b[0m     \u001b[38;5;28;01mreturn\u001b[39;00m \u001b[43mssl_context\u001b[49m\u001b[38;5;241;43m.\u001b[39;49m\u001b[43mwrap_socket\u001b[49m\u001b[43m(\u001b[49m\u001b[43msock\u001b[49m\u001b[43m,\u001b[49m\u001b[43m \u001b[49m\u001b[43mserver_hostname\u001b[49m\u001b[38;5;241;43m=\u001b[39;49m\u001b[43mserver_hostname\u001b[49m\u001b[43m)\u001b[49m\n\u001b[1;32m    494\u001b[0m \u001b[38;5;28;01melse\u001b[39;00m:\n",
      "File \u001b[0;32m~/anaconda3/lib/python3.10/ssl.py:513\u001b[0m, in \u001b[0;36mSSLContext.wrap_socket\u001b[0;34m(self, sock, server_side, do_handshake_on_connect, suppress_ragged_eofs, server_hostname, session)\u001b[0m\n\u001b[1;32m    507\u001b[0m \u001b[38;5;28;01mdef\u001b[39;00m \u001b[38;5;21mwrap_socket\u001b[39m(\u001b[38;5;28mself\u001b[39m, sock, server_side\u001b[38;5;241m=\u001b[39m\u001b[38;5;28;01mFalse\u001b[39;00m,\n\u001b[1;32m    508\u001b[0m                 do_handshake_on_connect\u001b[38;5;241m=\u001b[39m\u001b[38;5;28;01mTrue\u001b[39;00m,\n\u001b[1;32m    509\u001b[0m                 suppress_ragged_eofs\u001b[38;5;241m=\u001b[39m\u001b[38;5;28;01mTrue\u001b[39;00m,\n\u001b[1;32m    510\u001b[0m                 server_hostname\u001b[38;5;241m=\u001b[39m\u001b[38;5;28;01mNone\u001b[39;00m, session\u001b[38;5;241m=\u001b[39m\u001b[38;5;28;01mNone\u001b[39;00m):\n\u001b[1;32m    511\u001b[0m     \u001b[38;5;66;03m# SSLSocket class handles server_hostname encoding before it calls\u001b[39;00m\n\u001b[1;32m    512\u001b[0m     \u001b[38;5;66;03m# ctx._wrap_socket()\u001b[39;00m\n\u001b[0;32m--> 513\u001b[0m     \u001b[38;5;28;01mreturn\u001b[39;00m \u001b[38;5;28;43mself\u001b[39;49m\u001b[38;5;241;43m.\u001b[39;49m\u001b[43msslsocket_class\u001b[49m\u001b[38;5;241;43m.\u001b[39;49m\u001b[43m_create\u001b[49m\u001b[43m(\u001b[49m\n\u001b[1;32m    514\u001b[0m \u001b[43m        \u001b[49m\u001b[43msock\u001b[49m\u001b[38;5;241;43m=\u001b[39;49m\u001b[43msock\u001b[49m\u001b[43m,\u001b[49m\n\u001b[1;32m    515\u001b[0m \u001b[43m        \u001b[49m\u001b[43mserver_side\u001b[49m\u001b[38;5;241;43m=\u001b[39;49m\u001b[43mserver_side\u001b[49m\u001b[43m,\u001b[49m\n\u001b[1;32m    516\u001b[0m \u001b[43m        \u001b[49m\u001b[43mdo_handshake_on_connect\u001b[49m\u001b[38;5;241;43m=\u001b[39;49m\u001b[43mdo_handshake_on_connect\u001b[49m\u001b[43m,\u001b[49m\n\u001b[1;32m    517\u001b[0m \u001b[43m        \u001b[49m\u001b[43msuppress_ragged_eofs\u001b[49m\u001b[38;5;241;43m=\u001b[39;49m\u001b[43msuppress_ragged_eofs\u001b[49m\u001b[43m,\u001b[49m\n\u001b[1;32m    518\u001b[0m \u001b[43m        \u001b[49m\u001b[43mserver_hostname\u001b[49m\u001b[38;5;241;43m=\u001b[39;49m\u001b[43mserver_hostname\u001b[49m\u001b[43m,\u001b[49m\n\u001b[1;32m    519\u001b[0m \u001b[43m        \u001b[49m\u001b[43mcontext\u001b[49m\u001b[38;5;241;43m=\u001b[39;49m\u001b[38;5;28;43mself\u001b[39;49m\u001b[43m,\u001b[49m\n\u001b[1;32m    520\u001b[0m \u001b[43m        \u001b[49m\u001b[43msession\u001b[49m\u001b[38;5;241;43m=\u001b[39;49m\u001b[43msession\u001b[49m\n\u001b[1;32m    521\u001b[0m \u001b[43m    \u001b[49m\u001b[43m)\u001b[49m\n",
      "File \u001b[0;32m~/anaconda3/lib/python3.10/ssl.py:1071\u001b[0m, in \u001b[0;36mSSLSocket._create\u001b[0;34m(cls, sock, server_side, do_handshake_on_connect, suppress_ragged_eofs, server_hostname, context, session)\u001b[0m\n\u001b[1;32m   1070\u001b[0m             \u001b[38;5;28;01mraise\u001b[39;00m \u001b[38;5;167;01mValueError\u001b[39;00m(\u001b[38;5;124m\"\u001b[39m\u001b[38;5;124mdo_handshake_on_connect should not be specified for non-blocking sockets\u001b[39m\u001b[38;5;124m\"\u001b[39m)\n\u001b[0;32m-> 1071\u001b[0m         \u001b[38;5;28;43mself\u001b[39;49m\u001b[38;5;241;43m.\u001b[39;49m\u001b[43mdo_handshake\u001b[49m\u001b[43m(\u001b[49m\u001b[43m)\u001b[49m\n\u001b[1;32m   1072\u001b[0m \u001b[38;5;28;01mexcept\u001b[39;00m (\u001b[38;5;167;01mOSError\u001b[39;00m, \u001b[38;5;167;01mValueError\u001b[39;00m):\n",
      "File \u001b[0;32m~/anaconda3/lib/python3.10/ssl.py:1342\u001b[0m, in \u001b[0;36mSSLSocket.do_handshake\u001b[0;34m(self, block)\u001b[0m\n\u001b[1;32m   1341\u001b[0m         \u001b[38;5;28mself\u001b[39m\u001b[38;5;241m.\u001b[39msettimeout(\u001b[38;5;28;01mNone\u001b[39;00m)\n\u001b[0;32m-> 1342\u001b[0m     \u001b[38;5;28;43mself\u001b[39;49m\u001b[38;5;241;43m.\u001b[39;49m\u001b[43m_sslobj\u001b[49m\u001b[38;5;241;43m.\u001b[39;49m\u001b[43mdo_handshake\u001b[49m\u001b[43m(\u001b[49m\u001b[43m)\u001b[49m\n\u001b[1;32m   1343\u001b[0m \u001b[38;5;28;01mfinally\u001b[39;00m:\n",
      "\u001b[0;31mSSLEOFError\u001b[0m: EOF occurred in violation of protocol (_ssl.c:997)",
      "\nDuring handling of the above exception, another exception occurred:\n",
      "\u001b[0;31mMaxRetryError\u001b[0m                             Traceback (most recent call last)",
      "File \u001b[0;32m~/anaconda3/lib/python3.10/site-packages/requests/adapters.py:489\u001b[0m, in \u001b[0;36mHTTPAdapter.send\u001b[0;34m(self, request, stream, timeout, verify, cert, proxies)\u001b[0m\n\u001b[1;32m    488\u001b[0m \u001b[38;5;28;01mif\u001b[39;00m \u001b[38;5;129;01mnot\u001b[39;00m chunked:\n\u001b[0;32m--> 489\u001b[0m     resp \u001b[38;5;241m=\u001b[39m \u001b[43mconn\u001b[49m\u001b[38;5;241;43m.\u001b[39;49m\u001b[43murlopen\u001b[49m\u001b[43m(\u001b[49m\n\u001b[1;32m    490\u001b[0m \u001b[43m        \u001b[49m\u001b[43mmethod\u001b[49m\u001b[38;5;241;43m=\u001b[39;49m\u001b[43mrequest\u001b[49m\u001b[38;5;241;43m.\u001b[39;49m\u001b[43mmethod\u001b[49m\u001b[43m,\u001b[49m\n\u001b[1;32m    491\u001b[0m \u001b[43m        \u001b[49m\u001b[43murl\u001b[49m\u001b[38;5;241;43m=\u001b[39;49m\u001b[43murl\u001b[49m\u001b[43m,\u001b[49m\n\u001b[1;32m    492\u001b[0m \u001b[43m        \u001b[49m\u001b[43mbody\u001b[49m\u001b[38;5;241;43m=\u001b[39;49m\u001b[43mrequest\u001b[49m\u001b[38;5;241;43m.\u001b[39;49m\u001b[43mbody\u001b[49m\u001b[43m,\u001b[49m\n\u001b[1;32m    493\u001b[0m \u001b[43m        \u001b[49m\u001b[43mheaders\u001b[49m\u001b[38;5;241;43m=\u001b[39;49m\u001b[43mrequest\u001b[49m\u001b[38;5;241;43m.\u001b[39;49m\u001b[43mheaders\u001b[49m\u001b[43m,\u001b[49m\n\u001b[1;32m    494\u001b[0m \u001b[43m        \u001b[49m\u001b[43mredirect\u001b[49m\u001b[38;5;241;43m=\u001b[39;49m\u001b[38;5;28;43;01mFalse\u001b[39;49;00m\u001b[43m,\u001b[49m\n\u001b[1;32m    495\u001b[0m \u001b[43m        \u001b[49m\u001b[43massert_same_host\u001b[49m\u001b[38;5;241;43m=\u001b[39;49m\u001b[38;5;28;43;01mFalse\u001b[39;49;00m\u001b[43m,\u001b[49m\n\u001b[1;32m    496\u001b[0m \u001b[43m        \u001b[49m\u001b[43mpreload_content\u001b[49m\u001b[38;5;241;43m=\u001b[39;49m\u001b[38;5;28;43;01mFalse\u001b[39;49;00m\u001b[43m,\u001b[49m\n\u001b[1;32m    497\u001b[0m \u001b[43m        \u001b[49m\u001b[43mdecode_content\u001b[49m\u001b[38;5;241;43m=\u001b[39;49m\u001b[38;5;28;43;01mFalse\u001b[39;49;00m\u001b[43m,\u001b[49m\n\u001b[1;32m    498\u001b[0m \u001b[43m        \u001b[49m\u001b[43mretries\u001b[49m\u001b[38;5;241;43m=\u001b[39;49m\u001b[38;5;28;43mself\u001b[39;49m\u001b[38;5;241;43m.\u001b[39;49m\u001b[43mmax_retries\u001b[49m\u001b[43m,\u001b[49m\n\u001b[1;32m    499\u001b[0m \u001b[43m        \u001b[49m\u001b[43mtimeout\u001b[49m\u001b[38;5;241;43m=\u001b[39;49m\u001b[43mtimeout\u001b[49m\u001b[43m,\u001b[49m\n\u001b[1;32m    500\u001b[0m \u001b[43m    \u001b[49m\u001b[43m)\u001b[49m\n\u001b[1;32m    502\u001b[0m \u001b[38;5;66;03m# Send the request.\u001b[39;00m\n\u001b[1;32m    503\u001b[0m \u001b[38;5;28;01melse\u001b[39;00m:\n",
      "File \u001b[0;32m~/anaconda3/lib/python3.10/site-packages/urllib3/connectionpool.py:787\u001b[0m, in \u001b[0;36mHTTPConnectionPool.urlopen\u001b[0;34m(self, method, url, body, headers, retries, redirect, assert_same_host, timeout, pool_timeout, release_conn, chunked, body_pos, **response_kw)\u001b[0m\n\u001b[1;32m    785\u001b[0m     e \u001b[38;5;241m=\u001b[39m ProtocolError(\u001b[38;5;124m\"\u001b[39m\u001b[38;5;124mConnection aborted.\u001b[39m\u001b[38;5;124m\"\u001b[39m, e)\n\u001b[0;32m--> 787\u001b[0m retries \u001b[38;5;241m=\u001b[39m \u001b[43mretries\u001b[49m\u001b[38;5;241;43m.\u001b[39;49m\u001b[43mincrement\u001b[49m\u001b[43m(\u001b[49m\n\u001b[1;32m    788\u001b[0m \u001b[43m    \u001b[49m\u001b[43mmethod\u001b[49m\u001b[43m,\u001b[49m\u001b[43m \u001b[49m\u001b[43murl\u001b[49m\u001b[43m,\u001b[49m\u001b[43m \u001b[49m\u001b[43merror\u001b[49m\u001b[38;5;241;43m=\u001b[39;49m\u001b[43me\u001b[49m\u001b[43m,\u001b[49m\u001b[43m \u001b[49m\u001b[43m_pool\u001b[49m\u001b[38;5;241;43m=\u001b[39;49m\u001b[38;5;28;43mself\u001b[39;49m\u001b[43m,\u001b[49m\u001b[43m \u001b[49m\u001b[43m_stacktrace\u001b[49m\u001b[38;5;241;43m=\u001b[39;49m\u001b[43msys\u001b[49m\u001b[38;5;241;43m.\u001b[39;49m\u001b[43mexc_info\u001b[49m\u001b[43m(\u001b[49m\u001b[43m)\u001b[49m\u001b[43m[\u001b[49m\u001b[38;5;241;43m2\u001b[39;49m\u001b[43m]\u001b[49m\n\u001b[1;32m    789\u001b[0m \u001b[43m\u001b[49m\u001b[43m)\u001b[49m\n\u001b[1;32m    790\u001b[0m retries\u001b[38;5;241m.\u001b[39msleep()\n",
      "File \u001b[0;32m~/anaconda3/lib/python3.10/site-packages/urllib3/util/retry.py:592\u001b[0m, in \u001b[0;36mRetry.increment\u001b[0;34m(self, method, url, response, error, _pool, _stacktrace)\u001b[0m\n\u001b[1;32m    591\u001b[0m \u001b[38;5;28;01mif\u001b[39;00m new_retry\u001b[38;5;241m.\u001b[39mis_exhausted():\n\u001b[0;32m--> 592\u001b[0m     \u001b[38;5;28;01mraise\u001b[39;00m MaxRetryError(_pool, url, error \u001b[38;5;129;01mor\u001b[39;00m ResponseError(cause))\n\u001b[1;32m    594\u001b[0m log\u001b[38;5;241m.\u001b[39mdebug(\u001b[38;5;124m\"\u001b[39m\u001b[38;5;124mIncremented Retry for (url=\u001b[39m\u001b[38;5;124m'\u001b[39m\u001b[38;5;132;01m%s\u001b[39;00m\u001b[38;5;124m'\u001b[39m\u001b[38;5;124m): \u001b[39m\u001b[38;5;132;01m%r\u001b[39;00m\u001b[38;5;124m\"\u001b[39m, url, new_retry)\n",
      "\u001b[0;31mMaxRetryError\u001b[0m: HTTPSConnectionPool(host='huggingface.co', port=443): Max retries exceeded with url: /dslim/bert-base-NER/resolve/main/tokenizer_config.json (Caused by SSLError(SSLEOFError(8, 'EOF occurred in violation of protocol (_ssl.c:997)')))",
      "\nDuring handling of the above exception, another exception occurred:\n",
      "\u001b[0;31mSSLError\u001b[0m                                  Traceback (most recent call last)",
      "Cell \u001b[0;32mIn[10], line 3\u001b[0m\n\u001b[1;32m      1\u001b[0m \u001b[38;5;66;03m# Example usage\u001b[39;00m\n\u001b[1;32m      2\u001b[0m \u001b[38;5;28;01mfor\u001b[39;00m row \u001b[38;5;129;01min\u001b[39;00m data_columns:\n\u001b[0;32m----> 3\u001b[0m     entity_names, labels, category, urls, new_entities \u001b[38;5;241m=\u001b[39m \u001b[43manalyze_text\u001b[49m\u001b[43m(\u001b[49m\u001b[43mrow\u001b[49m\u001b[43m)\u001b[49m\n\u001b[1;32m      4\u001b[0m     \u001b[38;5;28mprint\u001b[39m(\u001b[38;5;124m\"\u001b[39m\u001b[38;5;124mEntity Names:\u001b[39m\u001b[38;5;124m\"\u001b[39m, entity_names)\n\u001b[1;32m      5\u001b[0m     \u001b[38;5;28mprint\u001b[39m(\u001b[38;5;124m\"\u001b[39m\u001b[38;5;124mLabels:\u001b[39m\u001b[38;5;124m\"\u001b[39m, labels)\n",
      "Cell \u001b[0;32mIn[7], line 7\u001b[0m, in \u001b[0;36manalyze_text\u001b[0;34m(text)\u001b[0m\n\u001b[1;32m      5\u001b[0m \u001b[38;5;28;01mdef\u001b[39;00m \u001b[38;5;21manalyze_text\u001b[39m(text):\n\u001b[1;32m      6\u001b[0m     \u001b[38;5;66;03m# Load the pre-trained NER (Named Entity Recognition) model\u001b[39;00m\n\u001b[0;32m----> 7\u001b[0m     nlp_ner \u001b[38;5;241m=\u001b[39m \u001b[43mpipeline\u001b[49m\u001b[43m(\u001b[49m\u001b[38;5;124;43m\"\u001b[39;49m\u001b[38;5;124;43mner\u001b[39;49m\u001b[38;5;124;43m\"\u001b[39;49m\u001b[43m,\u001b[49m\u001b[43m \u001b[49m\u001b[43mmodel\u001b[49m\u001b[38;5;241;43m=\u001b[39;49m\u001b[38;5;124;43m\"\u001b[39;49m\u001b[38;5;124;43mdslim/bert-base-NER\u001b[39;49m\u001b[38;5;124;43m\"\u001b[39;49m\u001b[43m,\u001b[49m\u001b[43m \u001b[49m\u001b[43mtokenizer\u001b[49m\u001b[38;5;241;43m=\u001b[39;49m\u001b[38;5;124;43m\"\u001b[39;49m\u001b[38;5;124;43mdslim/bert-base-NER\u001b[39;49m\u001b[38;5;124;43m\"\u001b[39;49m\u001b[43m)\u001b[49m\n\u001b[1;32m      9\u001b[0m     \u001b[38;5;66;03m# Perform NER on the input text\u001b[39;00m\n\u001b[1;32m     10\u001b[0m     entities \u001b[38;5;241m=\u001b[39m nlp_ner(text)\n",
      "File \u001b[0;32m~/anaconda3/lib/python3.10/site-packages/transformers/pipelines/__init__.py:468\u001b[0m, in \u001b[0;36mpipeline\u001b[0;34m(task, model, config, tokenizer, feature_extractor, framework, revision, use_fast, use_auth_token, model_kwargs, **kwargs)\u001b[0m\n\u001b[1;32m    465\u001b[0m             tokenizer_identifier \u001b[38;5;241m=\u001b[39m tokenizer\n\u001b[1;32m    466\u001b[0m             tokenizer_kwargs \u001b[38;5;241m=\u001b[39m model_kwargs\n\u001b[0;32m--> 468\u001b[0m         tokenizer \u001b[38;5;241m=\u001b[39m \u001b[43mAutoTokenizer\u001b[49m\u001b[38;5;241;43m.\u001b[39;49m\u001b[43mfrom_pretrained\u001b[49m\u001b[43m(\u001b[49m\n\u001b[1;32m    469\u001b[0m \u001b[43m            \u001b[49m\u001b[43mtokenizer_identifier\u001b[49m\u001b[43m,\u001b[49m\u001b[43m \u001b[49m\u001b[43mrevision\u001b[49m\u001b[38;5;241;43m=\u001b[39;49m\u001b[43mrevision\u001b[49m\u001b[43m,\u001b[49m\u001b[43m \u001b[49m\u001b[43muse_fast\u001b[49m\u001b[38;5;241;43m=\u001b[39;49m\u001b[43muse_fast\u001b[49m\u001b[43m,\u001b[49m\u001b[43m \u001b[49m\u001b[43m_from_pipeline\u001b[49m\u001b[38;5;241;43m=\u001b[39;49m\u001b[43mtask\u001b[49m\u001b[43m,\u001b[49m\u001b[43m \u001b[49m\u001b[38;5;241;43m*\u001b[39;49m\u001b[38;5;241;43m*\u001b[39;49m\u001b[43mtokenizer_kwargs\u001b[49m\n\u001b[1;32m    470\u001b[0m \u001b[43m        \u001b[49m\u001b[43m)\u001b[49m\n\u001b[1;32m    472\u001b[0m \u001b[38;5;28;01mif\u001b[39;00m load_feature_extractor:\n\u001b[1;32m    473\u001b[0m     \u001b[38;5;66;03m# Try to infer feature extractor from model or config name (if provided as str)\u001b[39;00m\n\u001b[1;32m    474\u001b[0m     \u001b[38;5;28;01mif\u001b[39;00m feature_extractor \u001b[38;5;129;01mis\u001b[39;00m \u001b[38;5;28;01mNone\u001b[39;00m:\n",
      "File \u001b[0;32m~/anaconda3/lib/python3.10/site-packages/transformers/models/auto/tokenization_auto.py:568\u001b[0m, in \u001b[0;36mAutoTokenizer.from_pretrained\u001b[0;34m(cls, pretrained_model_name_or_path, *inputs, **kwargs)\u001b[0m\n\u001b[1;32m    566\u001b[0m tokenizer_class_py, tokenizer_class_fast \u001b[38;5;241m=\u001b[39m TOKENIZER_MAPPING[\u001b[38;5;28mtype\u001b[39m(config)]\n\u001b[1;32m    567\u001b[0m \u001b[38;5;28;01mif\u001b[39;00m tokenizer_class_fast \u001b[38;5;129;01mand\u001b[39;00m (use_fast \u001b[38;5;129;01mor\u001b[39;00m tokenizer_class_py \u001b[38;5;129;01mis\u001b[39;00m \u001b[38;5;28;01mNone\u001b[39;00m):\n\u001b[0;32m--> 568\u001b[0m     \u001b[38;5;28;01mreturn\u001b[39;00m \u001b[43mtokenizer_class_fast\u001b[49m\u001b[38;5;241;43m.\u001b[39;49m\u001b[43mfrom_pretrained\u001b[49m\u001b[43m(\u001b[49m\u001b[43mpretrained_model_name_or_path\u001b[49m\u001b[43m,\u001b[49m\u001b[43m \u001b[49m\u001b[38;5;241;43m*\u001b[39;49m\u001b[43minputs\u001b[49m\u001b[43m,\u001b[49m\u001b[43m \u001b[49m\u001b[38;5;241;43m*\u001b[39;49m\u001b[38;5;241;43m*\u001b[39;49m\u001b[43mkwargs\u001b[49m\u001b[43m)\u001b[49m\n\u001b[1;32m    569\u001b[0m \u001b[38;5;28;01melse\u001b[39;00m:\n\u001b[1;32m    570\u001b[0m     \u001b[38;5;28;01mif\u001b[39;00m tokenizer_class_py \u001b[38;5;129;01mis\u001b[39;00m \u001b[38;5;129;01mnot\u001b[39;00m \u001b[38;5;28;01mNone\u001b[39;00m:\n",
      "File \u001b[0;32m~/anaconda3/lib/python3.10/site-packages/transformers/tokenization_utils_base.py:1685\u001b[0m, in \u001b[0;36mPreTrainedTokenizerBase.from_pretrained\u001b[0;34m(cls, pretrained_model_name_or_path, *init_inputs, **kwargs)\u001b[0m\n\u001b[1;32m   1683\u001b[0m \u001b[38;5;28;01melse\u001b[39;00m:\n\u001b[1;32m   1684\u001b[0m     \u001b[38;5;28;01mtry\u001b[39;00m:\n\u001b[0;32m-> 1685\u001b[0m         resolved_vocab_files[file_id] \u001b[38;5;241m=\u001b[39m \u001b[43mcached_path\u001b[49m\u001b[43m(\u001b[49m\n\u001b[1;32m   1686\u001b[0m \u001b[43m            \u001b[49m\u001b[43mfile_path\u001b[49m\u001b[43m,\u001b[49m\n\u001b[1;32m   1687\u001b[0m \u001b[43m            \u001b[49m\u001b[43mcache_dir\u001b[49m\u001b[38;5;241;43m=\u001b[39;49m\u001b[43mcache_dir\u001b[49m\u001b[43m,\u001b[49m\n\u001b[1;32m   1688\u001b[0m \u001b[43m            \u001b[49m\u001b[43mforce_download\u001b[49m\u001b[38;5;241;43m=\u001b[39;49m\u001b[43mforce_download\u001b[49m\u001b[43m,\u001b[49m\n\u001b[1;32m   1689\u001b[0m \u001b[43m            \u001b[49m\u001b[43mproxies\u001b[49m\u001b[38;5;241;43m=\u001b[39;49m\u001b[43mproxies\u001b[49m\u001b[43m,\u001b[49m\n\u001b[1;32m   1690\u001b[0m \u001b[43m            \u001b[49m\u001b[43mresume_download\u001b[49m\u001b[38;5;241;43m=\u001b[39;49m\u001b[43mresume_download\u001b[49m\u001b[43m,\u001b[49m\n\u001b[1;32m   1691\u001b[0m \u001b[43m            \u001b[49m\u001b[43mlocal_files_only\u001b[49m\u001b[38;5;241;43m=\u001b[39;49m\u001b[43mlocal_files_only\u001b[49m\u001b[43m,\u001b[49m\n\u001b[1;32m   1692\u001b[0m \u001b[43m            \u001b[49m\u001b[43muse_auth_token\u001b[49m\u001b[38;5;241;43m=\u001b[39;49m\u001b[43muse_auth_token\u001b[49m\u001b[43m,\u001b[49m\n\u001b[1;32m   1693\u001b[0m \u001b[43m            \u001b[49m\u001b[43muser_agent\u001b[49m\u001b[38;5;241;43m=\u001b[39;49m\u001b[43muser_agent\u001b[49m\u001b[43m,\u001b[49m\n\u001b[1;32m   1694\u001b[0m \u001b[43m        \u001b[49m\u001b[43m)\u001b[49m\n\u001b[1;32m   1696\u001b[0m     \u001b[38;5;28;01mexcept\u001b[39;00m \u001b[38;5;167;01mFileNotFoundError\u001b[39;00m \u001b[38;5;28;01mas\u001b[39;00m error:\n\u001b[1;32m   1697\u001b[0m         \u001b[38;5;28;01mif\u001b[39;00m local_files_only:\n",
      "File \u001b[0;32m~/anaconda3/lib/python3.10/site-packages/transformers/file_utils.py:1370\u001b[0m, in \u001b[0;36mcached_path\u001b[0;34m(url_or_filename, cache_dir, force_download, proxies, resume_download, user_agent, extract_compressed_file, force_extract, use_auth_token, local_files_only)\u001b[0m\n\u001b[1;32m   1366\u001b[0m     local_files_only \u001b[38;5;241m=\u001b[39m \u001b[38;5;28;01mTrue\u001b[39;00m\n\u001b[1;32m   1368\u001b[0m \u001b[38;5;28;01mif\u001b[39;00m is_remote_url(url_or_filename):\n\u001b[1;32m   1369\u001b[0m     \u001b[38;5;66;03m# URL, so get it from the cache (downloading if necessary)\u001b[39;00m\n\u001b[0;32m-> 1370\u001b[0m     output_path \u001b[38;5;241m=\u001b[39m \u001b[43mget_from_cache\u001b[49m\u001b[43m(\u001b[49m\n\u001b[1;32m   1371\u001b[0m \u001b[43m        \u001b[49m\u001b[43murl_or_filename\u001b[49m\u001b[43m,\u001b[49m\n\u001b[1;32m   1372\u001b[0m \u001b[43m        \u001b[49m\u001b[43mcache_dir\u001b[49m\u001b[38;5;241;43m=\u001b[39;49m\u001b[43mcache_dir\u001b[49m\u001b[43m,\u001b[49m\n\u001b[1;32m   1373\u001b[0m \u001b[43m        \u001b[49m\u001b[43mforce_download\u001b[49m\u001b[38;5;241;43m=\u001b[39;49m\u001b[43mforce_download\u001b[49m\u001b[43m,\u001b[49m\n\u001b[1;32m   1374\u001b[0m \u001b[43m        \u001b[49m\u001b[43mproxies\u001b[49m\u001b[38;5;241;43m=\u001b[39;49m\u001b[43mproxies\u001b[49m\u001b[43m,\u001b[49m\n\u001b[1;32m   1375\u001b[0m \u001b[43m        \u001b[49m\u001b[43mresume_download\u001b[49m\u001b[38;5;241;43m=\u001b[39;49m\u001b[43mresume_download\u001b[49m\u001b[43m,\u001b[49m\n\u001b[1;32m   1376\u001b[0m \u001b[43m        \u001b[49m\u001b[43muser_agent\u001b[49m\u001b[38;5;241;43m=\u001b[39;49m\u001b[43muser_agent\u001b[49m\u001b[43m,\u001b[49m\n\u001b[1;32m   1377\u001b[0m \u001b[43m        \u001b[49m\u001b[43muse_auth_token\u001b[49m\u001b[38;5;241;43m=\u001b[39;49m\u001b[43muse_auth_token\u001b[49m\u001b[43m,\u001b[49m\n\u001b[1;32m   1378\u001b[0m \u001b[43m        \u001b[49m\u001b[43mlocal_files_only\u001b[49m\u001b[38;5;241;43m=\u001b[39;49m\u001b[43mlocal_files_only\u001b[49m\u001b[43m,\u001b[49m\n\u001b[1;32m   1379\u001b[0m \u001b[43m    \u001b[49m\u001b[43m)\u001b[49m\n\u001b[1;32m   1380\u001b[0m \u001b[38;5;28;01melif\u001b[39;00m os\u001b[38;5;241m.\u001b[39mpath\u001b[38;5;241m.\u001b[39mexists(url_or_filename):\n\u001b[1;32m   1381\u001b[0m     \u001b[38;5;66;03m# File, and it exists.\u001b[39;00m\n\u001b[1;32m   1382\u001b[0m     output_path \u001b[38;5;241m=\u001b[39m url_or_filename\n",
      "File \u001b[0;32m~/anaconda3/lib/python3.10/site-packages/transformers/file_utils.py:1540\u001b[0m, in \u001b[0;36mget_from_cache\u001b[0;34m(url, cache_dir, force_download, proxies, etag_timeout, resume_download, user_agent, use_auth_token, local_files_only)\u001b[0m\n\u001b[1;32m   1538\u001b[0m \u001b[38;5;28;01mif\u001b[39;00m \u001b[38;5;129;01mnot\u001b[39;00m local_files_only:\n\u001b[1;32m   1539\u001b[0m     \u001b[38;5;28;01mtry\u001b[39;00m:\n\u001b[0;32m-> 1540\u001b[0m         r \u001b[38;5;241m=\u001b[39m \u001b[43mrequests\u001b[49m\u001b[38;5;241;43m.\u001b[39;49m\u001b[43mhead\u001b[49m\u001b[43m(\u001b[49m\u001b[43murl\u001b[49m\u001b[43m,\u001b[49m\u001b[43m \u001b[49m\u001b[43mheaders\u001b[49m\u001b[38;5;241;43m=\u001b[39;49m\u001b[43mheaders\u001b[49m\u001b[43m,\u001b[49m\u001b[43m \u001b[49m\u001b[43mallow_redirects\u001b[49m\u001b[38;5;241;43m=\u001b[39;49m\u001b[38;5;28;43;01mFalse\u001b[39;49;00m\u001b[43m,\u001b[49m\u001b[43m \u001b[49m\u001b[43mproxies\u001b[49m\u001b[38;5;241;43m=\u001b[39;49m\u001b[43mproxies\u001b[49m\u001b[43m,\u001b[49m\u001b[43m \u001b[49m\u001b[43mtimeout\u001b[49m\u001b[38;5;241;43m=\u001b[39;49m\u001b[43metag_timeout\u001b[49m\u001b[43m)\u001b[49m\n\u001b[1;32m   1541\u001b[0m         r\u001b[38;5;241m.\u001b[39mraise_for_status()\n\u001b[1;32m   1542\u001b[0m         etag \u001b[38;5;241m=\u001b[39m r\u001b[38;5;241m.\u001b[39mheaders\u001b[38;5;241m.\u001b[39mget(\u001b[38;5;124m\"\u001b[39m\u001b[38;5;124mX-Linked-Etag\u001b[39m\u001b[38;5;124m\"\u001b[39m) \u001b[38;5;129;01mor\u001b[39;00m r\u001b[38;5;241m.\u001b[39mheaders\u001b[38;5;241m.\u001b[39mget(\u001b[38;5;124m\"\u001b[39m\u001b[38;5;124mETag\u001b[39m\u001b[38;5;124m\"\u001b[39m)\n",
      "File \u001b[0;32m~/anaconda3/lib/python3.10/site-packages/requests/api.py:100\u001b[0m, in \u001b[0;36mhead\u001b[0;34m(url, **kwargs)\u001b[0m\n\u001b[1;32m     89\u001b[0m \u001b[38;5;124mr\u001b[39m\u001b[38;5;124;03m\"\"\"Sends a HEAD request.\u001b[39;00m\n\u001b[1;32m     90\u001b[0m \n\u001b[1;32m     91\u001b[0m \u001b[38;5;124;03m:param url: URL for the new :class:`Request` object.\u001b[39;00m\n\u001b[0;32m   (...)\u001b[0m\n\u001b[1;32m     96\u001b[0m \u001b[38;5;124;03m:rtype: requests.Response\u001b[39;00m\n\u001b[1;32m     97\u001b[0m \u001b[38;5;124;03m\"\"\"\u001b[39;00m\n\u001b[1;32m     99\u001b[0m kwargs\u001b[38;5;241m.\u001b[39msetdefault(\u001b[38;5;124m\"\u001b[39m\u001b[38;5;124mallow_redirects\u001b[39m\u001b[38;5;124m\"\u001b[39m, \u001b[38;5;28;01mFalse\u001b[39;00m)\n\u001b[0;32m--> 100\u001b[0m \u001b[38;5;28;01mreturn\u001b[39;00m \u001b[43mrequest\u001b[49m\u001b[43m(\u001b[49m\u001b[38;5;124;43m\"\u001b[39;49m\u001b[38;5;124;43mhead\u001b[39;49m\u001b[38;5;124;43m\"\u001b[39;49m\u001b[43m,\u001b[49m\u001b[43m \u001b[49m\u001b[43murl\u001b[49m\u001b[43m,\u001b[49m\u001b[43m \u001b[49m\u001b[38;5;241;43m*\u001b[39;49m\u001b[38;5;241;43m*\u001b[39;49m\u001b[43mkwargs\u001b[49m\u001b[43m)\u001b[49m\n",
      "File \u001b[0;32m~/anaconda3/lib/python3.10/site-packages/requests/api.py:59\u001b[0m, in \u001b[0;36mrequest\u001b[0;34m(method, url, **kwargs)\u001b[0m\n\u001b[1;32m     55\u001b[0m \u001b[38;5;66;03m# By using the 'with' statement we are sure the session is closed, thus we\u001b[39;00m\n\u001b[1;32m     56\u001b[0m \u001b[38;5;66;03m# avoid leaving sockets open which can trigger a ResourceWarning in some\u001b[39;00m\n\u001b[1;32m     57\u001b[0m \u001b[38;5;66;03m# cases, and look like a memory leak in others.\u001b[39;00m\n\u001b[1;32m     58\u001b[0m \u001b[38;5;28;01mwith\u001b[39;00m sessions\u001b[38;5;241m.\u001b[39mSession() \u001b[38;5;28;01mas\u001b[39;00m session:\n\u001b[0;32m---> 59\u001b[0m     \u001b[38;5;28;01mreturn\u001b[39;00m \u001b[43msession\u001b[49m\u001b[38;5;241;43m.\u001b[39;49m\u001b[43mrequest\u001b[49m\u001b[43m(\u001b[49m\u001b[43mmethod\u001b[49m\u001b[38;5;241;43m=\u001b[39;49m\u001b[43mmethod\u001b[49m\u001b[43m,\u001b[49m\u001b[43m \u001b[49m\u001b[43murl\u001b[49m\u001b[38;5;241;43m=\u001b[39;49m\u001b[43murl\u001b[49m\u001b[43m,\u001b[49m\u001b[43m \u001b[49m\u001b[38;5;241;43m*\u001b[39;49m\u001b[38;5;241;43m*\u001b[39;49m\u001b[43mkwargs\u001b[49m\u001b[43m)\u001b[49m\n",
      "File \u001b[0;32m~/anaconda3/lib/python3.10/site-packages/requests/sessions.py:587\u001b[0m, in \u001b[0;36mSession.request\u001b[0;34m(self, method, url, params, data, headers, cookies, files, auth, timeout, allow_redirects, proxies, hooks, stream, verify, cert, json)\u001b[0m\n\u001b[1;32m    582\u001b[0m send_kwargs \u001b[38;5;241m=\u001b[39m {\n\u001b[1;32m    583\u001b[0m     \u001b[38;5;124m\"\u001b[39m\u001b[38;5;124mtimeout\u001b[39m\u001b[38;5;124m\"\u001b[39m: timeout,\n\u001b[1;32m    584\u001b[0m     \u001b[38;5;124m\"\u001b[39m\u001b[38;5;124mallow_redirects\u001b[39m\u001b[38;5;124m\"\u001b[39m: allow_redirects,\n\u001b[1;32m    585\u001b[0m }\n\u001b[1;32m    586\u001b[0m send_kwargs\u001b[38;5;241m.\u001b[39mupdate(settings)\n\u001b[0;32m--> 587\u001b[0m resp \u001b[38;5;241m=\u001b[39m \u001b[38;5;28;43mself\u001b[39;49m\u001b[38;5;241;43m.\u001b[39;49m\u001b[43msend\u001b[49m\u001b[43m(\u001b[49m\u001b[43mprep\u001b[49m\u001b[43m,\u001b[49m\u001b[43m \u001b[49m\u001b[38;5;241;43m*\u001b[39;49m\u001b[38;5;241;43m*\u001b[39;49m\u001b[43msend_kwargs\u001b[49m\u001b[43m)\u001b[49m\n\u001b[1;32m    589\u001b[0m \u001b[38;5;28;01mreturn\u001b[39;00m resp\n",
      "File \u001b[0;32m~/anaconda3/lib/python3.10/site-packages/requests/sessions.py:701\u001b[0m, in \u001b[0;36mSession.send\u001b[0;34m(self, request, **kwargs)\u001b[0m\n\u001b[1;32m    698\u001b[0m start \u001b[38;5;241m=\u001b[39m preferred_clock()\n\u001b[1;32m    700\u001b[0m \u001b[38;5;66;03m# Send the request\u001b[39;00m\n\u001b[0;32m--> 701\u001b[0m r \u001b[38;5;241m=\u001b[39m \u001b[43madapter\u001b[49m\u001b[38;5;241;43m.\u001b[39;49m\u001b[43msend\u001b[49m\u001b[43m(\u001b[49m\u001b[43mrequest\u001b[49m\u001b[43m,\u001b[49m\u001b[43m \u001b[49m\u001b[38;5;241;43m*\u001b[39;49m\u001b[38;5;241;43m*\u001b[39;49m\u001b[43mkwargs\u001b[49m\u001b[43m)\u001b[49m\n\u001b[1;32m    703\u001b[0m \u001b[38;5;66;03m# Total elapsed time of the request (approximately)\u001b[39;00m\n\u001b[1;32m    704\u001b[0m elapsed \u001b[38;5;241m=\u001b[39m preferred_clock() \u001b[38;5;241m-\u001b[39m start\n",
      "File \u001b[0;32m~/anaconda3/lib/python3.10/site-packages/requests/adapters.py:563\u001b[0m, in \u001b[0;36mHTTPAdapter.send\u001b[0;34m(self, request, stream, timeout, verify, cert, proxies)\u001b[0m\n\u001b[1;32m    559\u001b[0m         \u001b[38;5;28;01mraise\u001b[39;00m ProxyError(e, request\u001b[38;5;241m=\u001b[39mrequest)\n\u001b[1;32m    561\u001b[0m     \u001b[38;5;28;01mif\u001b[39;00m \u001b[38;5;28misinstance\u001b[39m(e\u001b[38;5;241m.\u001b[39mreason, _SSLError):\n\u001b[1;32m    562\u001b[0m         \u001b[38;5;66;03m# This branch is for urllib3 v1.22 and later.\u001b[39;00m\n\u001b[0;32m--> 563\u001b[0m         \u001b[38;5;28;01mraise\u001b[39;00m SSLError(e, request\u001b[38;5;241m=\u001b[39mrequest)\n\u001b[1;32m    565\u001b[0m     \u001b[38;5;28;01mraise\u001b[39;00m \u001b[38;5;167;01mConnectionError\u001b[39;00m(e, request\u001b[38;5;241m=\u001b[39mrequest)\n\u001b[1;32m    567\u001b[0m \u001b[38;5;28;01mexcept\u001b[39;00m ClosedPoolError \u001b[38;5;28;01mas\u001b[39;00m e:\n",
      "\u001b[0;31mSSLError\u001b[0m: HTTPSConnectionPool(host='huggingface.co', port=443): Max retries exceeded with url: /dslim/bert-base-NER/resolve/main/tokenizer_config.json (Caused by SSLError(SSLEOFError(8, 'EOF occurred in violation of protocol (_ssl.c:997)')))"
     ]
    }
   ],
   "source": [
    "# Example usage\n",
    "for row in data_columns:\n",
    "    entity_names, labels, category, urls, new_entities = analyze_text(row)\n",
    "    print(\"Entity Names:\", entity_names)\n",
    "    print(\"Labels:\", labels)\n",
    "    print(\"Category:\", category)\n",
    "    print(\"URLs:\", urls)\n",
    "    print(\"New Entities:\", new_entities)\n"
   ]
  },
  {
   "cell_type": "code",
   "execution_count": null,
   "id": "20a0b2d4",
   "metadata": {},
   "outputs": [],
   "source": [
    "entities_data = {\n",
    "    'text': data_columns,\n",
    "    'Entity Name': entity_names,\n",
    "    'Label': labels,\n",
    "    'Category': category,\n",
    "    'URL': urls,\n",
    "    'New Entities': new_entities\n",
    "}\n",
    "\n",
    "entities_df = pd.DataFrame(entities_data)\n",
    "\n",
    "# Save the DataFrame to a CSV file\n",
    "entities_df.to_csv('extracted.csv', index=False)"
   ]
  },
  {
   "cell_type": "code",
   "execution_count": null,
   "id": "27fa015d",
   "metadata": {},
   "outputs": [],
   "source": []
  }
 ],
 "metadata": {
  "kernelspec": {
   "display_name": "Python 3 (ipykernel)",
   "language": "python",
   "name": "python3"
  },
  "language_info": {
   "codemirror_mode": {
    "name": "ipython",
    "version": 3
   },
   "file_extension": ".py",
   "mimetype": "text/x-python",
   "name": "python",
   "nbconvert_exporter": "python",
   "pygments_lexer": "ipython3",
   "version": "3.10.9"
  }
 },
 "nbformat": 4,
 "nbformat_minor": 5
}
