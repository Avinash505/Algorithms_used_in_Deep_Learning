{
 "cells": [
  {
   "cell_type": "code",
   "execution_count": 1,
   "metadata": {
    "id": "qcq8RiGcQRcW"
   },
   "outputs": [
    {
     "name": "stderr",
     "output_type": "stream",
     "text": [
      "2023-06-21 10:26:25.816521: I tensorflow/core/platform/cpu_feature_guard.cc:182] This TensorFlow binary is optimized to use available CPU instructions in performance-critical operations.\n",
      "To enable the following instructions: AVX2 FMA, in other operations, rebuild TensorFlow with the appropriate compiler flags.\n"
     ]
    }
   ],
   "source": [
    "import tensorflow as tf"
   ]
  },
  {
   "cell_type": "code",
   "execution_count": 2,
   "metadata": {
    "id": "LW1l0vxEQRcZ"
   },
   "outputs": [],
   "source": [
    "# !pip install tensorflow_datasets\n",
    "import tensorflow_datasets as tfds\n",
    "import numpy as np\n",
    "%matplotlib inline\n",
    "import matplotlib.pyplot as plt "
   ]
  },
  {
   "cell_type": "markdown",
   "metadata": {
    "id": "by47p1pxQRcZ"
   },
   "source": [
    "### Only if you have a GPU"
   ]
  },
  {
   "cell_type": "code",
   "execution_count": 3,
   "metadata": {
    "id": "5yPDnM3TQRcb",
    "outputId": "ce6a435c-3ba3-468c-ae3b-cd2b3941d6d5"
   },
   "outputs": [
    {
     "data": {
      "text/plain": [
       "[PhysicalDevice(name='/physical_device:CPU:0', device_type='CPU')]"
      ]
     },
     "execution_count": 3,
     "metadata": {},
     "output_type": "execute_result"
    }
   ],
   "source": [
    "tf.config.list_physical_devices()"
   ]
  },
  {
   "cell_type": "code",
   "execution_count": 4,
   "metadata": {
    "id": "-5URNtkVQRcc",
    "outputId": "a24785ea-4ce0-4fc2-b14f-9c2ab6335362"
   },
   "outputs": [
    {
     "data": {
      "text/plain": [
       "[]"
      ]
     },
     "execution_count": 4,
     "metadata": {},
     "output_type": "execute_result"
    }
   ],
   "source": [
    "tf.config.list_physical_devices('GPU')"
   ]
  },
  {
   "cell_type": "code",
   "execution_count": 5,
   "metadata": {},
   "outputs": [
    {
     "name": "stdout",
     "output_type": "stream",
     "text": [
      "0 Physical GPUs, 0 Logical GPU\n"
     ]
    }
   ],
   "source": [
    "import tensorflow as tf\n",
    "\n",
    "# Install TensorFlow if not already installed\n",
    "# Uncomment the following line and run it once\n",
    "# pip install tensorflow\n",
    "\n",
    "# Check for available GPUs\n",
    "gpus = tf.config.experimental.list_physical_devices('GPU')\n",
    "\n",
    "# Restrict TensorFlow to only use the first GPU\n",
    "if len(gpus) > 0:\n",
    "    tf.config.experimental.set_memory_growth(gpus[0], True)\n",
    "    tf.config.experimental.set_visible_devices(gpus[0], 'GPU')\n",
    "\n",
    "# Check the number of available GPUs\n",
    "logical_gpus = tf.config.experimental.list_logical_devices('GPU')\n",
    "print(len(gpus), \"Physical GPUs,\", len(logical_gpus), \"Logical GPU\")\n"
   ]
  },
  {
   "cell_type": "code",
   "execution_count": 7,
   "metadata": {},
   "outputs": [
    {
     "name": "stdout",
     "output_type": "stream",
     "text": [
      "No GPU found.\n"
     ]
    }
   ],
   "source": [
    "from tensorflow.python.client import device_lib\n",
    "\n",
    "devices = device_lib.list_local_devices()\n",
    "gpu_devices = [dev.name for dev in devices if dev.device_type == 'GPU']\n",
    "\n",
    "if len(gpu_devices) > 0:\n",
    "    print(\"GPU(s) found:\")\n",
    "    for gpu in gpu_devices:\n",
    "        print(gpu)\n",
    "else:\n",
    "    print(\"No GPU found.\")\n"
   ]
  },
  {
   "cell_type": "code",
   "execution_count": 8,
   "metadata": {
    "id": "QokNU6lBQRcc",
    "outputId": "bfb8bad6-a44c-421d-c961-0d030899b485"
   },
   "outputs": [
    {
     "ename": "IndexError",
     "evalue": "list index out of range",
     "output_type": "error",
     "traceback": [
      "\u001b[0;31m---------------------------------------------------------------------------\u001b[0m",
      "\u001b[0;31mIndexError\u001b[0m                                Traceback (most recent call last)",
      "Cell \u001b[0;32mIn[8], line 10\u001b[0m\n\u001b[1;32m      7\u001b[0m gpus \u001b[38;5;241m=\u001b[39m tf\u001b[38;5;241m.\u001b[39mconfig\u001b[38;5;241m.\u001b[39mexperimental\u001b[38;5;241m.\u001b[39mlist_physical_devices(\u001b[38;5;124m'\u001b[39m\u001b[38;5;124mGPU\u001b[39m\u001b[38;5;124m'\u001b[39m)\n\u001b[1;32m      9\u001b[0m \u001b[38;5;66;03m# Restrict TensorFlow to only use the first GPU\u001b[39;00m\n\u001b[0;32m---> 10\u001b[0m tf\u001b[38;5;241m.\u001b[39mconfig\u001b[38;5;241m.\u001b[39mexperimental\u001b[38;5;241m.\u001b[39mset_memory_growth(\u001b[43mgpus\u001b[49m\u001b[43m[\u001b[49m\u001b[38;5;241;43m0\u001b[39;49m\u001b[43m]\u001b[49m, \u001b[38;5;28;01mTrue\u001b[39;00m)\n\u001b[1;32m     11\u001b[0m tf\u001b[38;5;241m.\u001b[39mconfig\u001b[38;5;241m.\u001b[39mexperimental\u001b[38;5;241m.\u001b[39mset_visible_devices(gpus[\u001b[38;5;241m0\u001b[39m], \u001b[38;5;124m'\u001b[39m\u001b[38;5;124mGPU\u001b[39m\u001b[38;5;124m'\u001b[39m)\n\u001b[1;32m     12\u001b[0m logical_gpus \u001b[38;5;241m=\u001b[39m tf\u001b[38;5;241m.\u001b[39mconfig\u001b[38;5;241m.\u001b[39mexperimental\u001b[38;5;241m.\u001b[39mlist_logical_devices(\u001b[38;5;124m'\u001b[39m\u001b[38;5;124mGPU\u001b[39m\u001b[38;5;124m'\u001b[39m)\n",
      "\u001b[0;31mIndexError\u001b[0m: list index out of range"
     ]
    }
   ],
   "source": [
    "## Please ignore if not training on GPU #####\n",
    "## this is important for running CuDNN on GPU ##\n",
    "# check if GPU can be seen by TF\n",
    "\n",
    "#tf.debugging.set_log_device_placement(True)\n",
    "\n",
    "gpus = tf.config.experimental.list_physical_devices('GPU')\n",
    "\n",
    "# Restrict TensorFlow to only use the first GPU\n",
    "tf.config.experimental.set_memory_growth(gpus[0], True)\n",
    "tf.config.experimental.set_visible_devices(gpus[0], 'GPU')\n",
    "logical_gpus = tf.config.experimental.list_logical_devices('GPU')\n",
    "print(len(gpus), \"Physical GPUs,\", len(logical_gpus), \"Logical GPU\")\n",
    "\n"
   ]
  },
  {
   "cell_type": "markdown",
   "metadata": {
    "id": "3xghiAHWQRcd"
   },
   "source": [
    "### End of GPU config section"
   ]
  },
  {
   "cell_type": "code",
   "execution_count": 9,
   "metadata": {
    "id": "L1T5MpZnQRcd",
    "outputId": "f4b5d9b3-8acc-4b2f-a902-73b8120c3c11"
   },
   "outputs": [
    {
     "name": "stderr",
     "output_type": "stream",
     "text": [
      "2023-06-21 10:26:55.041172: W tensorflow/tsl/platform/cloud/google_auth_provider.cc:184] All attempts to get a Google authentication bearer token failed, returning an empty token. Retrieving token from files failed with \"NOT_FOUND: Could not locate the credentials file.\". Retrieving token from GCE failed with \"FAILED_PRECONDITION: Error executing an HTTP request: libcurl code 6 meaning 'Couldn't resolve host name', error details: Could not resolve host: metadata.google.internal\".\n"
     ]
    },
    {
     "data": {
      "text/plain": [
       "1143"
      ]
     },
     "execution_count": 9,
     "metadata": {},
     "output_type": "execute_result"
    }
   ],
   "source": [
    "# see available tfds data sets\n",
    "len(tfds.list_builders())"
   ]
  },
  {
   "cell_type": "code",
   "execution_count": 10,
   "metadata": {
    "id": "q8cEIzt3QRce",
    "outputId": "bb46612a-a345-4c53-80eb-9e03c5fba5a5"
   },
   "outputs": [
    {
     "data": {
      "text/plain": [
       "['abstract_reasoning',\n",
       " 'accentdb',\n",
       " 'aeslc',\n",
       " 'aflw2k3d',\n",
       " 'ag_news_subset',\n",
       " 'ai2_arc',\n",
       " 'ai2_arc_with_ir',\n",
       " 'amazon_us_reviews',\n",
       " 'anli',\n",
       " 'answer_equivalence',\n",
       " 'arc',\n",
       " 'asqa',\n",
       " 'asset',\n",
       " 'assin2',\n",
       " 'bair_robot_pushing_small',\n",
       " 'bccd',\n",
       " 'beans',\n",
       " 'bee_dataset',\n",
       " 'beir',\n",
       " 'big_patent',\n",
       " 'bigearthnet',\n",
       " 'billsum',\n",
       " 'binarized_mnist',\n",
       " 'binary_alpha_digits',\n",
       " 'ble_wind_field',\n",
       " 'blimp',\n",
       " 'booksum',\n",
       " 'bool_q',\n",
       " 'bucc',\n",
       " 'c4',\n",
       " 'c4_wsrs',\n",
       " 'caltech101',\n",
       " 'caltech_birds2010',\n",
       " 'caltech_birds2011',\n",
       " 'cardiotox',\n",
       " 'cars196',\n",
       " 'cassava',\n",
       " 'cats_vs_dogs',\n",
       " 'celeb_a',\n",
       " 'celeb_a_hq',\n",
       " 'cfq',\n",
       " 'cherry_blossoms',\n",
       " 'chexpert',\n",
       " 'cifar10',\n",
       " 'cifar100',\n",
       " 'cifar100_n',\n",
       " 'cifar10_1',\n",
       " 'cifar10_corrupted',\n",
       " 'cifar10_n',\n",
       " 'citrus_leaves',\n",
       " 'cityscapes',\n",
       " 'civil_comments',\n",
       " 'clevr',\n",
       " 'clic',\n",
       " 'clinc_oos',\n",
       " 'cmaterdb',\n",
       " 'cnn_dailymail',\n",
       " 'coco',\n",
       " 'coco_captions',\n",
       " 'coil100',\n",
       " 'colorectal_histology',\n",
       " 'colorectal_histology_large',\n",
       " 'common_voice',\n",
       " 'conll2002',\n",
       " 'conll2003',\n",
       " 'controlled_noisy_web_labels',\n",
       " 'coqa',\n",
       " 'cos_e',\n",
       " 'cosmos_qa',\n",
       " 'covid19',\n",
       " 'covid19sum',\n",
       " 'crema_d',\n",
       " 'criteo',\n",
       " 'cs_restaurants',\n",
       " 'curated_breast_imaging_ddsm',\n",
       " 'cycle_gan',\n",
       " 'd4rl_adroit_door',\n",
       " 'd4rl_adroit_hammer',\n",
       " 'd4rl_adroit_pen',\n",
       " 'd4rl_adroit_relocate',\n",
       " 'd4rl_antmaze',\n",
       " 'd4rl_mujoco_ant',\n",
       " 'd4rl_mujoco_halfcheetah',\n",
       " 'd4rl_mujoco_hopper',\n",
       " 'd4rl_mujoco_walker2d',\n",
       " 'dart',\n",
       " 'davis',\n",
       " 'deep1b',\n",
       " 'deep_weeds',\n",
       " 'definite_pronoun_resolution',\n",
       " 'dementiabank',\n",
       " 'diabetic_retinopathy_detection',\n",
       " 'diamonds',\n",
       " 'div2k',\n",
       " 'dmlab',\n",
       " 'doc_nli',\n",
       " 'dolphin_number_word',\n",
       " 'domainnet',\n",
       " 'downsampled_imagenet',\n",
       " 'drop',\n",
       " 'dsprites',\n",
       " 'dtd',\n",
       " 'duke_ultrasound',\n",
       " 'e2e_cleaned',\n",
       " 'efron_morris75',\n",
       " 'emnist',\n",
       " 'eraser_multi_rc',\n",
       " 'esnli',\n",
       " 'eurosat',\n",
       " 'fashion_mnist',\n",
       " 'flic',\n",
       " 'flores',\n",
       " 'food101',\n",
       " 'forest_fires',\n",
       " 'fuss',\n",
       " 'gap',\n",
       " 'geirhos_conflict_stimuli',\n",
       " 'gem',\n",
       " 'genomics_ood',\n",
       " 'german_credit_numeric',\n",
       " 'gigaword',\n",
       " 'glove100_angular',\n",
       " 'glue',\n",
       " 'goemotions',\n",
       " 'gov_report',\n",
       " 'gpt3',\n",
       " 'gref',\n",
       " 'groove',\n",
       " 'grounded_scan',\n",
       " 'gsm8k',\n",
       " 'gtzan',\n",
       " 'gtzan_music_speech',\n",
       " 'hellaswag',\n",
       " 'higgs',\n",
       " 'hillstrom',\n",
       " 'horses_or_humans',\n",
       " 'howell',\n",
       " 'i_naturalist2017',\n",
       " 'i_naturalist2018',\n",
       " 'i_naturalist2021',\n",
       " 'imagenet2012',\n",
       " 'imagenet2012_corrupted',\n",
       " 'imagenet2012_fewshot',\n",
       " 'imagenet2012_multilabel',\n",
       " 'imagenet2012_real',\n",
       " 'imagenet2012_subset',\n",
       " 'imagenet_a',\n",
       " 'imagenet_lt',\n",
       " 'imagenet_pi',\n",
       " 'imagenet_r',\n",
       " 'imagenet_resized',\n",
       " 'imagenet_sketch',\n",
       " 'imagenet_v2',\n",
       " 'imagenette',\n",
       " 'imagewang',\n",
       " 'imdb_reviews',\n",
       " 'irc_disentanglement',\n",
       " 'iris',\n",
       " 'istella',\n",
       " 'kddcup99',\n",
       " 'kitti',\n",
       " 'kmnist',\n",
       " 'laion400m',\n",
       " 'lambada',\n",
       " 'lfw',\n",
       " 'librispeech',\n",
       " 'librispeech_lm',\n",
       " 'libritts',\n",
       " 'ljspeech',\n",
       " 'lm1b',\n",
       " 'locomotion',\n",
       " 'lost_and_found',\n",
       " 'lsun',\n",
       " 'lvis',\n",
       " 'malaria',\n",
       " 'math_dataset',\n",
       " 'math_qa',\n",
       " 'mctaco',\n",
       " 'media_sum',\n",
       " 'mlqa',\n",
       " 'mnist',\n",
       " 'mnist_corrupted',\n",
       " 'movie_lens',\n",
       " 'movie_rationales',\n",
       " 'movielens',\n",
       " 'moving_mnist',\n",
       " 'mrqa',\n",
       " 'mslr_web',\n",
       " 'mt_opt',\n",
       " 'mtnt',\n",
       " 'multi_news',\n",
       " 'multi_nli',\n",
       " 'multi_nli_mismatch',\n",
       " 'natural_instructions',\n",
       " 'natural_questions',\n",
       " 'natural_questions_open',\n",
       " 'newsroom',\n",
       " 'nsynth',\n",
       " 'nyu_depth_v2',\n",
       " 'ogbg_molpcba',\n",
       " 'omniglot',\n",
       " 'open_images_challenge2019_detection',\n",
       " 'open_images_v4',\n",
       " 'openbookqa',\n",
       " 'opinion_abstracts',\n",
       " 'opinosis',\n",
       " 'opus',\n",
       " 'oxford_flowers102',\n",
       " 'oxford_iiit_pet',\n",
       " 'para_crawl',\n",
       " 'pass',\n",
       " 'patch_camelyon',\n",
       " 'paws_wiki',\n",
       " 'paws_x_wiki',\n",
       " 'penguins',\n",
       " 'pet_finder',\n",
       " 'pg19',\n",
       " 'piqa',\n",
       " 'places365_small',\n",
       " 'placesfull',\n",
       " 'plant_leaves',\n",
       " 'plant_village',\n",
       " 'plantae_k',\n",
       " 'protein_net',\n",
       " 'q_re_cc',\n",
       " 'qa4mre',\n",
       " 'qasc',\n",
       " 'quac',\n",
       " 'quality',\n",
       " 'quickdraw_bitmap',\n",
       " 'race',\n",
       " 'radon',\n",
       " 'reddit',\n",
       " 'reddit_disentanglement',\n",
       " 'reddit_tifu',\n",
       " 'ref_coco',\n",
       " 'resisc45',\n",
       " 'rlu_atari',\n",
       " 'rlu_atari_checkpoints',\n",
       " 'rlu_atari_checkpoints_ordered',\n",
       " 'rlu_control_suite',\n",
       " 'rlu_dmlab_explore_object_rewards_few',\n",
       " 'rlu_dmlab_explore_object_rewards_many',\n",
       " 'rlu_dmlab_rooms_select_nonmatching_object',\n",
       " 'rlu_dmlab_rooms_watermaze',\n",
       " 'rlu_dmlab_seekavoid_arena01',\n",
       " 'rlu_locomotion',\n",
       " 'rlu_rwrl',\n",
       " 'robomimic_mg',\n",
       " 'robomimic_mh',\n",
       " 'robomimic_ph',\n",
       " 'robonet',\n",
       " 'robosuite_panda_pick_place_can',\n",
       " 'rock_paper_scissors',\n",
       " 'rock_you',\n",
       " 's3o4d',\n",
       " 'salient_span_wikipedia',\n",
       " 'samsum',\n",
       " 'savee',\n",
       " 'scan',\n",
       " 'scene_parse150',\n",
       " 'schema_guided_dialogue',\n",
       " 'sci_tail',\n",
       " 'scicite',\n",
       " 'scientific_papers',\n",
       " 'scrolls',\n",
       " 'sentiment140',\n",
       " 'shapes3d',\n",
       " 'sift1m',\n",
       " 'simpte',\n",
       " 'siscore',\n",
       " 'smallnorb',\n",
       " 'smartwatch_gestures',\n",
       " 'snli',\n",
       " 'so2sat',\n",
       " 'speech_commands',\n",
       " 'spoken_digit',\n",
       " 'squad',\n",
       " 'squad_question_generation',\n",
       " 'stanford_dogs',\n",
       " 'stanford_online_products',\n",
       " 'star_cfq',\n",
       " 'starcraft_video',\n",
       " 'stl10',\n",
       " 'story_cloze',\n",
       " 'summscreen',\n",
       " 'sun397',\n",
       " 'super_glue',\n",
       " 'svhn_cropped',\n",
       " 'symmetric_solids',\n",
       " 'tao',\n",
       " 'tatoeba',\n",
       " 'ted_hrlr_translate',\n",
       " 'ted_multi_translate',\n",
       " 'tedlium',\n",
       " 'tf_flowers',\n",
       " 'the300w_lp',\n",
       " 'tiny_shakespeare',\n",
       " 'titanic',\n",
       " 'trec',\n",
       " 'trivia_qa',\n",
       " 'tydi_qa',\n",
       " 'uc_merced',\n",
       " 'ucf101',\n",
       " 'unified_qa',\n",
       " 'universal_dependencies',\n",
       " 'unnatural_instructions',\n",
       " 'user_libri_audio',\n",
       " 'user_libri_text',\n",
       " 'vctk',\n",
       " 'visual_domain_decathlon',\n",
       " 'voc',\n",
       " 'voxceleb',\n",
       " 'voxforge',\n",
       " 'waymo_open_dataset',\n",
       " 'web_graph',\n",
       " 'web_nlg',\n",
       " 'web_questions',\n",
       " 'webvid',\n",
       " 'wider_face',\n",
       " 'wiki40b',\n",
       " 'wiki_auto',\n",
       " 'wiki_bio',\n",
       " 'wiki_dialog',\n",
       " 'wiki_table_questions',\n",
       " 'wiki_table_text',\n",
       " 'wikiann',\n",
       " 'wikihow',\n",
       " 'wikipedia',\n",
       " 'wikipedia_toxicity_subtypes',\n",
       " 'wine_quality',\n",
       " 'winogrande',\n",
       " 'wit',\n",
       " 'wit_kaggle',\n",
       " 'wmt13_translate',\n",
       " 'wmt14_translate',\n",
       " 'wmt15_translate',\n",
       " 'wmt16_translate',\n",
       " 'wmt17_translate',\n",
       " 'wmt18_translate',\n",
       " 'wmt19_translate',\n",
       " 'wmt_t2t_translate',\n",
       " 'wmt_translate',\n",
       " 'wordnet',\n",
       " 'wsc273',\n",
       " 'xnli',\n",
       " 'xquad',\n",
       " 'xsum',\n",
       " 'xtreme_pawsx',\n",
       " 'xtreme_pos',\n",
       " 'xtreme_s',\n",
       " 'xtreme_xnli',\n",
       " 'yahoo_ltrc',\n",
       " 'yelp_polarity_reviews',\n",
       " 'yes_no',\n",
       " 'youtube_vis',\n",
       " 'huggingface:acronym_identification',\n",
       " 'huggingface:ade_corpus_v2',\n",
       " 'huggingface:adv_glue',\n",
       " 'huggingface:adversarial_qa',\n",
       " 'huggingface:aeslc',\n",
       " 'huggingface:afrikaans_ner_corpus',\n",
       " 'huggingface:ag_news',\n",
       " 'huggingface:ai2_arc',\n",
       " 'huggingface:air_dialogue',\n",
       " 'huggingface:ajgt_twitter_ar',\n",
       " 'huggingface:allegro_reviews',\n",
       " 'huggingface:allocine',\n",
       " 'huggingface:alt',\n",
       " 'huggingface:amazon_polarity',\n",
       " 'huggingface:amazon_reviews_multi',\n",
       " 'huggingface:amazon_us_reviews',\n",
       " 'huggingface:ambig_qa',\n",
       " 'huggingface:americas_nli',\n",
       " 'huggingface:ami',\n",
       " 'huggingface:amttl',\n",
       " 'huggingface:anli',\n",
       " 'huggingface:app_reviews',\n",
       " 'huggingface:aqua_rat',\n",
       " 'huggingface:aquamuse',\n",
       " 'huggingface:ar_cov19',\n",
       " 'huggingface:ar_res_reviews',\n",
       " 'huggingface:ar_sarcasm',\n",
       " 'huggingface:arabic_billion_words',\n",
       " 'huggingface:arabic_pos_dialect',\n",
       " 'huggingface:arabic_speech_corpus',\n",
       " 'huggingface:arcd',\n",
       " 'huggingface:arsentd_lev',\n",
       " 'huggingface:art',\n",
       " 'huggingface:arxiv_dataset',\n",
       " 'huggingface:ascent_kb',\n",
       " 'huggingface:aslg_pc12',\n",
       " 'huggingface:asnq',\n",
       " 'huggingface:asset',\n",
       " 'huggingface:assin',\n",
       " 'huggingface:assin2',\n",
       " 'huggingface:atomic',\n",
       " 'huggingface:autshumato',\n",
       " 'huggingface:babi_qa',\n",
       " 'huggingface:banking77',\n",
       " 'huggingface:bbaw_egyptian',\n",
       " 'huggingface:bbc_hindi_nli',\n",
       " 'huggingface:bc2gm_corpus',\n",
       " 'huggingface:beans',\n",
       " 'huggingface:best2009',\n",
       " 'huggingface:bianet',\n",
       " 'huggingface:bible_para',\n",
       " 'huggingface:big_patent',\n",
       " 'huggingface:bigbench',\n",
       " 'huggingface:billsum',\n",
       " 'huggingface:bing_coronavirus_query_set',\n",
       " 'huggingface:biomrc',\n",
       " 'huggingface:biosses',\n",
       " 'huggingface:biwi_kinect_head_pose',\n",
       " 'huggingface:blbooks',\n",
       " 'huggingface:blbooksgenre',\n",
       " 'huggingface:blended_skill_talk',\n",
       " 'huggingface:blimp',\n",
       " 'huggingface:blog_authorship_corpus',\n",
       " 'huggingface:bn_hate_speech',\n",
       " 'huggingface:bnl_newspapers',\n",
       " 'huggingface:bookcorpus',\n",
       " 'huggingface:bookcorpusopen',\n",
       " 'huggingface:boolq',\n",
       " 'huggingface:bprec',\n",
       " 'huggingface:break_data',\n",
       " 'huggingface:brwac',\n",
       " 'huggingface:bsd_ja_en',\n",
       " 'huggingface:bswac',\n",
       " 'huggingface:c3',\n",
       " 'huggingface:c4',\n",
       " 'huggingface:cail2018',\n",
       " 'huggingface:caner',\n",
       " 'huggingface:capes',\n",
       " 'huggingface:casino',\n",
       " 'huggingface:catalonia_independence',\n",
       " 'huggingface:cats_vs_dogs',\n",
       " 'huggingface:cawac',\n",
       " 'huggingface:cbt',\n",
       " 'huggingface:cc100',\n",
       " 'huggingface:cc_news',\n",
       " 'huggingface:ccaligned_multilingual',\n",
       " 'huggingface:cdsc',\n",
       " 'huggingface:cdt',\n",
       " 'huggingface:cedr',\n",
       " 'huggingface:cfq',\n",
       " 'huggingface:chr_en',\n",
       " 'huggingface:cifar10',\n",
       " 'huggingface:cifar100',\n",
       " 'huggingface:circa',\n",
       " 'huggingface:civil_comments',\n",
       " 'huggingface:clickbait_news_bg',\n",
       " 'huggingface:climate_fever',\n",
       " 'huggingface:clinc_oos',\n",
       " 'huggingface:clue',\n",
       " 'huggingface:cmrc2018',\n",
       " 'huggingface:cmu_hinglish_dog',\n",
       " 'huggingface:cnn_dailymail',\n",
       " 'huggingface:coached_conv_pref',\n",
       " 'huggingface:coarse_discourse',\n",
       " 'huggingface:codah',\n",
       " 'huggingface:code_search_net',\n",
       " 'huggingface:code_x_glue_cc_clone_detection_big_clone_bench',\n",
       " 'huggingface:code_x_glue_cc_clone_detection_poj104',\n",
       " 'huggingface:code_x_glue_cc_cloze_testing_all',\n",
       " 'huggingface:code_x_glue_cc_cloze_testing_maxmin',\n",
       " 'huggingface:code_x_glue_cc_code_completion_line',\n",
       " 'huggingface:code_x_glue_cc_code_completion_token',\n",
       " 'huggingface:code_x_glue_cc_code_refinement',\n",
       " 'huggingface:code_x_glue_cc_code_to_code_trans',\n",
       " 'huggingface:code_x_glue_cc_defect_detection',\n",
       " 'huggingface:code_x_glue_ct_code_to_text',\n",
       " 'huggingface:code_x_glue_tc_nl_code_search_adv',\n",
       " 'huggingface:code_x_glue_tc_text_to_code',\n",
       " 'huggingface:code_x_glue_tt_text_to_text',\n",
       " 'huggingface:com_qa',\n",
       " 'huggingface:common_gen',\n",
       " 'huggingface:common_language',\n",
       " 'huggingface:common_voice',\n",
       " 'huggingface:commonsense_qa',\n",
       " 'huggingface:competition_math',\n",
       " 'huggingface:compguesswhat',\n",
       " 'huggingface:conceptnet5',\n",
       " 'huggingface:conceptual_12m',\n",
       " 'huggingface:conceptual_captions',\n",
       " 'huggingface:conll2000',\n",
       " 'huggingface:conll2002',\n",
       " 'huggingface:conll2003',\n",
       " 'huggingface:conll2012_ontonotesv5',\n",
       " 'huggingface:conllpp',\n",
       " 'huggingface:consumer-finance-complaints',\n",
       " 'huggingface:conv_ai',\n",
       " 'huggingface:conv_ai_2',\n",
       " 'huggingface:conv_ai_3',\n",
       " 'huggingface:conv_questions',\n",
       " 'huggingface:coqa',\n",
       " 'huggingface:cord19',\n",
       " 'huggingface:cornell_movie_dialog',\n",
       " 'huggingface:cos_e',\n",
       " 'huggingface:cosmos_qa',\n",
       " 'huggingface:counter',\n",
       " 'huggingface:covid_qa_castorini',\n",
       " 'huggingface:covid_qa_deepset',\n",
       " 'huggingface:covid_qa_ucsd',\n",
       " 'huggingface:covid_tweets_japanese',\n",
       " 'huggingface:covost2',\n",
       " 'huggingface:cppe-5',\n",
       " 'huggingface:craigslist_bargains',\n",
       " 'huggingface:crawl_domain',\n",
       " 'huggingface:crd3',\n",
       " 'huggingface:crime_and_punish',\n",
       " 'huggingface:crows_pairs',\n",
       " 'huggingface:cryptonite',\n",
       " 'huggingface:cs_restaurants',\n",
       " 'huggingface:cuad',\n",
       " 'huggingface:curiosity_dialogs',\n",
       " 'huggingface:daily_dialog',\n",
       " 'huggingface:dane',\n",
       " 'huggingface:danish_political_comments',\n",
       " 'huggingface:dart',\n",
       " 'huggingface:datacommons_factcheck',\n",
       " 'huggingface:dbpedia_14',\n",
       " 'huggingface:dbrd',\n",
       " 'huggingface:deal_or_no_dialog',\n",
       " 'huggingface:definite_pronoun_resolution',\n",
       " 'huggingface:dengue_filipino',\n",
       " 'huggingface:dialog_re',\n",
       " 'huggingface:diplomacy_detection',\n",
       " 'huggingface:disaster_response_messages',\n",
       " 'huggingface:discofuse',\n",
       " 'huggingface:discovery',\n",
       " 'huggingface:disfl_qa',\n",
       " 'huggingface:doc2dial',\n",
       " 'huggingface:docred',\n",
       " 'huggingface:doqa',\n",
       " 'huggingface:dream',\n",
       " 'huggingface:drop',\n",
       " 'huggingface:duorc',\n",
       " 'huggingface:dutch_social',\n",
       " 'huggingface:dyk',\n",
       " 'huggingface:e2e_nlg',\n",
       " 'huggingface:e2e_nlg_cleaned',\n",
       " 'huggingface:ecb',\n",
       " 'huggingface:ecthr_cases',\n",
       " 'huggingface:eduge',\n",
       " 'huggingface:ehealth_kd',\n",
       " 'huggingface:eitb_parcc',\n",
       " 'huggingface:electricity_load_diagrams',\n",
       " 'huggingface:eli5',\n",
       " 'huggingface:eli5_category',\n",
       " 'huggingface:elkarhizketak',\n",
       " 'huggingface:emea',\n",
       " 'huggingface:emo',\n",
       " 'huggingface:emotion',\n",
       " 'huggingface:emotone_ar',\n",
       " 'huggingface:empathetic_dialogues',\n",
       " 'huggingface:enriched_web_nlg',\n",
       " 'huggingface:enwik8',\n",
       " 'huggingface:eraser_multi_rc',\n",
       " 'huggingface:esnli',\n",
       " 'huggingface:eth_py150_open',\n",
       " 'huggingface:ethos',\n",
       " 'huggingface:ett',\n",
       " 'huggingface:eu_regulatory_ir',\n",
       " 'huggingface:eurlex',\n",
       " 'huggingface:euronews',\n",
       " 'huggingface:europa_eac_tm',\n",
       " 'huggingface:europa_ecdc_tm',\n",
       " 'huggingface:europarl_bilingual',\n",
       " 'huggingface:event2Mind',\n",
       " 'huggingface:evidence_infer_treatment',\n",
       " 'huggingface:exams',\n",
       " 'huggingface:factckbr',\n",
       " 'huggingface:fake_news_english',\n",
       " 'huggingface:fake_news_filipino',\n",
       " 'huggingface:farsi_news',\n",
       " 'huggingface:fashion_mnist',\n",
       " 'huggingface:fever',\n",
       " 'huggingface:few_rel',\n",
       " 'huggingface:financial_phrasebank',\n",
       " 'huggingface:finer',\n",
       " 'huggingface:flores',\n",
       " 'huggingface:flue',\n",
       " 'huggingface:food101',\n",
       " 'huggingface:fquad',\n",
       " 'huggingface:freebase_qa',\n",
       " 'huggingface:gap',\n",
       " 'huggingface:gem',\n",
       " 'huggingface:generated_reviews_enth',\n",
       " 'huggingface:generics_kb',\n",
       " 'huggingface:german_legal_entity_recognition',\n",
       " 'huggingface:germaner',\n",
       " 'huggingface:germeval_14',\n",
       " 'huggingface:giga_fren',\n",
       " 'huggingface:gigaword',\n",
       " 'huggingface:glucose',\n",
       " 'huggingface:glue',\n",
       " 'huggingface:gnad10',\n",
       " 'huggingface:go_emotions',\n",
       " 'huggingface:gooaq',\n",
       " 'huggingface:google_wellformed_query',\n",
       " 'huggingface:grail_qa',\n",
       " 'huggingface:great_code',\n",
       " 'huggingface:greek_legal_code',\n",
       " 'huggingface:gsm8k',\n",
       " 'huggingface:guardian_authorship',\n",
       " 'huggingface:gutenberg_time',\n",
       " 'huggingface:hans',\n",
       " 'huggingface:hansards',\n",
       " 'huggingface:hard',\n",
       " 'huggingface:harem',\n",
       " 'huggingface:has_part',\n",
       " 'huggingface:hate_offensive',\n",
       " 'huggingface:hate_speech18',\n",
       " 'huggingface:hate_speech_filipino',\n",
       " 'huggingface:hate_speech_offensive',\n",
       " 'huggingface:hate_speech_pl',\n",
       " 'huggingface:hate_speech_portuguese',\n",
       " 'huggingface:hatexplain',\n",
       " 'huggingface:hausa_voa_ner',\n",
       " 'huggingface:hausa_voa_topics',\n",
       " 'huggingface:hda_nli_hindi',\n",
       " 'huggingface:head_qa',\n",
       " 'huggingface:health_fact',\n",
       " 'huggingface:hebrew_projectbenyehuda',\n",
       " 'huggingface:hebrew_sentiment',\n",
       " 'huggingface:hebrew_this_world',\n",
       " 'huggingface:hellaswag',\n",
       " 'huggingface:hendrycks_test',\n",
       " 'huggingface:hind_encorp',\n",
       " 'huggingface:hindi_discourse',\n",
       " 'huggingface:hippocorpus',\n",
       " 'huggingface:hkcancor',\n",
       " 'huggingface:hlgd',\n",
       " 'huggingface:hope_edi',\n",
       " 'huggingface:hotpot_qa',\n",
       " 'huggingface:hover',\n",
       " 'huggingface:hrenwac_para',\n",
       " 'huggingface:hrwac',\n",
       " 'huggingface:humicroedit',\n",
       " 'huggingface:hybrid_qa',\n",
       " 'huggingface:hyperpartisan_news_detection',\n",
       " 'huggingface:iapp_wiki_qa_squad',\n",
       " 'huggingface:id_clickbait',\n",
       " 'huggingface:id_liputan6',\n",
       " 'huggingface:id_nergrit_corpus',\n",
       " 'huggingface:id_newspapers_2018',\n",
       " 'huggingface:id_panl_bppt',\n",
       " 'huggingface:id_puisi',\n",
       " 'huggingface:igbo_english_machine_translation',\n",
       " 'huggingface:igbo_monolingual',\n",
       " 'huggingface:igbo_ner',\n",
       " 'huggingface:ilist',\n",
       " 'huggingface:imagenet-1k',\n",
       " 'huggingface:imagenet_sketch',\n",
       " 'huggingface:imdb',\n",
       " 'huggingface:imdb_urdu_reviews',\n",
       " 'huggingface:imppres',\n",
       " 'huggingface:indic_glue',\n",
       " 'huggingface:indonli',\n",
       " 'huggingface:indonlu',\n",
       " 'huggingface:inquisitive_qg',\n",
       " 'huggingface:interpress_news_category_tr',\n",
       " 'huggingface:interpress_news_category_tr_lite',\n",
       " 'huggingface:irc_disentangle',\n",
       " 'huggingface:isixhosa_ner_corpus',\n",
       " 'huggingface:isizulu_ner_corpus',\n",
       " 'huggingface:iwslt2017',\n",
       " 'huggingface:jeopardy',\n",
       " 'huggingface:jfleg',\n",
       " 'huggingface:jigsaw_toxicity_pred',\n",
       " 'huggingface:jigsaw_unintended_bias',\n",
       " 'huggingface:jnlpba',\n",
       " 'huggingface:journalists_questions',\n",
       " 'huggingface:kan_hope',\n",
       " 'huggingface:kannada_news',\n",
       " 'huggingface:kd_conv',\n",
       " 'huggingface:kde4',\n",
       " 'huggingface:kelm',\n",
       " 'huggingface:kilt_tasks',\n",
       " 'huggingface:kilt_wikipedia',\n",
       " 'huggingface:kinnews_kirnews',\n",
       " 'huggingface:klue',\n",
       " 'huggingface:kor_3i4k',\n",
       " 'huggingface:kor_hate',\n",
       " 'huggingface:kor_ner',\n",
       " 'huggingface:kor_nli',\n",
       " 'huggingface:kor_nlu',\n",
       " 'huggingface:kor_qpair',\n",
       " 'huggingface:kor_sae',\n",
       " 'huggingface:kor_sarcasm',\n",
       " 'huggingface:labr',\n",
       " 'huggingface:lama',\n",
       " 'huggingface:lambada',\n",
       " 'huggingface:large_spanish_corpus',\n",
       " 'huggingface:laroseda',\n",
       " 'huggingface:lc_quad',\n",
       " 'huggingface:lccc',\n",
       " 'huggingface:lener_br',\n",
       " 'huggingface:lex_glue',\n",
       " 'huggingface:liar',\n",
       " 'huggingface:librispeech_asr',\n",
       " 'huggingface:librispeech_lm',\n",
       " 'huggingface:limit',\n",
       " 'huggingface:lince',\n",
       " 'huggingface:linnaeus',\n",
       " 'huggingface:liveqa',\n",
       " 'huggingface:lj_speech',\n",
       " 'huggingface:lm1b',\n",
       " 'huggingface:lst20',\n",
       " 'huggingface:m_lama',\n",
       " 'huggingface:mac_morpho',\n",
       " 'huggingface:makhzan',\n",
       " 'huggingface:masakhaner',\n",
       " 'huggingface:math_dataset',\n",
       " 'huggingface:math_qa',\n",
       " 'huggingface:matinf',\n",
       " 'huggingface:mbpp',\n",
       " 'huggingface:mc4',\n",
       " 'huggingface:mc_taco',\n",
       " 'huggingface:md_gender_bias',\n",
       " 'huggingface:mdd',\n",
       " 'huggingface:med_hop',\n",
       " 'huggingface:medal',\n",
       " 'huggingface:medical_dialog',\n",
       " 'huggingface:medical_questions_pairs',\n",
       " 'huggingface:medmcqa',\n",
       " 'huggingface:menyo20k_mt',\n",
       " 'huggingface:meta_woz',\n",
       " 'huggingface:metashift',\n",
       " 'huggingface:metooma',\n",
       " 'huggingface:metrec',\n",
       " 'huggingface:miam',\n",
       " 'huggingface:mkb',\n",
       " 'huggingface:mkqa',\n",
       " 'huggingface:mlqa',\n",
       " 'huggingface:mlsum',\n",
       " 'huggingface:mnist',\n",
       " 'huggingface:mocha',\n",
       " 'huggingface:monash_tsf',\n",
       " 'huggingface:moroco',\n",
       " 'huggingface:movie_rationales',\n",
       " 'huggingface:mrqa',\n",
       " 'huggingface:ms_marco',\n",
       " 'huggingface:ms_terms',\n",
       " 'huggingface:msr_genomics_kbcomp',\n",
       " 'huggingface:msr_sqa',\n",
       " 'huggingface:msr_text_compression',\n",
       " 'huggingface:msr_zhen_translation_parity',\n",
       " 'huggingface:msra_ner',\n",
       " 'huggingface:mt_eng_vietnamese',\n",
       " 'huggingface:muchocine',\n",
       " 'huggingface:multi_booked',\n",
       " 'huggingface:multi_eurlex',\n",
       " 'huggingface:multi_news',\n",
       " 'huggingface:multi_nli',\n",
       " 'huggingface:multi_nli_mismatch',\n",
       " 'huggingface:multi_para_crawl',\n",
       " 'huggingface:multi_re_qa',\n",
       " 'huggingface:multi_woz_v22',\n",
       " 'huggingface:multi_x_science_sum',\n",
       " 'huggingface:multidoc2dial',\n",
       " 'huggingface:multilingual_librispeech',\n",
       " 'huggingface:mutual_friends',\n",
       " 'huggingface:mwsc',\n",
       " 'huggingface:myanmar_news',\n",
       " 'huggingface:narrativeqa',\n",
       " 'huggingface:narrativeqa_manual',\n",
       " 'huggingface:natural_questions',\n",
       " 'huggingface:ncbi_disease',\n",
       " 'huggingface:nchlt',\n",
       " 'huggingface:ncslgr',\n",
       " 'huggingface:nell',\n",
       " 'huggingface:neural_code_search',\n",
       " 'huggingface:news_commentary',\n",
       " 'huggingface:newsgroup',\n",
       " 'huggingface:newsph',\n",
       " 'huggingface:newsph_nli',\n",
       " 'huggingface:newspop',\n",
       " 'huggingface:newsqa',\n",
       " 'huggingface:newsroom',\n",
       " 'huggingface:nkjp-ner',\n",
       " 'huggingface:nli_tr',\n",
       " 'huggingface:nlu_evaluation_data',\n",
       " 'huggingface:norec',\n",
       " 'huggingface:norne',\n",
       " 'huggingface:norwegian_ner',\n",
       " 'huggingface:nq_open',\n",
       " 'huggingface:nsmc',\n",
       " 'huggingface:numer_sense',\n",
       " 'huggingface:numeric_fused_head',\n",
       " 'huggingface:oclar',\n",
       " 'huggingface:offcombr',\n",
       " 'huggingface:offenseval2020_tr',\n",
       " 'huggingface:offenseval_dravidian',\n",
       " 'huggingface:ofis_publik',\n",
       " 'huggingface:ohsumed',\n",
       " 'huggingface:ollie',\n",
       " 'huggingface:omp',\n",
       " 'huggingface:onestop_english',\n",
       " 'huggingface:onestop_qa',\n",
       " 'huggingface:open_subtitles',\n",
       " 'huggingface:openai_humaneval',\n",
       " 'huggingface:openbookqa',\n",
       " 'huggingface:openslr',\n",
       " 'huggingface:openwebtext',\n",
       " 'huggingface:opinosis',\n",
       " 'huggingface:opus100',\n",
       " 'huggingface:opus_books',\n",
       " 'huggingface:opus_dgt',\n",
       " 'huggingface:opus_dogc',\n",
       " 'huggingface:opus_elhuyar',\n",
       " 'huggingface:opus_euconst',\n",
       " 'huggingface:opus_finlex',\n",
       " 'huggingface:opus_fiskmo',\n",
       " 'huggingface:opus_gnome',\n",
       " 'huggingface:opus_infopankki',\n",
       " 'huggingface:opus_memat',\n",
       " 'huggingface:opus_montenegrinsubs',\n",
       " 'huggingface:opus_openoffice',\n",
       " 'huggingface:opus_paracrawl',\n",
       " 'huggingface:opus_rf',\n",
       " 'huggingface:opus_tedtalks',\n",
       " 'huggingface:opus_ubuntu',\n",
       " 'huggingface:opus_wikipedia',\n",
       " 'huggingface:opus_xhosanavy',\n",
       " 'huggingface:orange_sum',\n",
       " 'huggingface:oscar',\n",
       " 'huggingface:para_crawl',\n",
       " 'huggingface:para_pat',\n",
       " 'huggingface:parsinlu_reading_comprehension',\n",
       " 'huggingface:pass',\n",
       " 'huggingface:paws',\n",
       " 'huggingface:paws-x',\n",
       " 'huggingface:pec',\n",
       " 'huggingface:peer_read',\n",
       " 'huggingface:peoples_daily_ner',\n",
       " 'huggingface:per_sent',\n",
       " 'huggingface:persian_ner',\n",
       " 'huggingface:pg19',\n",
       " 'huggingface:php',\n",
       " 'huggingface:piaf',\n",
       " 'huggingface:pib',\n",
       " 'huggingface:piqa',\n",
       " 'huggingface:pn_summary',\n",
       " 'huggingface:poem_sentiment',\n",
       " 'huggingface:polemo2',\n",
       " 'huggingface:poleval2019_cyberbullying',\n",
       " 'huggingface:poleval2019_mt',\n",
       " 'huggingface:polsum',\n",
       " 'huggingface:polyglot_ner',\n",
       " 'huggingface:prachathai67k',\n",
       " 'huggingface:pragmeval',\n",
       " 'huggingface:proto_qa',\n",
       " 'huggingface:psc',\n",
       " 'huggingface:ptb_text_only',\n",
       " 'huggingface:pubmed',\n",
       " 'huggingface:pubmed_qa',\n",
       " 'huggingface:py_ast',\n",
       " 'huggingface:qa4mre',\n",
       " 'huggingface:qa_srl',\n",
       " 'huggingface:qa_zre',\n",
       " 'huggingface:qangaroo',\n",
       " 'huggingface:qanta',\n",
       " 'huggingface:qasc',\n",
       " 'huggingface:qasper',\n",
       " 'huggingface:qed',\n",
       " 'huggingface:qed_amara',\n",
       " 'huggingface:quac',\n",
       " 'huggingface:quail',\n",
       " 'huggingface:quarel',\n",
       " 'huggingface:quartz',\n",
       " 'huggingface:quickdraw',\n",
       " 'huggingface:quora',\n",
       " 'huggingface:quoref',\n",
       " 'huggingface:race',\n",
       " 'huggingface:re_dial',\n",
       " 'huggingface:reasoning_bg',\n",
       " 'huggingface:recipe_nlg',\n",
       " 'huggingface:reclor',\n",
       " 'huggingface:red_caps',\n",
       " 'huggingface:reddit',\n",
       " 'huggingface:reddit_tifu',\n",
       " 'huggingface:refresd',\n",
       " 'huggingface:reuters21578',\n",
       " 'huggingface:riddle_sense',\n",
       " 'huggingface:ro_sent',\n",
       " 'huggingface:ro_sts',\n",
       " 'huggingface:ro_sts_parallel',\n",
       " 'huggingface:roman_urdu',\n",
       " 'huggingface:roman_urdu_hate_speech',\n",
       " 'huggingface:ronec',\n",
       " 'huggingface:ropes',\n",
       " 'huggingface:rotten_tomatoes',\n",
       " 'huggingface:russian_super_glue',\n",
       " 'huggingface:rvl_cdip',\n",
       " 'huggingface:s2orc',\n",
       " 'huggingface:samsum',\n",
       " 'huggingface:sanskrit_classic',\n",
       " 'huggingface:saudinewsnet',\n",
       " 'huggingface:sberquad',\n",
       " 'huggingface:sbu_captions',\n",
       " 'huggingface:scan',\n",
       " 'huggingface:scb_mt_enth_2020',\n",
       " 'huggingface:scene_parse_150',\n",
       " 'huggingface:schema_guided_dstc8',\n",
       " 'huggingface:scicite',\n",
       " 'huggingface:scielo',\n",
       " 'huggingface:scientific_papers',\n",
       " 'huggingface:scifact',\n",
       " 'huggingface:sciq',\n",
       " 'huggingface:scitail',\n",
       " 'huggingface:scitldr',\n",
       " 'huggingface:search_qa',\n",
       " 'huggingface:sede',\n",
       " 'huggingface:selqa',\n",
       " 'huggingface:sem_eval_2010_task_8',\n",
       " 'huggingface:sem_eval_2014_task_1',\n",
       " 'huggingface:sem_eval_2018_task_1',\n",
       " 'huggingface:sem_eval_2020_task_11',\n",
       " 'huggingface:sent_comp',\n",
       " 'huggingface:senti_lex',\n",
       " 'huggingface:senti_ws',\n",
       " 'huggingface:sentiment140',\n",
       " 'huggingface:sepedi_ner',\n",
       " 'huggingface:sesotho_ner_corpus',\n",
       " 'huggingface:setimes',\n",
       " 'huggingface:setswana_ner_corpus',\n",
       " 'huggingface:sharc',\n",
       " 'huggingface:sharc_modified',\n",
       " 'huggingface:sick',\n",
       " 'huggingface:silicone',\n",
       " 'huggingface:simple_questions_v2',\n",
       " 'huggingface:siswati_ner_corpus',\n",
       " 'huggingface:smartdata',\n",
       " 'huggingface:sms_spam',\n",
       " 'huggingface:snips_built_in_intents',\n",
       " 'huggingface:snli',\n",
       " 'huggingface:snow_simplified_japanese_corpus',\n",
       " 'huggingface:so_stacksample',\n",
       " 'huggingface:social_bias_frames',\n",
       " 'huggingface:social_i_qa',\n",
       " 'huggingface:sofc_materials_articles',\n",
       " 'huggingface:sogou_news',\n",
       " 'huggingface:spanish_billion_words',\n",
       " 'huggingface:spc',\n",
       " 'huggingface:species_800',\n",
       " 'huggingface:speech_commands',\n",
       " 'huggingface:spider',\n",
       " 'huggingface:squad',\n",
       " 'huggingface:squad_adversarial',\n",
       " 'huggingface:squad_es',\n",
       " 'huggingface:squad_it',\n",
       " 'huggingface:squad_kor_v1',\n",
       " 'huggingface:squad_kor_v2',\n",
       " 'huggingface:squad_v1_pt',\n",
       " 'huggingface:squad_v2',\n",
       " 'huggingface:squadshifts',\n",
       " 'huggingface:srwac',\n",
       " 'huggingface:sst',\n",
       " 'huggingface:stereoset',\n",
       " 'huggingface:story_cloze',\n",
       " 'huggingface:stsb_mt_sv',\n",
       " 'huggingface:stsb_multi_mt',\n",
       " 'huggingface:style_change_detection',\n",
       " 'huggingface:subjqa',\n",
       " 'huggingface:super_glue',\n",
       " 'huggingface:superb',\n",
       " 'huggingface:svhn',\n",
       " 'huggingface:swag',\n",
       " 'huggingface:swahili',\n",
       " 'huggingface:swahili_news',\n",
       " 'huggingface:swda',\n",
       " 'huggingface:swedish_medical_ner',\n",
       " 'huggingface:swedish_ner_corpus',\n",
       " 'huggingface:swedish_reviews',\n",
       " 'huggingface:swiss_judgment_prediction',\n",
       " 'huggingface:tab_fact',\n",
       " 'huggingface:tamilmixsentiment',\n",
       " 'huggingface:tanzil',\n",
       " 'huggingface:tapaco',\n",
       " 'huggingface:tashkeela',\n",
       " 'huggingface:taskmaster1',\n",
       " 'huggingface:taskmaster2',\n",
       " 'huggingface:taskmaster3',\n",
       " 'huggingface:tatoeba',\n",
       " 'huggingface:ted_hrlr',\n",
       " 'huggingface:ted_iwlst2013',\n",
       " 'huggingface:ted_multi',\n",
       " 'huggingface:ted_talks_iwslt',\n",
       " 'huggingface:telugu_books',\n",
       " 'huggingface:telugu_news',\n",
       " 'huggingface:tep_en_fa_para',\n",
       " 'huggingface:text2log',\n",
       " 'huggingface:textvqa',\n",
       " 'huggingface:thai_toxicity_tweet',\n",
       " 'huggingface:thainer',\n",
       " 'huggingface:thaiqa_squad',\n",
       " 'huggingface:thaisum',\n",
       " 'huggingface:the_pile',\n",
       " ...]"
      ]
     },
     "execution_count": 10,
     "metadata": {},
     "output_type": "execute_result"
    }
   ],
   "source": [
    "tfds.list_builders()"
   ]
  },
  {
   "cell_type": "code",
   "execution_count": 11,
   "metadata": {
    "id": "9-cRIL32QRcf",
    "outputId": "40af6ad3-c4cc-40e4-9a9c-1b0e0c91991b"
   },
   "outputs": [
    {
     "data": {
      "text/plain": [
       "tfds.core.DatasetInfo(\n",
       "    name='imdb_reviews',\n",
       "    full_name='imdb_reviews/plain_text/1.0.0',\n",
       "    description=\"\"\"\n",
       "    Large Movie Review Dataset. This is a dataset for binary sentiment\n",
       "    classification containing substantially more data than previous benchmark\n",
       "    datasets. We provide a set of 25,000 highly polar movie reviews for training,\n",
       "    and 25,000 for testing. There is additional unlabeled data for use as well.\n",
       "    \"\"\",\n",
       "    config_description=\"\"\"\n",
       "    Plain text\n",
       "    \"\"\",\n",
       "    homepage='http://ai.stanford.edu/~amaas/data/sentiment/',\n",
       "    data_path=PosixGPath('/tmp/tmp_f1zbmnctfds'),\n",
       "    file_format=tfrecord,\n",
       "    download_size=80.23 MiB,\n",
       "    dataset_size=Unknown size,\n",
       "    features=FeaturesDict({\n",
       "        'label': ClassLabel(shape=(), dtype=int64, num_classes=2),\n",
       "        'text': Text(shape=(), dtype=string),\n",
       "    }),\n",
       "    supervised_keys=('text', 'label'),\n",
       "    disable_shuffling=False,\n",
       "    splits={\n",
       "        'test': <SplitInfo num_examples=25000, num_shards=1>,\n",
       "        'train': <SplitInfo num_examples=25000, num_shards=1>,\n",
       "        'unsupervised': <SplitInfo num_examples=50000, num_shards=1>,\n",
       "    },\n",
       "    citation=\"\"\"@InProceedings{maas-EtAl:2011:ACL-HLT2011,\n",
       "      author    = {Maas, Andrew L.  and  Daly, Raymond E.  and  Pham, Peter T.  and  Huang, Dan  and  Ng, Andrew Y.  and  Potts, Christopher},\n",
       "      title     = {Learning Word Vectors for Sentiment Analysis},\n",
       "      booktitle = {Proceedings of the 49th Annual Meeting of the Association for Computational Linguistics: Human Language Technologies},\n",
       "      month     = {June},\n",
       "      year      = {2011},\n",
       "      address   = {Portland, Oregon, USA},\n",
       "      publisher = {Association for Computational Linguistics},\n",
       "      pages     = {142--150},\n",
       "      url       = {http://www.aclweb.org/anthology/P11-1015}\n",
       "    }\"\"\",\n",
       ")"
      ]
     },
     "execution_count": 11,
     "metadata": {},
     "output_type": "execute_result"
    }
   ],
   "source": [
    "tfds.builder('imdb_reviews').info"
   ]
  },
  {
   "cell_type": "code",
   "execution_count": 12,
   "metadata": {
    "id": "GfJGmV49QRcf"
   },
   "outputs": [
    {
     "name": "stdout",
     "output_type": "stream",
     "text": [
      "\u001b[1mDownloading and preparing dataset 80.23 MiB (download: 80.23 MiB, generated: Unknown size, total: 80.23 MiB) to /home/codetrade/tensorflow_datasets/imdb_reviews/plain_text/1.0.0...\u001b[0m\n"
     ]
    },
    {
     "data": {
      "application/vnd.jupyter.widget-view+json": {
       "model_id": "9a387f853c9245a7bdee020f6f258982",
       "version_major": 2,
       "version_minor": 0
      },
      "text/plain": [
       "Dl Completed...: 0 url [00:00, ? url/s]"
      ]
     },
     "metadata": {},
     "output_type": "display_data"
    },
    {
     "data": {
      "application/vnd.jupyter.widget-view+json": {
       "model_id": "d2975f9453c64c6d9841f56b1678a293",
       "version_major": 2,
       "version_minor": 0
      },
      "text/plain": [
       "Dl Size...: 0 MiB [00:00, ? MiB/s]"
      ]
     },
     "metadata": {},
     "output_type": "display_data"
    },
    {
     "data": {
      "application/vnd.jupyter.widget-view+json": {
       "model_id": "",
       "version_major": 2,
       "version_minor": 0
      },
      "text/plain": [
       "Generating splits...:   0%|          | 0/3 [00:00<?, ? splits/s]"
      ]
     },
     "metadata": {},
     "output_type": "display_data"
    },
    {
     "data": {
      "application/vnd.jupyter.widget-view+json": {
       "model_id": "",
       "version_major": 2,
       "version_minor": 0
      },
      "text/plain": [
       "Generating train examples...:   0%|          | 0/25000 [00:00<?, ? examples/s]"
      ]
     },
     "metadata": {},
     "output_type": "display_data"
    },
    {
     "data": {
      "application/vnd.jupyter.widget-view+json": {
       "model_id": "",
       "version_major": 2,
       "version_minor": 0
      },
      "text/plain": [
       "Shuffling /home/codetrade/tensorflow_datasets/imdb_reviews/plain_text/1.0.0.incompleteOLDUQI/imdb_reviews-trai…"
      ]
     },
     "metadata": {},
     "output_type": "display_data"
    },
    {
     "data": {
      "application/vnd.jupyter.widget-view+json": {
       "model_id": "",
       "version_major": 2,
       "version_minor": 0
      },
      "text/plain": [
       "Generating test examples...:   0%|          | 0/25000 [00:00<?, ? examples/s]"
      ]
     },
     "metadata": {},
     "output_type": "display_data"
    },
    {
     "data": {
      "application/vnd.jupyter.widget-view+json": {
       "model_id": "",
       "version_major": 2,
       "version_minor": 0
      },
      "text/plain": [
       "Shuffling /home/codetrade/tensorflow_datasets/imdb_reviews/plain_text/1.0.0.incompleteOLDUQI/imdb_reviews-test…"
      ]
     },
     "metadata": {},
     "output_type": "display_data"
    },
    {
     "data": {
      "application/vnd.jupyter.widget-view+json": {
       "model_id": "",
       "version_major": 2,
       "version_minor": 0
      },
      "text/plain": [
       "Generating unsupervised examples...:   0%|          | 0/50000 [00:00<?, ? examples/s]"
      ]
     },
     "metadata": {},
     "output_type": "display_data"
    },
    {
     "data": {
      "application/vnd.jupyter.widget-view+json": {
       "model_id": "",
       "version_major": 2,
       "version_minor": 0
      },
      "text/plain": [
       "Shuffling /home/codetrade/tensorflow_datasets/imdb_reviews/plain_text/1.0.0.incompleteOLDUQI/imdb_reviews-unsu…"
      ]
     },
     "metadata": {},
     "output_type": "display_data"
    },
    {
     "name": "stdout",
     "output_type": "stream",
     "text": [
      "\u001b[1mDataset imdb_reviews downloaded and prepared to /home/codetrade/tensorflow_datasets/imdb_reviews/plain_text/1.0.0. Subsequent calls will reuse this data.\u001b[0m\n"
     ]
    }
   ],
   "source": [
    "# using TFDS dataset\n",
    "# note: as_supervised converts dicts to tuples\n",
    "\n",
    "imdb_train, ds_info = tfds.load(name=\"imdb_reviews\", split=\"train\",with_info=True, as_supervised=True)\n",
    "imdb_test = tfds.load(name=\"imdb_reviews\", split=\"test\",as_supervised=True)"
   ]
  },
  {
   "cell_type": "code",
   "execution_count": 13,
   "metadata": {
    "id": "28Ekv_lIQRcg",
    "outputId": "25db1c2e-26d1-4c76-c134-0a4259807c0e"
   },
   "outputs": [
    {
     "name": "stdout",
     "output_type": "stream",
     "text": [
      "tfds.core.DatasetInfo(\n",
      "    name='imdb_reviews',\n",
      "    full_name='imdb_reviews/plain_text/1.0.0',\n",
      "    description=\"\"\"\n",
      "    Large Movie Review Dataset. This is a dataset for binary sentiment\n",
      "    classification containing substantially more data than previous benchmark\n",
      "    datasets. We provide a set of 25,000 highly polar movie reviews for training,\n",
      "    and 25,000 for testing. There is additional unlabeled data for use as well.\n",
      "    \"\"\",\n",
      "    config_description=\"\"\"\n",
      "    Plain text\n",
      "    \"\"\",\n",
      "    homepage='http://ai.stanford.edu/~amaas/data/sentiment/',\n",
      "    data_path=PosixGPath('/tmp/tmph74zpm2utfds'),\n",
      "    file_format=tfrecord,\n",
      "    download_size=80.23 MiB,\n",
      "    dataset_size=129.83 MiB,\n",
      "    features=FeaturesDict({\n",
      "        'label': ClassLabel(shape=(), dtype=int64, num_classes=2),\n",
      "        'text': Text(shape=(), dtype=string),\n",
      "    }),\n",
      "    supervised_keys=('text', 'label'),\n",
      "    disable_shuffling=False,\n",
      "    splits={\n",
      "        'test': <SplitInfo num_examples=25000, num_shards=1>,\n",
      "        'train': <SplitInfo num_examples=25000, num_shards=1>,\n",
      "        'unsupervised': <SplitInfo num_examples=50000, num_shards=1>,\n",
      "    },\n",
      "    citation=\"\"\"@InProceedings{maas-EtAl:2011:ACL-HLT2011,\n",
      "      author    = {Maas, Andrew L.  and  Daly, Raymond E.  and  Pham, Peter T.  and  Huang, Dan  and  Ng, Andrew Y.  and  Potts, Christopher},\n",
      "      title     = {Learning Word Vectors for Sentiment Analysis},\n",
      "      booktitle = {Proceedings of the 49th Annual Meeting of the Association for Computational Linguistics: Human Language Technologies},\n",
      "      month     = {June},\n",
      "      year      = {2011},\n",
      "      address   = {Portland, Oregon, USA},\n",
      "      publisher = {Association for Computational Linguistics},\n",
      "      pages     = {142--150},\n",
      "      url       = {http://www.aclweb.org/anthology/P11-1015}\n",
      "    }\"\"\",\n",
      ")\n"
     ]
    }
   ],
   "source": [
    "print(ds_info)"
   ]
  },
  {
   "cell_type": "code",
   "execution_count": 14,
   "metadata": {
    "id": "uOgmeLW-QRcg",
    "outputId": "918a214d-92e0-48ee-8cbf-5ca39ee83d48"
   },
   "outputs": [
    {
     "data": {
      "text/plain": [
       "tensorflow.python.data.ops.prefetch_op._PrefetchDataset"
      ]
     },
     "execution_count": 14,
     "metadata": {},
     "output_type": "execute_result"
    }
   ],
   "source": [
    "type(imdb_train)"
   ]
  },
  {
   "cell_type": "code",
   "execution_count": 15,
   "metadata": {
    "id": "o1852vOAQRch",
    "outputId": "db142ea2-40d8-4027-ec33-c60300120bdc"
   },
   "outputs": [
    {
     "name": "stdout",
     "output_type": "stream",
     "text": [
      "b\"This was an absolutely terrible movie. Don't be lured in by Christopher Walken or Michael Ironside. Both are great actors, but this must simply be their worst role in history. Even their great acting could not redeem this movie's ridiculous storyline. This movie is an early nineties US propaganda piece. The most pathetic scenes were those when the Columbian rebels were making their cases for revolutions. Maria Conchita Alonso appeared phony, and her pseudo-love affair with Walken was nothing but a pathetic emotional plug in a movie that was devoid of any real meaning. I am disappointed that there are movies like this, ruining actor's like Christopher Walken's good name. I could barely sit through it.\" \n",
      " 0\n",
      "b'I have been known to fall asleep during films, but this is usually due to a combination of things including, really tired, being warm and comfortable on the sette and having just eaten a lot. However on this occasion I fell asleep because the film was rubbish. The plot development was constant. Constantly slow and boring. Things seemed to happen, but with no explanation of what was causing them or why. I admit, I may have missed part of the film, but i watched the majority of it and everything just seemed to happen of its own accord without any real concern for anything else. I cant recommend this film at all.' \n",
      " 0\n",
      "b'Mann photographs the Alberta Rocky Mountains in a superb fashion, and Jimmy Stewart and Walter Brennan give enjoyable performances as they always seem to do. <br /><br />But come on Hollywood - a Mountie telling the people of Dawson City, Yukon to elect themselves a marshal (yes a marshal!) and to enforce the law themselves, then gunfighters battling it out on the streets for control of the town? <br /><br />Nothing even remotely resembling that happened on the Canadian side of the border during the Klondike gold rush. Mr. Mann and company appear to have mistaken Dawson City for Deadwood, the Canadian North for the American Wild West.<br /><br />Canadian viewers be prepared for a Reefer Madness type of enjoyable howl with this ludicrous plot, or, to shake your head in disgust.' \n",
      " 0\n"
     ]
    },
    {
     "name": "stderr",
     "output_type": "stream",
     "text": [
      "2023-06-21 10:29:09.125357: I tensorflow/core/common_runtime/executor.cc:1197] [/device:CPU:0] (DEBUG INFO) Executor start aborting (this does not indicate an error and you can ignore this message): INVALID_ARGUMENT: You must feed a value for placeholder tensor 'Placeholder/_4' with dtype int64 and shape [1]\n",
      "\t [[{{node Placeholder/_4}}]]\n",
      "2023-06-21 10:29:09.126065: I tensorflow/core/common_runtime/executor.cc:1197] [/device:CPU:0] (DEBUG INFO) Executor start aborting (this does not indicate an error and you can ignore this message): INVALID_ARGUMENT: You must feed a value for placeholder tensor 'Placeholder/_4' with dtype int64 and shape [1]\n",
      "\t [[{{node Placeholder/_4}}]]\n",
      "2023-06-21 10:29:09.209558: W tensorflow/core/kernels/data/cache_dataset_ops.cc:856] The calling iterator did not fully read the dataset being cached. In order to avoid unexpected truncation of the dataset, the partially cached contents of the dataset  will be discarded. This can happen if you have an input pipeline similar to `dataset.cache().take(k).repeat()`. You should use `dataset.take(k).cache().repeat()` instead.\n"
     ]
    }
   ],
   "source": [
    "for example, label in imdb_train.take(3):\n",
    "    print(example.numpy(), '\\n', label.numpy())"
   ]
  },
  {
   "cell_type": "markdown",
   "metadata": {
    "id": "HQLfzLMdQRch"
   },
   "source": [
    "## TOKENIZATION "
   ]
  },
  {
   "cell_type": "code",
   "execution_count": 24,
   "metadata": {
    "id": "655NtQOEQRch"
   },
   "outputs": [
    {
     "name": "stderr",
     "output_type": "stream",
     "text": [
      "2023-06-21 10:35:37.832151: I tensorflow/core/common_runtime/executor.cc:1197] [/device:CPU:0] (DEBUG INFO) Executor start aborting (this does not indicate an error and you can ignore this message): INVALID_ARGUMENT: You must feed a value for placeholder tensor 'Placeholder/_3' with dtype int64 and shape [1]\n",
      "\t [[{{node Placeholder/_3}}]]\n",
      "2023-06-21 10:35:37.832600: I tensorflow/core/common_runtime/executor.cc:1197] [/device:CPU:0] (DEBUG INFO) Executor start aborting (this does not indicate an error and you can ignore this message): INVALID_ARGUMENT: You must feed a value for placeholder tensor 'Placeholder/_3' with dtype int64 and shape [1]\n",
      "\t [[{{node Placeholder/_3}}]]\n"
     ]
    }
   ],
   "source": [
    "# Use the default tokenizer settings\n",
    "# tokenizer = tfds.features.text.Tokenizer()\n",
    "\n",
    "# vocabulary_set = set()\n",
    "\n",
    "# for example, label in imdb_train:\n",
    "#   some_tokens = tokenizer.tokenize(example.numpy())\n",
    "#   vocabulary_set.update(some_tokens)\n",
    "    \n",
    "\n",
    "    \n",
    "    \n",
    "import tensorflow_datasets as tfds\n",
    "\n",
    "tokenizer = tfds.deprecated.text.Tokenizer()\n",
    "\n",
    "vocabulary_set = set()\n",
    "\n",
    "for example, label in imdb_train:\n",
    "    example_text = example.numpy().decode()\n",
    "    some_tokens = tokenizer.tokenize(example_text)\n",
    "    vocabulary_set.update(some_tokens)\n",
    "    \n",
    "    \n",
    "\n",
    "    \n",
    "    \n",
    "# import nltk\n",
    "# from nltk.tokenize import word_tokenize\n",
    "\n",
    "# nltk.download('punkt')  # Download the necessary tokenizer data\n",
    "\n",
    "# vocabulary_set = set()\n",
    "\n",
    "# for example, label in imdb_train:\n",
    "#     some_tokens = word_tokenize(example.numpy().decode())\n",
    "#     vocabulary_set.update(some_tokens)\n"
   ]
  },
  {
   "cell_type": "code",
   "execution_count": 25,
   "metadata": {
    "id": "sfEOrobWQRci",
    "outputId": "74f7a2f7-b576-42ac-f253-cc0fcfeca5a5"
   },
   "outputs": [
    {
     "data": {
      "text/plain": [
       "['First',\n",
       " 'of',\n",
       " 'all',\n",
       " 'Riget',\n",
       " 'is',\n",
       " 'wonderful',\n",
       " 'Good',\n",
       " 'comedy',\n",
       " 'and',\n",
       " 'mystery',\n",
       " 'thriller',\n",
       " 'at',\n",
       " 'the',\n",
       " 'same',\n",
       " 'time',\n",
       " 'Nice',\n",
       " 'combination',\n",
       " 'of',\n",
       " 'strange',\n",
       " 'dogma',\n",
       " 'style',\n",
       " 'of',\n",
       " 'telling',\n",
       " 'the',\n",
       " 'story',\n",
       " 'together',\n",
       " 'with',\n",
       " 'good',\n",
       " 'music',\n",
       " 'and',\n",
       " 'great',\n",
       " 'actors',\n",
       " 'But',\n",
       " 'unfortunately',\n",
       " 'there',\n",
       " 's',\n",
       " 'no',\n",
       " 'the',\n",
       " 'end',\n",
       " 'As',\n",
       " 'for',\n",
       " 'me',\n",
       " 'it',\n",
       " 's',\n",
       " 'unacceptable',\n",
       " 'I',\n",
       " 'was',\n",
       " 'thinking',\n",
       " 'how',\n",
       " 'it',\n",
       " 'will',\n",
       " 'be',\n",
       " 'possible',\n",
       " 'to',\n",
       " 'continue',\n",
       " 'the',\n",
       " 'story',\n",
       " 'without',\n",
       " 'Helmer',\n",
       " 'and',\n",
       " 'Drusse',\n",
       " 'and',\n",
       " 'I',\n",
       " 'have',\n",
       " 'some',\n",
       " 'idea',\n",
       " 'I',\n",
       " 'think',\n",
       " 'Lars',\n",
       " 'should',\n",
       " 'make',\n",
       " 'RIGET',\n",
       " 'III',\n",
       " 'a',\n",
       " 'little',\n",
       " 'bit',\n",
       " 'different',\n",
       " 'I',\n",
       " 'm',\n",
       " 'sure',\n",
       " 'that',\n",
       " '3rd',\n",
       " 'part',\n",
       " 'without',\n",
       " 'Helmer',\n",
       " 'wouldn',\n",
       " 't',\n",
       " 'be',\n",
       " 'the',\n",
       " 'same',\n",
       " 'So',\n",
       " 'here',\n",
       " 's',\n",
       " 'my',\n",
       " 'suggestion',\n",
       " 'Mayble',\n",
       " 'little',\n",
       " 'bit',\n",
       " 'stupid',\n",
       " 'maybe',\n",
       " 'not',\n",
       " 'I',\n",
       " 'know',\n",
       " 'that',\n",
       " 'Lars',\n",
       " 'likes',\n",
       " 'to',\n",
       " 'experiment',\n",
       " 'So',\n",
       " 'why',\n",
       " 'not',\n",
       " 'to',\n",
       " 'make',\n",
       " 'small',\n",
       " 'experiment',\n",
       " 'with',\n",
       " 'Riget3',\n",
       " 'I',\n",
       " 'think',\n",
       " 'the',\n",
       " 'only',\n",
       " 'solution',\n",
       " 'here',\n",
       " 'is',\n",
       " 'to',\n",
       " 'create',\n",
       " 'puppet',\n",
       " 'driven',\n",
       " 'animation',\n",
       " 'like',\n",
       " 'for',\n",
       " 'example',\n",
       " 'team',\n",
       " 'America',\n",
       " 'by',\n",
       " 'Trey',\n",
       " 'Parker',\n",
       " 'or',\n",
       " 'even',\n",
       " 'computer',\n",
       " '3d',\n",
       " 'animation',\n",
       " 'I',\n",
       " 'know',\n",
       " 'it',\n",
       " 's',\n",
       " 'not',\n",
       " 'the',\n",
       " 'same',\n",
       " 'as',\n",
       " 'real',\n",
       " 'actors',\n",
       " 'but',\n",
       " 'in',\n",
       " 'principle',\n",
       " 'I',\n",
       " 'believe',\n",
       " 'it',\n",
       " 'could',\n",
       " 'work',\n",
       " 'only',\n",
       " 'this',\n",
       " 'way',\n",
       " 'it',\n",
       " 's',\n",
       " 'possible',\n",
       " 'to',\n",
       " 'make',\n",
       " 'actors',\n",
       " 'alive',\n",
       " 'again',\n",
       " 'For',\n",
       " 'Riget',\n",
       " 'fans',\n",
       " 'this',\n",
       " 'shouldn',\n",
       " 't',\n",
       " 'be',\n",
       " 'so',\n",
       " 'big',\n",
       " 'difference',\n",
       " 'if',\n",
       " 'the',\n",
       " 'animation',\n",
       " 'will',\n",
       " 'be',\n",
       " 'done',\n",
       " 'in',\n",
       " 'good',\n",
       " 'way',\n",
       " 'average',\n",
       " 'watcher',\n",
       " 'will',\n",
       " 'consider',\n",
       " 'it',\n",
       " 'normal',\n",
       " 'just',\n",
       " 'after',\n",
       " 'first',\n",
       " 'few',\n",
       " 'shots',\n",
       " 'of',\n",
       " 'the',\n",
       " 'movie',\n",
       " 'The',\n",
       " 'most',\n",
       " 'important',\n",
       " 'thing',\n",
       " 'now',\n",
       " 'is',\n",
       " 'the',\n",
       " 'story',\n",
       " 'It',\n",
       " 's',\n",
       " 'completely',\n",
       " 'understandable',\n",
       " 'that',\n",
       " 'it',\n",
       " 's',\n",
       " 'not',\n",
       " 'possible',\n",
       " 'to',\n",
       " 'create',\n",
       " 'Riget',\n",
       " '3',\n",
       " 'with',\n",
       " 'the',\n",
       " 'actors',\n",
       " 'nowadays',\n",
       " 'So',\n",
       " 'why',\n",
       " 'not',\n",
       " 'to',\n",
       " 'play',\n",
       " 'with',\n",
       " 'animation',\n",
       " 'And',\n",
       " 'look',\n",
       " 'for',\n",
       " 'the',\n",
       " 'possibilities',\n",
       " 'that',\n",
       " 'it',\n",
       " 'gives',\n",
       " 'to',\n",
       " 'you',\n",
       " 'Even',\n",
       " 'marketing',\n",
       " 'one',\n",
       " 'Great',\n",
       " 'director',\n",
       " 'finishes',\n",
       " 'his',\n",
       " 'trilogy',\n",
       " 'after',\n",
       " '10',\n",
       " 'years',\n",
       " 'using',\n",
       " 'puppet',\n",
       " 'animation',\n",
       " 'Just',\n",
       " 'dreams',\n",
       " 'br',\n",
       " 'br',\n",
       " 'I',\n",
       " 'hope',\n",
       " 'to',\n",
       " 'see',\n",
       " 'Riget',\n",
       " '3',\n",
       " 'someday',\n",
       " 'or',\n",
       " 'even',\n",
       " 'to',\n",
       " 'see',\n",
       " 'just',\n",
       " 'the',\n",
       " 'script',\n",
       " 'I',\n",
       " 'm',\n",
       " 'curious',\n",
       " 'how',\n",
       " 'the',\n",
       " 'story',\n",
       " 'ends',\n",
       " 'and',\n",
       " 'as',\n",
       " 'I',\n",
       " 'expect',\n",
       " 'everybody',\n",
       " 'here',\n",
       " 'do',\n",
       " 'br',\n",
       " 'br',\n",
       " 'greets',\n",
       " 'slaj',\n",
       " 'br',\n",
       " 'br',\n",
       " 'ps',\n",
       " 'I',\n",
       " 'm',\n",
       " 'not',\n",
       " 'talking',\n",
       " 'about',\n",
       " 'the',\n",
       " 'kingdom',\n",
       " 'hospital',\n",
       " 'by',\n",
       " 'Stephen',\n",
       " 'King']"
      ]
     },
     "execution_count": 25,
     "metadata": {},
     "output_type": "execute_result"
    }
   ],
   "source": [
    "some_tokens"
   ]
  },
  {
   "cell_type": "code",
   "execution_count": 27,
   "metadata": {
    "id": "PoHG1ec2QRci"
   },
   "outputs": [],
   "source": [
    "# Use the default tokenizer settings\n",
    "tokenizer = tfds.deprecated.text.Tokenizer()\n",
    "\n",
    "vocabulary_set = set()\n",
    "MAX_TOKENS = 0\n",
    "\n",
    "for example, label in imdb_train:\n",
    "  some_tokens = tokenizer.tokenize(example.numpy())\n",
    "  if MAX_TOKENS < len(some_tokens):\n",
    "      MAX_TOKENS = len(some_tokens)\n",
    "  vocabulary_set.update(some_tokens)"
   ]
  },
  {
   "cell_type": "code",
   "execution_count": 28,
   "metadata": {
    "id": "5rqZReJ3QRci",
    "outputId": "9374b8fa-f944-4157-be6e-b33e17ed2457"
   },
   "outputs": [
    {
     "data": {
      "text/plain": [
       "{'mexican',\n",
       " 'oskorblyonnye',\n",
       " 'Vinchenzo',\n",
       " 'Ada',\n",
       " 'Underneath',\n",
       " 'kwan',\n",
       " 'Realized',\n",
       " 'unhurt',\n",
       " 'Muriel',\n",
       " 'INXS',\n",
       " 'banker',\n",
       " 'ideology',\n",
       " 'distressing',\n",
       " 'charlatans',\n",
       " 'abattoirs',\n",
       " 'together',\n",
       " 'Witty',\n",
       " 'unfavourably',\n",
       " 'creed',\n",
       " 'farse',\n",
       " 'Edie',\n",
       " 'Lensman',\n",
       " 'apparel',\n",
       " 'avenue',\n",
       " 'ebbs',\n",
       " 'JM',\n",
       " 'Mendezes',\n",
       " 'Nacy',\n",
       " 'Balduin',\n",
       " 'Jardyce',\n",
       " 'Mistral',\n",
       " 'Striptease',\n",
       " 'dine',\n",
       " 'disappearing',\n",
       " 'Konchalovsky',\n",
       " 'Copper',\n",
       " 'announce',\n",
       " 'Kolos',\n",
       " 'fantafestival',\n",
       " 'jake',\n",
       " 'Moveis',\n",
       " 'VFX',\n",
       " 'differs',\n",
       " 'Allowing',\n",
       " 'Philharmoniker',\n",
       " 'Gibberish',\n",
       " 'rewarding',\n",
       " 'unkindly',\n",
       " 'wrongggg',\n",
       " 'habits',\n",
       " 'Treason',\n",
       " 'demonise',\n",
       " 'PUPS',\n",
       " 'unconfident',\n",
       " 'benefitted',\n",
       " 'splattered',\n",
       " 'Marinaro',\n",
       " 'Midget',\n",
       " 'Frenchfilm',\n",
       " 'timid',\n",
       " 'assignations',\n",
       " 'infestation',\n",
       " 'Nantes',\n",
       " 'Toshiro',\n",
       " 'Turner',\n",
       " 'Abandoned',\n",
       " 'TBN',\n",
       " 'Rawandan',\n",
       " 'Serendipitous',\n",
       " 'Triumf',\n",
       " 'Berkinsale',\n",
       " 'playhouse',\n",
       " 'derangement',\n",
       " 'performed',\n",
       " 'paycheck',\n",
       " 'metropolitan',\n",
       " 'PhD',\n",
       " 'Goodluck',\n",
       " 'clued',\n",
       " 'decorating',\n",
       " 'derisive',\n",
       " 'humourless',\n",
       " 'Rino',\n",
       " 'Brackettsville',\n",
       " 'stingray',\n",
       " 'literacy',\n",
       " 'novelties',\n",
       " 'garron',\n",
       " 'seriocomic',\n",
       " 'kafkaesque',\n",
       " 'homecoming',\n",
       " 'dishonesty',\n",
       " 'Tang',\n",
       " 'THINKING',\n",
       " 'Senza',\n",
       " 'turd',\n",
       " 'Gave',\n",
       " 'FIND',\n",
       " 'Mick',\n",
       " 'guys',\n",
       " 'INERESTING',\n",
       " 'debutant',\n",
       " 'EXIST',\n",
       " 'indigenous',\n",
       " 'pecked',\n",
       " 'cow',\n",
       " 'Vaugn',\n",
       " 'ch',\n",
       " 'brainsadillas',\n",
       " 'gurl',\n",
       " 'magistral',\n",
       " 'governing',\n",
       " 'Incase',\n",
       " 'wodka',\n",
       " 'Baltimore',\n",
       " 'MonsterVision',\n",
       " 'titter',\n",
       " 'earing',\n",
       " 'Gutman',\n",
       " 'hag',\n",
       " 'Wyatt',\n",
       " 'sponge',\n",
       " 'TOT',\n",
       " 'Oe',\n",
       " 'UNCLE',\n",
       " 'Stringfellow',\n",
       " 'demand',\n",
       " 'motorbikes',\n",
       " 'Stivic',\n",
       " 'kindergarteners',\n",
       " 'opportunist',\n",
       " 'understands',\n",
       " 'Conny',\n",
       " 'infects',\n",
       " 'Hector',\n",
       " 'Quay',\n",
       " 'Thorwald',\n",
       " 'Dodesukaden',\n",
       " 'mans',\n",
       " 'pan',\n",
       " 'throngs',\n",
       " 'sediments',\n",
       " 'Episodes',\n",
       " 'lures',\n",
       " 'GESTURES',\n",
       " '1847',\n",
       " 'reentered',\n",
       " 'Wisbar',\n",
       " 'wrenches',\n",
       " 'bricked',\n",
       " 'steamship',\n",
       " 'razor',\n",
       " 'lotta',\n",
       " 'Hulbert',\n",
       " 'Tracee',\n",
       " 'raving',\n",
       " 'Heth',\n",
       " 'Kosleck',\n",
       " 'Tailer',\n",
       " 'carjacked',\n",
       " 'Vep',\n",
       " 'Brownesque',\n",
       " 'Scorpion',\n",
       " 'consolation',\n",
       " 'tripwires',\n",
       " 'brattiest',\n",
       " 'honoured',\n",
       " 'LOGO',\n",
       " 'Singers',\n",
       " 'Colorful',\n",
       " 'dinosaurs',\n",
       " 'slaying',\n",
       " 'bifurcation',\n",
       " 'wolverinish',\n",
       " 'Babe',\n",
       " '120',\n",
       " 'Golubeva',\n",
       " 'windstorm',\n",
       " 'Delicious',\n",
       " 'Sembene',\n",
       " 'Lorna',\n",
       " 'Eminem',\n",
       " 'insectish',\n",
       " 'differentiates',\n",
       " 'Lilley',\n",
       " 'Gall',\n",
       " 'facet',\n",
       " 'nest',\n",
       " 'bell',\n",
       " 'Dina',\n",
       " 'identifies',\n",
       " 'MICKEY',\n",
       " 'tourism',\n",
       " 'hut',\n",
       " 'Bother',\n",
       " 'Longstocking',\n",
       " 'graying',\n",
       " 'boardwalk',\n",
       " 'PARADISE',\n",
       " 'supervised',\n",
       " 'sports',\n",
       " 'encapsuling',\n",
       " 'Melania',\n",
       " 'aspirational',\n",
       " 'Sayonara',\n",
       " 'bowlegged',\n",
       " 'lions',\n",
       " 'Jansen',\n",
       " 'Grod',\n",
       " 'On',\n",
       " 'ROYALE',\n",
       " 'heatbreaking',\n",
       " 'CS',\n",
       " 'posits',\n",
       " 'seagoing',\n",
       " 'Grinderlin',\n",
       " 'snare',\n",
       " 'Powermaster',\n",
       " 'voice',\n",
       " 'Ficker',\n",
       " 'Rutkay',\n",
       " 'dislocate',\n",
       " 'hominids',\n",
       " 'intercoms',\n",
       " 'Blockbuster',\n",
       " 'Cameroonian',\n",
       " 'appetit',\n",
       " 'norway',\n",
       " 'pockets',\n",
       " 'rate',\n",
       " 'headlights',\n",
       " 'Socioty',\n",
       " 'mismatched',\n",
       " 'Clift',\n",
       " 'Sitcom',\n",
       " 'Hrs',\n",
       " 'Scorsese',\n",
       " 'hypothesis',\n",
       " 'Shimizu',\n",
       " 'beatle',\n",
       " 'naala',\n",
       " 'Halloween',\n",
       " 'PIN',\n",
       " 'BOOOOOOOOOOOOOOOOOOOOOOOOOOOOOOOOOOOOOOOOOOOOOOO',\n",
       " 'Wiarton',\n",
       " 'ARMY',\n",
       " 'maturing',\n",
       " 'weights',\n",
       " 'Bandolero',\n",
       " 'Eildon',\n",
       " 'accelerate',\n",
       " 'mankinds',\n",
       " 'periodically',\n",
       " 'teleprompters',\n",
       " 'winglies',\n",
       " 'tazer',\n",
       " 'clap',\n",
       " 'counterattack',\n",
       " 'forgive',\n",
       " 'contrives',\n",
       " 'opaeras',\n",
       " 'danced',\n",
       " 'Jokers',\n",
       " 'wittily',\n",
       " 'embroidering',\n",
       " 'concieling',\n",
       " 'demon',\n",
       " 'engineer',\n",
       " 'Harrington',\n",
       " 'Match',\n",
       " 'Kosti',\n",
       " 'HELICOPTER',\n",
       " 'lupus',\n",
       " 'virgins',\n",
       " 'TOOL',\n",
       " 'dribbles',\n",
       " 'further',\n",
       " 'Mack',\n",
       " 'meshuganah',\n",
       " 'Nunez',\n",
       " 'Kader',\n",
       " 'Rupert',\n",
       " 'Hari',\n",
       " 'righted',\n",
       " 'Naam',\n",
       " 'slackens',\n",
       " 'salacious',\n",
       " 'EV',\n",
       " 'Escrow',\n",
       " 'rooney',\n",
       " 'yukfest',\n",
       " 'AARP',\n",
       " 'Merman',\n",
       " 'Stauffenberg',\n",
       " 'seawater',\n",
       " 'detectors',\n",
       " 'hesitate',\n",
       " 'Headshrinkers',\n",
       " 'Explanation',\n",
       " 'Whithnail',\n",
       " 'well',\n",
       " 'Ludlam',\n",
       " 'lion',\n",
       " 'authors',\n",
       " 'bacteria',\n",
       " 'PRISONER',\n",
       " 'Stretch',\n",
       " 'practising',\n",
       " 'Addictive',\n",
       " 'rowdies',\n",
       " 'Meatballs',\n",
       " 'cotta',\n",
       " 'unleashes',\n",
       " 'Ravensteins',\n",
       " 'Debucourt',\n",
       " 'Café',\n",
       " 'Zannetti',\n",
       " 'Tennis',\n",
       " 'disappearance',\n",
       " 'Willing',\n",
       " 'acquaints',\n",
       " 'BOILER',\n",
       " 'Zaragoza',\n",
       " 'Lyrical',\n",
       " 'LaGrange',\n",
       " 'meringue',\n",
       " 'Lumière',\n",
       " 'personae',\n",
       " 'Leprachaun',\n",
       " 'thoughtfully',\n",
       " 'hazmat',\n",
       " 'Cubby',\n",
       " 'toothache',\n",
       " 'Neidhart',\n",
       " 'trespassed',\n",
       " 'Visit',\n",
       " 'GH',\n",
       " '1953',\n",
       " 'jampacked',\n",
       " 'Alli',\n",
       " 'Armour',\n",
       " 'Accomplished',\n",
       " 'Pulling',\n",
       " 'based',\n",
       " 'PAYING',\n",
       " 'jour',\n",
       " 'Indien',\n",
       " 'desctruction',\n",
       " 'botches',\n",
       " 'hooters',\n",
       " 'Lorenço',\n",
       " 'pokes',\n",
       " 'Banana',\n",
       " 'conservatively',\n",
       " 'guaranteed',\n",
       " 'upmanship',\n",
       " 'Podalydes',\n",
       " 'NRJ',\n",
       " 'MSG',\n",
       " 'finances',\n",
       " 'schlepped',\n",
       " 'handler',\n",
       " 'trios',\n",
       " 'caperings',\n",
       " 'Ortolani',\n",
       " 'traditionalist',\n",
       " 'uttermost',\n",
       " 'Fil',\n",
       " 'weirds',\n",
       " 'Gualtieri',\n",
       " 'Josephs',\n",
       " 'speeding',\n",
       " 'cineastic',\n",
       " 'Akroyd',\n",
       " 'McConaughey',\n",
       " 'base',\n",
       " 'simulation',\n",
       " 'uncommonly',\n",
       " 'Patton',\n",
       " 'bella',\n",
       " 'kangaroo',\n",
       " 'dampened',\n",
       " 'Wauters',\n",
       " 'DISBELIEF',\n",
       " 'unmanaged',\n",
       " 'settles',\n",
       " 'Caper',\n",
       " 'Becce',\n",
       " 'vitriol',\n",
       " 'slightest',\n",
       " 'Confederation',\n",
       " 'Blythe',\n",
       " 'Nugent',\n",
       " 'Parisiennes',\n",
       " 'approaches',\n",
       " 'Camui',\n",
       " 'Lesbos',\n",
       " 'naturism',\n",
       " 'ogling',\n",
       " 'Filled',\n",
       " 'Chang',\n",
       " 'Tehran',\n",
       " 'Serrault',\n",
       " 'Bohlen',\n",
       " 'beastiality',\n",
       " 'PROJECT',\n",
       " 'contentedly',\n",
       " 'Almora',\n",
       " 'Foley',\n",
       " 'Sugerman',\n",
       " 'waned',\n",
       " 'infidelities',\n",
       " 'Soup',\n",
       " 'Molden',\n",
       " 'unco',\n",
       " 'Goring',\n",
       " 'Askew',\n",
       " 'Charmingly',\n",
       " 'Julliard',\n",
       " 'STRYKER',\n",
       " 'Analise',\n",
       " 'Lor',\n",
       " 'Mian',\n",
       " 'DISSAPPOINT',\n",
       " 'paramedics',\n",
       " 'Nella',\n",
       " 'Prête',\n",
       " 'intersections',\n",
       " 'Kao',\n",
       " 'Lightness',\n",
       " 'subbing',\n",
       " 'somone',\n",
       " 'Mog',\n",
       " 'unevenly',\n",
       " 'HUH',\n",
       " 'superstation',\n",
       " 'Nanouk',\n",
       " 'recipient',\n",
       " 'Thanksgivings',\n",
       " 'photons',\n",
       " 'Handbasket',\n",
       " 'Gu',\n",
       " 'Kitten',\n",
       " 'choreographic',\n",
       " 'privately',\n",
       " 'Madrid',\n",
       " 'Skittles',\n",
       " 'Tyrannous',\n",
       " 'Nanni',\n",
       " 'Eggleston',\n",
       " 'militarist',\n",
       " 'deter',\n",
       " 'Oja',\n",
       " 'Moslem',\n",
       " 'misogamist',\n",
       " 'ingratiate',\n",
       " 'crewmember',\n",
       " 'ametuer',\n",
       " 'capitulate',\n",
       " 'Rickman',\n",
       " 'stapes',\n",
       " 'Undeniably',\n",
       " 'pessimistic',\n",
       " 'linage',\n",
       " 'gospel',\n",
       " 'speeders',\n",
       " 'GONY',\n",
       " 'vagabonds',\n",
       " 'PAST',\n",
       " 'spreader',\n",
       " 'bequeathed',\n",
       " 'Michiko',\n",
       " 'housekeeping',\n",
       " 'horrorfest',\n",
       " 'Hopa',\n",
       " 'creative',\n",
       " 'crisping',\n",
       " 'carmela',\n",
       " 'forefathers',\n",
       " 'Micki',\n",
       " 'replacing',\n",
       " 'empowers',\n",
       " 'apprehend',\n",
       " 'mensonges',\n",
       " 'improper',\n",
       " 'bungles',\n",
       " 'gearheads',\n",
       " 'woot',\n",
       " 'reject',\n",
       " 'uncovers',\n",
       " 'PAL',\n",
       " 'Hiltz',\n",
       " 'Royals',\n",
       " 'HotD',\n",
       " 'approve',\n",
       " 'lose',\n",
       " 'firemen',\n",
       " 'nervousness',\n",
       " 'exoticism',\n",
       " 'craftsmen',\n",
       " 'Nakatomi',\n",
       " 'simular',\n",
       " 'pornographic',\n",
       " 'fatality',\n",
       " 'Rhymes',\n",
       " 'Arthur',\n",
       " 'radars',\n",
       " 'signing',\n",
       " 'beaus',\n",
       " 'Breach',\n",
       " 'Anji',\n",
       " 'PHILADELPHIA',\n",
       " 'Feist',\n",
       " 'treasury',\n",
       " 'resentment',\n",
       " 'dragooned',\n",
       " 'Apollonian',\n",
       " 'tenderer',\n",
       " 'Florence',\n",
       " 'Dreadcentral',\n",
       " 'Stanislav',\n",
       " 'words_',\n",
       " 'inverting',\n",
       " 'visit',\n",
       " 'dick',\n",
       " 'Shemekia',\n",
       " 'bloodbath',\n",
       " 'Tenuta',\n",
       " 'Dundees',\n",
       " 'Flavor',\n",
       " 'Vestron',\n",
       " 'zing',\n",
       " 'Truly',\n",
       " 'GreenCine',\n",
       " 'Immensely',\n",
       " 'unabashed',\n",
       " 'strangeness',\n",
       " 'returning',\n",
       " 'sutdying',\n",
       " 'poking',\n",
       " 'Davitelj',\n",
       " 'existed',\n",
       " 'Neorealism',\n",
       " 'Lights',\n",
       " 'TLB',\n",
       " 'Anger',\n",
       " 'Straight',\n",
       " 'Disneys',\n",
       " 'Woods',\n",
       " 'Ranyaldo',\n",
       " 'asesino',\n",
       " 'MDMA',\n",
       " '500db',\n",
       " 'talker',\n",
       " 'Corbomite',\n",
       " 'SW',\n",
       " 'disastor',\n",
       " 'Delirious',\n",
       " 'inexhaustible',\n",
       " 'MERMAIDS',\n",
       " 'Stuntman',\n",
       " 'butlers',\n",
       " 'Evangelion',\n",
       " 'Brewster',\n",
       " 'Pygmies',\n",
       " 'carapace',\n",
       " 'KOOK',\n",
       " 'piering',\n",
       " 'McVay',\n",
       " 'shelling',\n",
       " 'Type',\n",
       " 'Myra',\n",
       " 'Bascally',\n",
       " 'Megapack',\n",
       " 'wrongful',\n",
       " 'Pinciotti',\n",
       " 'Snart',\n",
       " 'clings',\n",
       " 'hombre',\n",
       " 'iterations',\n",
       " 'Expect',\n",
       " 'leadership',\n",
       " 'submarines',\n",
       " 'Blenheim',\n",
       " 'WENDINGO',\n",
       " 'Bahiyyaji',\n",
       " 'Catcus',\n",
       " 'lifeboat',\n",
       " 'Scientific',\n",
       " 'Yellin',\n",
       " 'jazz',\n",
       " 'predating',\n",
       " 'spookhouse',\n",
       " 'Mosquitoman',\n",
       " 'Schilling',\n",
       " 'Giovon',\n",
       " 'femininity',\n",
       " 'Milo',\n",
       " 'Cuoco',\n",
       " 'NT',\n",
       " 'Howser',\n",
       " 'catherine',\n",
       " 'SCARIEST',\n",
       " 'Lennier',\n",
       " 'amulet',\n",
       " 'Warsaw',\n",
       " 'blazing',\n",
       " 'git',\n",
       " 'woes',\n",
       " 'Keisha',\n",
       " 'weg',\n",
       " 'CUSTER',\n",
       " 'Portugal',\n",
       " 'skiing',\n",
       " 'Toyko',\n",
       " 'Pierpont',\n",
       " 'Ireally',\n",
       " 'Threadbare',\n",
       " 'ELIMINATION',\n",
       " 'CLEO',\n",
       " 'chew',\n",
       " 'vindictively',\n",
       " 'fired',\n",
       " 'associations',\n",
       " 'blustering',\n",
       " 'hateable',\n",
       " 'Buffa',\n",
       " 'minimums',\n",
       " 'policing',\n",
       " 'aving',\n",
       " 'antisemitic',\n",
       " 'Yung',\n",
       " 'Baloney',\n",
       " 'scrutinising',\n",
       " 'lippo',\n",
       " 'locale',\n",
       " 'Vimbley',\n",
       " 'UNTRUE',\n",
       " 'prescience',\n",
       " 'Rideau',\n",
       " 'adoptee',\n",
       " 'unchoreographed',\n",
       " 'CATALOGUE',\n",
       " 'Mukhsin',\n",
       " 'Truffaut',\n",
       " 'Concerned',\n",
       " 'cordiale',\n",
       " 'chore',\n",
       " 'Bûsu',\n",
       " 'praiseworthy',\n",
       " 'obscenely',\n",
       " 'Monte',\n",
       " 'wondrously',\n",
       " 'voiced',\n",
       " 'Ruban',\n",
       " 'Specialty',\n",
       " 'Erection',\n",
       " 'masted',\n",
       " 'LOAFERS',\n",
       " 'Atari',\n",
       " 'Berets',\n",
       " 'Onorati',\n",
       " '356',\n",
       " 'discomfited',\n",
       " 'blooms',\n",
       " 'Hastings',\n",
       " 'Hebrews',\n",
       " 'underutilized',\n",
       " '25s',\n",
       " 'Aymeric',\n",
       " 'magnified',\n",
       " 'overrunning',\n",
       " 'lumping',\n",
       " 'shockumenary',\n",
       " 'Renee',\n",
       " 'envelop',\n",
       " 'teenybopper',\n",
       " 'Debney',\n",
       " 'General',\n",
       " 'idylls',\n",
       " 'connoisseur',\n",
       " 'exacts',\n",
       " 'illustration',\n",
       " 'verdant',\n",
       " 'Combust',\n",
       " 'perdition',\n",
       " 'hill',\n",
       " 'Aristocracy',\n",
       " 'everpresent',\n",
       " 'Berkly',\n",
       " 'Sisyphean',\n",
       " 'bedder',\n",
       " 'SABU',\n",
       " 'NAKED',\n",
       " 'Shopgirl',\n",
       " 'Eder',\n",
       " 'HOUNDS',\n",
       " 'redheads',\n",
       " 'transcript',\n",
       " 'Malaysian',\n",
       " 'assay',\n",
       " 'Mazles',\n",
       " 'uptight',\n",
       " 'seated',\n",
       " 'Briss',\n",
       " 'Vuchella',\n",
       " 'panicky',\n",
       " 'Bucketfuls',\n",
       " 'diamond',\n",
       " 'Still',\n",
       " 'Dreamgirls',\n",
       " 'PT',\n",
       " 'devilry',\n",
       " 'supposed',\n",
       " 'happierabroad',\n",
       " 'persuasive',\n",
       " 'reverently',\n",
       " 'Skerritt',\n",
       " 'skimpier',\n",
       " 'Sherlyn',\n",
       " 'raspy',\n",
       " 'Hideous',\n",
       " 'oppressively',\n",
       " 'protegé',\n",
       " 'disbanding',\n",
       " 'Dagmar',\n",
       " 'parades',\n",
       " 'Strawberry22',\n",
       " 'bike',\n",
       " 'overcharged',\n",
       " 'mobster',\n",
       " 'PUBLIC',\n",
       " 'weakling',\n",
       " 'pioneering',\n",
       " 'IRIS',\n",
       " 'defecating',\n",
       " 'folowing',\n",
       " 'Sierra',\n",
       " 'snapping',\n",
       " 'steampunk',\n",
       " 'snowstorm',\n",
       " 'ans',\n",
       " 'teasing',\n",
       " 'conversions',\n",
       " 'LOVES',\n",
       " 'Metamorphis',\n",
       " 'Adamantium',\n",
       " 'Seuss',\n",
       " 'Fitch',\n",
       " 'majorly',\n",
       " 'flailing',\n",
       " 'Mridul',\n",
       " 'chills',\n",
       " 'waited',\n",
       " 'Cinders',\n",
       " 'perp',\n",
       " 'Ivanek',\n",
       " 'owning',\n",
       " 'Erotic',\n",
       " 'Atkinson',\n",
       " 'Modification',\n",
       " 'Sigmund',\n",
       " 'crusades',\n",
       " 'Galactica',\n",
       " 'endings',\n",
       " 'Duggan',\n",
       " 'Zeze',\n",
       " 'Canoe',\n",
       " 'undressed',\n",
       " 'scrape',\n",
       " 'jerked',\n",
       " 'NZ',\n",
       " 'slacks',\n",
       " 'MD',\n",
       " 'jostles',\n",
       " 'warrior',\n",
       " 'Boys',\n",
       " 'Degen',\n",
       " 'Colagrande',\n",
       " 'Cartland',\n",
       " 'illustrator',\n",
       " 'join',\n",
       " 'Piedgon',\n",
       " 'COSMIC',\n",
       " 'c1',\n",
       " 'banning',\n",
       " 'bypass',\n",
       " 'estrogen',\n",
       " 'sanitariums',\n",
       " 'Rize',\n",
       " 'Smashed',\n",
       " 'ayurvedic',\n",
       " 'Eifel',\n",
       " 'convergent',\n",
       " 'commonly',\n",
       " 'Boer',\n",
       " 'Omdurman',\n",
       " 'ruining',\n",
       " 'Dominici',\n",
       " 'levres',\n",
       " 'Cook',\n",
       " 'Winslett',\n",
       " 'Sherry',\n",
       " 'Verneuil',\n",
       " 'backwater',\n",
       " 'lauuughed',\n",
       " 'Sundown',\n",
       " 'handedly',\n",
       " 'Nobdy',\n",
       " 'savior',\n",
       " 'Anytime',\n",
       " 'winded',\n",
       " 'SPACE',\n",
       " 'Mandy',\n",
       " 'ruthless',\n",
       " 'Wad',\n",
       " 'interessant',\n",
       " 'specimen',\n",
       " 'Jusenkkyo',\n",
       " 'Livery',\n",
       " 'yammering',\n",
       " 'Vessela',\n",
       " 'Isabell',\n",
       " 'POUNDED',\n",
       " 'themselfs',\n",
       " 'unmask',\n",
       " 'Juliette',\n",
       " 'Tv',\n",
       " 'amendment',\n",
       " 'Servants',\n",
       " 'Arnies',\n",
       " 'equitable',\n",
       " 'erb',\n",
       " 'butt',\n",
       " 'Encounting',\n",
       " 'Cherub',\n",
       " 'Mohican',\n",
       " 'Dubliner',\n",
       " 'shotgunning',\n",
       " 'humaine',\n",
       " 'waay',\n",
       " 'Thatcher',\n",
       " 'emigrates',\n",
       " 'Partirdge',\n",
       " 'erosive',\n",
       " '20',\n",
       " 'dramtic',\n",
       " 'Insted',\n",
       " 'Crain',\n",
       " 'gluey',\n",
       " 'Lamy',\n",
       " 'towers',\n",
       " 'Delmar',\n",
       " 'avaricious',\n",
       " 'Dippie',\n",
       " 'antecedently',\n",
       " 'MLAATR',\n",
       " 'Blazkowicz',\n",
       " 'flue',\n",
       " 'Layer',\n",
       " 'Mahmoud',\n",
       " 'Croats',\n",
       " 'Friedman',\n",
       " 'Resolution',\n",
       " 'that_',\n",
       " 'sociopathy',\n",
       " 'Chevy',\n",
       " 'Lighting',\n",
       " 'RAN',\n",
       " 'Nataile',\n",
       " 'Webley',\n",
       " 'physicality',\n",
       " 'Janus',\n",
       " 'bended',\n",
       " 'equal',\n",
       " 'LWT',\n",
       " 'hoot',\n",
       " 'cuteness',\n",
       " 'tears',\n",
       " 'PEOPLE',\n",
       " 'intangibility',\n",
       " 'crapfest',\n",
       " 'fiving',\n",
       " 'consoles',\n",
       " 'royaly',\n",
       " 'Meri',\n",
       " 'uranium',\n",
       " 'HERETIC',\n",
       " 'Mazar',\n",
       " 'Soviets',\n",
       " 'cooking',\n",
       " 'individuals',\n",
       " 'tuna',\n",
       " 'Wendel',\n",
       " 'Rays',\n",
       " 'ZZ',\n",
       " 'prerequisites',\n",
       " 'hunter',\n",
       " 'oversupporting',\n",
       " '7ish',\n",
       " 'Piecing',\n",
       " 'volley',\n",
       " 'gravedigger',\n",
       " 'technical',\n",
       " 'banters',\n",
       " 'terriers',\n",
       " 'Venturer',\n",
       " 'communions',\n",
       " 'Ce',\n",
       " 'Maher',\n",
       " 'Negatives',\n",
       " 'Okay',\n",
       " 'trident',\n",
       " 'Turnbill',\n",
       " 'blasting',\n",
       " 'provocative',\n",
       " 'innocent',\n",
       " 'Proceedings',\n",
       " 'Memama',\n",
       " 'introductions',\n",
       " 'swipe',\n",
       " 'Cormans',\n",
       " 'deniable',\n",
       " 'insofar',\n",
       " 'cinemascope',\n",
       " 'Comparably',\n",
       " 'portended',\n",
       " '15s',\n",
       " 'Visnjic',\n",
       " 'Hinkley',\n",
       " 'continuous',\n",
       " 'gaming',\n",
       " 'leonard',\n",
       " 'Aankhen',\n",
       " 'Torme',\n",
       " 'Demonic',\n",
       " 'Everybody',\n",
       " 'wang',\n",
       " 'ADDICT',\n",
       " 'Benidict',\n",
       " 'spanish',\n",
       " 'posterior',\n",
       " 'Ki',\n",
       " 'Chaotic',\n",
       " 'Chains',\n",
       " 'lop',\n",
       " 'mariner',\n",
       " 'Piggy',\n",
       " 'plaid',\n",
       " 'Necromaniac',\n",
       " 'boor',\n",
       " 'harbour',\n",
       " 'Dever',\n",
       " 'Braley',\n",
       " 'RVDs',\n",
       " 'Readers',\n",
       " 'frazzled',\n",
       " 'Seeping',\n",
       " 'Kent',\n",
       " 'Dou',\n",
       " 'Crothers',\n",
       " 'coverings',\n",
       " 'Yippeeee',\n",
       " 'billowy',\n",
       " 'Spending',\n",
       " 'precedes',\n",
       " 'PPL',\n",
       " 'million',\n",
       " 'Slew',\n",
       " 'subtexts',\n",
       " 'meantime',\n",
       " 'blabbermouth',\n",
       " 'producer',\n",
       " 'Mraovich',\n",
       " 'Merit',\n",
       " 'altruism',\n",
       " 'Nikolaus',\n",
       " 'Rascals',\n",
       " 'fabricated',\n",
       " 'Hilmir',\n",
       " 'Brommell',\n",
       " 'contraption',\n",
       " 'impulsive',\n",
       " 'CMT',\n",
       " 'trait',\n",
       " 'calf',\n",
       " 'Aoki',\n",
       " 'reunions',\n",
       " 'Stayin',\n",
       " 'interconnectedness',\n",
       " 'Aleksandar',\n",
       " 'Camille',\n",
       " 'grey',\n",
       " 'Sado',\n",
       " 'beckoning',\n",
       " 'ejaculations',\n",
       " 'Dewames',\n",
       " 'Herbie',\n",
       " 'Neat',\n",
       " 'kywildflower16',\n",
       " ...}"
      ]
     },
     "execution_count": 28,
     "metadata": {},
     "output_type": "execute_result"
    }
   ],
   "source": [
    "vocabulary_set"
   ]
  },
  {
   "cell_type": "code",
   "execution_count": 29,
   "metadata": {
    "id": "ZHtU4eg8QRcj",
    "outputId": "7320f0da-3ae5-4c8c-a086-368bcf68e6e3"
   },
   "outputs": [
    {
     "data": {
      "text/plain": [
       "set"
      ]
     },
     "execution_count": 29,
     "metadata": {},
     "output_type": "execute_result"
    }
   ],
   "source": [
    "type(vocabulary_set)"
   ]
  },
  {
   "cell_type": "code",
   "execution_count": 30,
   "metadata": {
    "id": "DfQF-WKSQRcj",
    "outputId": "52f8e07d-b739-4b79-e7c6-5ee87f4f8189"
   },
   "outputs": [
    {
     "data": {
      "text/plain": [
       "93929"
      ]
     },
     "execution_count": 30,
     "metadata": {},
     "output_type": "execute_result"
    }
   ],
   "source": [
    "len(vocabulary_set)"
   ]
  },
  {
   "cell_type": "code",
   "execution_count": 31,
   "metadata": {
    "id": "Ijli7_ZhQRcj",
    "outputId": "4f366e25-180a-41d8-c072-b99142f633ff"
   },
   "outputs": [
    {
     "data": {
      "text/plain": [
       "2525"
      ]
     },
     "execution_count": 31,
     "metadata": {},
     "output_type": "execute_result"
    }
   ],
   "source": [
    "MAX_TOKENS"
   ]
  },
  {
   "cell_type": "markdown",
   "metadata": {
    "id": "p12o1OavQRcj"
   },
   "source": [
    "## Text Encoding "
   ]
  },
  {
   "cell_type": "code",
   "execution_count": 34,
   "metadata": {
    "id": "XYrey70FQRcj"
   },
   "outputs": [],
   "source": [
    "encoder = tfds.deprecated.text.TokenTextEncoder(vocabulary_set,tokenizer=tokenizer)"
   ]
  },
  {
   "cell_type": "code",
   "execution_count": 35,
   "metadata": {
    "id": "os1LYjw5QRck",
    "outputId": "43efbf51-ef49-4290-8334-891939492c13"
   },
   "outputs": [
    {
     "name": "stdout",
     "output_type": "stream",
     "text": [
      "Encoded string is [9976, 62253, 60063, 93870, 82557]\n",
      "The original string: \"Hello Dear How are you\"\n"
     ]
    }
   ],
   "source": [
    "sample_string = 'Hello Dear How are you .'\n",
    "\n",
    "encoded_string = encoder.encode(sample_string)\n",
    "print('Encoded string is {}'.format(encoded_string))\n",
    "\n",
    "original_string = encoder.decode(encoded_string)\n",
    "print('The original string: \"{}\"'.format(original_string))"
   ]
  },
  {
   "cell_type": "code",
   "execution_count": 37,
   "metadata": {
    "id": "V9RFz-GQQRck",
    "outputId": "e6cf6bbe-73d2-4195-e404-bf4520b9d5cc"
   },
   "outputs": [
    {
     "name": "stdout",
     "output_type": "stream",
     "text": [
      "93931 2525\n"
     ]
    }
   ],
   "source": [
    "imdb_encoder = tfds.deprecated.text.TokenTextEncoder(vocabulary_set,tokenizer=tokenizer)\n",
    "vocab_size = imdb_encoder.vocab_size\n",
    "\n",
    "print(vocab_size, MAX_TOKENS)"
   ]
  },
  {
   "cell_type": "code",
   "execution_count": null,
   "metadata": {
    "id": "YsuLDQF9QRck"
   },
   "outputs": [],
   "source": []
  },
  {
   "cell_type": "code",
   "execution_count": 38,
   "metadata": {
    "id": "UewKL0uRQRck",
    "outputId": "45fdadf3-3e3b-4765-acff-c77012528eb1",
    "scrolled": true
   },
   "outputs": [
    {
     "name": "stdout",
     "output_type": "stream",
     "text": [
      "tf.Tensor(b\"This was an absolutely terrible movie. Don't be lured in by Christopher Walken or Michael Ironside. Both are great actors, but this must simply be their worst role in history. Even their great acting could not redeem this movie's ridiculous storyline. This movie is an early nineties US propaganda piece. The most pathetic scenes were those when the Columbian rebels were making their cases for revolutions. Maria Conchita Alonso appeared phony, and her pseudo-love affair with Walken was nothing but a pathetic emotional plug in a movie that was devoid of any real meaning. I am disappointed that there are movies like this, ruining actor's like Christopher Walken's good name. I could barely sit through it.\", shape=(), dtype=string)\n"
     ]
    },
    {
     "name": "stderr",
     "output_type": "stream",
     "text": [
      "2023-06-21 10:38:57.925379: I tensorflow/core/common_runtime/executor.cc:1197] [/device:CPU:0] (DEBUG INFO) Executor start aborting (this does not indicate an error and you can ignore this message): INVALID_ARGUMENT: You must feed a value for placeholder tensor 'Placeholder/_4' with dtype int64 and shape [1]\n",
      "\t [[{{node Placeholder/_4}}]]\n",
      "2023-06-21 10:38:57.926133: I tensorflow/core/common_runtime/executor.cc:1197] [/device:CPU:0] (DEBUG INFO) Executor start aborting (this does not indicate an error and you can ignore this message): INVALID_ARGUMENT: You must feed a value for placeholder tensor 'Placeholder/_1' with dtype string and shape [1]\n",
      "\t [[{{node Placeholder/_1}}]]\n"
     ]
    }
   ],
   "source": [
    "# Lets verify tokenization and encoding works\n",
    "for example, label in imdb_train.take(1):\n",
    "    print(example)\n",
    "    encoded = imdb_encoder.encode(example.numpy())"
   ]
  },
  {
   "cell_type": "code",
   "execution_count": 39,
   "metadata": {
    "id": "FFeoarVJQRck",
    "outputId": "46df1522-c79a-4ec4-f27c-6184e0649f87"
   },
   "outputs": [
    {
     "data": {
      "text/plain": [
       "list"
      ]
     },
     "execution_count": 39,
     "metadata": {},
     "output_type": "execute_result"
    }
   ],
   "source": [
    "type(encoded)"
   ]
  },
  {
   "cell_type": "code",
   "execution_count": 40,
   "metadata": {
    "id": "LYf4fftcQRcl",
    "outputId": "d2821274-69bd-42fc-8473-4734a8779c4a"
   },
   "outputs": [
    {
     "data": {
      "text/plain": [
       "[46333,\n",
       " 51774,\n",
       " 23196,\n",
       " 60324,\n",
       " 76550,\n",
       " 54539,\n",
       " 91052,\n",
       " 49478,\n",
       " 33177,\n",
       " 87554,\n",
       " 89937,\n",
       " 5136,\n",
       " 8339,\n",
       " 62249,\n",
       " 23994,\n",
       " 77006,\n",
       " 30833,\n",
       " 19156,\n",
       " 93870,\n",
       " 57020,\n",
       " 10193,\n",
       " 40803,\n",
       " 33546,\n",
       " 24644,\n",
       " 73976,\n",
       " 33177,\n",
       " 1571,\n",
       " 32730,\n",
       " 87876,\n",
       " 89937,\n",
       " 83100,\n",
       " 36755,\n",
       " 1571,\n",
       " 57020,\n",
       " 78300,\n",
       " 56579,\n",
       " 58243,\n",
       " 85073,\n",
       " 33546,\n",
       " 54539,\n",
       " 47398,\n",
       " 92760,\n",
       " 73018,\n",
       " 46333,\n",
       " 54539,\n",
       " 89817,\n",
       " 23196,\n",
       " 15671,\n",
       " 62734,\n",
       " 74847,\n",
       " 20796,\n",
       " 1979,\n",
       " 32291,\n",
       " 18691,\n",
       " 74852,\n",
       " 8117,\n",
       " 77584,\n",
       " 73730,\n",
       " 34150,\n",
       " 81635,\n",
       " 8780,\n",
       " 22402,\n",
       " 77584,\n",
       " 30752,\n",
       " 1571,\n",
       " 1244,\n",
       " 52281,\n",
       " 81601,\n",
       " 38633,\n",
       " 20516,\n",
       " 77198,\n",
       " 88468,\n",
       " 42630,\n",
       " 42597,\n",
       " 31247,\n",
       " 8112,\n",
       " 5360,\n",
       " 77841,\n",
       " 46566,\n",
       " 62249,\n",
       " 51774,\n",
       " 12806,\n",
       " 40803,\n",
       " 64177,\n",
       " 74852,\n",
       " 3957,\n",
       " 26076,\n",
       " 89937,\n",
       " 64177,\n",
       " 54539,\n",
       " 21108,\n",
       " 51774,\n",
       " 55225,\n",
       " 17860,\n",
       " 14881,\n",
       " 75193,\n",
       " 20652,\n",
       " 64021,\n",
       " 68509,\n",
       " 74313,\n",
       " 21108,\n",
       " 38581,\n",
       " 93870,\n",
       " 92302,\n",
       " 11755,\n",
       " 33546,\n",
       " 798,\n",
       " 81865,\n",
       " 47398,\n",
       " 11755,\n",
       " 8339,\n",
       " 62249,\n",
       " 47398,\n",
       " 16762,\n",
       " 24321,\n",
       " 64021,\n",
       " 56579,\n",
       " 39323,\n",
       " 80048,\n",
       " 4043,\n",
       " 73183]"
      ]
     },
     "execution_count": 40,
     "metadata": {},
     "output_type": "execute_result"
    }
   ],
   "source": [
    "encoded"
   ]
  },
  {
   "cell_type": "code",
   "execution_count": 41,
   "metadata": {
    "id": "bcbQbCh3QRcl",
    "outputId": "dc6d16b4-af8d-48e2-9091-35520e2a58ce"
   },
   "outputs": [
    {
     "name": "stdout",
     "output_type": "stream",
     "text": [
      "This was an absolutely terrible movie Don t be lured in by Christopher Walken or Michael Ironside Both are great actors but this must simply be their worst role in history Even their great acting could not redeem this movie s ridiculous storyline This movie is an early nineties US propaganda piece The most pathetic scenes were those when the Columbian rebels were making their cases for revolutions Maria Conchita Alonso appeared phony and her pseudo love affair with Walken was nothing but a pathetic emotional plug in a movie that was devoid of any real meaning I am disappointed that there are movies like this ruining actor s like Christopher Walken s good name I could barely sit through it\n"
     ]
    }
   ],
   "source": [
    "# Lets verify tokenization and encoding works\n",
    "print(imdb_encoder.decode(encoded))"
   ]
  },
  {
   "cell_type": "code",
   "execution_count": 42,
   "metadata": {
    "id": "aKM15M2wQRcl",
    "outputId": "705243ec-cee9-4c0a-d891-87b6f6a0720e"
   },
   "outputs": [
    {
     "name": "stdout",
     "output_type": "stream",
     "text": [
      "tf.Tensor(b\"This was an absolutely terrible movie. Don't be lured in by Christopher Walken or Michael Ironside. Both are great actors, but this must simply be their worst role in history. Even their great acting could not redeem this movie's ridiculous storyline. This movie is an early nineties US propaganda piece. The most pathetic scenes were those when the Columbian rebels were making their cases for revolutions. Maria Conchita Alonso appeared phony, and her pseudo-love affair with Walken was nothing but a pathetic emotional plug in a movie that was devoid of any real meaning. I am disappointed that there are movies like this, ruining actor's like Christopher Walken's good name. I could barely sit through it.\", shape=(), dtype=string)\n"
     ]
    },
    {
     "name": "stderr",
     "output_type": "stream",
     "text": [
      "2023-06-21 10:39:10.138379: I tensorflow/core/common_runtime/executor.cc:1197] [/device:CPU:0] (DEBUG INFO) Executor start aborting (this does not indicate an error and you can ignore this message): INVALID_ARGUMENT: You must feed a value for placeholder tensor 'Placeholder/_1' with dtype string and shape [1]\n",
      "\t [[{{node Placeholder/_1}}]]\n",
      "2023-06-21 10:39:10.139019: I tensorflow/core/common_runtime/executor.cc:1197] [/device:CPU:0] (DEBUG INFO) Executor start aborting (this does not indicate an error and you can ignore this message): INVALID_ARGUMENT: You must feed a value for placeholder tensor 'Placeholder/_1' with dtype string and shape [1]\n",
      "\t [[{{node Placeholder/_1}}]]\n"
     ]
    }
   ],
   "source": [
    "# Lets verify tokenization and encoding works\n",
    "for example, label in imdb_train.take(1):\n",
    "    print(example)\n",
    "    \n",
    "    encoded = imdb_encoder.encode(example.numpy())\n",
    "    #print(imdb_encoder.decode(encoded))"
   ]
  },
  {
   "cell_type": "markdown",
   "metadata": {
    "id": "-SCoklPvQRcl"
   },
   "source": [
    "# transformation ==> Padding "
   ]
  },
  {
   "cell_type": "code",
   "execution_count": 43,
   "metadata": {
    "id": "HGzCy7ohQRcl"
   },
   "outputs": [],
   "source": [
    "# transformation fucntions to be used with the dataset\n",
    "from tensorflow.keras.preprocessing import sequence\n",
    "\n",
    "def encode_pad_transform(sample):\n",
    "    encoded = imdb_encoder.encode(sample.numpy())\n",
    "    pad = sequence.pad_sequences([encoded], padding='post',maxlen=150)\n",
    "    return np.array(pad[0], dtype=np.int64)  \n",
    "\n",
    "def encode_tf_fn(sample, label):\n",
    "    encoded = tf.py_function(encode_pad_transform,inp=[sample],Tout=(tf.int64))\n",
    "    encoded.set_shape([None])\n",
    "    label.set_shape([])\n",
    "    return encoded, label"
   ]
  },
  {
   "cell_type": "code",
   "execution_count": 44,
   "metadata": {
    "id": "sriDshW6QRcl"
   },
   "outputs": [],
   "source": [
    "# test the transformation on a small subset\n",
    "subset = imdb_train.take(10)\n",
    "tst = subset.map(encode_tf_fn)"
   ]
  },
  {
   "cell_type": "code",
   "execution_count": 45,
   "metadata": {
    "id": "MOUaj0J1QRcm",
    "outputId": "3207ab78-1915-4def-c4d3-c8add3f26c84"
   },
   "outputs": [
    {
     "data": {
      "text/plain": [
       "tensorflow.python.data.ops.map_op._MapDataset"
      ]
     },
     "execution_count": 45,
     "metadata": {},
     "output_type": "execute_result"
    }
   ],
   "source": [
    "type(tst)"
   ]
  },
  {
   "cell_type": "code",
   "execution_count": 46,
   "metadata": {
    "id": "lL0GbptZQRcm",
    "outputId": "69843a11-c9bd-4d4f-eb75-e3350fd2802b"
   },
   "outputs": [
    {
     "data": {
      "text/plain": [
       "<_MapDataset element_spec=(TensorSpec(shape=(None,), dtype=tf.int64, name=None), TensorSpec(shape=(), dtype=tf.int64, name=None))>"
      ]
     },
     "execution_count": 46,
     "metadata": {},
     "output_type": "execute_result"
    }
   ],
   "source": [
    "tst"
   ]
  },
  {
   "cell_type": "code",
   "execution_count": 47,
   "metadata": {
    "id": "-wf3R2KmQRcm",
    "outputId": "b196e3fd-5c17-4621-f822-b0e8666a1dfb",
    "scrolled": false
   },
   "outputs": [
    {
     "name": "stdout",
     "output_type": "stream",
     "text": [
      "tf.Tensor(\n",
      "[46333 51774 23196 60324 76550 54539 91052 49478 33177 87554 89937  5136\n",
      "  8339 62249 23994 77006 30833 19156 93870 57020 10193 40803 33546 24644\n",
      " 73976 33177  1571 32730 87876 89937 83100 36755  1571 57020 78300 56579\n",
      " 58243 85073 33546 54539 47398 92760 73018 46333 54539 89817 23196 15671\n",
      " 62734 74847 20796  1979 32291 18691 74852  8117 77584 73730 34150 81635\n",
      "  8780 22402 77584 30752  1571  1244 52281 81601 38633 20516 77198 88468\n",
      " 42630 42597 31247  8112  5360 77841 46566 62249 51774 12806 40803 64177\n",
      " 74852  3957 26076 89937 64177 54539 21108 51774 55225 17860 14881 75193\n",
      " 20652 64021 68509 74313 21108 38581 93870 92302 11755 33546   798 81865\n",
      " 47398 11755  8339 62249 47398 16762 24321 64021 56579 39323 80048  4043\n",
      " 73183     0     0     0     0     0     0     0     0     0     0     0\n",
      "     0     0     0     0     0     0     0     0     0     0     0     0\n",
      "     0     0     0     0     0     0], shape=(150,), dtype=int64) \n",
      " tf.Tensor(0, shape=(), dtype=int64)\n",
      "This was an absolutely terrible movie Don t be lured in by Christopher Walken or Michael Ironside Both are great actors but this must simply be their worst role in history Even their great acting could not redeem this movie s ridiculous storyline This movie is an early nineties US propaganda piece The most pathetic scenes were those when the Columbian rebels were making their cases for revolutions Maria Conchita Alonso appeared phony and her pseudo love affair with Walken was nothing but a pathetic emotional plug in a movie that was devoid of any real meaning I am disappointed that there are movies like this ruining actor s like Christopher Walken s good name I could barely sit through it\n"
     ]
    },
    {
     "name": "stderr",
     "output_type": "stream",
     "text": [
      "2023-06-21 10:39:22.423178: I tensorflow/core/common_runtime/executor.cc:1197] [/device:CPU:0] (DEBUG INFO) Executor start aborting (this does not indicate an error and you can ignore this message): INVALID_ARGUMENT: You must feed a value for placeholder tensor 'Placeholder/_0' with dtype string and shape [1]\n",
      "\t [[{{node Placeholder/_0}}]]\n",
      "2023-06-21 10:39:22.423977: I tensorflow/core/common_runtime/executor.cc:1197] [/device:CPU:0] (DEBUG INFO) Executor start aborting (this does not indicate an error and you can ignore this message): INVALID_ARGUMENT: You must feed a value for placeholder tensor 'Placeholder/_4' with dtype int64 and shape [1]\n",
      "\t [[{{node Placeholder/_4}}]]\n"
     ]
    }
   ],
   "source": [
    "for review, label in tst.take(1):\n",
    "    print(review,\"\\n\",label)\n",
    "    print(imdb_encoder.decode(review))"
   ]
  },
  {
   "cell_type": "code",
   "execution_count": 48,
   "metadata": {
    "id": "pfhPT8zfQRcm"
   },
   "outputs": [],
   "source": [
    "#now tokenize/encode/pad all training\n",
    "# and testing data\n",
    "encoded_train = imdb_train.map(encode_tf_fn,num_parallel_calls=tf.data.experimental.AUTOTUNE)\n",
    "encoded_test = imdb_test.map(encode_tf_fn,num_parallel_calls=tf.data.experimental.AUTOTUNE)"
   ]
  },
  {
   "cell_type": "markdown",
   "metadata": {
    "id": "0Vr8DmdsQRc4"
   },
   "source": [
    "## Preparing the model"
   ]
  },
  {
   "cell_type": "code",
   "execution_count": 49,
   "metadata": {
    "id": "8Rq-y17qQRc5"
   },
   "outputs": [],
   "source": [
    "# Length of the vocabulary in chars\n",
    "vocab_size = imdb_encoder.vocab_size # len(chars)\n",
    "\n",
    "# The embedding dimension\n",
    "embedding_dim = 64\n",
    "\n",
    "# Number of RNN units , Positive integer, dimensionality of the output space.\n",
    "rnn_units = 64\n",
    "\n",
    "#batch size\n",
    "BATCH_SIZE=100"
   ]
  },
  {
   "cell_type": "code",
   "execution_count": 50,
   "metadata": {
    "id": "to16o5k-QRc5"
   },
   "outputs": [],
   "source": [
    "def build_model_lstm(vocab_size, embedding_dim, rnn_units, batch_size):\n",
    "  model = tf.keras.Sequential([\n",
    "    tf.keras.layers.Embedding(vocab_size, embedding_dim, mask_zero=True,batch_input_shape=[batch_size, None]),\n",
    "    tf.keras.layers.LSTM(rnn_units),\n",
    "    tf.keras.layers.Dense(1, activation='sigmoid')\n",
    "  ])\n",
    "  return model\n"
   ]
  },
  {
   "cell_type": "code",
   "execution_count": 51,
   "metadata": {
    "id": "dY--3W0eQRc5",
    "outputId": "85008f34-333a-4377-92a8-44265fb7cf29",
    "scrolled": true
   },
   "outputs": [
    {
     "name": "stdout",
     "output_type": "stream",
     "text": [
      "Model: \"sequential\"\n",
      "_________________________________________________________________\n",
      " Layer (type)                Output Shape              Param #   \n",
      "=================================================================\n",
      " embedding (Embedding)       (100, None, 64)           6011584   \n",
      "                                                                 \n",
      " lstm (LSTM)                 (100, 64)                 33024     \n",
      "                                                                 \n",
      " dense (Dense)               (100, 1)                  65        \n",
      "                                                                 \n",
      "=================================================================\n",
      "Total params: 6,044,673\n",
      "Trainable params: 6,044,673\n",
      "Non-trainable params: 0\n",
      "_________________________________________________________________\n"
     ]
    }
   ],
   "source": [
    "model = build_model_lstm(vocab_size = vocab_size, embedding_dim=embedding_dim,\n",
    "                          rnn_units=rnn_units,batch_size=BATCH_SIZE)\n",
    "model.summary()"
   ]
  },
  {
   "cell_type": "code",
   "execution_count": 53,
   "metadata": {
    "id": "egsPyZJOQRc5"
   },
   "outputs": [
    {
     "name": "stdout",
     "output_type": "stream",
     "text": [
      "WARNING:tensorflow:Compiled the loaded model, but the compiled metrics have yet to be built. `model.compile_metrics` will be empty until you train or evaluate the model.\n"
     ]
    },
    {
     "name": "stderr",
     "output_type": "stream",
     "text": [
      "WARNING:tensorflow:Compiled the loaded model, but the compiled metrics have yet to be built. `model.compile_metrics` will be empty until you train or evaluate the model.\n"
     ]
    }
   ],
   "source": [
    "model.save('model.h5')"
   ]
  },
  {
   "cell_type": "code",
   "execution_count": 54,
   "metadata": {
    "id": "-ZmN-zcbQRc5"
   },
   "outputs": [],
   "source": [
    "model.compile(loss='binary_crossentropy', optimizer='adam',metrics=['accuracy', 'Precision', 'Recall'])"
   ]
  },
  {
   "cell_type": "markdown",
   "metadata": {
    "id": "79W9dSgFQRc6"
   },
   "source": [
    "## Model Training and Evaluation"
   ]
  },
  {
   "cell_type": "code",
   "execution_count": 55,
   "metadata": {
    "id": "Z1fPjBxqQRc6"
   },
   "outputs": [],
   "source": [
    "# Prefetch for performance\n",
    "encoded_train_batched = encoded_train.batch(BATCH_SIZE).prefetch(100)"
   ]
  },
  {
   "cell_type": "code",
   "execution_count": 56,
   "metadata": {
    "id": "CfZ77ME9QRc6",
    "outputId": "0555fe2a-9e11-4ed6-a8d4-a64d03cbfa97"
   },
   "outputs": [
    {
     "name": "stdout",
     "output_type": "stream",
     "text": [
      "Epoch 1/10\n"
     ]
    },
    {
     "name": "stderr",
     "output_type": "stream",
     "text": [
      "2023-06-21 10:40:13.191646: I tensorflow/core/common_runtime/executor.cc:1197] [/device:CPU:0] (DEBUG INFO) Executor start aborting (this does not indicate an error and you can ignore this message): INVALID_ARGUMENT: You must feed a value for placeholder tensor 'Placeholder/_3' with dtype int64 and shape [1]\n",
      "\t [[{{node Placeholder/_3}}]]\n",
      "2023-06-21 10:40:13.192496: I tensorflow/core/common_runtime/executor.cc:1197] [/device:CPU:0] (DEBUG INFO) Executor start aborting (this does not indicate an error and you can ignore this message): INVALID_ARGUMENT: You must feed a value for placeholder tensor 'Placeholder/_3' with dtype int64 and shape [1]\n",
      "\t [[{{node Placeholder/_3}}]]\n"
     ]
    },
    {
     "name": "stdout",
     "output_type": "stream",
     "text": [
      "250/250 [==============================] - 37s 135ms/step - loss: 0.4107 - accuracy: 0.8037 - precision: 0.7864 - recall: 0.8338\n",
      "Epoch 2/10\n",
      "250/250 [==============================] - 36s 145ms/step - loss: 0.1689 - accuracy: 0.9391 - precision: 0.9399 - recall: 0.9382\n",
      "Epoch 3/10\n",
      "250/250 [==============================] - 34s 137ms/step - loss: 0.1057 - accuracy: 0.9654 - precision: 0.9678 - recall: 0.9628\n",
      "Epoch 4/10\n",
      "250/250 [==============================] - 34s 134ms/step - loss: 0.0944 - accuracy: 0.9665 - precision: 0.9678 - recall: 0.9651\n",
      "Epoch 5/10\n",
      "250/250 [==============================] - 34s 135ms/step - loss: 0.0469 - accuracy: 0.9846 - precision: 0.9849 - recall: 0.9842\n",
      "Epoch 6/10\n",
      "250/250 [==============================] - 34s 134ms/step - loss: 0.0347 - accuracy: 0.9892 - precision: 0.9899 - recall: 0.9886\n",
      "Epoch 7/10\n",
      "250/250 [==============================] - 34s 135ms/step - loss: 0.0272 - accuracy: 0.9916 - precision: 0.9911 - recall: 0.9920\n",
      "Epoch 8/10\n",
      "250/250 [==============================] - 34s 134ms/step - loss: 0.0365 - accuracy: 0.9877 - precision: 0.9868 - recall: 0.9886\n",
      "Epoch 9/10\n",
      "250/250 [==============================] - 34s 136ms/step - loss: 0.0287 - accuracy: 0.9912 - precision: 0.9926 - recall: 0.9898\n",
      "Epoch 10/10\n",
      "250/250 [==============================] - 34s 135ms/step - loss: 0.0165 - accuracy: 0.9952 - precision: 0.9954 - recall: 0.9949\n"
     ]
    },
    {
     "data": {
      "text/plain": [
       "<keras.callbacks.History at 0x7f4ddcd02260>"
      ]
     },
     "execution_count": 56,
     "metadata": {},
     "output_type": "execute_result"
    }
   ],
   "source": [
    "model.fit(encoded_train.batch(BATCH_SIZE), epochs=10)"
   ]
  },
  {
   "cell_type": "code",
   "execution_count": 57,
   "metadata": {
    "id": "_yzlpLW9QRc6",
    "outputId": "304ce15f-62c6-4c6b-dac5-4a811fc60992"
   },
   "outputs": [
    {
     "name": "stdout",
     "output_type": "stream",
     "text": [
      "Epoch 1/10\n"
     ]
    },
    {
     "name": "stderr",
     "output_type": "stream",
     "text": [
      "2023-06-21 10:46:02.109025: I tensorflow/core/common_runtime/executor.cc:1197] [/device:CPU:0] (DEBUG INFO) Executor start aborting (this does not indicate an error and you can ignore this message): INVALID_ARGUMENT: You must feed a value for placeholder tensor 'Placeholder/_4' with dtype int64 and shape [1]\n",
      "\t [[{{node Placeholder/_4}}]]\n",
      "2023-06-21 10:46:02.109532: I tensorflow/core/common_runtime/executor.cc:1197] [/device:CPU:0] (DEBUG INFO) Executor start aborting (this does not indicate an error and you can ignore this message): INVALID_ARGUMENT: You must feed a value for placeholder tensor 'Placeholder/_0' with dtype string and shape [1]\n",
      "\t [[{{node Placeholder/_0}}]]\n"
     ]
    },
    {
     "name": "stdout",
     "output_type": "stream",
     "text": [
      "250/250 [==============================] - 35s 140ms/step - loss: 0.0113 - accuracy: 0.9972 - precision: 0.9969 - recall: 0.9974\n",
      "Epoch 2/10\n",
      "250/250 [==============================] - 35s 140ms/step - loss: 0.0086 - accuracy: 0.9977 - precision: 0.9977 - recall: 0.9977\n",
      "Epoch 3/10\n",
      "250/250 [==============================] - 36s 142ms/step - loss: 0.0111 - accuracy: 0.9970 - precision: 0.9970 - recall: 0.9970\n",
      "Epoch 4/10\n",
      "250/250 [==============================] - 35s 140ms/step - loss: 0.0160 - accuracy: 0.9947 - precision: 0.9944 - recall: 0.9950\n",
      "Epoch 5/10\n",
      "250/250 [==============================] - 35s 138ms/step - loss: 0.0160 - accuracy: 0.9952 - precision: 0.9942 - recall: 0.9962\n",
      "Epoch 6/10\n",
      "250/250 [==============================] - 35s 138ms/step - loss: 0.0165 - accuracy: 0.9946 - precision: 0.9942 - recall: 0.9951\n",
      "Epoch 7/10\n",
      "250/250 [==============================] - 35s 140ms/step - loss: 0.0046 - accuracy: 0.9987 - precision: 0.9987 - recall: 0.9987\n",
      "Epoch 8/10\n",
      "250/250 [==============================] - 36s 144ms/step - loss: 7.9828e-04 - accuracy: 0.9998 - precision: 0.9998 - recall: 0.9999\n",
      "Epoch 9/10\n",
      "250/250 [==============================] - 36s 145ms/step - loss: 1.3523e-04 - accuracy: 1.0000 - precision: 1.0000 - recall: 1.0000\n",
      "Epoch 10/10\n",
      "250/250 [==============================] - 36s 144ms/step - loss: 7.6575e-05 - accuracy: 1.0000 - precision: 1.0000 - recall: 1.0000\n"
     ]
    }
   ],
   "source": [
    "history=model.fit(encoded_train.batch(BATCH_SIZE), epochs=10)"
   ]
  },
  {
   "cell_type": "code",
   "execution_count": 58,
   "metadata": {
    "id": "gq2HSUq3QRc6",
    "outputId": "ec8f4d3d-bed0-4637-8e17-7db76b4624f6",
    "scrolled": false
   },
   "outputs": [
    {
     "name": "stderr",
     "output_type": "stream",
     "text": [
      "2023-06-21 10:51:55.967097: I tensorflow/core/common_runtime/executor.cc:1197] [/device:CPU:0] (DEBUG INFO) Executor start aborting (this does not indicate an error and you can ignore this message): INVALID_ARGUMENT: You must feed a value for placeholder tensor 'Placeholder/_4' with dtype int64 and shape [1]\n",
      "\t [[{{node Placeholder/_4}}]]\n",
      "2023-06-21 10:51:55.967554: I tensorflow/core/common_runtime/executor.cc:1197] [/device:CPU:0] (DEBUG INFO) Executor start aborting (this does not indicate an error and you can ignore this message): INVALID_ARGUMENT: You must feed a value for placeholder tensor 'Placeholder/_0' with dtype string and shape [1]\n",
      "\t [[{{node Placeholder/_0}}]]\n"
     ]
    },
    {
     "name": "stdout",
     "output_type": "stream",
     "text": [
      "250/250 [==============================] - 22s 84ms/step - loss: 1.3239 - accuracy: 0.8298 - precision: 0.8436 - recall: 0.8098\n"
     ]
    }
   ],
   "source": [
    "results=model.evaluate(encoded_test.batch(BATCH_SIZE))"
   ]
  },
  {
   "cell_type": "code",
   "execution_count": 59,
   "metadata": {
    "id": "M7yOd236QRc6"
   },
   "outputs": [],
   "source": [
    "loss = results[0]\n",
    "accuracy = results[1]\n",
    "precision= results[2]\n",
    "recall= results[3]"
   ]
  },
  {
   "cell_type": "code",
   "execution_count": 60,
   "metadata": {
    "id": "X_QWK0uBQRc7",
    "outputId": "eaff49cf-e69a-46b3-ca0f-599eb8db3845"
   },
   "outputs": [
    {
     "data": {
      "text/plain": [
       "[1.3239480257034302, 0.829800009727478, 0.8435702919960022, 0.8097599744796753]"
      ]
     },
     "execution_count": 60,
     "metadata": {},
     "output_type": "execute_result"
    }
   ],
   "source": [
    "results"
   ]
  },
  {
   "cell_type": "code",
   "execution_count": 61,
   "metadata": {
    "id": "frVParlSQRc7",
    "outputId": "aa5d3b1f-d81f-4b13-fc9d-9ecdda6f42eb"
   },
   "outputs": [
    {
     "name": "stdout",
     "output_type": "stream",
     "text": [
      "dict_keys(['loss', 'accuracy', 'precision', 'recall'])\n"
     ]
    }
   ],
   "source": [
    "print(history.history.keys())"
   ]
  },
  {
   "cell_type": "code",
   "execution_count": 62,
   "metadata": {
    "id": "SkabJ3AjQRc7",
    "outputId": "dd2e1fe9-53ac-407d-ea05-e1315ea29a42"
   },
   "outputs": [
    {
     "data": {
      "text/plain": [
       "{'loss': [0.011332236230373383,\n",
       "  0.008593997918069363,\n",
       "  0.011148042976856232,\n",
       "  0.015982510522007942,\n",
       "  0.016021283343434334,\n",
       "  0.016521524637937546,\n",
       "  0.0046188710257411,\n",
       "  0.0007982790120877326,\n",
       "  0.0001352348772343248,\n",
       "  7.657507376279682e-05],\n",
       " 'accuracy': [0.997160017490387,\n",
       "  0.9976800084114075,\n",
       "  0.9969599843025208,\n",
       "  0.9947199821472168,\n",
       "  0.995199978351593,\n",
       "  0.9946399927139282,\n",
       "  0.9987199902534485,\n",
       "  0.9998400211334229,\n",
       "  1.0,\n",
       "  1.0],\n",
       " 'precision': [0.9968817234039307,\n",
       "  0.9976800084114075,\n",
       "  0.9969599843025208,\n",
       "  0.994403600692749,\n",
       "  0.9941720962524414,\n",
       "  0.9941655993461609,\n",
       "  0.9987199902534485,\n",
       "  0.9997600317001343,\n",
       "  1.0,\n",
       "  1.0],\n",
       " 'recall': [0.997439980506897,\n",
       "  0.9976800084114075,\n",
       "  0.9969599843025208,\n",
       "  0.9950399994850159,\n",
       "  0.9962400197982788,\n",
       "  0.9951199889183044,\n",
       "  0.9987199902534485,\n",
       "  0.9999200105667114,\n",
       "  1.0,\n",
       "  1.0]}"
      ]
     },
     "execution_count": 62,
     "metadata": {},
     "output_type": "execute_result"
    }
   ],
   "source": [
    "history.history"
   ]
  },
  {
   "cell_type": "code",
   "execution_count": 63,
   "metadata": {
    "id": "SE9epDHhQRc7"
   },
   "outputs": [],
   "source": [
    "test_loss=history.history['loss']"
   ]
  },
  {
   "cell_type": "code",
   "execution_count": 64,
   "metadata": {
    "id": "iNdLniEwQRc7"
   },
   "outputs": [],
   "source": [
    "# train_loss = history.history['loss']\n",
    "# loss_val = history.history['val_loss']\n"
   ]
  },
  {
   "cell_type": "code",
   "execution_count": 65,
   "metadata": {
    "id": "LOZqvHPrQRc7",
    "outputId": "4706a9ba-8e71-4fd3-b6c4-e5d050b08df6"
   },
   "outputs": [
    {
     "data": {
      "image/png": "[encoded data removed]",
      "text/plain": [
       "<Figure size 640x480 with 1 Axes>"
      ]
     },
     "metadata": {},
     "output_type": "display_data"
    }
   ],
   "source": [
    "#pyplot.plot(train_loss, linewidth=3,label=\"train loss\")\n",
    "plt.plot(test_loss, linewidth=3, label=\"valid loss\")\n",
    "plt.grid()\n",
    "plt.legend()\n",
    "plt.xlabel(\"epoch\")\n",
    "plt.ylabel(\"loss\")\n",
    "plt.show()"
   ]
  },
  {
   "cell_type": "code",
   "execution_count": 66,
   "metadata": {
    "id": "o6UUz01hQRc8",
    "outputId": "d4a2cc7b-ae06-4ce6-d145-13741ed9f0fc"
   },
   "outputs": [
    {
     "data": {
      "text/plain": [
       "[<matplotlib.lines.Line2D at 0x7f4ddcd4a980>]"
      ]
     },
     "execution_count": 66,
     "metadata": {},
     "output_type": "execute_result"
    },
    {
     "data": {
      "image/png": "[encoded data removed]",
      "text/plain": [
       "<Figure size 640x480 with 1 Axes>"
      ]
     },
     "metadata": {},
     "output_type": "display_data"
    }
   ],
   "source": [
    "plt.plot(history.history['loss'])"
   ]
  },
  {
   "cell_type": "markdown",
   "metadata": {
    "id": "pXQ93fkVQRc8"
   },
   "source": [
    "# BiLSTM Model"
   ]
  },
  {
   "cell_type": "code",
   "execution_count": 67,
   "metadata": {
    "id": "QohlyVmpQRc8"
   },
   "outputs": [],
   "source": [
    "# Length of the vocabulary in chars\n",
    "vocab_size = imdb_encoder.vocab_size # len(chars)\n",
    "\n",
    "# The embedding dimension\n",
    "embedding_dim = 128\n",
    "\n",
    "# Number of RNN units\n",
    "rnn_units = 64\n",
    "\n",
    "#batch size\n",
    "BATCH_SIZE=50"
   ]
  },
  {
   "cell_type": "code",
   "execution_count": 68,
   "metadata": {
    "id": "o5zvAbesQRc8"
   },
   "outputs": [],
   "source": [
    "dropout=0.2\n",
    "def build_model_bilstm(vocab_size, embedding_dim, rnn_units, batch_size):\n",
    "  model = tf.keras.Sequential([\n",
    "    tf.keras.layers.Embedding(vocab_size, embedding_dim, mask_zero=True,batch_input_shape=[batch_size, None]),\n",
    "    tf.keras.layers.Dropout(dropout),\n",
    "    tf.keras.layers.Bidirectional(tf.keras.layers.LSTM(rnn_units, return_sequences=True, dropout=0.25)),\n",
    "    tf.keras.layers.Dropout(dropout),\n",
    "    tf.keras.layers.Bidirectional(tf.keras.layers.LSTM(rnn_units, dropout=0.25)),\n",
    "    tf.keras.layers.Dropout(dropout),\n",
    "    tf.keras.layers.Dense(1, activation='sigmoid')\n",
    "  ])\n",
    "  return model"
   ]
  },
  {
   "cell_type": "code",
   "execution_count": 70,
   "metadata": {
    "id": "FdbeUKArQRc8",
    "outputId": "efa49de1-c0ac-45ee-cc8f-f92d1c57a06a"
   },
   "outputs": [
    {
     "name": "stdout",
     "output_type": "stream",
     "text": [
      "Model: \"sequential_2\"\n",
      "_________________________________________________________________\n",
      " Layer (type)                Output Shape              Param #   \n",
      "=================================================================\n",
      " embedding_2 (Embedding)     (50, None, 128)           12023168  \n",
      "                                                                 \n",
      " dropout_3 (Dropout)         (50, None, 128)           0         \n",
      "                                                                 \n",
      " bidirectional_2 (Bidirectio  (50, None, 128)          98816     \n",
      " nal)                                                            \n",
      "                                                                 \n",
      " dropout_4 (Dropout)         (50, None, 128)           0         \n",
      "                                                                 \n",
      " bidirectional_3 (Bidirectio  (50, 128)                98816     \n",
      " nal)                                                            \n",
      "                                                                 \n",
      " dropout_5 (Dropout)         (50, 128)                 0         \n",
      "                                                                 \n",
      " dense_2 (Dense)             (50, 1)                   129       \n",
      "                                                                 \n",
      "=================================================================\n",
      "Total params: 12,220,929\n",
      "Trainable params: 12,220,929\n",
      "Non-trainable params: 0\n",
      "_________________________________________________________________\n"
     ]
    }
   ],
   "source": [
    "bilstm = build_model_bilstm(vocab_size = vocab_size,embedding_dim=embedding_dim, rnn_units=rnn_units,batch_size=BATCH_SIZE)\n",
    "bilstm.summary()"
   ]
  },
  {
   "cell_type": "code",
   "execution_count": 71,
   "metadata": {
    "id": "63rVH5o7QRdA"
   },
   "outputs": [],
   "source": [
    "bilstm.compile(loss='binary_crossentropy', optimizer='adam', metrics=['accuracy', 'Precision', 'Recall'])"
   ]
  },
  {
   "cell_type": "code",
   "execution_count": 72,
   "metadata": {
    "id": "rXcZHkvyQRdA"
   },
   "outputs": [],
   "source": [
    "encoded_train_batched = encoded_train.batch(BATCH_SIZE).prefetch(100)"
   ]
  },
  {
   "cell_type": "code",
   "execution_count": 73,
   "metadata": {
    "id": "fU5eZrTMQRdA",
    "outputId": "1970f353-a8d6-4d77-949e-bf2a9ad8dd62"
   },
   "outputs": [
    {
     "name": "stdout",
     "output_type": "stream",
     "text": [
      "Epoch 1/5\n"
     ]
    },
    {
     "name": "stderr",
     "output_type": "stream",
     "text": [
      "2023-06-21 10:57:25.451350: I tensorflow/core/common_runtime/executor.cc:1197] [/device:CPU:0] (DEBUG INFO) Executor start aborting (this does not indicate an error and you can ignore this message): INVALID_ARGUMENT: You must feed a value for placeholder tensor 'Placeholder/_0' with dtype string and shape [1]\n",
      "\t [[{{node Placeholder/_0}}]]\n",
      "2023-06-21 10:57:25.451853: I tensorflow/core/common_runtime/executor.cc:1197] [/device:CPU:0] (DEBUG INFO) Executor start aborting (this does not indicate an error and you can ignore this message): INVALID_ARGUMENT: You must feed a value for placeholder tensor 'Placeholder/_2' with dtype string and shape [1]\n",
      "\t [[{{node Placeholder/_2}}]]\n",
      "2023-06-21 10:57:29.018735: I tensorflow/core/common_runtime/executor.cc:1197] [/device:CPU:0] (DEBUG INFO) Executor start aborting (this does not indicate an error and you can ignore this message): INVALID_ARGUMENT: You must feed a value for placeholder tensor 'gradients/ReverseV2_grad/ReverseV2/ReverseV2/axis' with dtype int32 and shape [1]\n",
      "\t [[{{node gradients/ReverseV2_grad/ReverseV2/ReverseV2/axis}}]]\n",
      "2023-06-21 10:57:29.523656: I tensorflow/core/common_runtime/executor.cc:1197] [/device:CPU:0] (DEBUG INFO) Executor start aborting (this does not indicate an error and you can ignore this message): INVALID_ARGUMENT: You must feed a value for placeholder tensor 'gradients/ReverseV2_grad/ReverseV2/ReverseV2/axis' with dtype int32 and shape [1]\n",
      "\t [[{{node gradients/ReverseV2_grad/ReverseV2/ReverseV2/axis}}]]\n",
      "2023-06-21 10:57:33.140239: I tensorflow/core/common_runtime/executor.cc:1197] [/device:CPU:0] (DEBUG INFO) Executor start aborting (this does not indicate an error and you can ignore this message): INVALID_ARGUMENT: You must feed a value for placeholder tensor 'gradients/ReverseV2_grad/ReverseV2/ReverseV2/axis' with dtype int32 and shape [1]\n",
      "\t [[{{node gradients/ReverseV2_grad/ReverseV2/ReverseV2/axis}}]]\n",
      "2023-06-21 10:57:33.940744: I tensorflow/core/common_runtime/executor.cc:1197] [/device:CPU:0] (DEBUG INFO) Executor start aborting (this does not indicate an error and you can ignore this message): INVALID_ARGUMENT: You must feed a value for placeholder tensor 'gradients/ReverseV2_grad/ReverseV2/ReverseV2/axis' with dtype int32 and shape [1]\n",
      "\t [[{{node gradients/ReverseV2_grad/ReverseV2/ReverseV2/axis}}]]\n"
     ]
    },
    {
     "name": "stdout",
     "output_type": "stream",
     "text": [
      "500/500 [==============================] - 190s 359ms/step - loss: 0.3837 - accuracy: 0.8209 - precision: 0.8151 - recall: 0.8301\n",
      "Epoch 2/5\n",
      "500/500 [==============================] - 164s 328ms/step - loss: 0.1496 - accuracy: 0.9471 - precision: 0.9468 - recall: 0.9474\n",
      "Epoch 3/5\n",
      "500/500 [==============================] - 169s 339ms/step - loss: 0.0686 - accuracy: 0.9779 - precision: 0.9778 - recall: 0.9780\n",
      "Epoch 4/5\n",
      "500/500 [==============================] - 161s 321ms/step - loss: 0.0542 - accuracy: 0.9811 - precision: 0.9813 - recall: 0.9808\n",
      "Epoch 5/5\n",
      "500/500 [==============================] - 165s 329ms/step - loss: 0.0366 - accuracy: 0.9872 - precision: 0.9872 - recall: 0.9873\n"
     ]
    },
    {
     "data": {
      "text/plain": [
       "<keras.callbacks.History at 0x7f4ddc3f0340>"
      ]
     },
     "execution_count": 73,
     "metadata": {},
     "output_type": "execute_result"
    }
   ],
   "source": [
    "bilstm.fit(encoded_train_batched, epochs=5)"
   ]
  },
  {
   "cell_type": "code",
   "execution_count": null,
   "metadata": {
    "id": "GvYWnPWfQRdA",
    "outputId": "a5880abe-6815-40fc-9a16-7dfe695c7956"
   },
   "outputs": [
    {
     "name": "stdout",
     "output_type": "stream",
     "text": [
      "500/500 [==============================] - 11s 21ms/step - loss: 1.0186 - accuracy: 0.8138 - precision: 0.7535 - recall: 0.9330 4s \n"
     ]
    },
    {
     "data": {
      "text/plain": [
       "[1.0186095237731934,\n",
       " 0.8138399720191956,\n",
       " 0.7534565329551697,\n",
       " 0.9329599738121033]"
      ]
     },
     "execution_count": 95,
     "metadata": {},
     "output_type": "execute_result"
    }
   ],
   "source": [
    "# without dropput between layers [1.0472896423190832, 0.83548, 0.8025395, 0.88992]\n",
    "bilstm.evaluate(encoded_test.batch(BATCH_SIZE))"
   ]
  },
  {
   "cell_type": "code",
   "execution_count": null,
   "metadata": {
    "id": "WOwKj7dpQRdB"
   },
   "outputs": [],
   "source": []
  },
  {
   "cell_type": "code",
   "execution_count": null,
   "metadata": {
    "id": "xz2rPPELQRdB"
   },
   "outputs": [],
   "source": []
  },
  {
   "cell_type": "code",
   "execution_count": null,
   "metadata": {
    "id": "pIiuJCT8QRdB"
   },
   "outputs": [],
   "source": []
  },
  {
   "cell_type": "code",
   "execution_count": null,
   "metadata": {
    "id": "MM7aP5HlQRdB"
   },
   "outputs": [],
   "source": []
  },
  {
   "cell_type": "code",
   "execution_count": null,
   "metadata": {
    "id": "bfh-dZm3QRdB"
   },
   "outputs": [],
   "source": []
  },
  {
   "cell_type": "code",
   "execution_count": null,
   "metadata": {
    "id": "PTOD0XI0QRdB"
   },
   "outputs": [],
   "source": []
  },
  {
   "cell_type": "code",
   "execution_count": null,
   "metadata": {
    "id": "Vziyis2sQRdC"
   },
   "outputs": [],
   "source": []
  }
 ],
 "metadata": {
  "colab": {
   "provenance": []
  },
  "kernelspec": {
   "display_name": "Python 3 (ipykernel)",
   "language": "python",
   "name": "python3"
  },
  "language_info": {
   "codemirror_mode": {
    "name": "ipython",
    "version": 3
   },
   "file_extension": ".py",
   "mimetype": "text/x-python",
   "name": "python",
   "nbconvert_exporter": "python",
   "pygments_lexer": "ipython3",
   "version": "3.10.9"
  }
 },
 "nbformat": 4,
 "nbformat_minor": 1
}
