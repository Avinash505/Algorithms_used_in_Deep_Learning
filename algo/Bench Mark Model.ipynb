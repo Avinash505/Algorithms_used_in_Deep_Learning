{
 "cells": [
  {
   "cell_type": "code",
   "execution_count": 8,
   "id": "4df8e2ae",
   "metadata": {},
   "outputs": [
    {
     "data": {
      "text/html": [
       "<div>\n",
       "<style scoped>\n",
       "    .dataframe tbody tr th:only-of-type {\n",
       "        vertical-align: middle;\n",
       "    }\n",
       "\n",
       "    .dataframe tbody tr th {\n",
       "        vertical-align: top;\n",
       "    }\n",
       "\n",
       "    .dataframe thead th {\n",
       "        text-align: right;\n",
       "    }\n",
       "</style>\n",
       "<table border=\"1\" class=\"dataframe\">\n",
       "  <thead>\n",
       "    <tr style=\"text-align: right;\">\n",
       "      <th></th>\n",
       "      <th>Open</th>\n",
       "      <th>Close</th>\n",
       "      <th>Volume</th>\n",
       "    </tr>\n",
       "  </thead>\n",
       "  <tbody>\n",
       "    <tr>\n",
       "      <th>0</th>\n",
       "      <td>0.012051</td>\n",
       "      <td>0.015141</td>\n",
       "      <td>0.377248</td>\n",
       "    </tr>\n",
       "    <tr>\n",
       "      <th>1</th>\n",
       "      <td>0.014198</td>\n",
       "      <td>0.010658</td>\n",
       "      <td>0.325644</td>\n",
       "    </tr>\n",
       "    <tr>\n",
       "      <th>2</th>\n",
       "      <td>0.009894</td>\n",
       "      <td>0.010112</td>\n",
       "      <td>0.189820</td>\n",
       "    </tr>\n",
       "    <tr>\n",
       "      <th>3</th>\n",
       "      <td>0.010874</td>\n",
       "      <td>0.007407</td>\n",
       "      <td>0.242701</td>\n",
       "    </tr>\n",
       "    <tr>\n",
       "      <th>4</th>\n",
       "      <td>0.008368</td>\n",
       "      <td>0.010298</td>\n",
       "      <td>0.224905</td>\n",
       "    </tr>\n",
       "  </tbody>\n",
       "</table>\n",
       "</div>"
      ],
      "text/plain": [
       "       Open     Close    Volume\n",
       "0  0.012051  0.015141  0.377248\n",
       "1  0.014198  0.010658  0.325644\n",
       "2  0.009894  0.010112  0.189820\n",
       "3  0.010874  0.007407  0.242701\n",
       "4  0.008368  0.010298  0.224905"
      ]
     },
     "metadata": {},
     "output_type": "display_data"
    }
   ],
   "source": [
    "import math\n",
    "import pandas as pd\n",
    "import numpy as np\n",
    "from IPython.display import display\n",
    "from sklearn import linear_model\n",
    "from sklearn.model_selection import train_test_split\n",
    "from sklearn.metrics import mean_squared_error\n",
    "from sklearn.model_selection import TimeSeriesSplit\n",
    "\n",
    "import visualize as vs\n",
    "import stock_data as sd\n",
    "import LinearRegressionModel\n",
    "\n",
    "stocks = pd.read_csv('google_preprocessed.csv')\n",
    "display(stocks_data.head())"
   ]
  },
  {
   "cell_type": "code",
   "execution_count": 9,
   "id": "f07b4ec3",
   "metadata": {},
   "outputs": [
    {
     "data": {
      "text/html": [
       "<div>\n",
       "<style scoped>\n",
       "    .dataframe tbody tr th:only-of-type {\n",
       "        vertical-align: middle;\n",
       "    }\n",
       "\n",
       "    .dataframe tbody tr th {\n",
       "        vertical-align: top;\n",
       "    }\n",
       "\n",
       "    .dataframe thead th {\n",
       "        text-align: right;\n",
       "    }\n",
       "</style>\n",
       "<table border=\"1\" class=\"dataframe\">\n",
       "  <thead>\n",
       "    <tr style=\"text-align: right;\">\n",
       "      <th></th>\n",
       "      <th>Item</th>\n",
       "      <th>Open</th>\n",
       "      <th>Close</th>\n",
       "      <th>Volume</th>\n",
       "    </tr>\n",
       "  </thead>\n",
       "  <tbody>\n",
       "    <tr>\n",
       "      <th>0</th>\n",
       "      <td>0</td>\n",
       "      <td>0.012051</td>\n",
       "      <td>0.015141</td>\n",
       "      <td>0.377248</td>\n",
       "    </tr>\n",
       "    <tr>\n",
       "      <th>1</th>\n",
       "      <td>1</td>\n",
       "      <td>0.014198</td>\n",
       "      <td>0.010658</td>\n",
       "      <td>0.325644</td>\n",
       "    </tr>\n",
       "    <tr>\n",
       "      <th>2</th>\n",
       "      <td>2</td>\n",
       "      <td>0.009894</td>\n",
       "      <td>0.010112</td>\n",
       "      <td>0.189820</td>\n",
       "    </tr>\n",
       "    <tr>\n",
       "      <th>3</th>\n",
       "      <td>3</td>\n",
       "      <td>0.010874</td>\n",
       "      <td>0.007407</td>\n",
       "      <td>0.242701</td>\n",
       "    </tr>\n",
       "    <tr>\n",
       "      <th>4</th>\n",
       "      <td>4</td>\n",
       "      <td>0.008368</td>\n",
       "      <td>0.010298</td>\n",
       "      <td>0.224905</td>\n",
       "    </tr>\n",
       "    <tr>\n",
       "      <th>...</th>\n",
       "      <td>...</td>\n",
       "      <td>...</td>\n",
       "      <td>...</td>\n",
       "      <td>...</td>\n",
       "    </tr>\n",
       "    <tr>\n",
       "      <th>3140</th>\n",
       "      <td>3140</td>\n",
       "      <td>0.983122</td>\n",
       "      <td>0.964885</td>\n",
       "      <td>0.024514</td>\n",
       "    </tr>\n",
       "    <tr>\n",
       "      <th>3141</th>\n",
       "      <td>3141</td>\n",
       "      <td>0.952177</td>\n",
       "      <td>0.938704</td>\n",
       "      <td>0.047279</td>\n",
       "    </tr>\n",
       "    <tr>\n",
       "      <th>3142</th>\n",
       "      <td>3142</td>\n",
       "      <td>0.940256</td>\n",
       "      <td>0.952798</td>\n",
       "      <td>0.054706</td>\n",
       "    </tr>\n",
       "    <tr>\n",
       "      <th>3143</th>\n",
       "      <td>3143</td>\n",
       "      <td>0.941008</td>\n",
       "      <td>0.927501</td>\n",
       "      <td>0.066046</td>\n",
       "    </tr>\n",
       "    <tr>\n",
       "      <th>3144</th>\n",
       "      <td>3144</td>\n",
       "      <td>0.932988</td>\n",
       "      <td>0.918621</td>\n",
       "      <td>0.043444</td>\n",
       "    </tr>\n",
       "  </tbody>\n",
       "</table>\n",
       "<p>3145 rows × 4 columns</p>\n",
       "</div>"
      ],
      "text/plain": [
       "      Item      Open     Close    Volume\n",
       "0        0  0.012051  0.015141  0.377248\n",
       "1        1  0.014198  0.010658  0.325644\n",
       "2        2  0.009894  0.010112  0.189820\n",
       "3        3  0.010874  0.007407  0.242701\n",
       "4        4  0.008368  0.010298  0.224905\n",
       "...    ...       ...       ...       ...\n",
       "3140  3140  0.983122  0.964885  0.024514\n",
       "3141  3141  0.952177  0.938704  0.047279\n",
       "3142  3142  0.940256  0.952798  0.054706\n",
       "3143  3143  0.941008  0.927501  0.066046\n",
       "3144  3144  0.932988  0.918621  0.043444\n",
       "\n",
       "[3145 rows x 4 columns]"
      ]
     },
     "execution_count": 9,
     "metadata": {},
     "output_type": "execute_result"
    }
   ],
   "source": [
    "stocks"
   ]
  },
  {
   "cell_type": "code",
   "execution_count": 10,
   "id": "920246e5",
   "metadata": {},
   "outputs": [],
   "source": [
    "stocks_data = stocks.drop(['Item'], axis =1)"
   ]
  },
  {
   "cell_type": "code",
   "execution_count": 11,
   "id": "959a7756",
   "metadata": {},
   "outputs": [
    {
     "data": {
      "text/html": [
       "<div>\n",
       "<style scoped>\n",
       "    .dataframe tbody tr th:only-of-type {\n",
       "        vertical-align: middle;\n",
       "    }\n",
       "\n",
       "    .dataframe tbody tr th {\n",
       "        vertical-align: top;\n",
       "    }\n",
       "\n",
       "    .dataframe thead th {\n",
       "        text-align: right;\n",
       "    }\n",
       "</style>\n",
       "<table border=\"1\" class=\"dataframe\">\n",
       "  <thead>\n",
       "    <tr style=\"text-align: right;\">\n",
       "      <th></th>\n",
       "      <th>Open</th>\n",
       "      <th>Close</th>\n",
       "      <th>Volume</th>\n",
       "    </tr>\n",
       "  </thead>\n",
       "  <tbody>\n",
       "    <tr>\n",
       "      <th>0</th>\n",
       "      <td>0.012051</td>\n",
       "      <td>0.015141</td>\n",
       "      <td>0.377248</td>\n",
       "    </tr>\n",
       "    <tr>\n",
       "      <th>1</th>\n",
       "      <td>0.014198</td>\n",
       "      <td>0.010658</td>\n",
       "      <td>0.325644</td>\n",
       "    </tr>\n",
       "    <tr>\n",
       "      <th>2</th>\n",
       "      <td>0.009894</td>\n",
       "      <td>0.010112</td>\n",
       "      <td>0.189820</td>\n",
       "    </tr>\n",
       "    <tr>\n",
       "      <th>3</th>\n",
       "      <td>0.010874</td>\n",
       "      <td>0.007407</td>\n",
       "      <td>0.242701</td>\n",
       "    </tr>\n",
       "    <tr>\n",
       "      <th>4</th>\n",
       "      <td>0.008368</td>\n",
       "      <td>0.010298</td>\n",
       "      <td>0.224905</td>\n",
       "    </tr>\n",
       "    <tr>\n",
       "      <th>...</th>\n",
       "      <td>...</td>\n",
       "      <td>...</td>\n",
       "      <td>...</td>\n",
       "    </tr>\n",
       "    <tr>\n",
       "      <th>3140</th>\n",
       "      <td>0.983122</td>\n",
       "      <td>0.964885</td>\n",
       "      <td>0.024514</td>\n",
       "    </tr>\n",
       "    <tr>\n",
       "      <th>3141</th>\n",
       "      <td>0.952177</td>\n",
       "      <td>0.938704</td>\n",
       "      <td>0.047279</td>\n",
       "    </tr>\n",
       "    <tr>\n",
       "      <th>3142</th>\n",
       "      <td>0.940256</td>\n",
       "      <td>0.952798</td>\n",
       "      <td>0.054706</td>\n",
       "    </tr>\n",
       "    <tr>\n",
       "      <th>3143</th>\n",
       "      <td>0.941008</td>\n",
       "      <td>0.927501</td>\n",
       "      <td>0.066046</td>\n",
       "    </tr>\n",
       "    <tr>\n",
       "      <th>3144</th>\n",
       "      <td>0.932988</td>\n",
       "      <td>0.918621</td>\n",
       "      <td>0.043444</td>\n",
       "    </tr>\n",
       "  </tbody>\n",
       "</table>\n",
       "<p>3145 rows × 3 columns</p>\n",
       "</div>"
      ],
      "text/plain": [
       "          Open     Close    Volume\n",
       "0     0.012051  0.015141  0.377248\n",
       "1     0.014198  0.010658  0.325644\n",
       "2     0.009894  0.010112  0.189820\n",
       "3     0.010874  0.007407  0.242701\n",
       "4     0.008368  0.010298  0.224905\n",
       "...        ...       ...       ...\n",
       "3140  0.983122  0.964885  0.024514\n",
       "3141  0.952177  0.938704  0.047279\n",
       "3142  0.940256  0.952798  0.054706\n",
       "3143  0.941008  0.927501  0.066046\n",
       "3144  0.932988  0.918621  0.043444\n",
       "\n",
       "[3145 rows x 3 columns]"
      ]
     },
     "execution_count": 11,
     "metadata": {},
     "output_type": "execute_result"
    }
   ],
   "source": [
    "stocks_data"
   ]
  },
  {
   "cell_type": "code",
   "execution_count": 21,
   "id": "599c2245",
   "metadata": {},
   "outputs": [
    {
     "ename": "AttributeError",
     "evalue": "'DataFrame' object has no attribute 'as_matrix'",
     "output_type": "error",
     "traceback": [
      "\u001b[0;31m---------------------------------------------------------------------------\u001b[0m",
      "\u001b[0;31mAttributeError\u001b[0m                            Traceback (most recent call last)",
      "Input \u001b[0;32mIn [21]\u001b[0m, in \u001b[0;36m<cell line: 1>\u001b[0;34m()\u001b[0m\n\u001b[0;32m----> 1\u001b[0m X_train, X_test, y_train, y_test \u001b[38;5;241m=\u001b[39m \u001b[43msd\u001b[49m\u001b[38;5;241;43m.\u001b[39;49m\u001b[43mtrain_test_split_lstm\u001b[49m\u001b[43m(\u001b[49m\u001b[43mstocks_data\u001b[49m\u001b[43m,\u001b[49m\u001b[43m \u001b[49m\u001b[38;5;241;43m5\u001b[39;49m\u001b[43m)\u001b[49m\n\u001b[1;32m      3\u001b[0m unroll_length \u001b[38;5;241m=\u001b[39m \u001b[38;5;241m50\u001b[39m\n\u001b[1;32m      4\u001b[0m X_train \u001b[38;5;241m=\u001b[39m sd\u001b[38;5;241m.\u001b[39munroll(X_train, unroll_length)\n",
      "File \u001b[0;32m~/Downloads/Deep Learning with example/ Algorithms used in Deep Learning/stock_data.py:79\u001b[0m, in \u001b[0;36mtrain_test_split_lstm\u001b[0;34m(stocks, prediction_time, test_data_size, unroll_length)\u001b[0m\n\u001b[1;32m     76\u001b[0m \u001b[38;5;66;03m# training data\u001b[39;00m\n\u001b[1;32m     77\u001b[0m test_data_cut \u001b[38;5;241m=\u001b[39m test_data_size \u001b[38;5;241m+\u001b[39m unroll_length \u001b[38;5;241m+\u001b[39m \u001b[38;5;241m1\u001b[39m\n\u001b[0;32m---> 79\u001b[0m x_train \u001b[38;5;241m=\u001b[39m \u001b[43mstocks\u001b[49m\u001b[43m[\u001b[49m\u001b[38;5;241;43m0\u001b[39;49m\u001b[43m:\u001b[49m\u001b[38;5;241;43m-\u001b[39;49m\u001b[43mprediction_time\u001b[49m\u001b[43m \u001b[49m\u001b[38;5;241;43m-\u001b[39;49m\u001b[43m \u001b[49m\u001b[43mtest_data_cut\u001b[49m\u001b[43m]\u001b[49m\u001b[38;5;241;43m.\u001b[39;49m\u001b[43mas_matrix\u001b[49m()\n\u001b[1;32m     80\u001b[0m y_train \u001b[38;5;241m=\u001b[39m stocks[prediction_time:\u001b[38;5;241m-\u001b[39mtest_data_cut][\u001b[38;5;124m'\u001b[39m\u001b[38;5;124mClose\u001b[39m\u001b[38;5;124m'\u001b[39m]\u001b[38;5;241m.\u001b[39mas_matrix()\n\u001b[1;32m     82\u001b[0m \u001b[38;5;66;03m# test data\u001b[39;00m\n",
      "File \u001b[0;32m~/anaconda3/lib/python3.9/site-packages/pandas/core/generic.py:5575\u001b[0m, in \u001b[0;36mNDFrame.__getattr__\u001b[0;34m(self, name)\u001b[0m\n\u001b[1;32m   5568\u001b[0m \u001b[38;5;28;01mif\u001b[39;00m (\n\u001b[1;32m   5569\u001b[0m     name \u001b[38;5;129;01mnot\u001b[39;00m \u001b[38;5;129;01min\u001b[39;00m \u001b[38;5;28mself\u001b[39m\u001b[38;5;241m.\u001b[39m_internal_names_set\n\u001b[1;32m   5570\u001b[0m     \u001b[38;5;129;01mand\u001b[39;00m name \u001b[38;5;129;01mnot\u001b[39;00m \u001b[38;5;129;01min\u001b[39;00m \u001b[38;5;28mself\u001b[39m\u001b[38;5;241m.\u001b[39m_metadata\n\u001b[1;32m   5571\u001b[0m     \u001b[38;5;129;01mand\u001b[39;00m name \u001b[38;5;129;01mnot\u001b[39;00m \u001b[38;5;129;01min\u001b[39;00m \u001b[38;5;28mself\u001b[39m\u001b[38;5;241m.\u001b[39m_accessors\n\u001b[1;32m   5572\u001b[0m     \u001b[38;5;129;01mand\u001b[39;00m \u001b[38;5;28mself\u001b[39m\u001b[38;5;241m.\u001b[39m_info_axis\u001b[38;5;241m.\u001b[39m_can_hold_identifiers_and_holds_name(name)\n\u001b[1;32m   5573\u001b[0m ):\n\u001b[1;32m   5574\u001b[0m     \u001b[38;5;28;01mreturn\u001b[39;00m \u001b[38;5;28mself\u001b[39m[name]\n\u001b[0;32m-> 5575\u001b[0m \u001b[38;5;28;01mreturn\u001b[39;00m \u001b[38;5;28;43mobject\u001b[39;49m\u001b[38;5;241;43m.\u001b[39;49m\u001b[38;5;21;43m__getattribute__\u001b[39;49m\u001b[43m(\u001b[49m\u001b[38;5;28;43mself\u001b[39;49m\u001b[43m,\u001b[49m\u001b[43m \u001b[49m\u001b[43mname\u001b[49m\u001b[43m)\u001b[49m\n",
      "\u001b[0;31mAttributeError\u001b[0m: 'DataFrame' object has no attribute 'as_matrix'"
     ]
    }
   ],
   "source": [
    "X_train, X_test, y_train, y_test = sd.train_test_split_lstm(stocks_data, 5)\n",
    "\n",
    "unroll_length = 50\n",
    "X_train = sd.unroll(X_train, unroll_length)\n",
    "X_test = sd.unroll(X_test, unroll_length)\n",
    "y_train = y_train[-X_train.shape[0]:]\n",
    "y_test = y_test[-X_test.shape[0]:]\n",
    "\n",
    "print(\"x_train\", X_train.shape)\n",
    "print(\"y_train\", y_train.shape)\n",
    "print(\"x_test\", X_test.shape)\n",
    "print(\"y_test\", y_test.shape)\n"
   ]
  },
  {
   "cell_type": "code",
   "execution_count": 3,
   "id": "2e31f555",
   "metadata": {},
   "outputs": [],
   "source": [
    "model = LinearRegressionModel.build_model(X_train,y_train)"
   ]
  },
  {
   "cell_type": "code",
   "execution_count": 4,
   "id": "150ddc18",
   "metadata": {},
   "outputs": [],
   "source": [
    "predictions = LinearRegressionModel.predict_prices(model, X_test,label_range)"
   ]
  },
  {
   "cell_type": "code",
   "execution_count": 5,
   "id": "4debebb9",
   "metadata": {},
   "outputs": [
    {
     "data": {
      "image/png": "[encoded data removed]",
      "text/plain": [
       "<Figure size 1296x864 with 1 Axes>"
      ]
     },
     "metadata": {
      "needs_background": "light"
     },
     "output_type": "display_data"
    }
   ],
   "source": [
    "vs.plot_lstm_prediction(y_test,predictions)"
   ]
  },
  {
   "cell_type": "code",
   "execution_count": 6,
   "id": "de18aeec",
   "metadata": {},
   "outputs": [],
   "source": [
    "trainScore = mean_squared_error(X_train, y_train)"
   ]
  },
  {
   "cell_type": "code",
   "execution_count": 7,
   "id": "25dbdbd6",
   "metadata": {},
   "outputs": [
    {
     "name": "stdout",
     "output_type": "stream",
     "text": [
      "Train Score: 0.1852 MSE (0.4303 RMSE)\n"
     ]
    }
   ],
   "source": [
    "print('Train Score: %.4f MSE (%.4f RMSE)' % (trainScore, math.sqrt(trainScore)))"
   ]
  },
  {
   "cell_type": "code",
   "execution_count": 10,
   "id": "52fac31b",
   "metadata": {},
   "outputs": [
    {
     "name": "stdout",
     "output_type": "stream",
     "text": [
      "Train Score: 0.08133781 MSE (0.43031702 RMSE)\n"
     ]
    }
   ],
   "source": [
    "testScore = mean_squared_error(predictions, y_test)\n",
    "print('Train Score: %.8f MSE (%.8f RMSE)' % (testScore, math.sqrt(trainScore)))"
   ]
  },
  {
   "cell_type": "markdown",
   "id": "437bb4f8",
   "metadata": {},
   "source": [
    "# Long-Sort Term Memory Model"
   ]
  },
  {
   "cell_type": "code",
   "execution_count": 29,
   "id": "a5b0659f",
   "metadata": {},
   "outputs": [
    {
     "data": {
      "text/html": [
       "<div>\n",
       "<style scoped>\n",
       "    .dataframe tbody tr th:only-of-type {\n",
       "        vertical-align: middle;\n",
       "    }\n",
       "\n",
       "    .dataframe tbody tr th {\n",
       "        vertical-align: top;\n",
       "    }\n",
       "\n",
       "    .dataframe thead th {\n",
       "        text-align: right;\n",
       "    }\n",
       "</style>\n",
       "<table border=\"1\" class=\"dataframe\">\n",
       "  <thead>\n",
       "    <tr style=\"text-align: right;\">\n",
       "      <th></th>\n",
       "      <th>Open</th>\n",
       "      <th>Close</th>\n",
       "      <th>Volume</th>\n",
       "    </tr>\n",
       "  </thead>\n",
       "  <tbody>\n",
       "    <tr>\n",
       "      <th>0</th>\n",
       "      <td>0.012051</td>\n",
       "      <td>0.015141</td>\n",
       "      <td>0.377248</td>\n",
       "    </tr>\n",
       "    <tr>\n",
       "      <th>1</th>\n",
       "      <td>0.014198</td>\n",
       "      <td>0.010658</td>\n",
       "      <td>0.325644</td>\n",
       "    </tr>\n",
       "    <tr>\n",
       "      <th>2</th>\n",
       "      <td>0.009894</td>\n",
       "      <td>0.010112</td>\n",
       "      <td>0.189820</td>\n",
       "    </tr>\n",
       "    <tr>\n",
       "      <th>3</th>\n",
       "      <td>0.010874</td>\n",
       "      <td>0.007407</td>\n",
       "      <td>0.242701</td>\n",
       "    </tr>\n",
       "    <tr>\n",
       "      <th>4</th>\n",
       "      <td>0.008368</td>\n",
       "      <td>0.010298</td>\n",
       "      <td>0.224905</td>\n",
       "    </tr>\n",
       "  </tbody>\n",
       "</table>\n",
       "</div>"
      ],
      "text/plain": [
       "       Open     Close    Volume\n",
       "0  0.012051  0.015141  0.377248\n",
       "1  0.014198  0.010658  0.325644\n",
       "2  0.009894  0.010112  0.189820\n",
       "3  0.010874  0.007407  0.242701\n",
       "4  0.008368  0.010298  0.224905"
      ]
     },
     "metadata": {},
     "output_type": "display_data"
    }
   ],
   "source": [
    "import math\n",
    "import pandas as pd\n",
    "import numpy as np\n",
    "from IPython.display import display\n",
    "\n",
    "from tensorflow.keras.layers import LSTM\n",
    "from keras.models import Sequential\n",
    "from keras.metrics import mean_squared_error\n",
    "from sklearn.model_selection import StratifiedKFold\n",
    "\n",
    "import visualize as vs\n",
    "import stock_data as sd\n",
    "import LinearRegressionModel\n",
    "\n",
    "stocks = pd.read_csv('google_preprocessed.csv')\n",
    "stocks_data = stocks.drop(['Item'], axis =1)\n",
    "\n",
    "display(stocks_data.head())\n"
   ]
  },
  {
   "cell_type": "code",
   "execution_count": 31,
   "id": "7ee5d535",
   "metadata": {},
   "outputs": [
    {
     "ename": "AttributeError",
     "evalue": "'DataFrame' object has no attribute 'as_matrix'",
     "output_type": "error",
     "traceback": [
      "\u001b[0;31m---------------------------------------------------------------------------\u001b[0m",
      "\u001b[0;31mAttributeError\u001b[0m                            Traceback (most recent call last)",
      "Input \u001b[0;32mIn [31]\u001b[0m, in \u001b[0;36m<cell line: 1>\u001b[0;34m()\u001b[0m\n\u001b[0;32m----> 1\u001b[0m X_train, X_test,y_train, y_test \u001b[38;5;241m=\u001b[39m \u001b[43msd\u001b[49m\u001b[38;5;241;43m.\u001b[39;49m\u001b[43mtrain_test_split_lstm\u001b[49m\u001b[43m(\u001b[49m\u001b[43mstocks_data\u001b[49m\u001b[43m,\u001b[49m\u001b[43m \u001b[49m\u001b[38;5;241;43m5\u001b[39;49m\u001b[43m)\u001b[49m\n\u001b[1;32m      3\u001b[0m unroll_length \u001b[38;5;241m=\u001b[39m \u001b[38;5;241m50\u001b[39m\n\u001b[1;32m      4\u001b[0m X_train \u001b[38;5;241m=\u001b[39m sd\u001b[38;5;241m.\u001b[39munroll(X_train, unroll_length)\n",
      "File \u001b[0;32m~/Downloads/Deep Learning with example/ Algorithms used in Deep Learning/stock_data.py:79\u001b[0m, in \u001b[0;36mtrain_test_split_lstm\u001b[0;34m(stocks, prediction_time, test_data_size, unroll_length)\u001b[0m\n\u001b[1;32m     76\u001b[0m \u001b[38;5;66;03m# training data\u001b[39;00m\n\u001b[1;32m     77\u001b[0m test_data_cut \u001b[38;5;241m=\u001b[39m test_data_size \u001b[38;5;241m+\u001b[39m unroll_length \u001b[38;5;241m+\u001b[39m \u001b[38;5;241m1\u001b[39m\n\u001b[0;32m---> 79\u001b[0m x_train \u001b[38;5;241m=\u001b[39m \u001b[43mstocks\u001b[49m\u001b[43m[\u001b[49m\u001b[38;5;241;43m0\u001b[39;49m\u001b[43m:\u001b[49m\u001b[38;5;241;43m-\u001b[39;49m\u001b[43mprediction_time\u001b[49m\u001b[43m \u001b[49m\u001b[38;5;241;43m-\u001b[39;49m\u001b[43m \u001b[49m\u001b[43mtest_data_cut\u001b[49m\u001b[43m]\u001b[49m\u001b[38;5;241;43m.\u001b[39;49m\u001b[43mas_matrix\u001b[49m()\n\u001b[1;32m     80\u001b[0m y_train \u001b[38;5;241m=\u001b[39m stocks[prediction_time:\u001b[38;5;241m-\u001b[39mtest_data_cut][\u001b[38;5;124m'\u001b[39m\u001b[38;5;124mClose\u001b[39m\u001b[38;5;124m'\u001b[39m]\u001b[38;5;241m.\u001b[39mas_matrix()\n\u001b[1;32m     82\u001b[0m \u001b[38;5;66;03m# test data\u001b[39;00m\n",
      "File \u001b[0;32m~/anaconda3/lib/python3.9/site-packages/pandas/core/generic.py:5575\u001b[0m, in \u001b[0;36mNDFrame.__getattr__\u001b[0;34m(self, name)\u001b[0m\n\u001b[1;32m   5568\u001b[0m \u001b[38;5;28;01mif\u001b[39;00m (\n\u001b[1;32m   5569\u001b[0m     name \u001b[38;5;129;01mnot\u001b[39;00m \u001b[38;5;129;01min\u001b[39;00m \u001b[38;5;28mself\u001b[39m\u001b[38;5;241m.\u001b[39m_internal_names_set\n\u001b[1;32m   5570\u001b[0m     \u001b[38;5;129;01mand\u001b[39;00m name \u001b[38;5;129;01mnot\u001b[39;00m \u001b[38;5;129;01min\u001b[39;00m \u001b[38;5;28mself\u001b[39m\u001b[38;5;241m.\u001b[39m_metadata\n\u001b[1;32m   5571\u001b[0m     \u001b[38;5;129;01mand\u001b[39;00m name \u001b[38;5;129;01mnot\u001b[39;00m \u001b[38;5;129;01min\u001b[39;00m \u001b[38;5;28mself\u001b[39m\u001b[38;5;241m.\u001b[39m_accessors\n\u001b[1;32m   5572\u001b[0m     \u001b[38;5;129;01mand\u001b[39;00m \u001b[38;5;28mself\u001b[39m\u001b[38;5;241m.\u001b[39m_info_axis\u001b[38;5;241m.\u001b[39m_can_hold_identifiers_and_holds_name(name)\n\u001b[1;32m   5573\u001b[0m ):\n\u001b[1;32m   5574\u001b[0m     \u001b[38;5;28;01mreturn\u001b[39;00m \u001b[38;5;28mself\u001b[39m[name]\n\u001b[0;32m-> 5575\u001b[0m \u001b[38;5;28;01mreturn\u001b[39;00m \u001b[38;5;28;43mobject\u001b[39;49m\u001b[38;5;241;43m.\u001b[39;49m\u001b[38;5;21;43m__getattribute__\u001b[39;49m\u001b[43m(\u001b[49m\u001b[38;5;28;43mself\u001b[39;49m\u001b[43m,\u001b[49m\u001b[43m \u001b[49m\u001b[43mname\u001b[49m\u001b[43m)\u001b[49m\n",
      "\u001b[0;31mAttributeError\u001b[0m: 'DataFrame' object has no attribute 'as_matrix'"
     ]
    }
   ],
   "source": [
    "X_train, X_test,y_train, y_test = sd.train_test_split_lstm(stocks_data, 5)\n",
    "\n",
    "unroll_length = 50\n",
    "X_train = sd.unroll(X_train, unroll_length)\n",
    "X_test = sd.unroll(X_test, unroll_length)\n",
    "y_train = y_train[-X_train.shape[0]:]\n",
    "y_test = y_test[-X_test.shape[0]:]\n",
    "\n",
    "print(\"x_train\", X_train.shape)\n",
    "print(\"y_train\", y_train.shape)\n",
    "print(\"x_test\", X_test.shape)\n",
    "print(\"y_test\", y_test.shape)\n"
   ]
  },
  {
   "cell_type": "code",
   "execution_count": 32,
   "id": "bfde29f8",
   "metadata": {},
   "outputs": [
    {
     "ename": "AttributeError",
     "evalue": "'DataFrame' object has no attribute 'as_matrix'",
     "output_type": "error",
     "traceback": [
      "\u001b[0;31m---------------------------------------------------------------------------\u001b[0m",
      "\u001b[0;31mAttributeError\u001b[0m                            Traceback (most recent call last)",
      "Input \u001b[0;32mIn [32]\u001b[0m, in \u001b[0;36m<cell line: 1>\u001b[0;34m()\u001b[0m\n\u001b[0;32m----> 1\u001b[0m X_train, X_test, y_train, y_test \u001b[38;5;241m=\u001b[39m \u001b[43msd\u001b[49m\u001b[38;5;241;43m.\u001b[39;49m\u001b[43mtrain_test_split_lstm\u001b[49m\u001b[43m(\u001b[49m\u001b[43mstocks_data\u001b[49m\u001b[43m,\u001b[49m\u001b[43m \u001b[49m\u001b[38;5;241;43m5\u001b[39;49m\u001b[43m)\u001b[49m\n\u001b[1;32m      3\u001b[0m unroll_length \u001b[38;5;241m=\u001b[39m \u001b[38;5;241m50\u001b[39m\n\u001b[1;32m      4\u001b[0m X_train \u001b[38;5;241m=\u001b[39m sd\u001b[38;5;241m.\u001b[39munroll(X_train\u001b[38;5;241m.\u001b[39mvalues, unroll_length)\n",
      "File \u001b[0;32m~/Downloads/Deep Learning with example/ Algorithms used in Deep Learning/stock_data.py:79\u001b[0m, in \u001b[0;36mtrain_test_split_lstm\u001b[0;34m(stocks, prediction_time, test_data_size, unroll_length)\u001b[0m\n\u001b[1;32m     76\u001b[0m \u001b[38;5;66;03m# training data\u001b[39;00m\n\u001b[1;32m     77\u001b[0m test_data_cut \u001b[38;5;241m=\u001b[39m test_data_size \u001b[38;5;241m+\u001b[39m unroll_length \u001b[38;5;241m+\u001b[39m \u001b[38;5;241m1\u001b[39m\n\u001b[0;32m---> 79\u001b[0m x_train \u001b[38;5;241m=\u001b[39m \u001b[43mstocks\u001b[49m\u001b[43m[\u001b[49m\u001b[38;5;241;43m0\u001b[39;49m\u001b[43m:\u001b[49m\u001b[38;5;241;43m-\u001b[39;49m\u001b[43mprediction_time\u001b[49m\u001b[43m \u001b[49m\u001b[38;5;241;43m-\u001b[39;49m\u001b[43m \u001b[49m\u001b[43mtest_data_cut\u001b[49m\u001b[43m]\u001b[49m\u001b[38;5;241;43m.\u001b[39;49m\u001b[43mas_matrix\u001b[49m()\n\u001b[1;32m     80\u001b[0m y_train \u001b[38;5;241m=\u001b[39m stocks[prediction_time:\u001b[38;5;241m-\u001b[39mtest_data_cut][\u001b[38;5;124m'\u001b[39m\u001b[38;5;124mClose\u001b[39m\u001b[38;5;124m'\u001b[39m]\u001b[38;5;241m.\u001b[39mas_matrix()\n\u001b[1;32m     82\u001b[0m \u001b[38;5;66;03m# test data\u001b[39;00m\n",
      "File \u001b[0;32m~/anaconda3/lib/python3.9/site-packages/pandas/core/generic.py:5575\u001b[0m, in \u001b[0;36mNDFrame.__getattr__\u001b[0;34m(self, name)\u001b[0m\n\u001b[1;32m   5568\u001b[0m \u001b[38;5;28;01mif\u001b[39;00m (\n\u001b[1;32m   5569\u001b[0m     name \u001b[38;5;129;01mnot\u001b[39;00m \u001b[38;5;129;01min\u001b[39;00m \u001b[38;5;28mself\u001b[39m\u001b[38;5;241m.\u001b[39m_internal_names_set\n\u001b[1;32m   5570\u001b[0m     \u001b[38;5;129;01mand\u001b[39;00m name \u001b[38;5;129;01mnot\u001b[39;00m \u001b[38;5;129;01min\u001b[39;00m \u001b[38;5;28mself\u001b[39m\u001b[38;5;241m.\u001b[39m_metadata\n\u001b[1;32m   5571\u001b[0m     \u001b[38;5;129;01mand\u001b[39;00m name \u001b[38;5;129;01mnot\u001b[39;00m \u001b[38;5;129;01min\u001b[39;00m \u001b[38;5;28mself\u001b[39m\u001b[38;5;241m.\u001b[39m_accessors\n\u001b[1;32m   5572\u001b[0m     \u001b[38;5;129;01mand\u001b[39;00m \u001b[38;5;28mself\u001b[39m\u001b[38;5;241m.\u001b[39m_info_axis\u001b[38;5;241m.\u001b[39m_can_hold_identifiers_and_holds_name(name)\n\u001b[1;32m   5573\u001b[0m ):\n\u001b[1;32m   5574\u001b[0m     \u001b[38;5;28;01mreturn\u001b[39;00m \u001b[38;5;28mself\u001b[39m[name]\n\u001b[0;32m-> 5575\u001b[0m \u001b[38;5;28;01mreturn\u001b[39;00m \u001b[38;5;28;43mobject\u001b[39;49m\u001b[38;5;241;43m.\u001b[39;49m\u001b[38;5;21;43m__getattribute__\u001b[39;49m\u001b[43m(\u001b[49m\u001b[38;5;28;43mself\u001b[39;49m\u001b[43m,\u001b[49m\u001b[43m \u001b[49m\u001b[43mname\u001b[49m\u001b[43m)\u001b[49m\n",
      "\u001b[0;31mAttributeError\u001b[0m: 'DataFrame' object has no attribute 'as_matrix'"
     ]
    }
   ],
   "source": [
    "X_train, X_test, y_train, y_test = sd.train_test_split_lstm(stocks_data, 5)\n",
    "\n",
    "unroll_length = 50\n",
    "X_train = sd.unroll(X_train.values, unroll_length)\n",
    "X_test = sd.unroll(X_test.values, unroll_length)\n",
    "y_train = y_train.values[-X_train.shape[0]:]\n",
    "y_test = y_test.values[-X_test.shape[0]:]\n",
    "\n",
    "print(\"x_train\", X_train.shape)\n",
    "print(\"y_train\", y_train.shape)\n",
    "print(\"x_test\", X_test.shape)\n",
    "print(\"y_test\", y_test.shape)\n"
   ]
  },
  {
   "cell_type": "code",
   "execution_count": null,
   "id": "f8a8f2d2",
   "metadata": {},
   "outputs": [],
   "source": []
  }
 ],
 "metadata": {
  "kernelspec": {
   "display_name": "Python 3 (ipykernel)",
   "language": "python",
   "name": "python3"
  },
  "language_info": {
   "codemirror_mode": {
    "name": "ipython",
    "version": 3
   },
   "file_extension": ".py",
   "mimetype": "text/x-python",
   "name": "python",
   "nbconvert_exporter": "python",
   "pygments_lexer": "ipython3",
   "version": "3.9.12"
  }
 },
 "nbformat": 4,
 "nbformat_minor": 5
}
