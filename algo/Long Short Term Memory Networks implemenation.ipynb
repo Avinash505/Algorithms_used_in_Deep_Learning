{
 "cells": [
  {
   "cell_type": "code",
   "execution_count": 1,
   "id": "07ada6c5",
   "metadata": {},
   "outputs": [],
   "source": [
    "import pandas as pd\n",
    "import datetime\n",
    "\n",
    "def get_historical_data(symbol,start_date,end_date):\n",
    "    ''' Daily quotes from Google. Date format='yyyy-mm-dd' '''\n",
    "    symbol = symbol.upper()\n",
    "    start = datetime.date(int(start_date[0:4]), int(start_date[5:7]), int(start_date[8:10]))\n",
    "    end = datetime.date(int(end_date[0:4]), int(end_date[5:7]), int(end_date[8:10]))\n",
    "    url_string = \"http://www.google.com/finance/historical?q={0}\".format(symbol)\n",
    "    url_string += \"&startdate={0}&enddate={1}&num={0}&ei=KKltWZHCBNWPuQS9147YBw&output=csv\".format(start.strftime('%b%d,%Y'), end.strftime('%b%d,%Y'),4000)\n",
    "    \n",
    "    col_names = ['Date','Open','High','Low','Close','Volume']\n",
    "    stocks = pd.read_csv(url_string, header=0, names=col_names) \n",
    "    \n",
    "    df = pd.DataFrame(stocks)\n",
    "    return df"
   ]
  },
  {
   "cell_type": "code",
   "execution_count": 2,
   "id": "4bad9743",
   "metadata": {},
   "outputs": [
    {
     "name": "stdout",
     "output_type": "stream",
     "text": [
      "[*********************100%***********************]  1 of 1 completed\n",
      "                 Open       High        Low      Close  Adj Close     Volume\n",
      "Date                                                                        \n",
      "2005-01-03   4.939940   5.096096   4.891391   5.072823   5.072823  633134232\n",
      "2005-01-04   5.040040   5.078328   4.841842   4.867367   4.867367  549685764\n",
      "2005-01-05   4.841091   4.927427   4.810561   4.842593   4.842593  329134536\n",
      "2005-01-06   4.881882   4.902402   4.697698   4.718468   4.718468  415068516\n",
      "2005-01-07   4.770771   4.861111   4.724224   4.851101   4.851101  386129484\n",
      "...               ...        ...        ...        ...        ...        ...\n",
      "2017-06-23  48.775002  49.331001  48.723000  49.304501  49.304501   31280000\n",
      "2017-06-26  49.500000  49.699501  48.516499  48.604500  48.604500   30358000\n",
      "2017-06-27  48.080002  48.361000  47.354500  47.404499  47.404499   48872000\n",
      "2017-06-28  47.533001  48.161999  46.807999  48.050499  48.050499   54912000\n",
      "2017-06-29  47.567501  47.583000  46.480000  46.890999  46.890999   64134000\n",
      "\n",
      "[3145 rows x 6 columns]\n"
     ]
    }
   ],
   "source": [
    "import pandas as pd\n",
    "from pandas_datareader import data as pdr\n",
    "import yfinance as yf\n",
    "yf.pdr_override()  # Activate Yahoo Finance workaround\n",
    "\n",
    "def get_historical_data(symbol, start_date, end_date):\n",
    "    try:\n",
    "        # Retrieve historical data from Yahoo Finance\n",
    "        df = pdr.get_data_yahoo(symbol, start=start_date, end=end_date)\n",
    "        return df\n",
    "    except Exception as e:\n",
    "        print(f\"An error occurred: {e}\")\n",
    "        return None\n",
    "\n",
    "# Define the desired symbol and date range\n",
    "symbol = 'GOOGL'\n",
    "start_date = '2005-01-01'\n",
    "end_date = '2017-06-30'\n",
    "\n",
    "# Retrieve historical data\n",
    "data = get_historical_data(symbol, start_date, end_date)\n",
    "\n",
    "# Print the data if it was successfully retrieved\n",
    "if data is not None:\n",
    "    print(data)\n"
   ]
  },
  {
   "cell_type": "code",
   "execution_count": 3,
   "id": "7e051836",
   "metadata": {},
   "outputs": [
    {
     "name": "stdout",
     "output_type": "stream",
     "text": [
      "[*********************100%***********************]  1 of 1 completed\n"
     ]
    }
   ],
   "source": [
    "data = get_historical_data('GOOGL','2005-01-01','2017-06-30')"
   ]
  },
  {
   "cell_type": "markdown",
   "id": "3d40fcac",
   "metadata": {},
   "source": [
    "import pandas as pd\n",
    "from pandas_datareader import data as pdr\n",
    "import yfinance as yf\n",
    "yf.pdr_override()  # Activate Yahoo Finance workaround\n",
    "\n",
    "def get_historical_data(symbol, start_date, end_date):\n",
    "    try:\n",
    "        # Retrieve historical data from Yahoo Finance\n",
    "        df = pdr.get_data_yahoo(symbol, start=start_date, end=end_date)\n",
    "        return df\n",
    "    except Exception as e:\n",
    "        print(f\"An error occurred: {e}\")\n",
    "        return None\n",
    "\n",
    "# Define the desired symbol and date range\n",
    "symbol = 'GOOGL'\n",
    "start_date = '2005-01-01'\n",
    "end_date = '2017-06-30'\n",
    "\n",
    "# Retrieve historical data\n",
    "data = get_historical_data(symbol, start_date, end_date)\n",
    "\n",
    "# Print the data if it was successfully retrieved\n",
    "if data is not None:\n",
    "    print(data)\n"
   ]
  },
  {
   "cell_type": "code",
   "execution_count": 4,
   "id": "caa5c215",
   "metadata": {},
   "outputs": [],
   "source": [
    "data.to_csv('google.csv',index = False)"
   ]
  },
  {
   "cell_type": "code",
   "execution_count": 5,
   "id": "36ab6301",
   "metadata": {},
   "outputs": [
    {
     "name": "stdout",
     "output_type": "stream",
     "text": [
      "[*********************100%***********************]  1 of 1 completed\n"
     ]
    }
   ],
   "source": [
    "data = get_historical_data('GOOGL','2005-01-01','2023-04-10')"
   ]
  },
  {
   "cell_type": "code",
   "execution_count": 6,
   "id": "2948feb9",
   "metadata": {},
   "outputs": [],
   "source": [
    "data.to_csv('google_file.csv',index = False)"
   ]
  },
  {
   "cell_type": "code",
   "execution_count": 7,
   "id": "6b9152b6",
   "metadata": {},
   "outputs": [],
   "source": [
    "# import pandas as pd\n",
    "# import numpy as np\n",
    "\n",
    "# data = pd.read_csv('google.csv')\n",
    "# print(data.head())"
   ]
  },
  {
   "cell_type": "code",
   "execution_count": 8,
   "id": "982765ba",
   "metadata": {},
   "outputs": [],
   "source": [
    "# print(\"\\n\")\n",
    "# print(\"Open   --- mean :\", np.mean(data['Open']),  \"  \\t Std: \", np.std(data['Open']),  \"  \\t Max: \", np.max(data['Open']),  \"  \\t Min: \", np.min(data['Open']))\n",
    "# print(\"High   --- mean :\", np.mean(data['High']),  \"  \\t Std: \", np.std(data['High']),  \"  \\t Max: \", np.max(data['High']),  \"  \\t Min: \", np.min(data['High']))\n",
    "# print(\"Low    --- mean :\", np.mean(data['Low']),   \"  \\t Std: \", np.std(data['Low']),   \"  \\t Max: \", np.max(data['Low']),   \"  \\t Min: \", np.min(data['Low']))\n",
    "# print(\"Close  --- mean :\", np.mean(data['Close']), \"  \\t Std: \", np.std(data['Close']), \"  \\t Max: \", np.max(data['Close']), \"  \\t Min: \", np.min(data['Close']))\n",
    "# print(\"Volume --- mean :\", np.mean(data['Volume']),\"  \\t Std: \", np.std(data['Volume']),\"  \\t Max: \", np.max(data['Volume']),\"  \\t Min: \", np.min(data['Volume']))"
   ]
  },
  {
   "cell_type": "code",
   "execution_count": 9,
   "id": "f468dc13",
   "metadata": {},
   "outputs": [
    {
     "name": "stdout",
     "output_type": "stream",
     "text": [
      "       Open      High       Low     Close  Adj Close     Volume\n",
      "0  4.939940  5.096096  4.891391  5.072823   5.072823  633134232\n",
      "1  5.040040  5.078328  4.841842  4.867367   4.867367  549685764\n",
      "2  4.841091  4.927427  4.810561  4.842593   4.842593  329134536\n",
      "3  4.881882  4.902402  4.697698  4.718468   4.718468  415068516\n",
      "4  4.770771  4.861111  4.724224  4.851101   4.851101  386129484\n",
      "\n",
      "\n",
      "Open   --- mean : 19.115236573454307   \t Std:  10.662930232954475   \t Max:  50.27450180053711   \t Min:  4.386887073516846\n",
      "High   --- mean : 19.282561735507983   \t Std:  10.718758584827409   \t Max:  50.43050003051758   \t Min:  4.46446418762207\n",
      "Low    --- mean : 18.926628135838836   \t Std:  10.592980932486059   \t Max:  49.83100128173828   \t Min:  4.318569183349609\n",
      "Close  --- mean : 19.107250592515275   \t Std:  10.660974020075303   \t Max:  50.2140007019043   \t Min:  4.379128932952881\n",
      "Volume --- mean : 157408524.48585054   \t Std:  160104731.52786222   \t Max:  1643023332   \t Min:  10412000\n"
     ]
    }
   ],
   "source": [
    "\n",
    "import pandas as pd\n",
    "import numpy as np\n",
    "\n",
    "data = pd.read_csv('google.csv')\n",
    "print(data.head())\n",
    "\n",
    "print(\"\\n\")\n",
    "print(\"Open   --- mean :\", np.mean(data['Open']),  \"  \\t Std: \", np.std(data['Open']),  \"  \\t Max: \", np.max(data['Open']),  \"  \\t Min: \", np.min(data['Open']))\n",
    "print(\"High   --- mean :\", np.mean(data['High']),  \"  \\t Std: \", np.std(data['High']),  \"  \\t Max: \", np.max(data['High']),  \"  \\t Min: \", np.min(data['High']))\n",
    "print(\"Low    --- mean :\", np.mean(data['Low']),   \"  \\t Std: \", np.std(data['Low']),   \"  \\t Max: \", np.max(data['Low']),   \"  \\t Min: \", np.min(data['Low']))\n",
    "print(\"Close  --- mean :\", np.mean(data['Close']), \"  \\t Std: \", np.std(data['Close']), \"  \\t Max: \", np.max(data['Close']), \"  \\t Min: \", np.min(data['Close']))\n",
    "print(\"Volume --- mean :\", np.mean(data['Volume']),\"  \\t Std: \", np.std(data['Volume']),\"  \\t Max: \", np.max(data['Volume']),\"  \\t Min: \", np.min(data['Volume']))"
   ]
  },
  {
   "cell_type": "code",
   "execution_count": 11,
   "id": "107329b4",
   "metadata": {},
   "outputs": [
    {
     "name": "stdout",
     "output_type": "stream",
     "text": [
      "       Open      High       Low     Close  Adj Close     Volume\n",
      "0  4.939940  5.096096  4.891391  5.072823   5.072823  633134232\n",
      "1  5.040040  5.078328  4.841842  4.867367   4.867367  549685764\n",
      "2  4.841091  4.927427  4.810561  4.842593   4.842593  329134536\n",
      "3  4.881882  4.902402  4.697698  4.718468   4.718468  415068516\n",
      "4  4.770771  4.861111  4.724224  4.851101   4.851101  386129484\n",
      "---\n",
      "           Open       High        Low      Close  Adj Close    Volume\n",
      "3140  48.775002  49.331001  48.723000  49.304501  49.304501  31280000\n",
      "3141  49.500000  49.699501  48.516499  48.604500  48.604500  30358000\n",
      "3142  48.080002  48.361000  47.354500  47.404499  47.404499  48872000\n",
      "3143  47.533001  48.161999  46.807999  48.050499  48.050499  54912000\n",
      "3144  47.567501  47.583000  46.480000  46.890999  46.890999  64134000\n"
     ]
    }
   ],
   "source": [
    "# Read the CSV file\n",
    "data = pd.read_csv('google.csv')\n",
    "\n",
    "# Remove rows with missing values\n",
    "data = data.dropna()\n",
    "\n",
    "# Print the updated dataframe\n",
    "print(data.head())\n",
    "print(\"---\")\n",
    "print(data.tail())\n"
   ]
  },
  {
   "cell_type": "code",
   "execution_count": 12,
   "id": "5cd2a210",
   "metadata": {},
   "outputs": [],
   "source": [
    "import visualize"
   ]
  },
  {
   "cell_type": "code",
   "execution_count": 1,
   "id": "3991cf1d",
   "metadata": {},
   "outputs": [
    {
     "ename": "NameError",
     "evalue": "name 'visualize' is not defined",
     "output_type": "error",
     "traceback": [
      "\u001b[0;31m---------------------------------------------------------------------------\u001b[0m",
      "\u001b[0;31mNameError\u001b[0m                                 Traceback (most recent call last)",
      "Input \u001b[0;32mIn [1]\u001b[0m, in \u001b[0;36m<cell line: 2>\u001b[0;34m()\u001b[0m\n\u001b[1;32m      1\u001b[0m \u001b[38;5;66;03m# Call the plot_basic function from the visualize module\u001b[39;00m\n\u001b[0;32m----> 2\u001b[0m \u001b[43mvisualize\u001b[49m\u001b[38;5;241m.\u001b[39mplot_basic(data)\n",
      "\u001b[0;31mNameError\u001b[0m: name 'visualize' is not defined"
     ]
    }
   ],
   "source": [
    "\n",
    "# Call the plot_basic function from the visualize module\n",
    "visualize.plot_basic(data)"
   ]
  },
  {
   "cell_type": "code",
   "execution_count": 2,
   "id": "c8e31e8a",
   "metadata": {},
   "outputs": [
    {
     "name": "stdout",
     "output_type": "stream",
     "text": [
      "Requirement already satisfied: visualize in /home/codetrade/anaconda3/lib/python3.9/site-packages (0.5.1)\n",
      "Requirement already satisfied: numpy in /home/codetrade/anaconda3/lib/python3.9/site-packages (from visualize) (1.22.4)\n",
      "Requirement already satisfied: opencv-python in /home/codetrade/anaconda3/lib/python3.9/site-packages (from visualize) (4.7.0.72)\n",
      "Requirement already satisfied: matplotlib in /home/codetrade/anaconda3/lib/python3.9/site-packages (from visualize) (3.5.1)\n",
      "Requirement already satisfied: Pillow in /home/codetrade/anaconda3/lib/python3.9/site-packages (from visualize) (9.0.1)\n",
      "Requirement already satisfied: cycler>=0.10 in /home/codetrade/anaconda3/lib/python3.9/site-packages (from matplotlib->visualize) (0.11.0)\n",
      "Requirement already satisfied: fonttools>=4.22.0 in /home/codetrade/anaconda3/lib/python3.9/site-packages (from matplotlib->visualize) (4.25.0)\n",
      "Requirement already satisfied: kiwisolver>=1.0.1 in /home/codetrade/anaconda3/lib/python3.9/site-packages (from matplotlib->visualize) (1.3.2)\n",
      "Requirement already satisfied: packaging>=20.0 in /home/codetrade/anaconda3/lib/python3.9/site-packages (from matplotlib->visualize) (21.3)\n",
      "Requirement already satisfied: pyparsing>=2.2.1 in /home/codetrade/anaconda3/lib/python3.9/site-packages (from matplotlib->visualize) (3.0.4)\n",
      "Requirement already satisfied: python-dateutil>=2.7 in /home/codetrade/anaconda3/lib/python3.9/site-packages (from matplotlib->visualize) (2.8.2)\n",
      "Requirement already satisfied: six>=1.5 in /home/codetrade/anaconda3/lib/python3.9/site-packages (from python-dateutil>=2.7->matplotlib->visualize) (1.16.0)\n",
      "Note: you may need to restart the kernel to use updated packages.\n"
     ]
    }
   ],
   "source": [
    "pip install visualize"
   ]
  },
  {
   "cell_type": "code",
   "execution_count": 3,
   "id": "f05a3cf4",
   "metadata": {},
   "outputs": [
    {
     "ename": "NameError",
     "evalue": "name 'visualize' is not defined",
     "output_type": "error",
     "traceback": [
      "\u001b[0;31m---------------------------------------------------------------------------\u001b[0m",
      "\u001b[0;31mNameError\u001b[0m                                 Traceback (most recent call last)",
      "Input \u001b[0;32mIn [3]\u001b[0m, in \u001b[0;36m<cell line: 1>\u001b[0;34m()\u001b[0m\n\u001b[0;32m----> 1\u001b[0m \u001b[43mvisualize\u001b[49m\u001b[38;5;241m.\u001b[39mplot_basic(data)\n",
      "\u001b[0;31mNameError\u001b[0m: name 'visualize' is not defined"
     ]
    }
   ],
   "source": [
    "visualize.plot_basic(data)"
   ]
  },
  {
   "cell_type": "code",
   "execution_count": null,
   "id": "cf4634fa",
   "metadata": {},
   "outputs": [],
   "source": []
  }
 ],
 "metadata": {
  "kernelspec": {
   "display_name": "Python 3 (ipykernel)",
   "language": "python",
   "name": "python3"
  },
  "language_info": {
   "codemirror_mode": {
    "name": "ipython",
    "version": 3
   },
   "file_extension": ".py",
   "mimetype": "text/x-python",
   "name": "python",
   "nbconvert_exporter": "python",
   "pygments_lexer": "ipython3",
   "version": "3.9.12"
  }
 },
 "nbformat": 4,
 "nbformat_minor": 5
}
